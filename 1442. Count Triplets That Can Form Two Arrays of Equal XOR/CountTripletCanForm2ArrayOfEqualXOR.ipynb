{
 "cells": [
  {
   "cell_type": "markdown",
   "metadata": {},
   "source": [
    "## Probelm"
   ]
  },
  {
   "cell_type": "code",
   "execution_count": null,
   "metadata": {},
   "outputs": [],
   "source": [
    "Given an array of integers arr.\n",
    "We want to select three indices i, j and k where (0 <= i < j <= k < arr.length).\n",
    "Let's define a and b as follows:\n",
    "a = arr[i] ^ arr[i + 1] ^ ... ^ arr[j - 1]\n",
    "b = arr[j] ^ arr[j + 1] ^ ... ^ arr[k]\n",
    "Note that ^ denotes the bitwise-xor operation.\n",
    "Return the number of triplets (i, j and k) Where a == b."
   ]
  },
  {
   "cell_type": "markdown",
   "metadata": {},
   "source": [
    "## Examples"
   ]
  },
  {
   "cell_type": "code",
   "execution_count": null,
   "metadata": {},
   "outputs": [],
   "source": [
    "class Solution:\n",
    "    def countTriplets(self, arr: List[int]) -> int:\n",
    "        "
   ]
  },
  {
   "cell_type": "code",
   "execution_count": null,
   "metadata": {},
   "outputs": [],
   "source": [
    "Example 1:\n",
    "Input: arr = [2,3,1,6,7]\n",
    "Output: 4\n",
    "Explanation: The triplets are (0,1,2), (0,2,2), (2,3,4) and (2,4,4)\n",
    "\n",
    "Example 2:\n",
    "Input: arr = [1,1,1,1,1]\n",
    "Output: 10\n",
    "\n",
    "Example 3:\n",
    "Input: arr = [2,3]\n",
    "Output: 0\n",
    "\n",
    "Example 4:\n",
    "Input: arr = [1,3,5,7,9]\n",
    "Output: 3\n",
    "\n",
    "Example 5:\n",
    "Input: arr = [7,11,12,9,5,2,7,17,22]\n",
    "Output: 8"
   ]
  },
  {
   "cell_type": "markdown",
   "metadata": {},
   "source": [
    "## My Algoritm"
   ]
  },
  {
   "cell_type": "code",
   "execution_count": null,
   "metadata": {},
   "outputs": [],
   "source": [
    "def countTriplets(arr: [int]) -> int:\n",
    "    xors = [0]* (len(arr)+1)\n",
    "    for ind in range(1,len(arr)+1):\n",
    "        xors[ind] = xors[ind-1]^arr[ind-1]\n",
    "    ans =0\n",
    "    print('xors : ', xors)\n",
    "    for one in range(len(arr)):\n",
    "        for two in range(one+1,len(arr)):\n",
    "            if xors[two+1] == xors[one]:\n",
    "                ans+=(two-one)\n",
    "    return ans \n",
    "\n"
   ]
  },
  {
   "cell_type": "code",
   "execution_count": null,
   "metadata": {},
   "outputs": [],
   "source": [
    "def countTriplets(arr: [int]) -> int:\n",
    "    xors = [0]* (len(arr)+1)\n",
    "    for ind in range(1,len(arr)+1):\n",
    "        xors[ind] = xors[ind-1]^arr[ind-1]\n",
    "    ans =0\n",
    "    for one in range(len(arr)):\n",
    "        for two in range(one+1,len(arr)+1):\n",
    "            if xors[two] == xors[one]:\n",
    "                ans+=(two-one-1)\n",
    "    return ans \n",
    "\n"
   ]
  },
  {
   "cell_type": "markdown",
   "metadata": {},
   "source": [
    "# Improve"
   ]
  },
  {
   "cell_type": "markdown",
   "metadata": {},
   "source": [
    "## Test"
   ]
  },
  {
   "cell_type": "code",
   "execution_count": null,
   "metadata": {},
   "outputs": [],
   "source": [
    "arr = [2,3,1,6,7]\n",
    "countTriplets(arr)\n",
    "# 4 \n",
    "\n",
    "# arr = [1,1,1,1,1]\n",
    "# countTriplets(arr)\n",
    "# # 10\n",
    "\n",
    "\n",
    "# arr = [2,3]\n",
    "# countTriplets(arr)\n",
    "# # Output: 0\n",
    "\n",
    "\n",
    "# arr = [1,3,5,7,9]\n",
    "# countTriplets(arr)\n",
    "# # Output: 3\n",
    "\n",
    "# arr = [7,11,12,9,5,2,7,17,22]\n",
    "# countTriplets(arr)\n",
    "# # Output: 8\n"
   ]
  }
 ],
 "metadata": {
  "language_info": {
   "name": "python",
   "codemirror_mode": {
    "name": "ipython",
    "version": 3
   },
   "version": "3.7.5-final"
  },
  "orig_nbformat": 2,
  "file_extension": ".py",
  "mimetype": "text/x-python",
  "name": "python",
  "npconvert_exporter": "python",
  "pygments_lexer": "ipython3",
  "version": 3,
  "kernelspec": {
   "name": "python3",
   "display_name": "Python 3"
  }
 },
 "nbformat": 4,
 "nbformat_minor": 2
}