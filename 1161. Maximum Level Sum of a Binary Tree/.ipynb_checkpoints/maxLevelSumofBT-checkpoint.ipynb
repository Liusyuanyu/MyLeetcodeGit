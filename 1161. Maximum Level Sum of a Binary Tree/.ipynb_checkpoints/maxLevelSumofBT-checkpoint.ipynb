{
 "cells": [
  {
   "cell_type": "code",
   "execution_count": 2,
   "metadata": {},
   "outputs": [],
   "source": [
    "# Definition for a binary tree node.\n",
    "class TreeNode:\n",
    "    def __init__(self, x):\n",
    "        self.val = x\n",
    "        self.left = None\n",
    "        self.right = None\n",
    "\n",
    "class Solution:\n",
    "    def maxLevelSum(self, root: TreeNode) -> int:\n",
    "        return 0"
   ]
  },
  {
   "cell_type": "code",
   "execution_count": 21,
   "metadata": {},
   "outputs": [],
   "source": [
    "def sumOfBT(root: TreeNode):\n",
    "    if not root:\n",
    "        return 0\n",
    "    \n",
    "    sumValue = root.val\n",
    "    \n",
    "    sumValue += sumOfBT(root.left)\n",
    "    sumValue += sumOfBT(root.right)\n",
    "    \n",
    "    return sumValue\n",
    "\n",
    "def sumOfBT_level(root: TreeNode, level_sum, level):\n",
    "    if not root:\n",
    "        return \n",
    "    \n",
    "    if level in level_sum.keys():\n",
    "        level_sum[level] += root.val\n",
    "    else:\n",
    "        level_sum[level] = root.val\n",
    "    \n",
    "    _ = sumOfBT_level(root.left, level_sum, level+1)\n",
    "    _ = sumOfBT_level(root.right, level_sum, level+1)\n",
    "    return level_sum"
   ]
  },
  {
   "cell_type": "code",
   "execution_count": 5,
   "metadata": {},
   "outputs": [
    {
     "name": "stdout",
     "output_type": "stream",
     "text": [
      "Input binary Tree\n",
      "4 , 1 , 6 , 0 , 2 , 5 , 7 , null, null, null, 3 , null, null, null, 8 , "
     ]
    }
   ],
   "source": [
    "root = TreeNode(4)\n",
    "root.right = TreeNode(6)\n",
    "root.right.right = TreeNode(7)\n",
    "root.right.right.right = TreeNode(8)\n",
    "root.right.left = TreeNode(5)\n",
    "root.left = TreeNode(1)\n",
    "root.left.left = TreeNode(0)\n",
    "root.left.right = TreeNode(2)\n",
    "root.left.right.right = TreeNode(3)\n",
    "\n",
    "print('Input binary Tree')\n",
    "printLevelOrder(root)"
   ]
  },
  {
   "cell_type": "code",
   "execution_count": 24,
   "metadata": {},
   "outputs": [
    {
     "name": "stdout",
     "output_type": "stream",
     "text": [
      "4 , 3 , 2 , 1 , 2 , 1 , 5 , null, null, null, 3 , null, null, null, null, "
     ]
    }
   ],
   "source": [
    "root = TreeNode(4)\n",
    "root.right = TreeNode(2)\n",
    "root.right.right = TreeNode(5)\n",
    "root.right.left = TreeNode(1)\n",
    "root.left = TreeNode(3)\n",
    "root.left.left = TreeNode(1)\n",
    "root.left.right = TreeNode(2)\n",
    "root.left.right.right = TreeNode(3)\n",
    "\n",
    "printLevelOrder(root)"
   ]
  },
  {
   "cell_type": "code",
   "execution_count": 37,
   "metadata": {},
   "outputs": [
    {
     "data": {
      "text/plain": [
       "3"
      ]
     },
     "execution_count": 37,
     "metadata": {},
     "output_type": "execute_result"
    }
   ],
   "source": [
    "# levelSum = sumOfBT_level(root, {} , 1)\n",
    "# # levelSum.values()\n",
    "# print(levelSum)\n",
    "# max(levelSum, key = lambda kk : levelSum[kk])\n",
    "# # max(levelSum)\n",
    "\n",
    "maxLevelSum(root)"
   ]
  },
  {
   "cell_type": "code",
   "execution_count": 36,
   "metadata": {},
   "outputs": [],
   "source": [
    "def maxLevelSum(root: TreeNode) -> int:        \n",
    "    currentLv_nodes = [root]\n",
    "    currentLv = 1\n",
    "    maxLv = 1\n",
    "    max_sum = float('-inf')\n",
    "\n",
    "    while currentLv_nodes:\n",
    "        currentSum = 0\n",
    "        nextLv_nodes = []\n",
    "\n",
    "        for a_node in currentLevel:\n",
    "            currentSum += a_node.val\n",
    "            if a_node.left:\n",
    "                nextLv_nodes.append(a_node.left)\n",
    "            if a_node.right:\n",
    "                nextLv_nodes.append(a_node.right)\n",
    "\n",
    "        if currentSum > max_sum:\n",
    "            maxLv = currentLv\n",
    "            max_sum = currentSum\n",
    "\n",
    "        currentLv_nodes = nextLevel\n",
    "        currentLv += 1\n",
    "\n",
    "    return maxLevelNum"
   ]
  },
  {
   "cell_type": "code",
   "execution_count": 3,
   "metadata": {},
   "outputs": [],
   "source": [
    "# Function to print level order traversal of tree \n",
    "def printLevelOrder(root): \n",
    "    h = height(root) \n",
    "    for i in range(1, h+1): \n",
    "        printGivenLevel(root, i) \n",
    "\n",
    "\n",
    "# Print nodes at a given level \n",
    "def printGivenLevel(root , level): \n",
    "    if root is None: \n",
    "        print( \"null, \", end='')\n",
    "        return\n",
    "    if level == 1: \n",
    "        print( \"%d , \" %(root.val), end='')\n",
    "    elif level > 1 : \n",
    "        printGivenLevel(root.left , level-1) \n",
    "        printGivenLevel(root.right , level-1) \n",
    "\n",
    "\n",
    "\"\"\" Compute the height of a tree--the number of nodes \n",
    "    along the longest path from the root node down to \n",
    "    the farthest leaf node \n",
    "\"\"\"\n",
    "def height(node): \n",
    "    if node is None: \n",
    "        return 0\n",
    "    else : \n",
    "        # Compute the height of each subtree \n",
    "        lheight = height(node.left) \n",
    "        rheight = height(node.right) \n",
    "\n",
    "        #Use the larger one \n",
    "        if lheight > rheight : \n",
    "            return lheight+1\n",
    "        else: \n",
    "            return rheight+1"
   ]
  }
 ],
 "metadata": {
  "kernelspec": {
   "display_name": "Python 3",
   "language": "python",
   "name": "python3"
  },
  "language_info": {
   "codemirror_mode": {
    "name": "ipython",
    "version": 3
   },
   "file_extension": ".py",
   "mimetype": "text/x-python",
   "name": "python",
   "nbconvert_exporter": "python",
   "pygments_lexer": "ipython3",
   "version": "3.7.1"
  }
 },
 "nbformat": 4,
 "nbformat_minor": 2
}
