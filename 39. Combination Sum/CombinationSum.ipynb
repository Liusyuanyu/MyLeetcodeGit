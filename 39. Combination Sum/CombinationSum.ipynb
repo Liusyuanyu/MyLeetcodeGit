{
 "cells": [
  {
   "cell_type": "markdown",
   "metadata": {},
   "source": [
    "# Problem"
   ]
  },
  {
   "cell_type": "code",
   "execution_count": null,
   "metadata": {},
   "outputs": [],
   "source": [
    "Given a set of candidate numbers (candidates) (without duplicates) and a target number (target), find all unique combinations in candidates where the candidate numbers sums to target.\n",
    "The same repeated number may be chosen from candidates unlimited number of times.\n",
    "\n",
    "Note:\n",
    "All numbers (including target) will be positive integers.\n",
    "The solution set must not contain duplicate combinations."
   ]
  },
  {
   "cell_type": "code",
   "execution_count": null,
   "metadata": {},
   "outputs": [],
   "source": [
    "class Solution:\n",
    "    def combinationSum(self, candidates: List[int], target: int) -> List[List[int]]:\n",
    "        "
   ]
  },
  {
   "cell_type": "markdown",
   "metadata": {},
   "source": [
    "# Examples"
   ]
  },
  {
   "cell_type": "code",
   "execution_count": null,
   "metadata": {},
   "outputs": [],
   "source": [
    "Example 1:\n",
    "Input: candidates = [2,3,6,7], target = 7,\n",
    "A solution set is:\n",
    "[\n",
    "  [7],\n",
    "  [2,2,3]\n",
    "]\n",
    "\n",
    "\n",
    "Example 2:\n",
    "Input: candidates = [2,3,5], target = 8,\n",
    "A solution set is:\n",
    "[\n",
    "  [2,2,2,2],\n",
    "  [2,3,3],\n",
    "  [3,5]\n",
    "]"
   ]
  },
  {
   "cell_type": "markdown",
   "metadata": {},
   "source": [
    "# My Algorithm"
   ]
  },
  {
   "cell_type": "markdown",
   "metadata": {},
   "source": [
    "## Too slow"
   ]
  },
  {
   "cell_type": "code",
   "execution_count": null,
   "metadata": {},
   "outputs": [],
   "source": [
    "def combinationSum(candidates: [int], target: int) -> [[int]]:\n",
    "    candidates.sort()\n",
    "    def serachHelper(current, rest):\n",
    "        if rest == 0:\n",
    "            return [current]\n",
    "        elif rest < 0 :\n",
    "            return []\n",
    "        comb =[]\n",
    "        for num in candidates:\n",
    "            current +=[num]\n",
    "            rest -= num\n",
    "            for res in serachHelper(current, rest):\n",
    "                comb.append(res.copy())\n",
    "            current.pop()\n",
    "            rest += num\n",
    "        return comb\n",
    "    result = set()\n",
    "    for ans in serachHelper([],target):\n",
    "        ans.sort()\n",
    "        result.add(tuple(ans))\n",
    "    return result"
   ]
  },
  {
   "cell_type": "markdown",
   "metadata": {},
   "source": [
    "## Time Limit Exceeded"
   ]
  },
  {
   "cell_type": "code",
   "execution_count": null,
   "metadata": {},
   "outputs": [],
   "source": [
    "def combinationSum(candidates: [int], target: int) -> [[int]]:\n",
    "    candidates.sort()\n",
    "    extendCan = []\n",
    "    for num in candidates:\n",
    "        extendCan+=([num]*(target//num))\n",
    "\n",
    "    def searchHelper(choice, rest, current):\n",
    "        if rest == 0:\n",
    "            return [current]\n",
    "        elif rest < 0 :\n",
    "            return []\n",
    "        comb =set()\n",
    "        for idx in range(len(choice)):\n",
    "            nonSelect = choice[idx+1:]\n",
    "            current +=[choice[idx]]\n",
    "            rest -= choice[idx]\n",
    "            for res in searchHelper(nonSelect, rest, current):\n",
    "                comb.add(tuple(res))\n",
    "            current.pop()\n",
    "            rest += choice[idx]\n",
    "        return comb\n",
    "    \n",
    "    ans =[]\n",
    "    for idx in range(len(extendCan)):\n",
    "        if idx>0 and extendCan[idx]==extendCan[idx-1]:\n",
    "            continue\n",
    "        nonSelect = extendCan[idx+1:]\n",
    "        for per in searchHelper(nonSelect,target-extendCan[idx], [extendCan[idx]]):\n",
    "            ans.append(tuple(per)) \n",
    "    return ans"
   ]
  },
  {
   "cell_type": "markdown",
   "metadata": {},
   "source": [
    "# Alternative algorithms"
   ]
  },
  {
   "cell_type": "code",
   "execution_count": null,
   "metadata": {},
   "outputs": [],
   "source": [
    "def combinationSum(candidates: [int], target: int) -> [[int]]:\n",
    "    candidates.sort()\n",
    "    def searchHelper(choice, rest, current):\n",
    "        if rest == 0:\n",
    "            return [current]\n",
    "        elif rest < 0 :\n",
    "            return []\n",
    "        comb =[]\n",
    "        for idx in range(len(choice)):\n",
    "            nonSelect = choice[idx:]\n",
    "            current +=[choice[idx]]\n",
    "            rest -= choice[idx]\n",
    "            for res in searchHelper(nonSelect, rest, current):\n",
    "                comb.append(res.copy())\n",
    "            current.pop()\n",
    "            rest += choice[idx]\n",
    "        return comb\n",
    "\n",
    "    return searchHelper(candidates,target,[])"
   ]
  },
  {
   "cell_type": "code",
   "execution_count": null,
   "metadata": {},
   "outputs": [],
   "source": [
    "def combinationSum(candidates: [int], target: int) -> [[int]]:\n",
    "    candidates.sort()\n",
    "    ans=[]\n",
    "    def searchHelper(choice, rest, current):\n",
    "        if rest == 0:\n",
    "            ans.append(current)\n",
    "            return\n",
    "        for idx in range(len(choice)):\n",
    "            nonSelect = choice[idx:]\n",
    "            if rest- choice[idx]<0:\n",
    "                break\n",
    "            else:\n",
    "                searchHelper(nonSelect, rest-choice[idx], current + [choice[idx]])\n",
    "\n",
    "    searchHelper(candidates,target,[])\n",
    "    return ans"
   ]
  },
  {
   "cell_type": "markdown",
   "metadata": {},
   "source": [
    "# Sample Input and Test"
   ]
  },
  {
   "cell_type": "code",
   "execution_count": null,
   "metadata": {},
   "outputs": [],
   "source": [
    "candidates = [2,3]\n",
    "target = 5\n",
    "combinationSum(candidates, target)"
   ]
  },
  {
   "cell_type": "code",
   "execution_count": null,
   "metadata": {},
   "outputs": [],
   "source": [
    "# candidates = [2,3,6,7]\n",
    "# target = 7\n",
    "# #Solutions:   [7], [2,2,3]\n",
    "# combinationSum(candidates, target)\n",
    "\n",
    "candidates = [2,3,5]\n",
    "target = 8\n",
    "# A solution set is:\n",
    "# [\n",
    "#   [2,2,2,2],\n",
    "#   [2,3,3],\n",
    "#   [3,5]\n",
    "# ]\n",
    "combinationSum(candidates, target)\n"
   ]
  }
 ],
 "metadata": {
  "kernelspec": {
   "display_name": "Python 3",
   "language": "python",
   "name": "python3"
  },
  "language_info": {
   "codemirror_mode": {
    "name": "ipython",
    "version": 3
   },
   "file_extension": ".py",
   "mimetype": "text/x-python",
   "name": "python",
   "nbconvert_exporter": "python",
   "pygments_lexer": "ipython3",
   "version": "3.7.5-final"
  }
 },
 "nbformat": 4,
 "nbformat_minor": 2
}