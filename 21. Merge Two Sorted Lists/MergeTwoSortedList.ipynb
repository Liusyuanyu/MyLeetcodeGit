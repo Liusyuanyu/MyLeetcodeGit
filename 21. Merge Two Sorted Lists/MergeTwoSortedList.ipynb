{
 "cells": [
  {
   "cell_type": "markdown",
   "metadata": {},
   "source": [
    "# Problem"
   ]
  },
  {
   "cell_type": "code",
   "execution_count": null,
   "metadata": {},
   "outputs": [],
   "source": [
    "Merge two sorted linked lists and return it as a new sorted list. The new list should be made by splicing together the nodes of the first two lists."
   ]
  },
  {
   "cell_type": "code",
   "execution_count": null,
   "metadata": {},
   "outputs": [],
   "source": [
    "# Definition for singly-linked list.\n",
    "# class ListNode:\n",
    "#     def __init__(self, val=0, next=None):\n",
    "#         self.val = val\n",
    "#         self.next = next\n",
    "class Solution:\n",
    "    def mergeTwoLists(self, l1: ListNode, l2: ListNode) -> ListNode:\n",
    "        "
   ]
  },
  {
   "cell_type": "markdown",
   "metadata": {},
   "source": [
    "# Examples"
   ]
  },
  {
   "cell_type": "code",
   "execution_count": null,
   "metadata": {},
   "outputs": [],
   "source": [
    "Input: 1->2->4, 1->3->4\n",
    "Output: 1->1->2->3->4->4"
   ]
  },
  {
   "cell_type": "code",
   "execution_count": null,
   "metadata": {},
   "outputs": [],
   "source": [
    "class ListNode:\n",
    "    def __init__(self, val=0, next=None):\n",
    "        self.val = val\n",
    "        self.next = next"
   ]
  },
  {
   "cell_type": "markdown",
   "metadata": {},
   "source": [
    "# My Algorithm"
   ]
  },
  {
   "cell_type": "code",
   "execution_count": null,
   "metadata": {},
   "outputs": [],
   "source": [
    "def mergeTwoLists(l1: ListNode, l2: ListNode) -> ListNode:\n",
    "    if not l1 and not l2:\n",
    "        return None\n",
    "    element=[]\n",
    "    def extract(node):\n",
    "        while(node):\n",
    "            element.append(node.val)\n",
    "            node= node.next\n",
    "    extract(l1)\n",
    "    extract(l2)\n",
    "    element.sort()\n",
    "    head = ListNode(element[0])\n",
    "    nextNode = head\n",
    "    element = element[1:]\n",
    "    for ele in element:\n",
    "        nextNode.next = ListNode(ele)\n",
    "        nextNode = nextNode.next\n",
    "    return head"
   ]
  },
  {
   "cell_type": "code",
   "execution_count": null,
   "metadata": {},
   "outputs": [],
   "source": [
    "def mergeTwoLists(l1: ListNode, l2: ListNode) -> ListNode:\n",
    "    if not l1:\n",
    "        return l2\n",
    "    elif not l2:\n",
    "        return l1\n",
    "    if l1.val < l2.val:\n",
    "        head = l1\n",
    "        l1 = l1.next\n",
    "    else:    \n",
    "        head = l2\n",
    "        l2 = l2.next\n",
    "    nextNode = head\n",
    "    while(l1 or l2):\n",
    "        if not l1:\n",
    "            nextNode.next = l2 \n",
    "            break \n",
    "        elif not l2:\n",
    "            nextNode.next = l1\n",
    "            break \n",
    "        elif l1.val < l2.val:\n",
    "            nextNode.next = l1 \n",
    "            nextNode = l1\n",
    "            l1 = l1.next\n",
    "        else:    \n",
    "            nextNode.next = l2 \n",
    "            nextNode = l2\n",
    "            l2 = l2.next\n",
    "    return head\n"
   ]
  },
  {
   "cell_type": "markdown",
   "metadata": {},
   "source": [
    "# Alternative algorithms"
   ]
  },
  {
   "cell_type": "code",
   "execution_count": null,
   "metadata": {
    "tags": [
     "outputPrepend",
     "outputPrepend",
     "outputPrepend",
     "outputPrepend",
     "outputPrepend",
     "outputPrepend",
     "outputPrepend"
    ]
   },
   "outputs": [],
   "source": [
    "def mergeTwoLists(l1: ListNode, l2: ListNode) -> ListNode:\n",
    "    nextNode = head=ListNode()\n",
    "    while(l1 or l2):\n",
    "        if not l1:\n",
    "            nextNode.next = l2\n",
    "            break\n",
    "        elif not l2:\n",
    "            nextNode.next = l1\n",
    "            break \n",
    "        elif l1.val < l2.val:\n",
    "            nextNode.next = l1 \n",
    "            l1 = l1.next\n",
    "        else:    \n",
    "            nextNode.next = l2 \n",
    "            l2 = l2.next\n",
    "        nextNode = nextNode.next\n",
    "    return head.next\n"
   ]
  },
  {
   "cell_type": "markdown",
   "metadata": {},
   "source": [
    "# Sample Input and Test"
   ]
  },
  {
   "cell_type": "code",
   "execution_count": null,
   "metadata": {},
   "outputs": [],
   "source": [
    "l1 =ListNode(4)\n",
    "l1 =ListNode(3, l1)\n",
    "l1 =ListNode(1, l1)\n",
    "\n",
    "l2 =ListNode(4)\n",
    "l2 =ListNode(2, l2)\n",
    "l2 =ListNode(1, l2)\n",
    "\n",
    "printList(l1)\n",
    "printList(l2)\n",
    "\n",
    "res = mergeTwoLists(l1,l2)\n",
    "printList(res)"
   ]
  },
  {
   "cell_type": "code",
   "execution_count": null,
   "metadata": {},
   "outputs": [],
   "source": [
    "res = mergeTwoLists([],[])\n",
    "printList(res)"
   ]
  },
  {
   "cell_type": "code",
   "execution_count": null,
   "metadata": {},
   "outputs": [],
   "source": [
    "l1 =ListNode(2)\n",
    "\n",
    "l2 =ListNode(1)\n",
    "\n",
    "printList(l1)\n",
    "printList(l2)\n",
    "\n",
    "res = mergeTwoLists(l1,l2)\n",
    "printList(res)"
   ]
  },
  {
   "cell_type": "code",
   "execution_count": null,
   "metadata": {},
   "outputs": [],
   "source": [
    "l1 =[]\n",
    "\n",
    "l2 =ListNode(1)\n",
    "\n",
    "res = mergeTwoLists(l1,l2)\n",
    "printList(res)"
   ]
  },
  {
   "cell_type": "markdown",
   "metadata": {},
   "source": [
    "# Print List"
   ]
  },
  {
   "cell_type": "code",
   "execution_count": null,
   "metadata": {},
   "outputs": [],
   "source": [
    "def printList(node):\n",
    "    if not node:\n",
    "        print('')\n",
    "        return\n",
    "    print(node.val, end='')\n",
    "    if node.next:\n",
    "        print(' -> ', end='')\n",
    "        printList(node.next)\n",
    "    else:\n",
    "        print('')\n"
   ]
  }
 ],
 "metadata": {
  "kernelspec": {
   "display_name": "Python 3",
   "language": "python",
   "name": "python3"
  },
  "language_info": {
   "codemirror_mode": {
    "name": "ipython",
    "version": 3
   },
   "file_extension": ".py",
   "mimetype": "text/x-python",
   "name": "python",
   "nbconvert_exporter": "python",
   "pygments_lexer": "ipython3",
   "version": "3.7.5-final"
  }
 },
 "nbformat": 4,
 "nbformat_minor": 2
}