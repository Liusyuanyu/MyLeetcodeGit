{
 "cells": [
  {
   "cell_type": "code",
   "execution_count": null,
   "metadata": {},
   "outputs": [],
   "source": [
    "class TreeNode:\n",
    "    def __init__(self, x):\n",
    "        self.val = x\n",
    "        self.left = None\n",
    "        self.right = None"
   ]
  },
  {
   "cell_type": "code",
   "execution_count": null,
   "metadata": {},
   "outputs": [],
   "source": [
    "class solution:\n",
    "    sum_val =0\n",
    "    deepestlevel = 0\n",
    "\n",
    "    def deepestLeavesSum(self,root:TreeNode):\n",
    "        self.sum_val =0\n",
    "        self.deepestlevel = 0\n",
    "        \n",
    "        self.imp_function(root, 1)\n",
    "        return self.sum_val\n",
    "\n",
    "    def imp_function(self,node, level):\n",
    "        if node is None:\n",
    "            return\n",
    "        if (node.left is None) and (node.right is None):\n",
    "            if level > self.deepestlevel:\n",
    "                self.sum_val = node.val\n",
    "                self.deepestlevel = level\n",
    "            elif level == self.deepestlevel:\n",
    "                self.sum_val += node.val\n",
    "            else:\n",
    "                pass\n",
    "        else:\n",
    "            self.imp_function(node.left, level+1)\n",
    "            self.imp_function(node.right, level+1)    "
   ]
  },
  {
   "cell_type": "code",
   "execution_count": null,
   "metadata": {},
   "outputs": [],
   "source": [
    "# sol = solution()\n",
    "# sol.deepestLeavesSum(root)\n",
    "# sol.deepestLeavesSum(TreeNode(2))"
   ]
  },
  {
   "cell_type": "code",
   "execution_count": null,
   "metadata": {},
   "outputs": [],
   "source": [
    "root = TreeNode(1)\n",
    "root.left = TreeNode(2)\n",
    "root.right = TreeNode(3)\n",
    "\n",
    "root.left.left = TreeNode(4)\n",
    "root.left.right = TreeNode(5)\n",
    "\n",
    "root.left.left.left = TreeNode(7)\n",
    "\n",
    "root.right.right = TreeNode(6)\n",
    "root.right.right.right = TreeNode(8)\n",
    "root.right.right.left = TreeNode(8)\n",
    "\n",
    "\n",
    "printLevelOrder(root)"
   ]
  },
  {
   "cell_type": "code",
   "execution_count": null,
   "metadata": {},
   "outputs": [],
   "source": [
    "# Function to  print level order traversal of tree \n",
    "def printLevelOrder(root): \n",
    "    h = height(root) \n",
    "    for i in range(1, h+1): \n",
    "        printGivenLevel(root, i) \n",
    "  \n",
    "# Print nodes at a given level \n",
    "def printGivenLevel(root , level): \n",
    "    if root is None: \n",
    "        return\n",
    "    if level == 1: \n",
    "        print (\"%d\" %(root.val)) \n",
    "    elif level > 1 : \n",
    "        printGivenLevel(root.left , level-1) \n",
    "        printGivenLevel(root.right , level-1) \n",
    "\n",
    "def height(node): \n",
    "    if node is None: \n",
    "        return 0 \n",
    "    else : \n",
    "        # Compute the height of each subtree  \n",
    "        lheight = height(node.left) \n",
    "        rheight = height(node.right) \n",
    "  \n",
    "        #Use the larger one \n",
    "        if lheight > rheight : \n",
    "            return lheight+1\n",
    "        else: \n",
    "            return rheight+1"
   ]
  }
 ],
 "metadata": {
  "kernelspec": {
   "display_name": "Python 3",
   "language": "python",
   "name": "python3"
  },
  "language_info": {
   "codemirror_mode": {
    "name": "ipython",
    "version": 3
   },
   "file_extension": ".py",
   "mimetype": "text/x-python",
   "name": "python",
   "nbconvert_exporter": "python",
   "pygments_lexer": "ipython3",
   "version": "3.7.1"
  }
 },
 "nbformat": 4,
 "nbformat_minor": 2
}
