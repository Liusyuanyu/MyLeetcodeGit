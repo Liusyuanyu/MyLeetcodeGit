{
 "cells": [
  {
   "cell_type": "code",
   "execution_count": null,
   "metadata": {},
   "outputs": [],
   "source": [
    "# Definition for a binary tree node.\n",
    "class TreeNode:\n",
    "    def __init__(self, x):\n",
    "        self.val = x\n",
    "        self.left = None\n",
    "        self.right = None\n",
    "\n",
    "class Solution:\n",
    "    def flipEquiv(self, root1: TreeNode, root2: TreeNode) -> bool:\n",
    "        "
   ]
  },
  {
   "cell_type": "markdown",
   "metadata": {},
   "source": [
    "Input: root1 = [1,2,3,4,5,6,null,null,null,7,8], root2 = [1,3,2,null,6,4,5,null,null,null,null,8,7]\n",
    "Output: true\n",
    "Explanation: We flipped at nodes with values 1, 3, and 5."
   ]
  },
  {
   "cell_type": "markdown",
   "metadata": {},
   "source": [
    "For a binary tree T, we can define a flip operation as follows: choose any node, and swap the left and right child subtrees.\n",
    "\n",
    "A binary tree X is flip equivalent to a binary tree Y if and only if we can make X equal to Y after some number of flip operations.\n",
    "\n",
    "Write a function that determines whether two binary trees are flip equivalent.  The trees are given by root nodes root1 and root2."
   ]
  },
  {
   "cell_type": "code",
   "execution_count": null,
   "metadata": {},
   "outputs": [],
   "source": [
    " def flipEquiv(root1: TreeNode, root2: TreeNode) -> bool:\n",
    "    \n",
    "    if not root1 and not root2:\n",
    "        return True\n",
    "    if (not root1 and root2) or (root1 and not root2): \n",
    "        return False\n",
    "    if root1.val != root2.val: \n",
    "        return False\n",
    "    \n",
    "    tf = flipEquiv(root1.left, root2.left) and flipEquiv(root1.right, root2.right)\n",
    "    tf = tf | ( flipEquiv(root1.right, root2.left) and flipEquiv(root1.left, root2.right))\n",
    "    return tf\n"
   ]
  },
  {
   "cell_type": "code",
   "execution_count": null,
   "metadata": {},
   "outputs": [],
   "source": [
    "# [1,2,3,4,5,6,null,null,null,7,8]\n",
    "# [1,3,2,null,6,4,5,null,null,null,null,8,7]\n",
    "\n",
    "root1 = TreeNode(1)\n",
    "root1.left = TreeNode(2)\n",
    "root1.right = TreeNode(3)\n",
    "\n",
    "root1.left.left = TreeNode(4)\n",
    "root1.left.right = TreeNode(5)\n",
    "root1.right.left = TreeNode(6)\n",
    "\n",
    "root1.left.right.left = TreeNode(7)\n",
    "root1.left.right.right = TreeNode(8)\n",
    "\n",
    "print('\\nRoot 2')\n",
    "\n",
    "printLevelOrder(root1)\n",
    "\n",
    "# [1,3,2,null,6,4,5,null,null,null,null,8,7]\n",
    "\n",
    "root2 = TreeNode(1)\n",
    "root2.left = TreeNode(3)\n",
    "root2.right = TreeNode(2)\n",
    "\n",
    "root2.left.right = TreeNode(6)\n",
    "\n",
    "root2.right.left = TreeNode(4)\n",
    "root2.right.right = TreeNode(5)\n",
    "\n",
    "root2.right.right.left = TreeNode(8)\n",
    "root2.right.right.right = TreeNode(7)\n",
    "\n",
    "print('\\nRoot 1')\n",
    "printLevelOrder(root2)"
   ]
  },
  {
   "cell_type": "code",
   "execution_count": null,
   "metadata": {},
   "outputs": [],
   "source": [
    "# [0,3,1,null,null,null,2]\n",
    "# [0,3,1,2]\n",
    "\n",
    "\n",
    "root1 = TreeNode(0)\n",
    "root1.left = TreeNode(3)\n",
    "root1.right = TreeNode(1)\n",
    "\n",
    "root1.right.right = TreeNode(2)\n",
    "print('Root 1')\n",
    "\n",
    "printLevelOrder(root1)\n",
    "\n",
    "print('\\nRoot 2')\n",
    "\n",
    "root2 = TreeNode(0)\n",
    "root2.left = TreeNode(3)\n",
    "root2.right = TreeNode(1)\n",
    "\n",
    "root2.left.left = TreeNode(2)\n",
    "\n",
    "printLevelOrder(root2)\n"
   ]
  },
  {
   "cell_type": "code",
   "execution_count": null,
   "metadata": {},
   "outputs": [],
   "source": [
    "flipEquiv(root1,root2)"
   ]
  },
  {
   "cell_type": "markdown",
   "metadata": {},
   "source": [
    "## Construct Binary Tree Code"
   ]
  },
  {
   "cell_type": "code",
   "execution_count": null,
   "metadata": {},
   "outputs": [],
   "source": [
    "# class Solution:\n",
    "def insertIntoBST(root: TreeNode, val: int) -> TreeNode:\n",
    "# def insertIntoBST_flag(root: TreeNode, val: int) -> TreeNode:\n",
    "    new_node = TreeNode(val)\n",
    "    insert_place = root\n",
    "    insert_node = None\n",
    "    isleft_node = False\n",
    "    while(insert_place):\n",
    "        if insert_place.val > val:\n",
    "            insert_node = insert_place\n",
    "            insert_place = insert_place.left\n",
    "            isleft_node = True\n",
    "        else:\n",
    "            insert_node = insert_place\n",
    "            insert_place = insert_place.right\n",
    "            isleft_node = False\n",
    "\n",
    "    if not insert_node:\n",
    "        root = new_node\n",
    "    else:\n",
    "        if isleft_node:\n",
    "            insert_node.left = new_node\n",
    "        else:\n",
    "            insert_node.right = new_node\n",
    "    return root"
   ]
  },
  {
   "cell_type": "code",
   "execution_count": null,
   "metadata": {},
   "outputs": [],
   "source": [
    "# Function to print level order traversal of tree \n",
    "def printLevelOrder(root): \n",
    "    h = height(root) \n",
    "    for i in range(1, h+1): \n",
    "        printGivenLevel(root, i) \n",
    "\n",
    "\n",
    "# Print nodes at a given level \n",
    "def printGivenLevel(root , level): \n",
    "    if root is None: \n",
    "        print( \"null, \", end='')\n",
    "        return\n",
    "    if level == 1: \n",
    "        print( \"%d , \" %(root.val), end='')\n",
    "    elif level > 1 : \n",
    "        printGivenLevel(root.left , level-1) \n",
    "        printGivenLevel(root.right , level-1) \n",
    "\n",
    "\n",
    "\"\"\" Compute the height of a tree--the number of nodes \n",
    "    along the longest path from the root node down to \n",
    "    the farthest leaf node \n",
    "\"\"\"\n",
    "def height(node): \n",
    "    if node is None: \n",
    "        return 0\n",
    "    else : \n",
    "        # Compute the height of each subtree \n",
    "        lheight = height(node.left) \n",
    "        rheight = height(node.right) \n",
    "\n",
    "        #Use the larger one \n",
    "        if lheight > rheight : \n",
    "            return lheight+1\n",
    "        else: \n",
    "            return rheight+1"
   ]
  }
 ],
 "metadata": {
  "kernelspec": {
   "display_name": "Python 3",
   "language": "python",
   "name": "python3"
  },
  "language_info": {
   "codemirror_mode": {
    "name": "ipython",
    "version": 3
   },
   "file_extension": ".py",
   "mimetype": "text/x-python",
   "name": "python",
   "nbconvert_exporter": "python",
   "pygments_lexer": "ipython3",
   "version": "3.7.1"
  }
 },
 "nbformat": 4,
 "nbformat_minor": 2
}
