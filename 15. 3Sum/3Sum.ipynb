{
 "cells": [
  {
   "cell_type": "markdown",
   "metadata": {},
   "source": [
    "# Problem"
   ]
  },
  {
   "cell_type": "code",
   "execution_count": null,
   "metadata": {},
   "outputs": [],
   "source": [
    "Given an array nums of n integers, are there elements a, b, c in nums such that a + b + c = 0? Find all unique triplets in the array which gives the sum of zero."
   ]
  },
  {
   "cell_type": "code",
   "execution_count": null,
   "metadata": {},
   "outputs": [],
   "source": [
    "class Solution:\n",
    "    def threeSum(self, nums: List[int]) -> List[List[int]]:\n",
    "        "
   ]
  },
  {
   "cell_type": "markdown",
   "metadata": {},
   "source": [
    "# Examples"
   ]
  },
  {
   "cell_type": "code",
   "execution_count": null,
   "metadata": {},
   "outputs": [],
   "source": [
    "Given array nums = [-1, 0, 1, 2, -1, -4],\n",
    "\n",
    "A solution set is:\n",
    "[\n",
    "  [-1, 0, 1],\n",
    "  [-1, -1, 2]\n",
    "]\n",
    "\n",
    "# nums =[11,3,13,-14,12,-13,14,-7,-1,14,5,-15,-11,-15,9,11,-6,-11,-15,-5,-3,5,-7,10,11,11,-10,-3,-4,8,-15,-15,-4,6,8,-6,8,7,-6,-8,6,6,-8,11,-1,8,-1,8,13,-1,-11,-5,-11,-3,12,8,-15,-13,-10,-11,3,12,11,14,3,4,-15,-4,-4,-13,-5,9,8,2,-3,-8,-12,12,-14,-14,-12,12,-12,-7,-14,8,8,9,10,13,13,-10,2,9,-10,-9,-10,12,2,1,14,13,-13,8,-8,0,7,-5,-11,0,-12,-8,-11,-8,-8,-9,-15,-15]\n",
    "\n",
    "# [13,14,1,2,-11,-11,-1,5,-1,-11,-9,-12,5,-3,-7,-4,-12,-9,8,-13,-8,2,-6,8,11,7,7,-6,8,-9,0,6,13,-14,-15,9,12,-9,-9,-4,-4,-3,-9,-14,9,-8,-11,13,-10,13,-15,-11,0,-14,5,-4,0,-3,-3,-7,-4,12,14,-14,5,7,10,-5,13,-14,-2,-6,-9,5,-12,7,4,-8,5,1,-10,-3,5,6,-9,-5,9,6,0,14,-15,11,11,6,4,-6,-10,-1,4,-11,-8,-13,-10,-2,-1,-7,-9,10,-7,3,-4,-2,8,-13]"
   ]
  },
  {
   "cell_type": "markdown",
   "metadata": {},
   "source": [
    "# My Algorithm"
   ]
  },
  {
   "cell_type": "markdown",
   "metadata": {},
   "source": [
    "## Time Limit Exceeded"
   ]
  },
  {
   "cell_type": "code",
   "execution_count": null,
   "metadata": {},
   "outputs": [],
   "source": [
    "from itertools import combinations \n",
    "def threeSum(nums: [int]) -> [[int]]:\n",
    "    combs = combinations(nums,3)\n",
    "    res = set()\n",
    "    for comb in combs:\n",
    "        if sum(comb)==0:\n",
    "            comb = list(comb)\n",
    "            comb.sort()\n",
    "            comb = tuple(comb)\n",
    "            res.add(comb)\n",
    "    return res\n",
    "    # return [list(xx) for xx in res]\n",
    "\n",
    "nums = [-1, 0, 1, 2, -1, -4]\n",
    "# nums = [-1, 0, 1, -4]\n",
    "threeSum(nums)\n"
   ]
  },
  {
   "cell_type": "markdown",
   "metadata": {},
   "source": [
    "# My Algorithm 2"
   ]
  },
  {
   "cell_type": "markdown",
   "metadata": {},
   "source": [
    "## Time Limit Exceeded again"
   ]
  },
  {
   "cell_type": "code",
   "execution_count": null,
   "metadata": {},
   "outputs": [],
   "source": [
    "def threeSum(nums: [int]) -> [[int]]:\n",
    "    nums.sort()\n",
    "    def allTwoSum(numbers, current):\n",
    "        length = len(numbers)\n",
    "        if len(current)==3 and sum(current)==0:\n",
    "            return [current]\n",
    "        if length==0:\n",
    "            return []\n",
    "        elif len(current) >= 3:\n",
    "            return []\n",
    "        res = []\n",
    "        for ind in range(length):\n",
    "            if ind>0 and numbers[ind]==numbers[ind-1]:\n",
    "                continue\n",
    "            nonSelect = numbers[ind+1:]\n",
    "            fix = numbers[ind]\n",
    "            new_cur = current +[fix]\n",
    "            for per in allTwoSum(nonSelect, new_cur):\n",
    "                res.append(per)\n",
    "        return res\n",
    "    ans =[]\n",
    "    for idx in range(len(nums)):\n",
    "        if idx>0 and nums[idx]==nums[idx-1]:\n",
    "            continue\n",
    "        nonSelect = nums[idx+1:]\n",
    "        for per in allTwoSum(nonSelect, [nums[idx]]):\n",
    "            ans.append(per)\n",
    "    return ans"
   ]
  },
  {
   "cell_type": "markdown",
   "metadata": {},
   "source": [
    "# My Algorithm 3"
   ]
  },
  {
   "cell_type": "code",
   "execution_count": null,
   "metadata": {},
   "outputs": [],
   "source": [
    "def threeSum(nums: [int]) -> [[int]]:\n",
    "    nums.sort()\n",
    "    def allTwoSum(numbers, target):\n",
    "        length = len(numbers)\n",
    "        res = []\n",
    "        left = 0\n",
    "        right = len(numbers)-1\n",
    "        while(left < right):\n",
    "            if numbers[left]+numbers[right]==target:\n",
    "                res.append([numbers[left], numbers[right]])\n",
    "                left +=1\n",
    "                right -=1\n",
    "                while(left < right and  numbers[left] == numbers[left-1]):\n",
    "                    left +=1\n",
    "                while(left < right and  numbers[right] == numbers[right+1]):\n",
    "                    right -=1\n",
    "            elif numbers[left]+numbers[right] > target:\n",
    "                right -=1\n",
    "            else:\n",
    "                left +=1\n",
    "        return res\n",
    "    ans =[]\n",
    "    for idx in range(len(nums)):\n",
    "        if idx>0 and nums[idx]==nums[idx-1]:\n",
    "            continue\n",
    "        nonSelect = nums[idx+1:]\n",
    "        for per in allTwoSum(nonSelect, -nums[idx]):\n",
    "            ans.append([nums[idx]]+per)\n",
    "    return ans"
   ]
  },
  {
   "cell_type": "markdown",
   "metadata": {},
   "source": [
    "# Alternative algorithms"
   ]
  },
  {
   "cell_type": "code",
   "execution_count": null,
   "metadata": {},
   "outputs": [],
   "source": [
    "from collections import Counter\n",
    "def threeSum(nums: [int]) -> [[int]]:\n",
    "    if len(nums) < 3: return [] \n",
    "    ans = set()\n",
    "    if nums.count(0) >= 3: ans.add((0,0,0)) \n",
    "    counter = Counter(nums)\n",
    "    numSet = set(nums)\n",
    "    minNum, maxNum = min(numSet), max(numSet)\n",
    "    posNum = set(num for num in numSet if num >0 and num <= -2*minNum)\n",
    "    negNum = set(num for num in numSet if num <0 and num >= -2*maxNum)\n",
    "    for pos in posNum:\n",
    "        for neg in negNum:\n",
    "            diff = -(pos + neg)\n",
    "            if diff in numSet:\n",
    "                oneAns=tuple(sorted([diff,pos,neg]))\n",
    "                if oneAns.count(diff) <= counter[diff]:\n",
    "                    if oneAns.count(pos) <= counter[pos]:\n",
    "                        if oneAns.count(neg) <= counter[neg]:\n",
    "                            ans.add(oneAns)\n",
    "    return ans"
   ]
  },
  {
   "cell_type": "markdown",
   "metadata": {},
   "source": [
    "# Sample Input and Test"
   ]
  },
  {
   "cell_type": "code",
   "execution_count": null,
   "metadata": {},
   "outputs": [],
   "source": [
    "nums = [-1, 0, 1, 2, -1, -4]\n",
    "# A solution set is:\n",
    "# [\n",
    "#   [-1, 0, 1],\n",
    "#   [-1, -1, 2]\n",
    "# ]\n",
    "threeSum(nums)\n"
   ]
  },
  {
   "cell_type": "code",
   "execution_count": null,
   "metadata": {},
   "outputs": [],
   "source": [
    "nums =[-15, -15, -15, -15, -15, -15, -15, -15, -15, -14, -14, -14, -14, -13, -13, -13, -13, -12, -12, -12, -12, -11, -11, -11, -11, -11, -11, -11, -10, -10, -10, -10, -10, -9, -9, -8, -8, -8, -8, -8, -8, -8, -7, -7, -7, -6, -6, -6, -5, -5, -5, -5, -4, -4, -4, -4, -3, -3, -3, -3, -1, -1, -1, -1, 0, 0, 1, 2, 2, 2, 3, 3, 3, 4, 5, 5, 6, 6, 6, 7, 7, 8, 8, 8, 8, 8, 8, 8, 8, 8, 8, 9, 9, 9, 9, 10, 10, 11, 11, 11, 11, 11, 11, 12, 12, 12, 12, 12, 12, 13, 13, 13, 13, 13, 14, 14, 14, 14]\n",
    "# threeSum(nums)\n",
    "ans = threeSum(nums)\n",
    "len(ans)\n",
    "# ans"
   ]
  }
 ],
 "metadata": {
  "kernelspec": {
   "display_name": "Python 3",
   "language": "python",
   "name": "python3"
  },
  "language_info": {
   "codemirror_mode": {
    "name": "ipython",
    "version": 3
   },
   "file_extension": ".py",
   "mimetype": "text/x-python",
   "name": "python",
   "nbconvert_exporter": "python",
   "pygments_lexer": "ipython3",
   "version": "3.7.5-final"
  }
 },
 "nbformat": 4,
 "nbformat_minor": 2
}