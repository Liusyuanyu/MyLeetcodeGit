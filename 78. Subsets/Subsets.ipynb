{
 "cells": [
  {
   "cell_type": "markdown",
   "metadata": {},
   "source": [
    "# Problem"
   ]
  },
  {
   "cell_type": "markdown",
   "metadata": {},
   "source": [
    "Given a set of distinct integers, nums, return all possible subsets (the power set).\n",
    "Note: The solution set must not contain duplicate subsets."
   ]
  },
  {
   "cell_type": "code",
   "execution_count": null,
   "metadata": {},
   "outputs": [],
   "source": [
    "class Solution:\n",
    "    def subsets(self, nums: List[int]) -> List[List[int]]:"
   ]
  },
  {
   "cell_type": "markdown",
   "metadata": {},
   "source": [
    "# Examples"
   ]
  },
  {
   "cell_type": "markdown",
   "metadata": {},
   "source": [
    "Input: nums = [1,2,3]\n",
    "Output:\n",
    "[\n",
    "  [3],\n",
    "  [1],\n",
    "  [2],\n",
    "  [1,2,3],\n",
    "  [1,3],\n",
    "  [2,3],\n",
    "  [1,2],\n",
    "  []\n",
    "]"
   ]
  },
  {
   "cell_type": "markdown",
   "metadata": {},
   "source": [
    "# My Algorithm"
   ]
  },
  {
   "cell_type": "code",
   "execution_count": null,
   "metadata": {},
   "outputs": [],
   "source": [
    "def subsets(nums: [int]) -> [[int]]:\n",
    "    ans= []\n",
    "    length = lrn(nums)\n",
    "    def combinHelper(target, start, cur):\n",
    "        if target==len(cur) :\n",
    "            ans.append(cur.copy())\n",
    "            return\n",
    "        for idx in range(start, len(nums)):\n",
    "            cur.append(nums[idx])\n",
    "            combinHelper(target, idx+1, cur)\n",
    "            cur.pop()\n",
    "    \n",
    "    for subLen in range(len(nums) + 1):\n",
    "        combinHelper(subLen, 0, [])\n",
    "    return ans"
   ]
  },
  {
   "cell_type": "code",
   "execution_count": null,
   "metadata": {},
   "outputs": [],
   "source": [
    "def subsets(nums: [int]) -> [[int]]:\n",
    "    ans= []\n",
    "    length = len(nums)\n",
    "    def combinHelper(target, start, cur, cur_len):\n",
    "        if target==cur_len:\n",
    "            ans.append(cur.copy())\n",
    "            return\n",
    "        for idx in range(start, length):\n",
    "            cur.append(nums[idx])\n",
    "            combinHelper(target, idx+1, cur, cur_len+1)\n",
    "            cur.pop()\n",
    "    \n",
    "    for subLen in range(length + 1):\n",
    "        combinHelper(subLen, 0, [], 0)\n",
    "    return ans"
   ]
  },
  {
   "cell_type": "markdown",
   "metadata": {},
   "source": [
    "# Alternative algorithms"
   ]
  },
  {
   "cell_type": "code",
   "execution_count": null,
   "metadata": {},
   "outputs": [],
   "source": [
    "def subsets(nums: [int]) -> [[int]]:\n",
    "    length = len(nums)\n",
    "    ans=[]\n",
    "    for comb in range(1<<length):\n",
    "        oneComb=[]\n",
    "        for idx in range(length):\n",
    "            if comb & 1 << idx > 0:\n",
    "                oneComb.append(nums[idx])\n",
    "        ans.append(oneComb)\n",
    "    return ans\n"
   ]
  },
  {
   "cell_type": "code",
   "execution_count": null,
   "metadata": {},
   "outputs": [],
   "source": [
    "def subsets(nums: [int]) -> [[int]]:\n",
    "    ans= []\n",
    "    length = len(nums)\n",
    "    def combinHelper(start, cur):\n",
    "        ans.append(cur)\n",
    "        for idx in range(start, length):\n",
    "            combinHelper(idx+1, cur+[nums[idx]])\n",
    "    combinHelper(0, [])\n",
    "    return ans"
   ]
  },
  {
   "cell_type": "markdown",
   "metadata": {},
   "source": [
    "# Sample Input and Test"
   ]
  },
  {
   "cell_type": "code",
   "execution_count": null,
   "metadata": {},
   "outputs": [],
   "source": [
    "nums = [1,2,3]\n",
    "# Output:\n",
    "# [\n",
    "#   [3],\n",
    "#   [1],\n",
    "#   [2],\n",
    "#   [1,2,3],\n",
    "#   [1,3],\n",
    "#   [2,3],\n",
    "#   [1,2],\n",
    "#   []\n",
    "# ]\n",
    "subsets(nums)"
   ]
  },
  {
   "cell_type": "code",
   "execution_count": null,
   "metadata": {},
   "outputs": [],
   "source": [
    "nums = [1,2,3,4]\n",
    "# Output:\n",
    "# [\n",
    "#   [3],\n",
    "#   [1],\n",
    "#   [2],\n",
    "#   [1,2,3],\n",
    "#   [1,3],\n",
    "#   [2,3],\n",
    "#   [1,2],\n",
    "#   []\n",
    "# ]\n",
    "res = subsets(nums)\n",
    "print('Sum : ', len(res))\n",
    "res"
   ]
  },
  {
   "cell_type": "code",
   "execution_count": null,
   "metadata": {},
   "outputs": [],
   "source": [
    "nums = [1,2]\n",
    "# Output:\n",
    "# [\n",
    "#   [1],\n",
    "#   [2],\n",
    "#   [1,2],\n",
    "#   []\n",
    "# ]\n",
    "subsets(nums)"
   ]
  },
  {
   "cell_type": "code",
   "execution_count": null,
   "metadata": {},
   "outputs": [],
   "source": [
    "nums = [1]\n",
    "# Output:\n",
    "# [\n",
    "#   [1],\n",
    "#   []\n",
    "# ]\n",
    "subsets(nums)"
   ]
  }
 ],
 "metadata": {
  "kernelspec": {
   "display_name": "Python 3",
   "language": "python",
   "name": "python3"
  },
  "language_info": {
   "codemirror_mode": {
    "name": "ipython",
    "version": 3
   },
   "file_extension": ".py",
   "mimetype": "text/x-python",
   "name": "python",
   "nbconvert_exporter": "python",
   "pygments_lexer": "ipython3",
   "version": "3.7.5-final"
  }
 },
 "nbformat": 4,
 "nbformat_minor": 2
}