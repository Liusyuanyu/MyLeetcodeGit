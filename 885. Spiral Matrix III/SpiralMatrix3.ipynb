{
 "cells": [
  {
   "cell_type": "code",
   "execution_count": null,
   "metadata": {},
   "outputs": [],
   "source": [
    "# class Solution:\n",
    "#     def spiralMatrixIII(self, R: int, C: int, r0: int, c0: int) -> List[List[int]]:\n",
    "        "
   ]
  },
  {
   "cell_type": "markdown",
   "execution_count": null,
   "metadata": {},
   "outputs": [],
   "source": [
    "On a 2 dimensional grid with R rows and C columns, we start at (r0, c0) facing east.\n",
    "Here, the north-west corner of the grid is at the first row and column, and the south-east corner of the grid is at the last row and column.\n",
    "Now, we walk in a clockwise spiral shape to visit every position in this grid. \n",
    "Whenever we would move outside the boundary of the grid, we continue our walk outside the grid (but may return to the grid boundary later.) \n",
    "Eventually, we reach all R * C spaces of the grid.\n",
    "Return a list of coordinates representing the positions of the grid in the order they were visited.\n",
    "\n",
    "\n",
    "Input: R = 1, C = 4, r0 = 0, c0 = 0\n",
    "Output: [[0,0],[0,1],[0,2],[0,3]]\n",
    "\n",
    "\n",
    "Input: R = 5, C = 6, r0 = 1, c0 = 4\n",
    "Output: [[1,4],[1,5],[2,5],[2,4],[2,3],[1,3],[0,3],[0,4],[0,5],[3,5],[3,4],[3,3],[3,2],[2,2],[1,2],[0,2],[4,5],[4,4],[4,3],[4,2],[4,1],[3,1],[2,1],[1,1],[0,1],[4,0],[3,0],[2,0],[1,0],[0,0]]\n",
    "\n"
   ]
  },
  {
   "cell_type": "markdown",
   "execution_count": null,
   "metadata": {},
   "outputs": [],
   "source": [
    "# First try"
   ]
  },
  {
   "cell_type": "code",
   "execution_count": null,
   "metadata": {},
   "outputs": [],
   "source": [
    "direct = [[0,1],[1,0],[0,-1],[-1,0]]\n",
    "\n",
    "def func(R: int, C: int, r0: int, c0: int):\n",
    "    radius =1\n",
    "    result = []\n",
    "    count = 0\n",
    "    dir_ind = 0\n",
    "    step = 0\n",
    "    turn = 0\n",
    "    while(count<R*C):\n",
    "        if (r0 < R and r0 >=0) and (c0 < C and c0 >=0):\n",
    "            result.append([r0,c0])\n",
    "            count+=1\n",
    "        r0 +=  direct[dir_ind][0]\n",
    "        c0 += direct[dir_ind][1]\n",
    "        step +=1\n",
    "        if step == radius:\n",
    "            if turn%2 ==1:\n",
    "                radius+=1\n",
    "                pass\n",
    "            turn +=1\n",
    "            dir_ind+=1\n",
    "            dir_ind%=4\n",
    "            step=0\n",
    "    return result"
   ]
  },
  {
   "cell_type": "markdown",
   "execution_count": null,
   "metadata": {},
   "outputs": [],
   "source": [
    "# Second algorithm"
   ]
  },
  {
   "cell_type": "code",
   "execution_count": null,
   "metadata": {},
   "outputs": [],
   "source": [
    "direct = [[0,1],[1,0],[0,-1],[-1,0]]\n",
    "\n",
    "def func(R: int, C: int, r0: int, c0: int):\n",
    "    radius =1\n",
    "    result = []\n",
    "    dir_ind = 0\n",
    "    step = 0\n",
    "    result.append([r0,c0])\n",
    "    while(len(result)<R*C):\n",
    "        for _ in range(radius):\n",
    "            c0 += direct[dir_ind][1]\n",
    "            if (r0 < R and r0 >=0) and (c0 < C and c0 >=0):\n",
    "                result.append([r0,c0])\n",
    "        for _ in range(radius):\n",
    "            r0 += direct[dir_ind+1][0]\n",
    "            if (r0 < R and r0 >=0) and (c0 < C and c0 >=0):\n",
    "                result.append([r0,c0])\n",
    "        \n",
    "        radius+=1\n",
    "        dir_ind+=2\n",
    "        dir_ind%=4\n",
    "\n",
    "    return result"
   ]
  },
  {
   "cell_type": "markdown",
   "execution_count": null,
   "metadata": {},
   "outputs": [],
   "source": [
    "# Optimal algorithm"
   ]
  },
  {
   "cell_type": "code",
   "execution_count": null,
   "metadata": {},
   "outputs": [],
   "source": [
    "def func(R: int, C: int, r0: int, c0: int):\n",
    "    radius =1\n",
    "    result = []\n",
    "    sign = 1\n",
    "    result.append([r0,c0])\n",
    "    while(len(result)<R*C):\n",
    "        for _ in range(radius):\n",
    "            c0 += sign\n",
    "            if (r0 < R and r0 >=0) and (c0 < C and c0 >=0):\n",
    "                result.append([r0,c0])\n",
    "        for _ in range(radius):\n",
    "            r0 += sign\n",
    "            if (r0 < R and r0 >=0) and (c0 < C and c0 >=0):\n",
    "                result.append([r0,c0])\n",
    "        radius+=1\n",
    "        sign*=-1\n",
    "    return result"
   ]
  },
  {
   "cell_type": "code",
   "execution_count": null,
   "metadata": {},
   "outputs": [],
   "source": [
    "func(1,4,0,0)\n",
    "# Output: [[0,0],[0,1],[0,2],[0,3]]\n",
    "\n",
    "# print('# Output: ', func(5,6,1,4))\n",
    "# Output: [[1,4],[1,5],[2,5],[2,4],[2,3],[1,3],[0,3],[0,4],[0,5],[3,5],[3,4],[3,3],[3,2],[2,2],[1,2],[0,2],[4,5],[4,4],[4,3],[4,2],[4,1],[3,1],[2,1],[1,1],[0,1],[4,0],[3,0],[2,0],[1,0],[0,0]]\n"
   ]
  }
 ],
 "metadata": {
  "kernelspec": {
   "display_name": "Python 3",
   "language": "python",
   "name": "python3"
  },
  "language_info": {
   "codemirror_mode": {
    "name": "ipython",
    "version": 3
   },
   "file_extension": ".py",
   "mimetype": "text/x-python",
   "name": "python",
   "nbconvert_exporter": "python",
   "pygments_lexer": "ipython3",
   "version": "3.7.5-final"
  }
 },
 "nbformat": 4,
 "nbformat_minor": 2
}