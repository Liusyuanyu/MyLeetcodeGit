{
 "cells": [
  {
   "cell_type": "code",
   "execution_count": null,
   "metadata": {},
   "outputs": [],
   "source": [
    "class TreeNode:\n",
    "    def __init__(self, x):\n",
    "        self.val = x\n",
    "        self.left = None\n",
    "        self.right = None"
   ]
  },
  {
   "cell_type": "code",
   "execution_count": null,
   "metadata": {},
   "outputs": [],
   "source": [
    "# Function to  print level order traversal of tree \n",
    "def printLevelOrder(root): \n",
    "    h = height(root) \n",
    "    for i in range(1, h+1): \n",
    "        printGivenLevel(root, i) \n",
    "  \n",
    "# Print nodes at a given level \n",
    "def printGivenLevel(root , level): \n",
    "    if root is None:\n",
    "        print('Null', end=\" \")\n",
    "        return\n",
    "    if level == 1: \n",
    "        print (\"%d\" %(root.val), end=\" \") \n",
    "    elif level > 1 : \n",
    "        printGivenLevel(root.left , level-1) \n",
    "        printGivenLevel(root.right , level-1) \n",
    "\n",
    "def height(node): \n",
    "    if node is None: \n",
    "        return 0 \n",
    "    else : \n",
    "        # Compute the height of each subtree  \n",
    "        lheight = height(node.left) \n",
    "        rheight = height(node.right) \n",
    "  \n",
    "        #Use the larger one \n",
    "        if lheight > rheight : \n",
    "            return lheight+1\n",
    "        else: \n",
    "            return rheight+1"
   ]
  },
  {
   "cell_type": "code",
   "execution_count": null,
   "metadata": {},
   "outputs": [],
   "source": [
    "root = TreeNode(6)\n",
    "root.left = TreeNode(7)\n",
    "root.right = TreeNode(8)\n",
    "\n",
    "root.left.left = TreeNode(2)\n",
    "root.left.right = TreeNode(7)\n",
    "\n",
    "root.left.left.left = TreeNode(9)\n",
    "root.left.right.left = TreeNode(1)\n",
    "root.left.right.right = TreeNode(4)\n",
    "\n",
    "root.right.left = TreeNode(1)\n",
    "root.right.right = TreeNode(3)\n",
    "root.right.right.right = TreeNode(5)\n",
    "\n",
    "printLevelOrder(root)"
   ]
  },
  {
   "cell_type": "code",
   "execution_count": null,
   "metadata": {},
   "outputs": [],
   "source": [
    "root = TreeNode(6)\n",
    "root.left = TreeNode(7)\n",
    "root.right = TreeNode(8)\n",
    "\n",
    "root.left.left = TreeNode(2)\n",
    "root.left.right = TreeNode(7)\n",
    "\n",
    "root.left.left.left = TreeNode(9)\n",
    "root.left.right.left = TreeNode(1)\n",
    "root.left.right.right = TreeNode(4)\n",
    "\n",
    "root.right.left = TreeNode(1)\n",
    "root.right.right = TreeNode(3)\n",
    "root.right.right.right = TreeNode(5)\n",
    "\n",
    "root.right.left.left = TreeNode(2)\n",
    "root.right.left.right = TreeNode(10)\n",
    "# printLevelOrder(root)"
   ]
  },
  {
   "cell_type": "code",
   "execution_count": 31,
   "metadata": {},
   "outputs": [],
   "source": [
    "root = TreeNode(1)\n",
    "root.right = TreeNode(6)\n",
    "root.right.right = TreeNode(2)\n",
    "root.right.right.right = TreeNode(9)\n"
   ]
  },
  {
   "cell_type": "code",
   "execution_count": null,
   "metadata": {},
   "outputs": [],
   "source": [
    "class Solution:\n",
    "    def sumEvenGrandparent(self, root: TreeNode) -> int:\n",
    "        "
   ]
  },
  {
   "cell_type": "code",
   "execution_count": null,
   "metadata": {},
   "outputs": [],
   "source": [
    "def sumEvenGrandparent(root, parant, grand):\n",
    "    if not root:\n",
    "        return 0\n",
    "    sum  = sumEvenGrandparent(root.left, root.val, parant)\n",
    "    sum  += sumEvenGrandparent(root.right, root.val, parant)\n",
    "    if (grand):\n",
    "        if (grand %2==0):\n",
    "            sum += root.val\n",
    "    return sum"
   ]
  },
  {
   "cell_type": "code",
   "execution_count": 32,
   "metadata": {},
   "outputs": [
    {
     "data": {
      "text/plain": [
       "9"
      ]
     },
     "execution_count": 32,
     "metadata": {},
     "output_type": "execute_result"
    }
   ],
   "source": [
    "sumEvenGrandparent(root, None, None)"
   ]
  }
 ],
 "metadata": {
  "kernelspec": {
   "display_name": "Python 3",
   "language": "python",
   "name": "python3"
  },
  "language_info": {
   "codemirror_mode": {
    "name": "ipython",
    "version": 3
   },
   "file_extension": ".py",
   "mimetype": "text/x-python",
   "name": "python",
   "nbconvert_exporter": "python",
   "pygments_lexer": "ipython3",
   "version": "3.7.1"
  }
 },
 "nbformat": 4,
 "nbformat_minor": 2
}
