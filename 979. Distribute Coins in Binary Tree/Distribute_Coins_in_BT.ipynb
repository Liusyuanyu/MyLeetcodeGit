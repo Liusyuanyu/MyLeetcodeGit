{
 "cells": [
  {
   "cell_type": "code",
   "execution_count": null,
   "metadata": {},
   "outputs": [],
   "source": [
    "# Definition for a binary tree node.\n",
    "class TreeNode:\n",
    "    def __init__(self, x):\n",
    "        self.val = x\n",
    "        self.left = None\n",
    "        self.right = None\n",
    "\n",
    "# class Solution:\n",
    "#     def distributeCoins(self, root: TreeNode) -> int:\n",
    "        "
   ]
  },
  {
   "cell_type": "code",
   "execution_count": 62,
   "metadata": {},
   "outputs": [],
   "source": [
    "# class Solution:\n",
    "#     def __init__(self):\n",
    "#         self.amount =0\n",
    "#     def distributeCoins(self, root: TreeNode) -> int:\n",
    "#         self.amount =0\n",
    "#         _ =self.node_balance(root)\n",
    "#         return  self.amount\n",
    "#     def node_balance(self,node):\n",
    "#         if not node:\n",
    "#             return 0\n",
    "#         left_bal = (self.node_balance(node.left))\n",
    "#         right_bal =(self.node_balance(node.right))\n",
    "#         self.amount += ( abs(left_bal) +  abs(right_bal))\n",
    "#         return node.val- 1 + left_bal + right_bal \n",
    "\n",
    "class Solution:\n",
    "    def distributeCoins(self, root: TreeNode) -> int:\n",
    "        def node_balance(node):\n",
    "            if not node:\n",
    "                return 0\n",
    "            left_bal = (node_balance(node.left))\n",
    "            right_bal =(node_balance(node.right))\n",
    "            self.amount += ( abs(left_bal) +  abs(right_bal))\n",
    "            return node.val- 1 + left_bal + right_bal \n",
    "        \n",
    "        self.amount =0\n",
    "        _ =node_balance(root)\n",
    "        return  self.amount"
   ]
  },
  {
   "cell_type": "code",
   "execution_count": 64,
   "metadata": {},
   "outputs": [],
   "source": [
    "class Solution:\n",
    "    def distributeCoins(self, root):\n",
    "        self.ans = 0\n",
    "        \n",
    "        def dfs(node):\n",
    "            if not node: return 0\n",
    "            L, R = dfs(node.left), dfs(node.right)\n",
    "            self.ans += abs(L) + abs(R)\n",
    "            return node.val + L + R - 1\n",
    "\n",
    "        dfs(root)\n",
    "        return self.ans"
   ]
  },
  {
   "cell_type": "code",
   "execution_count": 65,
   "metadata": {},
   "outputs": [
    {
     "data": {
      "text/plain": [
       "4"
      ]
     },
     "execution_count": 65,
     "metadata": {},
     "output_type": "execute_result"
    }
   ],
   "source": [
    "sol = Solution()\n",
    "sol.distributeCoins(root)"
   ]
  },
  {
   "cell_type": "code",
   "execution_count": 52,
   "metadata": {},
   "outputs": [
    {
     "name": "stdout",
     "output_type": "stream",
     "text": [
      "1\n",
      "0\n",
      "0\n",
      "null\n",
      "3\n",
      "null\n",
      "null\n"
     ]
    }
   ],
   "source": [
    "# root = TreeNode(3)\n",
    "# root.right = TreeNode(0)\n",
    "# root.left = TreeNode(0)\n",
    "\n",
    "# root = TreeNode(1)\n",
    "# root.right = TreeNode(2)\n",
    "# root.left = TreeNode(0)\n",
    "\n",
    "# root = TreeNode(0)\n",
    "# root.right = TreeNode(3)\n",
    "# root.left = TreeNode(0)\n",
    "\n",
    "root = TreeNode(1)\n",
    "root.right = TreeNode(0)\n",
    "root.left = TreeNode(0)\n",
    "root.left.right = TreeNode(3)\n",
    "\n",
    "\n",
    "# root = TreeNode(4)\n",
    "# root.left = TreeNode(0)\n",
    "# root.left.right = TreeNode(0)\n",
    "# root.left.right.right = TreeNode(0)\n",
    "\n",
    "\n",
    "\n",
    "# [4,0,null,null,0,null,0]\n",
    "printLevelOrder(root)\n",
    "\n"
   ]
  },
  {
   "cell_type": "code",
   "execution_count": null,
   "metadata": {},
   "outputs": [],
   "source": [
    "# Function to  print level order traversal of tree \n",
    "def printLevelOrder(root): \n",
    "    h = height(root) \n",
    "    for i in range(1, h+1): \n",
    "        printGivenLevel(root, i) \n",
    "  \n",
    "  \n",
    "# Print nodes at a given level \n",
    "def printGivenLevel(root , level): \n",
    "    if root is None: \n",
    "        print (\"null\") \n",
    "        return\n",
    "    if level == 1: \n",
    "        print (\"%d\" %(root.val)) \n",
    "    elif level > 1 : \n",
    "        printGivenLevel(root.left , level-1) \n",
    "        printGivenLevel(root.right , level-1) \n",
    "  \n",
    "  \n",
    "\"\"\" Compute the height of a tree--the number of nodes \n",
    "    along the longest path from the root node down to \n",
    "    the farthest leaf node \n",
    "\"\"\"\n",
    "def height(node): \n",
    "    if node is None: \n",
    "        return 0 \n",
    "    else : \n",
    "        # Compute the height of each subtree  \n",
    "        lheight = height(node.left) \n",
    "        rheight = height(node.right) \n",
    "  \n",
    "        #Use the larger one \n",
    "        if lheight > rheight : \n",
    "            return lheight+1\n",
    "        else: \n",
    "            return rheight+1"
   ]
  }
 ],
 "metadata": {
  "kernelspec": {
   "display_name": "Python 3",
   "language": "python",
   "name": "python3"
  },
  "language_info": {
   "codemirror_mode": {
    "name": "ipython",
    "version": 3
   },
   "file_extension": ".py",
   "mimetype": "text/x-python",
   "name": "python",
   "nbconvert_exporter": "python",
   "pygments_lexer": "ipython3",
   "version": "3.7.1"
  }
 },
 "nbformat": 4,
 "nbformat_minor": 2
}
