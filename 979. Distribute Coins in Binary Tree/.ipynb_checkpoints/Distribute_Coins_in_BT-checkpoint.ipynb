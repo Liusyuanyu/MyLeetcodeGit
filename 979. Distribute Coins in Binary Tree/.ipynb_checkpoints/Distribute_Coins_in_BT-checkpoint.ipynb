{
 "cells": [
  {
   "cell_type": "code",
   "execution_count": null,
   "metadata": {},
   "outputs": [],
   "source": [
    "# Definition for a binary tree node.\n",
    "class TreeNode:\n",
    "    def __init__(self, x):\n",
    "        self.val = x\n",
    "        self.left = None\n",
    "        self.right = None\n",
    "\n",
    "# class Solution:\n",
    "#     def distributeCoins(self, root: TreeNode) -> int:\n",
    "        "
   ]
  },
  {
   "cell_type": "code",
   "execution_count": null,
   "metadata": {},
   "outputs": [],
   "source": [
    "class Solution:\n",
    "    def __init__(self):\n",
    "        self.amount =0\n",
    "    def distributeCoins(self, root: TreeNode) -> int:\n",
    "        self.amount =0\n",
    "        _ =self.node_balance(root)\n",
    "        return  self.amount\n",
    "    def node_balance(self,node):\n",
    "        if not node:\n",
    "            return 0\n",
    "        left_bal = abs(self.node_balance(node.left))\n",
    "        right_bal = abs(self.node_balance(node.right))\n",
    "        self.amount += (left_bal + right_bal)\n",
    "        return node.val- 1 + left_bal + right_bal \n",
    "\n",
    "    \n",
    "    \n"
   ]
  },
  {
   "cell_type": "code",
   "execution_count": null,
   "metadata": {},
   "outputs": [],
   "source": [
    "sol = Solution()\n",
    "sol.distributeCoins(root)"
   ]
  },
  {
   "cell_type": "code",
   "execution_count": null,
   "metadata": {},
   "outputs": [],
   "source": [
    "# root = TreeNode(3)\n",
    "# root.right = TreeNode(0)\n",
    "# root.left = TreeNode(0)\n",
    "\n",
    "# root = TreeNode(1)\n",
    "# root.right = TreeNode(2)\n",
    "# root.left = TreeNode(0)\n",
    "\n",
    "# root = TreeNode(0)\n",
    "# root.right = TreeNode(3)\n",
    "# root.left = TreeNode(0)\n",
    "\n",
    "root = TreeNode(1)\n",
    "root.right = TreeNode(0)\n",
    "root.left = TreeNode(0)\n",
    "root.left.right = TreeNode(3)\n",
    "\n",
    "\n",
    "\n",
    "printLevelOrder(root)\n",
    "\n"
   ]
  },
  {
   "cell_type": "code",
   "execution_count": null,
   "metadata": {},
   "outputs": [],
   "source": [
    "# Function to  print level order traversal of tree \n",
    "def printLevelOrder(root): \n",
    "    h = height(root) \n",
    "    for i in range(1, h+1): \n",
    "        printGivenLevel(root, i) \n",
    "  \n",
    "  \n",
    "# Print nodes at a given level \n",
    "def printGivenLevel(root , level): \n",
    "    if root is None: \n",
    "        print (\"null\") \n",
    "        return\n",
    "    if level == 1: \n",
    "        print (\"%d\" %(root.val)) \n",
    "    elif level > 1 : \n",
    "        printGivenLevel(root.left , level-1) \n",
    "        printGivenLevel(root.right , level-1) \n",
    "  \n",
    "  \n",
    "\"\"\" Compute the height of a tree--the number of nodes \n",
    "    along the longest path from the root node down to \n",
    "    the farthest leaf node \n",
    "\"\"\"\n",
    "def height(node): \n",
    "    if node is None: \n",
    "        return 0 \n",
    "    else : \n",
    "        # Compute the height of each subtree  \n",
    "        lheight = height(node.left) \n",
    "        rheight = height(node.right) \n",
    "  \n",
    "        #Use the larger one \n",
    "        if lheight > rheight : \n",
    "            return lheight+1\n",
    "        else: \n",
    "            return rheight+1"
   ]
  }
 ],
 "metadata": {
  "kernelspec": {
   "display_name": "Python 3",
   "language": "python",
   "name": "python3"
  },
  "language_info": {
   "codemirror_mode": {
    "name": "ipython",
    "version": 3
   },
   "file_extension": ".py",
   "mimetype": "text/x-python",
   "name": "python",
   "nbconvert_exporter": "python",
   "pygments_lexer": "ipython3",
   "version": "3.7.1"
  }
 },
 "nbformat": 4,
 "nbformat_minor": 2
}
