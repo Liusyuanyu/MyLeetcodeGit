{
 "cells": [
  {
   "cell_type": "code",
   "execution_count": null,
   "metadata": {},
   "outputs": [],
   "source": [
    "# class Solution:\n",
    "#     def matrixScore(self, A: List[List[int]]) -> int:\n",
    "        "
   ]
  },
  {
   "cell_type": "markdown",
   "execution_count": null,
   "metadata": {},
   "outputs": [],
   "source": [
    "We have a two dimensional matrix A where each value is 0 or 1.\n",
    "A move consists of choosing any row or column, and toggling each value in that row or column: changing all 0s to 1s, and all 1s to 0s.\n",
    "After making any number of moves, every row of this matrix is interpreted as a binary number, and the score of the matrix is the sum of these numbers.\n",
    "Return the highest possible score."
   ]
  },
  {
   "cell_type": "markdown",
   "execution_count": null,
   "metadata": {},
   "outputs": [],
   "source": [
    "# First try"
   ]
  },
  {
   "cell_type": "code",
   "execution_count": null,
   "metadata": {},
   "outputs": [],
   "source": [
    "def matrixScore(A: [[]]) -> int:\n",
    "    rows = len(A)\n",
    "    cols = len(A[0])\n",
    "    result = 0\n",
    "    for row in range(rows):\n",
    "        if not A[row][0]:\n",
    "            A[row] = [1-ele for ele in A[row]]\n",
    "    result = 2**(cols-1)*rows\n",
    "    for ind, col in enumerate(zip(*A)):\n",
    "        if ind==0:continue\n",
    "        ones = max(col.count(0),col.count(1))\n",
    "        result += 2**(cols-1-ind)*ones\n",
    "    return result\n"
   ]
  },
  {
   "cell_type": "markdown",
   "execution_count": null,
   "metadata": {},
   "outputs": [],
   "source": [
    "## Improve"
   ]
  },
  {
   "cell_type": "code",
   "execution_count": null,
   "metadata": {},
   "outputs": [],
   "source": [
    "def matrixScore(A: [[]]) -> int:\n",
    "    rows = len(A)\n",
    "    cols = len(A[0])\n",
    "    result = 0\n",
    "    n = 0\n",
    "    for row in range(rows):\n",
    "        if not A[row][0]:\n",
    "            A[row] = [1-ele for ele in A[row]]\n",
    "    \n",
    "    for col in zip(*A):\n",
    "        ones = max(col.count(0),col.count(1))\n",
    "        result += 2**(cols-1-n)*ones\n",
    "        n+=1\n",
    "    return result\n"
   ]
  },
  {
   "cell_type": "markdown",
   "execution_count": null,
   "metadata": {},
   "outputs": [],
   "source": [
    "# Sample Input and Test"
   ]
  },
  {
   "cell_type": "code",
   "execution_count": null,
   "metadata": {},
   "outputs": [],
   "source": [
    "# Input: [[0,0,1,1],[1,0,1,0],[1,1,0,0]]\n",
    "# Output: 39\n",
    "# Explanation:\n",
    "# Toggled to [[1,1,1,1],[1,0,0,1],[1,1,1,1]].\n",
    "# 0b1111 + 0b1001 + 0b1111 = 15 + 9 + 15 = "
   ]
  },
  {
   "cell_type": "code",
   "execution_count": null,
   "metadata": {},
   "outputs": [],
   "source": [
    "# input = [[1]]\n",
    "input = [[0,0,1,1],[1,0,1,0],[1,1,0,0]]\n",
    "matrixScore(input)\n",
    "\n",
    "# for ind, a in enumerate(zip(*input)):\n",
    "#     print(a)\n",
    "# input[0].count(0)"
   ]
  }
 ],
 "metadata": {
  "kernelspec": {
   "display_name": "Python 3",
   "language": "python",
   "name": "python3"
  },
  "language_info": {
   "codemirror_mode": {
    "name": "ipython",
    "version": 3
   },
   "file_extension": ".py",
   "mimetype": "text/x-python",
   "name": "python",
   "nbconvert_exporter": "python",
   "pygments_lexer": "ipython3",
   "version": "3.7.5-final"
  }
 },
 "nbformat": 4,
 "nbformat_minor": 2
}