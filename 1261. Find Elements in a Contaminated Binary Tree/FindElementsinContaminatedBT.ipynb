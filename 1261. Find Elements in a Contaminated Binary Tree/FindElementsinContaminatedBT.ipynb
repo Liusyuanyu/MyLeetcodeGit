{
 "cells": [
  {
   "cell_type": "code",
   "execution_count": 9,
   "metadata": {},
   "outputs": [],
   "source": [
    "import math\n",
    "\n",
    "class TreeNode:\n",
    "    def __init__(self, x):\n",
    "        self.val = x\n",
    "        self.left = None\n",
    "        self.right = None"
   ]
  },
  {
   "cell_type": "code",
   "execution_count": 5,
   "metadata": {},
   "outputs": [],
   "source": [
    "# Function to  print level order traversal of tree \n",
    "def printLevelOrder(root): \n",
    "    h = height(root) \n",
    "    for i in range(1, h+1): \n",
    "        printGivenLevel(root, i) \n",
    "  \n",
    "# Print nodes at a given level \n",
    "def printGivenLevel(root , level): \n",
    "    if root is None:\n",
    "        print('Null', end=\" \")\n",
    "        return\n",
    "    if level == 1: \n",
    "        print (\"%d\" %(root.val), end=\" \") \n",
    "    elif level > 1 : \n",
    "        printGivenLevel(root.left , level-1) \n",
    "        printGivenLevel(root.right , level-1) \n",
    "\n",
    "def height(node): \n",
    "    if node is None: \n",
    "        return 0 \n",
    "    else : \n",
    "        # Compute the height of each subtree  \n",
    "        lheight = height(node.left) \n",
    "        rheight = height(node.right) \n",
    "  \n",
    "        #Use the larger one \n",
    "        if lheight > rheight : \n",
    "            return lheight+1\n",
    "        else: \n",
    "            return rheight+1"
   ]
  },
  {
   "cell_type": "markdown",
   "metadata": {},
   "source": [
    "Given a binary tree with the following rules:\n",
    "root.val == 0\n",
    "If treeNode.val == x and treeNode.left != null, then treeNode.left.val == 2 * x + 1\n",
    "If treeNode.val == x and treeNode.right != null, then treeNode.right.val == 2 * x + 2\n",
    "Now the binary tree is contaminated, which means all treeNode.val have been changed to -1.\n",
    "You need to first recover the binary tree and then implement the FindElements class:\n",
    "FindElements(TreeNode* root) Initializes the object with a contamined binary tree, you need to recover it first.\n",
    "bool find(int target) Return if the target value exists in the recovered binary tree."
   ]
  },
  {
   "cell_type": "code",
   "execution_count": null,
   "metadata": {},
   "outputs": [],
   "source": [
    "root = TreeNode(1)\n",
    "root.left = TreeNode(2)\n",
    "root.right = TreeNode(3)\n",
    "\n",
    "root.left.left = TreeNode(2)\n",
    "\n",
    "root.right.left = TreeNode(2)\n",
    "root.right.right = TreeNode(4)\n",
    "\n",
    "printLevelOrder(root)"
   ]
  },
  {
   "cell_type": "code",
   "execution_count": null,
   "metadata": {},
   "outputs": [],
   "source": [
    "root = TreeNode(1)\n",
    "root.left = TreeNode(3)\n",
    "root.right = TreeNode(3)\n",
    "\n",
    "root.left.left = TreeNode(3)\n",
    "root.left.right = TreeNode(2)\n",
    "\n",
    "printLevelOrder(root)"
   ]
  },
  {
   "cell_type": "code",
   "execution_count": null,
   "metadata": {},
   "outputs": [],
   "source": [
    "class FindElements:\n",
    "    def __init__(self, root: TreeNode):\n",
    "    def find(self, target: int) -> bool:\n",
    "\n",
    "# Your FindElements object will be instantiated and called as such:\n",
    "# obj = FindElements(root)\n",
    "# param_1 = obj.find(target)"
   ]
  },
  {
   "cell_type": "markdown",
   "execution_count": null,
   "metadata": {},
   "outputs": [],
   "source": [
    "## First algorithm"
   ]
  },
  {
   "cell_type": "code",
   "execution_count": null,
   "metadata": {},
   "outputs": [],
   "source": [
    "class FindElements:\n",
    "    \n",
    "    def __init__(self, root: TreeNode):\n",
    "        self.values=[0]\n",
    "        root.val=0\n",
    "        self.recoverTree(root)\n",
    "        \n",
    "    def recoverTree(self, root):\n",
    "        if root.left:\n",
    "            root.left.val = 2*root.val+1\n",
    "            self.values.append(root.left.val)\n",
    "            self.recoverTree(root.left)\n",
    "        if root.right:\n",
    "            root.right.val = 2*root.val+2\n",
    "            self.values.append(root.right.val)\n",
    "            self.recoverTree(root.right)\n",
    "        \n",
    "    def find(self, target: int) -> bool:\n",
    "        return target in self.values\n",
    "        \n",
    "# Your FindElements object will be instantiated and called as such:\n",
    "# obj = FindElements(root)\n",
    "# param_1 = obj.find(target)"
   ]
  },
  {
   "cell_type": "code",
   "execution_count": 67,
   "metadata": {},
   "outputs": [],
   "source": [
    "def recoverTree(root):\n",
    "    # self.values = []\n",
    "    if root.left:\n",
    "        root.left.val = 2*root.val+1\n",
    "        # self.values.append(root.left.val)\n",
    "        root.left=recoverTree(root.left)\n",
    "    if root.right:\n",
    "        root.right.val = 2*root.val+2\n",
    "        # self.values.append(root.right.val)\n",
    "        root.right=recoverTree(root.right)\n",
    "    return root\n",
    "\n",
    "def find(target):\n",
    "    levels = math.floor(math.log2(target+1))\n",
    "    path =[]\n",
    "    target -= (math.pow(2, levels) - 2)\n",
    "    while(levels != 0):\n",
    "        # print(target)\n",
    "        if(target%2==0):\n",
    "            path.append(2)\n",
    "        else:\n",
    "            path.append(1)\n",
    "        target = math.floor((target+1)/2)\n",
    "        levels-=1\n",
    "    \n",
    "    path = path[::-1]\n",
    "    node = root\n",
    "    for step in path:\n",
    "        if(not node):\n",
    "            return False\n",
    "        if(step%2==0):\n",
    "            node = node.right\n",
    "        else:\n",
    "            node = node.left\n",
    "    if(not node):\n",
    "        return False\n",
    "    return True"
   ]
  },
  {
   "cell_type": "markdown",
   "metadata": {},
   "source": [
    "## Test algorithms"
   ]
  },
  {
   "cell_type": "code",
   "execution_count": 43,
   "metadata": {},
   "outputs": [
    {
     "name": "stdout",
     "output_type": "stream",
     "text": "0 1 2 3 4 Null Null"
    }
   ],
   "source": [
    "# root = TreeNode(0)\n",
    "root.right = TreeNode(-1)\n",
    "\n",
    "root = TreeNode(0)\n",
    "root.left = TreeNode(-1)\n",
    "root.right = TreeNode(-1)\n",
    "\n",
    "root.left.left = TreeNode(-1)\n",
    "root.left.right = TreeNode(-1)\n",
    "\n",
    "# root = TreeNode(0)\n",
    "# root.right = TreeNode(-1)\n",
    "\n",
    "# root.right.left = TreeNode(-1)\n",
    "# root.right.left.left = TreeNode(-1)\n",
    "\n",
    "\n",
    "root = recoverTree(root)\n",
    "printLevelOrder(root)"
   ]
  },
  {
   "cell_type": "code",
   "execution_count": 74,
   "metadata": {},
   "outputs": [
    {
     "data": {
      "text/plain": "False"
     },
     "execution_count": 74,
     "metadata": {},
     "output_type": "execute_result"
    }
   ],
   "source": [
    "find(15)\n",
    "# printLevelOrder(root)\n"
   ]
  },
  {
   "cell_type": "code",
   "execution_count": null,
   "metadata": {},
   "outputs": [],
   "source": [
    "processedNode = delLeafNodes(root, 3)\n",
    "printLevelOrder(processedNode)"
   ]
  },
  {
   "cell_type": "markdown",
   "execution_count": null,
   "metadata": {},
   "outputs": [],
   "source": [
    "## Improve algorithm"
   ]
  },
  {
   "cell_type": "code",
   "execution_count": null,
   "metadata": {},
   "outputs": [],
   "source": [
    "class FindElements:\n",
    "    def __init__(self, root: TreeNode):\n",
    "        self.values=set()\n",
    "        self.values.add(0)\n",
    "        self.recoverTree(root,0)\n",
    "        \n",
    "    def recoverTree(self, root, value):\n",
    "        if root.left:\n",
    "            self.values.add(2*value+1)\n",
    "            self.recoverTree(root.left, 2*value+1)\n",
    "        if root.right:\n",
    "            self.values.add(2*value+2)\n",
    "            self.recoverTree(root.right, 2*value+2)\n",
    "        \n",
    "    def find(self, target: int) -> bool:\n",
    "        return target in self.values"
   ]
  }
 ],
 "metadata": {
  "kernelspec": {
   "display_name": "Python 3",
   "language": "python",
   "name": "python3"
  },
  "language_info": {
   "codemirror_mode": {
    "name": "ipython",
    "version": 3
   },
   "file_extension": ".py",
   "mimetype": "text/x-python",
   "name": "python",
   "nbconvert_exporter": "python",
   "pygments_lexer": "ipython3",
   "version": "3.7.1-final"
  }
 },
 "nbformat": 4,
 "nbformat_minor": 2
}