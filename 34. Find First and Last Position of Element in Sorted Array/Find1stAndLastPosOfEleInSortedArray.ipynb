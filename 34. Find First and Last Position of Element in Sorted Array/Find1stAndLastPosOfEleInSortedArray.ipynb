{
 "cells": [
  {
   "cell_type": "markdown",
   "metadata": {},
   "source": [
    "# Problem"
   ]
  },
  {
   "cell_type": "code",
   "execution_count": null,
   "metadata": {},
   "outputs": [],
   "source": [
    "Given an array of integers nums sorted in ascending order, find the starting and ending position of a given target value.\n",
    "Your algorithm's runtime complexity must be in the order of O(log n).\n",
    "If the target is not found in the array, return [-1, -1]."
   ]
  },
  {
   "cell_type": "code",
   "execution_count": null,
   "metadata": {},
   "outputs": [],
   "source": [
    "class Solution:\n",
    "    def searchRange(self, nums: List[int], target: int) -> List[int]:\n",
    "        "
   ]
  },
  {
   "cell_type": "markdown",
   "metadata": {},
   "source": [
    "# Examples"
   ]
  },
  {
   "cell_type": "code",
   "execution_count": null,
   "metadata": {},
   "outputs": [],
   "source": [
    "Example 1:\n",
    "Input: nums = [5,7,7,8,8,10], target = 8\n",
    "Output: [3,4]\n",
    "\n",
    "Example 2:\n",
    "Input: nums = [5,7,7,8,8,10], target = 6\n",
    "Output: [-1,-1]"
   ]
  },
  {
   "cell_type": "markdown",
   "metadata": {},
   "source": [
    "# My Algorithm"
   ]
  },
  {
   "cell_type": "code",
   "execution_count": null,
   "metadata": {},
   "outputs": [],
   "source": [
    "def searchRange(nums: [int], target: int) -> [int]:\n",
    "    length = len(nums)\n",
    "    if target in nums:\n",
    "        idx1 = nums.index(target)\n",
    "        idx2 = idx1\n",
    "        while(idx2 < length and nums[idx2]==target):\n",
    "            idx2 +=1\n",
    "        return [idx1,idx2-1]\n",
    "    else:\n",
    "        return [-1,-1] "
   ]
  },
  {
   "cell_type": "code",
   "execution_count": null,
   "metadata": {},
   "outputs": [],
   "source": [
    "def searchRange(nums: [int], target: int) -> [int]:\n",
    "    if target in nums:\n",
    "        start = 0\n",
    "        length = len(nums)\n",
    "        end = length-1\n",
    "        while(nums[start]!=target and nums[end]!=target):\n",
    "            start +=1\n",
    "            end -=1\n",
    "        if nums[start]==target:\n",
    "            nextIdx = start\n",
    "            while(nextIdx < length and nums[nextIdx]==target):\n",
    "                nextIdx+=1\n",
    "            return [ start, nextIdx-1]\n",
    "        else:\n",
    "            nextIdx = end\n",
    "            while(nextIdx >= 0 and nums[nextIdx]==target):\n",
    "                nextIdx-=1\n",
    "            return [ nextIdx+1, end]\n",
    "    else:\n",
    "        return [-1,-1] "
   ]
  },
  {
   "cell_type": "code",
   "execution_count": null,
   "metadata": {},
   "outputs": [],
   "source": [
    "def searchRange(nums: [int], target: int) -> [int]:\n",
    "    if target in nums:\n",
    "        length = len(nums)\n",
    "        idx1 = nums.index(target)\n",
    "        idx2 = idx1\n",
    "        while(idx2 < length and nums[idx2]==target):\n",
    "            idx2 +=1\n",
    "        return [idx1,idx2-1]\n",
    "    else:\n",
    "        return [-1,-1] "
   ]
  },
  {
   "cell_type": "code",
   "execution_count": null,
   "metadata": {},
   "outputs": [],
   "source": [
    "def searchRange(nums: [int], target: int) -> [int]:\n",
    "    if target in nums:\n",
    "        length = len(nums)\n",
    "        idx1 = nums.index(target)\n",
    "        idx2 = length - 1 - nums[::-1].index(target)\n",
    "        return [idx1,idx2]\n",
    "    else:\n",
    "        return [-1,-1] "
   ]
  },
  {
   "cell_type": "code",
   "execution_count": null,
   "metadata": {},
   "outputs": [],
   "source": [
    "def searchRange(nums: [int], target: int) -> [int]:\n",
    "    def findBoundry(n):\n",
    "        lo, hi = 0, length\n",
    "        while lo < hi:\n",
    "            mid = (lo + hi) // 2\n",
    "            if nums[mid] >= n:\n",
    "                hi = mid\n",
    "            else:\n",
    "                lo = mid + 1\n",
    "        return lo\n",
    "    if target in nums:\n",
    "        length = len(nums)\n",
    "        idx1 = findBoundry(target)\n",
    "        idx2 = findBoundry(target+1)-1\n",
    "        return [idx1,idx2]\n",
    "    else:\n",
    "        return [-1,-1] "
   ]
  },
  {
   "cell_type": "markdown",
   "metadata": {},
   "source": [
    "# Alternative algorithms"
   ]
  },
  {
   "cell_type": "code",
   "execution_count": null,
   "metadata": {},
   "outputs": [],
   "source": [
    "def searchRange(nums: [int], target: int) -> [int]:\n",
    "    def findBoundry(n):\n",
    "        lo, hi = 0, length\n",
    "        while lo < hi:\n",
    "            mid = (lo + hi) // 2\n",
    "            if nums[mid] >= n:\n",
    "                hi = mid\n",
    "            else:\n",
    "                lo = mid + 1\n",
    "        return lo\n",
    "    if target in nums:\n",
    "        length = len(nums)\n",
    "        idx1 = findBoundry(target)\n",
    "        idx2 = findBoundry(target+1)-1\n",
    "        return [idx1,idx2]\n",
    "    else:\n",
    "        return [-1,-1] "
   ]
  },
  {
   "cell_type": "markdown",
   "metadata": {},
   "source": [
    "# Sample Input and Test"
   ]
  },
  {
   "cell_type": "code",
   "execution_count": null,
   "metadata": {},
   "outputs": [],
   "source": [
    "# nums = [5,7,7,8,8,10, 10, 10, 12, 15, 16]\n",
    "# target = 15\n",
    "# # Output: [-1,-1]\n",
    "# searchRange(nums, target)\n",
    "\n",
    "# nums = [0, 2, 2, 2, 2 , 2, 5, 8 , 10]\n",
    "# target = 2\n",
    "# # Output: [1,6]\n",
    "# searchRange(nums, target)\n",
    "\n",
    "nums = [1]\n",
    "target = 1\n",
    "# Output: [0,0]\n",
    "searchRange(nums, target)\n"
   ]
  },
  {
   "cell_type": "code",
   "execution_count": null,
   "metadata": {},
   "outputs": [],
   "source": [
    "nums = [5,7,7,8,8,10]\n",
    "target = 8\n",
    "# Output: [3,4]\n",
    "searchRange(nums, target)\n",
    "\n",
    "# nums = [5,7,7,8,8,10]\n",
    "# target = 6\n",
    "# # Output: [-1,-1]\n",
    "# searchRange(nums, target)\n"
   ]
  }
 ],
 "metadata": {
  "kernelspec": {
   "display_name": "Python 3",
   "language": "python",
   "name": "python3"
  },
  "language_info": {
   "codemirror_mode": {
    "name": "ipython",
    "version": 3
   },
   "file_extension": ".py",
   "mimetype": "text/x-python",
   "name": "python",
   "nbconvert_exporter": "python",
   "pygments_lexer": "ipython3",
   "version": "3.7.5-final"
  }
 },
 "nbformat": 4,
 "nbformat_minor": 2
}