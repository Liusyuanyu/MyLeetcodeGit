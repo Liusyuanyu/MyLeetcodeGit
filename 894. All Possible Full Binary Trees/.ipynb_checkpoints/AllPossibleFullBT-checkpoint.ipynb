{
 "cells": [
  {
   "cell_type": "code",
   "execution_count": null,
   "metadata": {},
   "outputs": [],
   "source": [
    "# Definition for a binary tree node.\n",
    "# class TreeNode:\n",
    "#     def __init__(self, x):\n",
    "#         self.val = x\n",
    "#         self.left = None\n",
    "#         self.right = None\n",
    "\n",
    "class Solution:\n",
    "    def allPossibleFBT(self, N: int) -> List[TreeNode]:\n",
    "        "
   ]
  },
  {
   "cell_type": "code",
   "execution_count": null,
   "metadata": {},
   "outputs": [],
   "source": [
    "# Definition for a binary tree node.\n",
    "class TreeNode:\n",
    "    def __init__(self, x):\n",
    "        self.val = x\n",
    "        self.left = None\n",
    "        self.right = None\n",
    "\n",
    "# class Solution:\n",
    "#     def allPossibleFBT(self, N: int) -> List[TreeNode]:\n",
    "        "
   ]
  },
  {
   "cell_type": "code",
   "execution_count": null,
   "metadata": {},
   "outputs": [],
   "source": [
    "old_tree = {0: [], 1: [TreeNode(0)]}\n",
    "\n",
    "def allPossibleFBT(N: int) -> [TreeNode]:\n",
    "    if(N in old_tree):\n",
    "        return old_tree[N]\n",
    "    ans=[]\n",
    "    for left_n in range(1,N-1,2):\n",
    "        left_nodes = allPossibleFBT(left_n)\n",
    "        right_nodes = allPossibleFBT(N-left_n-1)\n",
    "        for left_node in left_nodes:\n",
    "            for right_node in right_nodes:\n",
    "                head = TreeNode(0)\n",
    "                head.left = left_node\n",
    "                head.right = right_node\n",
    "                ans+=[head]\n",
    "#     old_tree.update({N:ans})\n",
    "    old_tree[N] = ans\n",
    "    return old_tree[N]"
   ]
  },
  {
   "cell_type": "code",
   "execution_count": null,
   "metadata": {},
   "outputs": [],
   "source": [
    "# allPossibleFBT(5)\n",
    "\n",
    "for node in allPossibleFBT(5):\n",
    "    printLevelOrder(node)\n",
    "    print()    "
   ]
  },
  {
   "cell_type": "code",
   "execution_count": null,
   "metadata": {},
   "outputs": [],
   "source": [
    "# Function to print level order traversal of tree \n",
    "def printLevelOrder(root): \n",
    "    h = height(root) \n",
    "    for i in range(1, h+1): \n",
    "        printGivenLevel(root, i) \n",
    "\n",
    "\n",
    "# Print nodes at a given level \n",
    "def printGivenLevel(root , level): \n",
    "    if root is None: \n",
    "        print( \"null, \", end='')\n",
    "        return\n",
    "    if level == 1: \n",
    "        print( \"%d , \" %(root.val), end='')\n",
    "    elif level > 1 : \n",
    "        printGivenLevel(root.left , level-1) \n",
    "        printGivenLevel(root.right , level-1) \n",
    "\n",
    "\n",
    "\"\"\" Compute the height of a tree--the number of nodes \n",
    "    along the longest path from the root node down to \n",
    "    the farthest leaf node \n",
    "\"\"\"\n",
    "def height(node): \n",
    "    if node is None: \n",
    "        return 0\n",
    "    else : \n",
    "        # Compute the height of each subtree \n",
    "        lheight = height(node.left) \n",
    "        rheight = height(node.right) \n",
    "\n",
    "        #Use the larger one \n",
    "        if lheight > rheight : \n",
    "            return lheight+1\n",
    "        else: \n",
    "            return rheight+1"
   ]
  }
 ],
 "metadata": {
  "kernelspec": {
   "display_name": "Python 3",
   "language": "python",
   "name": "python3"
  },
  "language_info": {
   "codemirror_mode": {
    "name": "ipython",
    "version": 3
   },
   "file_extension": ".py",
   "mimetype": "text/x-python",
   "name": "python",
   "nbconvert_exporter": "python",
   "pygments_lexer": "ipython3",
   "version": "3.7.1"
  }
 },
 "nbformat": 4,
 "nbformat_minor": 2
}
