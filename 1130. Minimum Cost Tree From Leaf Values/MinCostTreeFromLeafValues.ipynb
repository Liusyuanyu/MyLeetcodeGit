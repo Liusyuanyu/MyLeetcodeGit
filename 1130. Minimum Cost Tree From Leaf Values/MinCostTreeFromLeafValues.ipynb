{
 "cells": [
  {
   "cell_type": "code",
   "execution_count": null,
   "metadata": {},
   "outputs": [],
   "source": [
    "Given an array arr of positive integers, consider all binary trees such that:\n",
    "Each node has either 0 or 2 children;\n",
    "The values of arr correspond to the values of each leaf in an in-order traversal of the tree.  (Recall that a node is a leaf if and only if it has 0 children.)\n",
    "The value of each non-leaf node is equal to the product of the largest leaf value in its left and right subtree respectively.\n",
    "Among all possible binary trees considered, return the smallest possible sum of the values of each non-leaf node.  It is guaranteed this sum fits into a 32-bit integer.\n",
    " \n",
    "Example 1:\n",
    "Input: arr = [6,2,4]\n",
    "Output: 32\n",
    "Explanation:\n",
    "There are two possible trees.  The first has non-leaf node sum 36, and the second has non-leaf node sum 32.\n",
    "\n",
    "    24            24\n",
    "   /  \\          /  \\\n",
    "  12   4        6    8\n",
    " /  \\               / \\\n",
    "6    2             2   4\n",
    " \n",
    "Constraints:\n",
    "2 <= arr.length <= 40\n",
    "1 <= arr[i] <= 15\n",
    "It is guaranteed that the answer fits into a 32-bit signed integer (ie. it is less than 2^31)."
   ]
  },
  {
   "cell_type": "code",
   "execution_count": null,
   "metadata": {},
   "outputs": [],
   "source": [
    "# class Solution:\n",
    "#     def mctFromLeafValues(self, arr: List[int]) -> int:\n",
    "        "
   ]
  },
  {
   "cell_type": "code",
   "execution_count": null,
   "metadata": {},
   "outputs": [],
   "source": [
    "import numpy as np\n",
    "def test(arr) -> int:\n",
    "    queue =[np.inf]\n",
    "    result = 0\n",
    "    for num in arr:\n",
    "        while queue[-1]<=num:\n",
    "            node = queue.pop()\n",
    "            result += node*min(queue[-1], num)     \n",
    "        queue.append(num)\n",
    "    for idx in range (len(queue)-1, 1, -1):\n",
    "        result += queue[idx]*queue[idx-1]\n",
    "    return result"
   ]
  },
  {
   "cell_type": "markdown",
   "execution_count": null,
   "metadata": {},
   "outputs": [],
   "source": [
    "# Improve"
   ]
  },
  {
   "cell_type": "code",
   "execution_count": null,
   "metadata": {},
   "outputs": [],
   "source": [
    "def test(arr) -> int:\n",
    "    queue =[float('inf')]\n",
    "    result = 0\n",
    "    for num in arr:\n",
    "        while queue[-1]<=num:\n",
    "            node = queue.pop()\n",
    "            result += node*min(queue[-1], num)     \n",
    "        queue.append(num)\n",
    "    for idx in range (len(queue)-1, 1, -1):\n",
    "        result += queue[idx]*queue[idx-1]\n",
    "    return result"
   ]
  },
  {
   "cell_type": "code",
   "execution_count": null,
   "metadata": {},
   "outputs": [],
   "source": [
    "##The best way\n",
    "def test(arr) -> int:\n",
    "    result = 0\n",
    "    length = len(arr)\n",
    "    while length!=1:\n",
    "        minVal = min(arr)\n",
    "        minIndex = arr.index(min(arr))\n",
    "\n",
    "        if minIndex+1 == length:\n",
    "            result += minVal*arr[-2]\n",
    "        elif minIndex==0:\n",
    "            result += minVal*arr[1]\n",
    "        else:\n",
    "            result += minVal*min(arr[minIndex-1], arr[minIndex+1])\n",
    "        arr.remove(minVal)   \n",
    "        length = len(arr)\n",
    "    return result"
   ]
  },
  {
   "cell_type": "code",
   "execution_count": null,
   "metadata": {},
   "outputs": [],
   "source": [
    "arr = [6, 2, 4]\n",
    "# arr = [1, 2,3, 4]\n",
    "# arr = [1, 2,3]\n",
    "# arr = [2,3]\n",
    "arr = [6,2,3,7]\n",
    "test(arr)\n"
   ]
  }
 ],
 "metadata": {
  "kernelspec": {
   "display_name": "Python 3",
   "language": "python",
   "name": "python3"
  },
  "language_info": {
   "codemirror_mode": {
    "name": "ipython",
    "version": 3
   },
   "file_extension": ".py",
   "mimetype": "text/x-python",
   "name": "python",
   "nbconvert_exporter": "python",
   "pygments_lexer": "ipython3",
   "version": "3.7.5-final"
  }
 },
 "nbformat": 4,
 "nbformat_minor": 2
}