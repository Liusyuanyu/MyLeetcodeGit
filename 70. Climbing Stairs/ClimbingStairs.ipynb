{
 "cells": [
  {
   "cell_type": "markdown",
   "metadata": {},
   "source": [
    "# Problem"
   ]
  },
  {
   "cell_type": "markdown",
   "metadata": {},
   "source": [
    "You are climbing a stair case. It takes n steps to reach to the top.\n",
    "Each time you can either climb 1 or 2 steps. In how many distinct ways can you climb to the top?\n",
    "Note: Given n will be a positive integer."
   ]
  },
  {
   "cell_type": "code",
   "execution_count": null,
   "metadata": {},
   "outputs": [],
   "source": [
    "class Solution:\n",
    "    def climbStairs(self, n: int) -> int:\n",
    "        "
   ]
  },
  {
   "cell_type": "markdown",
   "metadata": {},
   "source": [
    "# Examples"
   ]
  },
  {
   "cell_type": "markdown",
   "metadata": {},
   "source": [
    "## Example 1:\n",
    "Input: 2\n",
    "Output: 2\n",
    "Explanation: There are two ways to climb to the top.\n",
    "1. 1 step + 1 step\n",
    "2. 2 steps\n",
    "\n",
    "\n",
    "## Example 2:\n",
    "Input: 3\n",
    "Output: 3\n",
    "Explanation: There are three ways to climb to the top.\n",
    "1. 1 step + 1 step + 1 step\n",
    "2. 1 step + 2 steps\n",
    "3. 2 steps + 1 step"
   ]
  },
  {
   "cell_type": "markdown",
   "metadata": {},
   "source": [
    "# My Algorithm"
   ]
  },
  {
   "cell_type": "code",
   "execution_count": null,
   "metadata": {},
   "outputs": [],
   "source": [
    "def climbStairs( n: int) -> int:\n",
    "    if n <=2:\n",
    "        return n\n",
    "    dp = [0]*n\n",
    "    dp[0]=1\n",
    "    dp[1]=2\n",
    "    for idx in range(2,n):\n",
    "        dp[idx]=dp[idx-1]+dp[idx-2] \n",
    "        \n",
    "    print(dp)\n",
    "\n",
    "    return dp[n-1]"
   ]
  },
  {
   "cell_type": "code",
   "execution_count": null,
   "metadata": {},
   "outputs": [],
   "source": [
    "def climbStairs( n: int) -> int:\n",
    "    if n <=2:\n",
    "        return n\n",
    "    pre_1st=2\n",
    "    pre_2nd=1\n",
    "    res = 0\n",
    "    for idx in range(2,n):\n",
    "        res=pre_1st+pre_2nd\n",
    "        pre_2nd=pre_1st\n",
    "        pre_1st=res\n",
    "    return res"
   ]
  },
  {
   "cell_type": "markdown",
   "metadata": {},
   "source": [
    "# Alternative algorithms"
   ]
  },
  {
   "cell_type": "code",
   "execution_count": null,
   "metadata": {},
   "outputs": [],
   "source": [
    "def climbStairs( n: int) -> int:\n",
    "    if n <=2:\n",
    "        return n\n",
    "    pre_1st=2\n",
    "    pre_2nd=1\n",
    "    for idx in range(2,n):\n",
    "        pre_1st, pre_2nd=pre_1st+pre_2nd, pre_1st\n",
    "    return pre_1st"
   ]
  },
  {
   "cell_type": "code",
   "execution_count": null,
   "metadata": {},
   "outputs": [],
   "source": [
    "def climbStairs( n: int) -> int:\n",
    "    if n <=2:\n",
    "        return n\n",
    "    pre_1st=2\n",
    "    pre_2nd=1\n",
    "    for _ in range(n-3):\n",
    "        pre_1st, pre_2nd=pre_1st+pre_2nd, pre_1st\n",
    "    return pre_1st+pre_2nd"
   ]
  },
  {
   "cell_type": "markdown",
   "metadata": {},
   "source": [
    "# Sample Input and Test"
   ]
  },
  {
   "cell_type": "code",
   "execution_count": null,
   "metadata": {},
   "outputs": [],
   "source": [
    "climbStairs(2)\n",
    "# 2\n",
    "\n",
    "climbStairs(3)\n",
    "# 3"
   ]
  },
  {
   "cell_type": "code",
   "execution_count": null,
   "metadata": {},
   "outputs": [],
   "source": [
    "climbStairs(5)\n",
    "# 8\n",
    "\n",
    "# climbStairs(7)\n",
    "# # 21"
   ]
  }
 ],
 "metadata": {
  "kernelspec": {
   "display_name": "Python 3",
   "language": "python",
   "name": "python3"
  },
  "language_info": {
   "codemirror_mode": {
    "name": "ipython",
    "version": 3
   },
   "file_extension": ".py",
   "mimetype": "text/x-python",
   "name": "python",
   "nbconvert_exporter": "python",
   "pygments_lexer": "ipython3",
   "version": "3.7.1"
  }
 },
 "nbformat": 4,
 "nbformat_minor": 2
}
