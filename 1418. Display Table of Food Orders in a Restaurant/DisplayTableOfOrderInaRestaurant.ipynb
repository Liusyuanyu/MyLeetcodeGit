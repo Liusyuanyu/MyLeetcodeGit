{
 "cells": [
  {
   "cell_type": "markdown",
   "metadata": {},
   "source": [
    "# Problem"
   ]
  },
  {
   "cell_type": "code",
   "execution_count": null,
   "metadata": {},
   "outputs": [],
   "source": [
    "Given the array orders, which represents the orders that customers have done in a restaurant. More specifically orders[i]=[customerNamei,tableNumberi,foodItemi] where customerNamei is the name of the customer, tableNumberi is the table customer sit at, and foodItemi is the item customer orders.\n",
    "Return the restaurant's “display table”. The “display table” is a table whose row entries denote how many of each food item each table ordered. The first column is the table number and the remaining columns correspond to each food item in alphabetical order. The first row should be a header whose first column is “Table”, followed by the names of the food items. Note that the customer names are not part of the table. Additionally, the rows should be sorted in numerically increasing order."
   ]
  },
  {
   "cell_type": "code",
   "execution_count": null,
   "metadata": {},
   "outputs": [],
   "source": [
    "class Solution:\n",
    "    def displayTable(self, orders: List[List[str]]) -> List[List[str]]:\n",
    "        "
   ]
  },
  {
   "cell_type": "markdown",
   "metadata": {},
   "source": [
    "## Example"
   ]
  },
  {
   "cell_type": "code",
   "execution_count": null,
   "metadata": {},
   "outputs": [],
   "source": [
    "Example 1:\n",
    "Input: orders = [[\"David\",\"3\",\"Ceviche\"],[\"Corina\",\"10\",\"Beef Burrito\"],[\"David\",\"3\",\"Fried Chicken\"],[\"Carla\",\"5\",\"Water\"],[\"Carla\",\"5\",\"Ceviche\"],[\"Rous\",\"3\",\"Ceviche\"]]\n",
    "Output: [[\"Table\",\"Beef Burrito\",\"Ceviche\",\"Fried Chicken\",\"Water\"],[\"3\",\"0\",\"2\",\"1\",\"0\"],[\"5\",\"0\",\"1\",\"0\",\"1\"],[\"10\",\"1\",\"0\",\"0\",\"0\"]] \n",
    "Explanation:\n",
    "The displaying table looks like:\n",
    "Table,Beef Burrito,Ceviche,Fried Chicken,Water\n",
    "3    ,0           ,2      ,1            ,0\n",
    "5    ,0           ,1      ,0            ,1\n",
    "10   ,1           ,0      ,0            ,0\n",
    "For the table 3: David orders \"Ceviche\" and \"Fried Chicken\", and Rous orders \"Ceviche\".\n",
    "For the table 5: Carla orders \"Water\" and \"Ceviche\".\n",
    "For the table 10: Corina orders \"Beef Burrito\". \n",
    "\n",
    "Example 2:\n",
    "Input: orders = [[\"James\",\"12\",\"Fried Chicken\"],[\"Ratesh\",\"12\",\"Fried Chicken\"],[\"Amadeus\",\"12\",\"Fried Chicken\"],[\"Adam\",\"1\",\"Canadian Waffles\"],[\"Brianna\",\"1\",\"Canadian Waffles\"]]\n",
    "Output: [[\"Table\",\"Canadian Waffles\",\"Fried Chicken\"],[\"1\",\"2\",\"0\"],[\"12\",\"0\",\"3\"]] \n",
    "Explanation: \n",
    "For the table 1: Adam and Brianna order \"Canadian Waffles\".\n",
    "For the table 12: James, Ratesh and Amadeus order \"Fried Chicken\".\n",
    "\n",
    "\n",
    "Example 3:\n",
    "Input: orders = [[\"Laura\",\"2\",\"Bean Burrito\"],[\"Jhon\",\"2\",\"Beef Burrito\"],[\"Melissa\",\"2\",\"Soda\"]]\n",
    "Output: [[\"Table\",\"Bean Burrito\",\"Beef Burrito\",\"Soda\"],[\"2\",\"1\",\"1\",\"1\"]]"
   ]
  },
  {
   "cell_type": "markdown",
   "metadata": {},
   "source": [
    "# My Algorithm"
   ]
  },
  {
   "cell_type": "code",
   "execution_count": null,
   "metadata": {},
   "outputs": [],
   "source": [
    "def displayTable(orders: [[str]])->[[str]]:\n",
    "    meals = [order[2] for order in orders]\n",
    "    meals = set(meals)\n",
    "    meals = list(meals)\n",
    "    meals.sort()\n",
    "    tables = [order[1] for order in orders]\n",
    "    tables = set(tables)\n",
    "    tables = list(tables)\n",
    "    res = [['Table'] + (meals)]\n",
    "    col_num = len(meals)\n",
    "    for table in tables:\n",
    "       res.append([table] + [0]*col_num) \n",
    "    \n",
    "    for order in orders:\n",
    "        res[tables.index(order[1])+1][meals.index(order[2])+1] +=1\n",
    "    for order in range(len(res)-1):\n",
    "        res[order+1] = [str(ele) for ele in res[order+1]]\n",
    "    return res\n",
    "\n"
   ]
  },
  {
   "cell_type": "markdown",
   "metadata": {},
   "source": [
    "## Improve"
   ]
  },
  {
   "cell_type": "code",
   "execution_count": null,
   "metadata": {},
   "outputs": [],
   "source": [
    "def displayTable(orders: [[str]])->[[str]]:\n",
    "    res=collections.defaultdict(int)\n",
    "    tables = set()\n",
    "    meals = set()\n",
    "    for order in orders:\n",
    "        res[(order[1],order[2])]+=1\n",
    "        tables.add(order[1])\n",
    "        meals.add(order[2])\n",
    "    meals = sorted(meals)\n",
    "    tables = sorted(tables,key=lambda x:int(x))\n",
    "    \n",
    "    row=len(tables)+1\n",
    "    col=len(meals)+1  \n",
    "    ans=[['0']*col for _ in range(row)]    \n",
    "    ans[0] = ['Table'] + list(meals)\n",
    "\n",
    "    meals_col = {meal: ind+1 for ind,meal in enumerate(meals)}\n",
    "    tables_row = {table: ind+1 for ind,table in enumerate(tables)}\n",
    "\n",
    "    for table,meal in res:    \n",
    "        ans[tables_row[table]][meals_col[meal]]=str(res[(table,meal)])\n",
    "\n",
    "    for table in tables_row:    \n",
    "        ans[tables_row[table]][0]=table\n",
    "\n",
    "    return ans"
   ]
  },
  {
   "cell_type": "markdown",
   "metadata": {},
   "source": [
    "# Sample Input and Test"
   ]
  },
  {
   "cell_type": "code",
   "execution_count": null,
   "metadata": {},
   "outputs": [],
   "source": [
    "import collections\n",
    "\n",
    "orders = [[\"David\",\"3\",\"Ceviche\"],[\"Corina\",\"10\",\"Beef Burrito\"],[\"David\",\"3\",\"Fried Chicken\"],[\"Carla\",\"5\",\"Water\"],[\"Carla\",\"5\",\"Ceviche\"],[\"Rous\",\"3\",\"Ceviche\"]]\n",
    "Output= [[\"Table\",\"Beef Burrito\",\"Ceviche\",\"Fried Chicken\",\"Water\"],[\"3\",\"0\",\"2\",\"1\",\"0\"],[\"5\",\"0\",\"1\",\"0\",\"1\"],[\"10\",\"1\",\"0\",\"0\",\"0\"]] \n",
    "\n",
    "print(displayTable(orders))\n",
    "\n",
    "print(Output)"
   ]
  }
 ],
 "metadata": {
  "kernelspec": {
   "display_name": "Python 3",
   "language": "python",
   "name": "python3"
  },
  "language_info": {
   "codemirror_mode": {
    "name": "ipython",
    "version": 3
   },
   "file_extension": ".py",
   "mimetype": "text/x-python",
   "name": "python",
   "nbconvert_exporter": "python",
   "pygments_lexer": "ipython3",
   "version": "3.7.5-final"
  }
 },
 "nbformat": 4,
 "nbformat_minor": 2
}