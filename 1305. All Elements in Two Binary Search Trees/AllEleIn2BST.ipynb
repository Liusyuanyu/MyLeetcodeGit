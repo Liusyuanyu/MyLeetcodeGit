{
 "cells": [
  {
   "cell_type": "code",
   "execution_count": null,
   "metadata": {},
   "outputs": [],
   "source": [
    "class TreeNode:\n",
    "    def __init__(self, x):\n",
    "        self.val = x\n",
    "        self.left = None\n",
    "        self.right = None"
   ]
  },
  {
   "cell_type": "code",
   "execution_count": null,
   "metadata": {},
   "outputs": [],
   "source": [
    "# class Solution:\n",
    "#     def getAllElements(self, root1: TreeNode, root2: TreeNode) -> List[int]:\n",
    "        "
   ]
  },
  {
   "cell_type": "markdown",
   "execution_count": null,
   "metadata": {},
   "outputs": [],
   "source": [
    "## Problem"
   ]
  },
  {
   "cell_type": "code",
   "execution_count": null,
   "metadata": {},
   "outputs": [],
   "source": [
    "Given two binary search trees root1 and root2.\n",
    "Return a list containing all the integers from both trees sorted in ascending order."
   ]
  },
  {
   "cell_type": "code",
   "execution_count": null,
   "metadata": {},
   "outputs": [],
   "source": [
    "Example 1:\n",
    "Input: root1 = [2,1,4], root2 = [1,0,3]\n",
    "Output: [0,1,1,2,3,4]\n",
    "\n",
    "Example 2:\n",
    "Input: root1 = [0,-10,10], root2 = [5,1,7,0,2]\n",
    "Output: [-10,0,0,1,2,5,7,10]"
   ]
  },
  {
   "cell_type": "markdown",
   "execution_count": null,
   "metadata": {},
   "outputs": [],
   "source": [
    "## My Algorithm"
   ]
  },
  {
   "cell_type": "code",
   "execution_count": null,
   "metadata": {},
   "outputs": [],
   "source": [
    "def getAllElements(root1: TreeNode, root2: TreeNode) -> [int]:\n",
    "    order1 = []\n",
    "    order2 = []\n",
    "    order_total = []\n",
    "\n",
    "    inorderTraverse(root1, order1)\n",
    "    inorderTraverse(root2, order2)\n",
    "\n",
    "    while(len(order1)!=0 or len(order2)!=0):\n",
    "        # print('==================Initial============================== ')\n",
    "        # print('Order 1 : ', order1)\n",
    "        # print('Order 2 : ', order2)\n",
    "        if len(order1)==0:\n",
    "            order_total += order2[::-1]\n",
    "            # print('----------------------------------------------- ')\n",
    "            # print('Order Total : ', order_total)\n",
    "            # print('----------------------------------------------- ')\n",
    "            break\n",
    "        if len(order2)==0:\n",
    "            order_total += order1[::-1]\n",
    "            # print('----------------------------------------------- ')\n",
    "            # print('Order Total : ', order_total)\n",
    "            # print('----------------------------------------------- ')\n",
    "            break\n",
    "\n",
    "        if order1[-1] > order2[-1]:\n",
    "            order_total.append(order1.pop())\n",
    "        else:\n",
    "            order_total.append(order2.pop())\n",
    "        \n",
    "        # print('================================================ ')\n",
    "        # print('Order 1 : ', order1)\n",
    "        # print('Order 2 : ', order2)\n",
    "        # print('Order Total : ', order_total)\n",
    "        # print('================================================ ')\n",
    "\n",
    "    return order_total[::-1]\n",
    "\n",
    "\n",
    "def inorderTraverse(root, order):\n",
    "    if not root:\n",
    "        return\n",
    "    inorderTraverse(root.left, order)\n",
    "    order.append(root.val)\n",
    "    inorderTraverse(root.right, order)"
   ]
  },
  {
   "cell_type": "code",
   "execution_count": null,
   "metadata": {},
   "outputs": [],
   "source": [
    "def getAllElements(root1: TreeNode, root2: TreeNode) -> [int]:\n",
    "    order1 = []\n",
    "    order2 = []\n",
    "    order_total = []\n",
    "\n",
    "    inorderTraverse(root1, order1)\n",
    "    inorderTraverse(root2, order2)\n",
    "\n",
    "    while(len(order1)!=0 or len(order2)!=0):\n",
    "        if len(order1)==0:\n",
    "            order_total += order2[::-1]\n",
    "            break\n",
    "        if len(order2)==0:\n",
    "            order_total += order1[::-1]\n",
    "            break\n",
    "\n",
    "        if order1[-1] > order2[-1]:\n",
    "            order_total.append(order1.pop())\n",
    "        else:\n",
    "            order_total.append(order2.pop())\n",
    "    return order_total[::-1]\n",
    "\n",
    "\n",
    "def inorderTraverse(root, order):\n",
    "    if not root:\n",
    "        return\n",
    "    inorderTraverse(root.left, order)\n",
    "    order.append(root.val)\n",
    "    inorderTraverse(root.right, order)"
   ]
  },
  {
   "cell_type": "markdown",
   "execution_count": null,
   "metadata": {},
   "outputs": [],
   "source": [
    "# Imporve my algorithm"
   ]
  },
  {
   "cell_type": "markdown",
   "metadata": {},
   "source": [
    "# Brute force solve! \n",
    "\n",
    "# Inorder two trees -> Merge two inorder lists -> Sorted the merged list."
   ],
   "execution_count": null,
   "outputs": []
  },
  {
   "cell_type": "markdown",
   "execution_count": null,
   "metadata": {},
   "outputs": [],
   "source": [
    "#### Test"
   ]
  },
  {
   "cell_type": "code",
   "execution_count": null,
   "metadata": {},
   "outputs": [],
   "source": [
    "root1 = TreeNode(1)\n",
    "root1.right = TreeNode(8)\n",
    "\n",
    "root2 = TreeNode(8)\n",
    "root2.left = TreeNode(1)\n",
    "\n",
    "order = []\n",
    "getAllElements(root1, root2)"
   ]
  },
  {
   "cell_type": "code",
   "execution_count": null,
   "metadata": {},
   "outputs": [],
   "source": [
    "root1 = None\n",
    "\n",
    "root2 = TreeNode(5)\n",
    "root2.left = TreeNode(1)\n",
    "root2.right = TreeNode(7)\n",
    "\n",
    "root2.left.left = TreeNode(0)\n",
    "root2.left.right = TreeNode(2)\n",
    "\n",
    "\n",
    "order = []\n",
    "getAllElements(root1, root2)"
   ]
  },
  {
   "cell_type": "code",
   "execution_count": null,
   "metadata": {},
   "outputs": [],
   "source": [
    "root1 = TreeNode(2)\n",
    "root1.left = TreeNode(1)\n",
    "root1.right = TreeNode(4)\n",
    "\n",
    "root2 = TreeNode(1)\n",
    "root2.left = TreeNode(0)\n",
    "root2.right = TreeNode(3)\n",
    "\n",
    "order = []\n",
    "getAllElements(root1, root2)"
   ]
  }
 ],
 "metadata": {
  "kernelspec": {
   "display_name": "Python 3",
   "language": "python",
   "name": "python3"
  },
  "language_info": {
   "codemirror_mode": {
    "name": "ipython",
    "version": 3
   },
   "file_extension": ".py",
   "mimetype": "text/x-python",
   "name": "python",
   "nbconvert_exporter": "python",
   "pygments_lexer": "ipython3",
   "version": "3.7.5-final"
  }
 },
 "nbformat": 4,
 "nbformat_minor": 2
}