{
 "cells": [
  {
   "cell_type": "code",
   "execution_count": 2,
   "metadata": {},
   "outputs": [],
   "source": [
    "# Definition for a binary tree node.\n",
    "class TreeNode:\n",
    "    def __init__(self, x):\n",
    "        self.val = x\n",
    "        self.left = None\n",
    "        self.right = None"
   ]
  },
  {
   "cell_type": "code",
   "execution_count": 90,
   "metadata": {},
   "outputs": [],
   "source": [
    "# # root_node = TreeNode(0)\n",
    "# class Solution:\n",
    "#     def bstToGst(self, root: TreeNode) -> TreeNode:\n",
    "#         self.bstGetSum(root,0);\n",
    "#         return root\n",
    "#     def bstGetSum(self, node:TreeNode, c_sum: int):\n",
    "#         if node is None:\n",
    "#             return c_sum\n",
    "#         if c_sum ==0:\n",
    "#             right = self.bstGetSum(node.right, 0)\n",
    "#         else:\n",
    "#             right = self.bstGetSum(node.right, c_sum)\n",
    "\n",
    "#         left =self.bstGetSum(node.left, node.val + right)\n",
    "#         node.val = right + node.val\n",
    "#         return left        \n",
    "# class Solution:\n",
    "#     def bstToGst(self, root: TreeNode) -> TreeNode:\n",
    "#         total = [0]\n",
    "\n",
    "#         def dfs(root):\n",
    "#             if root:\n",
    "#                 dfs(root.right)\n",
    "#                 root.val = total[0] = root.val + total[0]\n",
    "#                 dfs(root.left)\n",
    "\n",
    "#         dfs(root)\n",
    "#         return root\n",
    "\n",
    "# Solution Upgrade: Using global variable to accumulate the values and DFS.\n",
    "class Solution:\n",
    "    total = 0\n",
    "    def bstToGst(self, root: TreeNode) -> TreeNode:\n",
    "        self.dfs_traversal(root)\n",
    "        return root\n",
    "    def dfs_traversal(self,root):\n",
    "        if root is not None:\n",
    "            self.dfs_traversal(root.right)\n",
    "            self.total = root.val + self.total\n",
    "            root.val = self.total\n",
    "            self.dfs_traversal(root.left)\n"
   ]
  },
  {
   "cell_type": "code",
   "execution_count": 91,
   "metadata": {},
   "outputs": [
    {
     "name": "stdout",
     "output_type": "stream",
     "text": [
      "Input binary Tree\n",
      "4 , 1 , 6 , 0 , 2 , 5 , 7 , null, null, null, 3 , null, null, null, 8 , \n",
      "=============================================================\n",
      "=============================================================\n",
      "=============================================================\n",
      "Output binary Tree\n",
      "30 , 36 , 21 , 36 , 35 , 26 , 15 , null, null, null, 33 , null, null, null, 8 , "
     ]
    }
   ],
   "source": [
    "root = TreeNode(4)\n",
    "root.right = TreeNode(6)\n",
    "root.right.right = TreeNode(7)\n",
    "root.right.right.right = TreeNode(8)\n",
    "root.right.left = TreeNode(5)\n",
    "root.left = TreeNode(1)\n",
    "root.left.left = TreeNode(0)\n",
    "root.left.right = TreeNode(2)\n",
    "root.left.right.right = TreeNode(3)\n",
    "\n",
    "print('Input binary Tree')\n",
    "printLevelOrder(root)\n",
    "\n",
    "print('\\n=============================================================')\n",
    "print('=============================================================')\n",
    "print('=============================================================')\n",
    "\n",
    "bstclass = Solution()\n",
    "new_root = bstclass.bstToGst(root)\n",
    "print('Output binary Tree')\n",
    "printLevelOrder(new_root)"
   ]
  },
  {
   "cell_type": "code",
   "execution_count": 16,
   "metadata": {},
   "outputs": [],
   "source": [
    "# Function to print level order traversal of tree \n",
    "def printLevelOrder(root): \n",
    "    h = height(root) \n",
    "    for i in range(1, h+1): \n",
    "        printGivenLevel(root, i) \n",
    "\n",
    "\n",
    "# Print nodes at a given level \n",
    "def printGivenLevel(root , level): \n",
    "    if root is None: \n",
    "        print( \"null, \", end='')\n",
    "        return\n",
    "    if level == 1: \n",
    "        print( \"%d , \" %(root.val), end='')\n",
    "    elif level > 1 : \n",
    "        printGivenLevel(root.left , level-1) \n",
    "        printGivenLevel(root.right , level-1) \n",
    "\n",
    "\n",
    "\"\"\" Compute the height of a tree--the number of nodes \n",
    "    along the longest path from the root node down to \n",
    "    the farthest leaf node \n",
    "\"\"\"\n",
    "def height(node): \n",
    "    if node is None: \n",
    "        return 0\n",
    "    else : \n",
    "        # Compute the height of each subtree \n",
    "        lheight = height(node.left) \n",
    "        rheight = height(node.right) \n",
    "\n",
    "        #Use the larger one \n",
    "        if lheight > rheight : \n",
    "            return lheight+1\n",
    "        else: \n",
    "            return rheight+1"
   ]
  },
  {
   "cell_type": "code",
   "execution_count": null,
   "metadata": {},
   "outputs": [],
   "source": []
  }
 ],
 "metadata": {
  "kernelspec": {
   "display_name": "Python 3",
   "language": "python",
   "name": "python3"
  },
  "language_info": {
   "codemirror_mode": {
    "name": "ipython",
    "version": 3
   },
   "file_extension": ".py",
   "mimetype": "text/x-python",
   "name": "python",
   "nbconvert_exporter": "python",
   "pygments_lexer": "ipython3",
   "version": "3.7.1"
  }
 },
 "nbformat": 4,
 "nbformat_minor": 2
}
