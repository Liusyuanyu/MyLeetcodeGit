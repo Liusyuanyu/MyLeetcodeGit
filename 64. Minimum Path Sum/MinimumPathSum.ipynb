{
 "cells": [
  {
   "cell_type": "markdown",
   "metadata": {},
   "source": [
    "# Problem"
   ]
  },
  {
   "cell_type": "markdown",
   "metadata": {},
   "source": [
    "Given a m x n grid filled with non-negative numbers, find a path from top left to bottom right which minimizes the sum of all numbers along its path.\n",
    "Note: You can only move either down or right at any point in time."
   ]
  },
  {
   "cell_type": "code",
   "execution_count": null,
   "metadata": {},
   "outputs": [],
   "source": [
    "class Solution:\n",
    "    def minPathSum(self, grid: List[List[int]]) -> int:\n",
    "        "
   ]
  },
  {
   "cell_type": "markdown",
   "metadata": {},
   "source": [
    "# Examples"
   ]
  },
  {
   "cell_type": "markdown",
   "metadata": {},
   "source": [
    "Input:\n",
    "[\n",
    "  [1,3,1],\n",
    "  [1,5,1],\n",
    "  [4,2,1]\n",
    "]\n",
    "Output: 7\n",
    "Explanation: Because the path 1→3→1→1→1 minimizes the sum."
   ]
  },
  {
   "cell_type": "markdown",
   "metadata": {},
   "source": [
    "# My Algorithm"
   ]
  },
  {
   "cell_type": "code",
   "execution_count": null,
   "metadata": {},
   "outputs": [],
   "source": [
    "def minPathSum(grid: [[int]]) -> int:\n",
    "    rows = len(grid)\n",
    "    cols = len(grid[0])\n",
    "    for idx_r in range(0, rows):\n",
    "        for idx_c in range(0, cols):\n",
    "            if (idx_r==0 and idx_c==0):\n",
    "                continue\n",
    "            elif (idx_r==0):\n",
    "                grid[idx_r][idx_c]+= grid[idx_r][idx_c-1]\n",
    "            elif (idx_c==0):\n",
    "                grid[idx_r][idx_c]+= grid[idx_r-1][idx_c]\n",
    "            else:\n",
    "                grid[idx_r][idx_c] += min(grid[idx_r-1][idx_c],grid[idx_r][idx_c-1])\n",
    "    printList(grid)\n",
    "    return grid[rows-1][cols-1]"
   ]
  },
  {
   "cell_type": "markdown",
   "metadata": {},
   "source": [
    "# Alternative algorithms"
   ]
  },
  {
   "cell_type": "code",
   "execution_count": null,
   "metadata": {},
   "outputs": [],
   "source": [
    "def minPathSum(grid: [[int]]) -> int:\n",
    "    if not grid:\n",
    "        return 0\n",
    "    rows = len(grid)\n",
    "    cols = len(grid[0])\n",
    "    \n",
    "    for idx_r in range(1,rows):\n",
    "        grid[idx_r][0]+= grid[idx_r-1][0]\n",
    "    for idx_c in range(1,cols):\n",
    "        grid[0][idx_c]+= grid[0][idx_c-1]\n",
    "    \n",
    "    for idx_r in range(1, rows):\n",
    "        for idx_c in range(1, cols):\n",
    "            grid[idx_r][idx_c] += min(grid[idx_r-1][idx_c],grid[idx_r][idx_c-1])\n",
    "    return grid[rows-1][cols-1]"
   ]
  },
  {
   "cell_type": "markdown",
   "metadata": {},
   "source": [
    "# Sample Input and Test"
   ]
  },
  {
   "cell_type": "code",
   "execution_count": null,
   "metadata": {},
   "outputs": [],
   "source": [
    "Input= [ [1,3,1], [1,5,1], [4,2,1] ]\n",
    "# Output: 7\n",
    "minPathSum(Input)"
   ]
  },
  {
   "cell_type": "code",
   "execution_count": null,
   "metadata": {},
   "outputs": [],
   "source": [
    "Input= [ [1,3,1] ]\n",
    "# Output: 5\n",
    "minPathSum(Input)"
   ]
  },
  {
   "cell_type": "code",
   "execution_count": null,
   "metadata": {},
   "outputs": [],
   "source": [
    "Input= [ [1,3,1] ]\n",
    "# Output: 5\n",
    "minPathSum(Input)\n",
    "\n",
    "Input= [ [1], [2], [1] ]\n",
    "# Output: 4\n",
    "minPathSum(Input)\n",
    "\n",
    "Input= [ [8] ]\n",
    "# Output: 8\n",
    "minPathSum(Input)\n"
   ]
  },
  {
   "cell_type": "code",
   "execution_count": null,
   "metadata": {},
   "outputs": [],
   "source": [
    "def printList(dp):\n",
    "    for ele in dp:\n",
    "        print(ele)"
   ]
  }
 ],
 "metadata": {
  "kernelspec": {
   "display_name": "Python 3",
   "language": "python",
   "name": "python3"
  },
  "language_info": {
   "codemirror_mode": {
    "name": "ipython",
    "version": 3
   },
   "file_extension": ".py",
   "mimetype": "text/x-python",
   "name": "python",
   "nbconvert_exporter": "python",
   "pygments_lexer": "ipython3",
   "version": "3.7.1"
  }
 },
 "nbformat": 4,
 "nbformat_minor": 2
}
