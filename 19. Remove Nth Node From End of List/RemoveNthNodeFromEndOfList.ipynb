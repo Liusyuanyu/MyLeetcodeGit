{
 "cells": [
  {
   "cell_type": "markdown",
   "metadata": {},
   "source": [
    "# Problem"
   ]
  },
  {
   "cell_type": "code",
   "execution_count": null,
   "metadata": {},
   "outputs": [],
   "source": [
    "Given a linked list, remove the n-th node from the end of list and return its head"
   ]
  },
  {
   "cell_type": "code",
   "execution_count": null,
   "metadata": {},
   "outputs": [],
   "source": [
    "# Definition for singly-linked list.\n",
    "# class ListNode:\n",
    "#     def __init__(self, val=0, next=None):\n",
    "#         self.val = val\n",
    "#         self.next = next\n",
    "class Solution:\n",
    "    def removeNthFromEnd(self, head: ListNode, n: int) -> ListNode:\n",
    "        "
   ]
  },
  {
   "cell_type": "markdown",
   "metadata": {},
   "source": [
    "# Examples"
   ]
  },
  {
   "cell_type": "code",
   "execution_count": null,
   "metadata": {},
   "outputs": [],
   "source": [
    "Given linked list: 1->2->3->4->5, and n = 2.\n",
    "\n",
    "After removing the second node from the end, the linked list becomes 1->2->3->5."
   ]
  },
  {
   "cell_type": "code",
   "execution_count": null,
   "metadata": {},
   "outputs": [],
   "source": [
    "class ListNode:\n",
    "    def __init__(self, val=0, next=None):\n",
    "        self.val = val\n",
    "        self.next = next"
   ]
  },
  {
   "cell_type": "markdown",
   "metadata": {},
   "source": [
    "# My Algorithm"
   ]
  },
  {
   "cell_type": "code",
   "execution_count": null,
   "metadata": {},
   "outputs": [],
   "source": [
    "def removeNthFromEnd(head: ListNode, n: int) -> ListNode:\n",
    "    if n==0:\n",
    "        return head\n",
    "    def dfs(node):\n",
    "        if not node:\n",
    "            return None, 1\n",
    "        else:\n",
    "            node.next, nextN = dfs(node.next)\n",
    "            if nextN==n:\n",
    "                return node.next, nextN+1\n",
    "            else:\n",
    "                return node, nextN+1\n",
    "    head.next, nextN =dfs(head.next)\n",
    "    if nextN==n:\n",
    "        return head.next\n",
    "    else:\n",
    "        return head"
   ]
  },
  {
   "cell_type": "markdown",
   "metadata": {},
   "source": [
    "# Alternative algorithms"
   ]
  },
  {
   "cell_type": "code",
   "execution_count": null,
   "metadata": {},
   "outputs": [],
   "source": [
    "def removeNthFromEnd(head: ListNode, n: int) -> ListNode:\n",
    "    counter = 0\n",
    "    node =head\n",
    "    while(node):\n",
    "        counter+=1\n",
    "        node = node.next\n",
    "    if counter ==n:\n",
    "        return head.next\n",
    "\n",
    "    pre = head\n",
    "    for ind in range(counter - n - 1):\n",
    "        pre = pre.next\n",
    "    pre.next = pre.next.next    \n",
    "    return head\n"
   ]
  },
  {
   "cell_type": "markdown",
   "metadata": {},
   "source": [
    "# Sample Input and Test"
   ]
  },
  {
   "cell_type": "code",
   "execution_count": null,
   "metadata": {},
   "outputs": [],
   "source": [
    "# Given linked list: 1->2->3->4->5, and n = 2.\n",
    "# becomes 1->2->3->5.\n",
    "head = ListNode(5)\n",
    "head = ListNode(4, head)\n",
    "head = ListNode(3, head)\n",
    "head = ListNode(2, head)\n",
    "head = ListNode(1, head)\n",
    "printList(head)\n",
    "print()\n",
    "\n",
    "res = removeNthFromEnd(head, 2)\n",
    "printList(res)\n"
   ]
  },
  {
   "cell_type": "code",
   "execution_count": null,
   "metadata": {},
   "outputs": [],
   "source": [
    "# Given linked list: 1->2->3->4->5, and n = 5.\n",
    "# becomes 2->3->4->5.\n",
    "head = ListNode(5)\n",
    "head = ListNode(4, head)\n",
    "head = ListNode(3, head)\n",
    "head = ListNode(2, head)\n",
    "head = ListNode(1, head)\n",
    "printList(head)\n",
    "print()\n",
    "res = removeNthFromEnd(head, 5)\n",
    "printList(res)\n",
    "print()"
   ]
  },
  {
   "cell_type": "markdown",
   "metadata": {},
   "source": [
    "# Print List"
   ]
  },
  {
   "cell_type": "code",
   "execution_count": null,
   "metadata": {},
   "outputs": [],
   "source": [
    "def printList(node):\n",
    "    print(node.val, end ='')\n",
    "    if node.next:\n",
    "        print(' -> ', end ='')\n",
    "        printList(node.next) "
   ]
  }
 ],
 "metadata": {
  "kernelspec": {
   "display_name": "Python 3",
   "language": "python",
   "name": "python3"
  },
  "language_info": {
   "codemirror_mode": {
    "name": "ipython",
    "version": 3
   },
   "file_extension": ".py",
   "mimetype": "text/x-python",
   "name": "python",
   "nbconvert_exporter": "python",
   "pygments_lexer": "ipython3",
   "version": "3.7.5-final"
  }
 },
 "nbformat": 4,
 "nbformat_minor": 2
}