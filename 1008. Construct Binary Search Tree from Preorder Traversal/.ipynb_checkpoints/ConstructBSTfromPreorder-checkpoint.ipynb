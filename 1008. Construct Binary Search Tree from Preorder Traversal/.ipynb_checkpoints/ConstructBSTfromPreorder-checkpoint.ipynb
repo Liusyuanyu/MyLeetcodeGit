{
 "cells": [
  {
   "cell_type": "markdown",
   "metadata": {},
   "source": [
    "# Definition for a binary tree node.\n",
    "# class TreeNode:\n",
    "#     def __init__(self, x):\n",
    "#         self.val = x\n",
    "#         self.left = None\n",
    "#         self.right = None\n",
    "\n",
    "class Solution:\n",
    "    def bstFromPreorder(self, preorder: List[int]) -> TreeNode:\n",
    "        "
   ]
  },
  {
   "cell_type": "code",
   "execution_count": null,
   "metadata": {},
   "outputs": [],
   "source": [
    "import time\n",
    "# start_time = time.time()\n",
    "# print(\"--- %s seconds ---\" % (time.time() - start_time))"
   ]
  },
  {
   "cell_type": "code",
   "execution_count": null,
   "metadata": {},
   "outputs": [],
   "source": [
    "class TreeNode:\n",
    "    def __init__(self, x):\n",
    "        self.val = x\n",
    "        self.left = None\n",
    "        self.right = None"
   ]
  },
  {
   "cell_type": "code",
   "execution_count": null,
   "metadata": {},
   "outputs": [],
   "source": [
    "def bstFromPreorder_old(preorder: [int]) -> TreeNode:\n",
    "    if(not len(preorder)):\n",
    "        return None\n",
    "    node = TreeNode( preorder[0] )\n",
    "    if(len(preorder)-1 != 0):\n",
    "        node.left = self.bstFromPreorder([x for x in preorder if x < preorder[0]])\n",
    "        node.right = self.bstFromPreorder([x for x in preorder if x > preorder[0]])\n",
    "    return node"
   ]
  },
  {
   "cell_type": "code",
   "execution_count": null,
   "metadata": {},
   "outputs": [],
   "source": [
    "def bstFromPreorder(preorder: [int]) -> TreeNode:\n",
    "    if(not len(preorder)):\n",
    "        return None\n",
    "    node = TreeNode( preorder[0] )\n",
    "    if(len(preorder)-1 != 0):\n",
    "        end = list(map(lambda i: i> preorder[0], preorder)).index(True)\n",
    "        node.left = bstFromPreorder(preorder[1:end])\n",
    "        node.right = bstFromPreorder(preorder[end::])\n",
    "    return node"
   ]
  },
  {
   "cell_type": "code",
   "execution_count": null,
   "metadata": {},
   "outputs": [],
   "source": [
    "def bstFromPreorder_new(preorder: [int]) -> TreeNode:\n",
    "    if not preorder:\n",
    "        return None\n",
    "    node = TreeNode( preorder[0] )\n",
    "    \n",
    "    end =1\n",
    "    while end < len(preorder):\n",
    "        if preorder[end] < preorder[0]: end += 1\n",
    "        else: break\n",
    "    \n",
    "#     for end in range(len(preorder)):\n",
    "#         if preorder[end] > preorder[0]: \n",
    "#             break;\n",
    "    \n",
    "    node.left = bstFromPreorder_new(preorder[1:end])\n",
    "    node.right = bstFromPreorder_new(preorder[end:])\n",
    "    return node"
   ]
  },
  {
   "cell_type": "code",
   "execution_count": null,
   "metadata": {},
   "outputs": [],
   "source": [
    "inputlist = [8,5,1,7,10,12]\n",
    "# inputlist = [4,2]\n",
    "\n",
    "# [8,5,10,1,7,null,12]\n",
    "# root = bstFromPreorder(inputlist)\n",
    "# printLevelOrder(root)\n",
    "\n",
    "# start_time = time.time()\n",
    "\n",
    "root = bstFromPreorder_old(inputlist)\n",
    "printLevelOrder(root)\n",
    "\n",
    "\n",
    "# print(\"--- %s seconds ---\" % (time.time() - start_time))\n"
   ]
  },
  {
   "cell_type": "code",
   "execution_count": null,
   "metadata": {},
   "outputs": [],
   "source": [
    "root = bstFromPreorder_new(inputlist)\n",
    "printLevelOrder(root)"
   ]
  },
  {
   "cell_type": "code",
   "execution_count": null,
   "metadata": {},
   "outputs": [],
   "source": [
    "def insertIntoBST(root: TreeNode, val: int) -> TreeNode:\n",
    "# def insertIntoBST_DFS(root: TreeNode, val: int) -> TreeNode:\n",
    "#     new_node = TreeNode(val)\n",
    "    if not root:\n",
    "        return TreeNode(val)\n",
    "    \n",
    "    if root.val > val:\n",
    "        root.left= insertIntoBST(root.left, val)\n",
    "    else:\n",
    "        root.right= insertIntoBST(root.right, val)\n",
    "\n",
    "    return root"
   ]
  },
  {
   "cell_type": "code",
   "execution_count": null,
   "metadata": {},
   "outputs": [],
   "source": [
    "# Function to print level order traversal of tree \n",
    "def printLevelOrder(root): \n",
    "    h = height(root) \n",
    "    for i in range(1, h+1): \n",
    "        printGivenLevel(root, i) \n",
    "\n",
    "\n",
    "# Print nodes at a given level \n",
    "def printGivenLevel(root , level): \n",
    "    if root is None: \n",
    "        print( \"null, \", end='')\n",
    "        return\n",
    "    if level == 1: \n",
    "        print( \"%d , \" %(root.val), end='')\n",
    "    elif level > 1 : \n",
    "        printGivenLevel(root.left , level-1) \n",
    "        printGivenLevel(root.right , level-1) \n",
    "\n",
    "\n",
    "\"\"\" Compute the height of a tree--the number of nodes \n",
    "    along the longest path from the root node down to \n",
    "    the farthest leaf node \n",
    "\"\"\"\n",
    "def height(node): \n",
    "    if node is None: \n",
    "        return 0\n",
    "    else : \n",
    "        # Compute the height of each subtree \n",
    "        lheight = height(node.left) \n",
    "        rheight = height(node.right) \n",
    "\n",
    "        #Use the larger one \n",
    "        if lheight > rheight : \n",
    "            return lheight+1\n",
    "        else: \n",
    "            return rheight+1"
   ]
  },
  {
   "cell_type": "markdown",
   "metadata": {},
   "source": [
    "### First submit"
   ]
  },
  {
   "cell_type": "code",
   "execution_count": null,
   "metadata": {},
   "outputs": [],
   "source": [
    "# Definition for a binary tree node.\n",
    "# class TreeNode:\n",
    "#     def __init__(self, x):\n",
    "#         self.val = x\n",
    "#         self.left = None\n",
    "#         self.right = None\n",
    "\n",
    "class Solution:\n",
    "    def bstFromPreorder(self, preorder: List[int]) -> TreeNode:\n",
    "        def createTree(preorder, start,end):\n",
    "            if(start == end):\n",
    "                return None\n",
    "            node = TreeNode( preorder[start] )\n",
    "            if(start+1 == end):\n",
    "                return node\n",
    "\n",
    "            result = list(map(lambda i: i> preorder[start], preorder[start+1:end]))\n",
    "            ind = 1\n",
    "            right_start = start+ind\n",
    "            if( True in result ):\n",
    "                ind =result.index(True)+start+1\n",
    "                node.left = createTree(preorder, start+1,ind)\n",
    "                right_start = ind\n",
    "            node.right = createTree(preorder, right_start,end)\n",
    "            return node\n",
    "    \n",
    "        num = len(preorder)\n",
    "        root = createTree(preorder,0,num)\n",
    "\n",
    "        return root"
   ]
  },
  {
   "cell_type": "markdown",
   "metadata": {},
   "source": [
    "### Second submit"
   ]
  },
  {
   "cell_type": "code",
   "execution_count": null,
   "metadata": {},
   "outputs": [],
   "source": [
    "# Definition for a binary tree node.\n",
    "# class TreeNode:\n",
    "#     def __init__(self, x):\n",
    "#         self.val = x\n",
    "#         self.left = None\n",
    "#         self.right = None\n",
    "\n",
    "class Solution:\n",
    "    def bstFromPreorder(self, preorder: List[int]) -> TreeNode:\n",
    "        if(not len(preorder)):\n",
    "            return None\n",
    "        node = TreeNode( preorder[0] )\n",
    "        if(len(preorder)-1 != 0):\n",
    "            end = list(map(lambda i: i> preorder[0], preorder)).index(True)\n",
    "            node.left = self.bstFromPreorder(preorder[1:end])\n",
    "            node.right = self.bstFromPreorder(preorder[end::])\n",
    "        return node"
   ]
  },
  {
   "cell_type": "code",
   "execution_count": null,
   "metadata": {},
   "outputs": [],
   "source": [
    "class Solution:\n",
    "    def bstFromPreorder(self, preorder: List[int]) -> TreeNode:\n",
    "        if not preorder: return None\n",
    "        root = TreeNode(preorder[0])\n",
    "        i = 1\n",
    "        while i < len(preorder):\n",
    "            if preorder[i] < preorder[0]: i += 1\n",
    "            else: break\n",
    "        root.left = self.bstFromPreorder(preorder[1:i])\n",
    "        root.right = self.bstFromPreorder(preorder[i:])\n",
    "        return root"
   ]
  },
  {
   "cell_type": "code",
   "execution_count": null,
   "metadata": {},
   "outputs": [],
   "source": [
    "def testFunction(preorder):\n",
    "    \"\"\"\n",
    "    :type preorder: List[int]\n",
    "    :rtype: TreeNode\n",
    "    \"\"\"\n",
    "    if not preorder:\n",
    "        return None\n",
    "    root = TreeNode(preorder[0])\n",
    "    index = 1\n",
    "    while(index< len(preorder) and root.val > preorder[index]):\n",
    "        index += 1\n",
    "    root.left = testFunction(preorder[1:index])\n",
    "    root.right = testFunction(preorder[index:])\n",
    "    return root"
   ]
  }
 ],
 "metadata": {
  "kernelspec": {
   "display_name": "Python 3",
   "language": "python",
   "name": "python3"
  },
  "language_info": {
   "codemirror_mode": {
    "name": "ipython",
    "version": 3
   },
   "file_extension": ".py",
   "mimetype": "text/x-python",
   "name": "python",
   "nbconvert_exporter": "python",
   "pygments_lexer": "ipython3",
   "version": "3.7.1"
  }
 },
 "nbformat": 4,
 "nbformat_minor": 2
}
