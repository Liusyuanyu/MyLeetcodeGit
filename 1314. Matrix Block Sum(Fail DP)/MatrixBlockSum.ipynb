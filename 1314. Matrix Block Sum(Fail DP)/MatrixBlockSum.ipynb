{
 "cells": [
  {
   "cell_type": "markdown",
   "execution_count": null,
   "metadata": {},
   "outputs": [],
   "source": [
    "Given a m * n matrix mat and an integer K, return a matrix answer where each answer[i][j] is the sum of all elements mat[r][c] for i - K <= r <= i + K, j - K <= c <= j + K, and (r, c) is a valid position in the matrix. \n",
    " \n",
    "Example 1:\n",
    "Input: mat = [[1,2,3],[4,5,6],[7,8,9]], K = 1\n",
    "Output: [[12,21,16],[27,45,33],[24,39,28]]\n",
    "Example 2:\n",
    "Input: mat = [[1,2,3],[4,5,6],[7,8,9]], K = 2\n",
    "Output: [[45,45,45],[45,45,45],[45,45,45]]\n",
    " \n",
    "Constraints:\n",
    "m == mat.length\n",
    "n == mat[i].length\n",
    "1 <= m, n, K <= 100\n",
    "1 <= mat[i][j] <= 100"
   ]
  },
  {
   "cell_type": "code",
   "execution_count": null,
   "metadata": {},
   "outputs": [],
   "source": [
    "class Solution:\n",
    "    def matrixBlockSum(self, mat: List[List[int]], K: int) -> List[List[int]]:\n",
    "        M = len(mat)\n",
    "        N = len(mat[0])\n",
    " \n",
    "        dp = [[0] * (N+1) for _ in range(M+1)]\n",
    "        for r in range(1,M+1):\n",
    "            for c in range(1,N+1):\n",
    "                dp[r][c] = mat[r-1][c-1] - dp[r-1][c-1] + dp[r-1][c] + dp[r][c-1]\n",
    " \n",
    "        print(dp)\n",
    "        res = [[0] * N for _ in range(M)]\n",
    "        for r in range(M):\n",
    "            for c in range(N):\n",
    "                r0, c0 = max(r-K, 0), max(c-K, 0)\n",
    "                r1, c1 = min(r+K+1, M), min(c+K+1, N)\n",
    "                res[r][c] = dp[r1][c1] - dp[r0][c1] - dp[r1][c0] + dp[r0][c0]\n",
    " \n",
    "        return res"
   ]
  },
  {
   "cell_type": "markdown",
   "execution_count": null,
   "metadata": {},
   "outputs": [],
   "source": [
    "## First try (Timeout Fail) "
   ]
  },
  {
   "cell_type": "code",
   "execution_count": null,
   "metadata": {},
   "outputs": [],
   "source": [
    "class Solution:\n",
    "    def matrixBlockSum(self, mat: List[List[int]], K: int) -> List[List[int]]:\n",
    "        rows = len(mat)\n",
    "        cols = len(mat[0])\n",
    "        sum_mat = [[0]*cols for i in range(rows)]\n",
    "        for row in range(rows):\n",
    "            for col in range(cols):\n",
    "                if row-k<0:\n",
    "                    row_start = 0\n",
    "                else:\n",
    "                    row_start = row-k\n",
    "                if row+k>=rows:\n",
    "                    row_end = rows-1\n",
    "                else:\n",
    "                    row_end = row+k\n",
    "\n",
    "                if col-k<0:\n",
    "                    col_start = 0\n",
    "                else:\n",
    "                    col_start = col-k\n",
    "                if col+k>=cols:\n",
    "                    col_end = cols-1\n",
    "                else:\n",
    "                    col_end = col+k\n",
    "\n",
    "                for get_r in range(row_start,row_end+1):\n",
    "                    for get_c in range(col_start,col_end+1):\n",
    "                        sum_mat[row][col]+=(mat[get_r][get_c])\n",
    "        return sum_mat"
   ]
  },
  {
   "cell_type": "markdown",
   "execution_count": null,
   "metadata": {},
   "outputs": [],
   "source": [
    "===========================================================================================\n",
    "#### Split line\n",
    "==========================================================================================="
   ]
  },
  {
   "cell_type": "markdown",
   "execution_count": null,
   "metadata": {},
   "outputs": [],
   "source": [
    "## Modified algorithm ==> dynamic programming"
   ]
  },
  {
   "cell_type": "code",
   "execution_count": null,
   "metadata": {},
   "outputs": [],
   "source": [
    "class Solution:\n",
    "    def matrixBlockSum(self, mat: List[List[int]], K: int) -> List[List[int]]:\n",
    "        rows, cols = len(mat), len(mat[0])\n",
    "        dp_mat = [[0]*(cols+1) for i in range(rows+1)]\n",
    "\n",
    "        for row in range(1,rows+1):\n",
    "            for col in range(1,cols+1):\n",
    "                dp_mat[row][col] = mat[row-1][col-1] - dp_mat[row-1][col-1] +dp_mat[row-1][col] + dp_mat[row][col-1]\n",
    "        \n",
    "        sum_mat = [[0]*(cols) for _ in range(rows)]\n",
    "        for row in range(rows):\n",
    "            for col in range(cols):\n",
    "                row0, col0 = max(row-K, 0), max(col-K, 0)\n",
    "                row1, col1 = min(row+K+1, rows), min(col+K+1, cols)\n",
    "                sum_mat[row][col] = dp_mat[row1][col1] - dp_mat[row0][col1] - dp_mat[row1][col0] + dp[row0][col0]\n",
    "\n",
    "        return sum_mat\n",
    "\n",
    "        # M = len(mat)\n",
    "        # N = len(mat[0])\n",
    " \n",
    "        # dp = [[0] * (N+1) for _ in range(M+1)]\n",
    "        # for r in range(1,M+1):\n",
    "        #     for c in range(1,N+1):\n",
    "        #         dp[r][c] = mat[r-1][c-1] - dp[r-1][c-1] + dp[r-1][c] + dp[r][c-1]\n",
    " \n",
    "        # print(dp)\n",
    "        # res = [[0] * N for _ in range(M)]\n",
    "        # for r in range(M):\n",
    "        #     for c in range(N):\n",
    "        #         r0, c0 = max(r-K, 0), max(c-K, 0)\n",
    "        #         r1, c1 = min(r+K+1, M), min(c+K+1, N)\n",
    "        #         res[r][c] = dp[r1][c1] - dp[r0][c1] - dp[r1][c0] + dp[r0][c0]\n",
    " \n",
    "        # return res"
   ]
  },
  {
   "cell_type": "code",
   "execution_count": null,
   "metadata": {},
   "outputs": [],
   "source": [
    "# mat = [[1,2,3],[4,5,6],[7,8,9]], K = 1\n",
    "# [[12,21,16],[27,45,33],[24,39,28]]\n",
    "\n",
    "# mat = [[1,2,3],[4,5,6],[7,8,9]], K = 2\n",
    "# [[45,45,45],[45,45,45],[45,45,45]]\n",
    "\n",
    "k = 1\n",
    "mat = [[1,2,3],[4,5,6],[7,8,9]]\n",
    "\n",
    "rows = len(mat)\n",
    "cols = len(mat[0])\n",
    "\n",
    "sum_mat  = [0]*cols\n",
    "sum_mat = [sum_mat.copy() for i in range(rows)]\n",
    "print(sum_mat)\n",
    "for row in range(rows):\n",
    "    for col in range(cols):\n",
    "        if row-k<0:\n",
    "            row_start = 0\n",
    "        else:\n",
    "            row_start = row-k\n",
    "        if row+k>=rows:\n",
    "            row_end = rows-1\n",
    "        else:\n",
    "            row_end = row+k\n",
    "\n",
    "        if col-k<0:\n",
    "            col_start = 0\n",
    "        else:\n",
    "            col_start = col-k\n",
    "        if col+k>=cols:\n",
    "            col_end = cols-1\n",
    "        else:\n",
    "            col_end = col+k\n",
    "\n",
    "        print(row, ', ', col)\n",
    "        for get_r in range(row_start,row_end+1):\n",
    "            for get_c in range(col_start,col_end+1):\n",
    "\n",
    "                # if row==0 and col ==0:\n",
    "                #     # print(row, ', ', col, ' : ', mat[get_r][get_c])\n",
    "                #     print(get_r, ', ', get_c, ' : ', mat[get_r][get_c])\n",
    "                #     print(row_start, ', ', row_end)\n",
    "                #     print(col_start, ', ', col_end)\n",
    "                # print(col_end)\n",
    "                # print(get_r, ', ', get_c)\n",
    "                # print(get_r, ', ', get_c, ' : ', mat[get_r][get_c], '    ==> ',sum_mat[row][col])\n",
    "                sum_mat[row][col]+=(mat[get_r][get_c])\n",
    "\n",
    "sum_mat"
   ]
  },
  {
   "cell_type": "markdown",
   "execution_count": null,
   "metadata": {},
   "outputs": [],
   "source": [
    "## Temp code"
   ]
  },
  {
   "cell_type": "code",
   "execution_count": null,
   "metadata": {},
   "outputs": [],
   "source": [
    "cols = 3\n",
    "rows = 3\n",
    "\n",
    "sum_mat  = [0]*cols\n",
    "sum_mat = [sum_mat]*rows\n",
    "sum_mat"
   ]
  }
 ],
 "metadata": {
  "kernelspec": {
   "display_name": "Python 3",
   "language": "python",
   "name": "python3"
  },
  "language_info": {
   "codemirror_mode": {
    "name": "ipython",
    "version": 3
   },
   "file_extension": ".py",
   "mimetype": "text/x-python",
   "name": "python",
   "nbconvert_exporter": "python",
   "pygments_lexer": "ipython3",
   "version": "3.7.1-final"
  }
 },
 "nbformat": 4,
 "nbformat_minor": 2
}