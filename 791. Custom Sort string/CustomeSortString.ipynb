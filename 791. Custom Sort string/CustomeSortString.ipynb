{
 "cells": [
  {
   "cell_type": "markdown",
   "metadata": {},
   "source": [
    "# Problem"
   ]
  },
  {
   "cell_type": "code",
   "execution_count": null,
   "metadata": {},
   "outputs": [],
   "source": [
    "S and T are strings composed of lowercase letters. In S, no letter occurs more than once.\n",
    "S was sorted in some custom order previously. We want to permute the characters of T so that they match the order that S was sorted. More specifically, if x occurs before y in S, then x should occur before y in the returned string.\n",
    "Return any permutation of T (as a string) that satisfies this property."
   ]
  },
  {
   "cell_type": "code",
   "execution_count": null,
   "metadata": {},
   "outputs": [],
   "source": [
    "class Solution:\n",
    "    def customSortString(self, S: str, T: str) -> str:\n",
    "        "
   ]
  },
  {
   "cell_type": "markdown",
   "execution_count": null,
   "metadata": {},
   "outputs": [],
   "source": [
    "# My Algorithm"
   ]
  },
  {
   "cell_type": "code",
   "execution_count": 17,
   "metadata": {},
   "outputs": [],
   "source": [
    "def customSortString(S: str, T: str) -> str:\n",
    "    new_permute = ''\n",
    "    for ch in S:\n",
    "        while( ch in T):\n",
    "            new_permute+=ch\n",
    "            T = T[:T.index(ch)]+T[T.index(ch)+1:]\n",
    "    if T:\n",
    "        new_permute+=T    \n",
    "    return new_permute"
   ]
  },
  {
   "cell_type": "markdown",
   "execution_count": null,
   "metadata": {},
   "outputs": [],
   "source": [
    "## Improve"
   ]
  },
  {
   "cell_type": "code",
   "execution_count": 30,
   "metadata": {},
   "outputs": [],
   "source": [
    "def customSortString(S: str, T: str) -> str:\n",
    "    S+=T\n",
    "    new_permute = list(T)\n",
    "    new_permute.sort(key=lambda ch : S.index(ch))\n",
    "    return ''.join(new_permute)"
   ]
  },
  {
   "cell_type": "markdown",
   "metadata": {},
   "source": [
    "## Example"
   ]
  },
  {
   "cell_type": "code",
   "execution_count": null,
   "metadata": {},
   "outputs": [],
   "source": [
    "Example :\n",
    "Input: \n",
    "S = \"cba\"\n",
    "T = \"abcd\"\n",
    "Output: \"cbad\"\n",
    "Explanation: \n",
    "\"a\", \"b\", \"c\" appear in S, so the order of \"a\", \"b\", \"c\" should be \"c\", \"b\", and \"a\". \n",
    "Since \"d\" does not appear in S, it can be at any position in T. \"dcba\", \"cdba\", \"cbda\" are also valid outputs."
   ]
  },
  {
   "cell_type": "markdown",
   "execution_count": null,
   "metadata": {},
   "outputs": [],
   "source": [
    "# Sample Input and Test"
   ]
  },
  {
   "cell_type": "code",
   "execution_count": 33,
   "metadata": {},
   "outputs": [
    {
     "output_type": "execute_result",
     "data": {
      "text/plain": "'cbad'"
     },
     "metadata": {},
     "execution_count": 33
    }
   ],
   "source": [
    "S = \"cba\"\n",
    "T = \"abcd\"\n",
    "#Output: 'cbad'\n",
    "customSortString(S,T)\n",
    "\n",
    "\n",
    "# S = \"cba\"\n",
    "# T = \"abcda\"\n",
    "# #Output: 'cbaad'\n",
    "# customSortString(S,T)\n",
    "\n",
    "# S = \"cba\"\n",
    "# T = \"fgabcda\"\n",
    "# #Output: 'cbaadfg'\n",
    "# customSortString(S,T)\n",
    ""
   ]
  },
  {
   "cell_type": "code",
   "execution_count": 25,
   "metadata": {},
   "outputs": [
    {
     "output_type": "execute_result",
     "data": {
      "text/plain": "'aabbcc'"
     },
     "metadata": {},
     "execution_count": 25
    }
   ],
   "source": [
    "# test = ['a','a','b','b','c','c']\n",
    "# test.remove('d')\n",
    "\n",
    "\n",
    "test ='aabbcc'\n",
    "# test +='b'\n",
    "# test.index('a') \n",
    "# list(test)\n",
    "''.join(list(test))\n",
    "\n",
    ""
   ]
  }
 ],
 "metadata": {
  "kernelspec": {
   "display_name": "Python 3",
   "language": "python",
   "name": "python3"
  },
  "language_info": {
   "codemirror_mode": {
    "name": "ipython",
    "version": 3
   },
   "file_extension": ".py",
   "mimetype": "text/x-python",
   "name": "python",
   "nbconvert_exporter": "python",
   "pygments_lexer": "ipython3",
   "version": "3.7.5-final"
  }
 },
 "nbformat": 4,
 "nbformat_minor": 2
}