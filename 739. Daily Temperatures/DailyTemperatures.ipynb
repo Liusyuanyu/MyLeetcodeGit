{
 "cells": [
  {
   "cell_type": "markdown",
   "metadata": {},
   "source": [
    "## Probelm"
   ]
  },
  {
   "cell_type": "code",
   "execution_count": null,
   "metadata": {},
   "outputs": [],
   "source": [
    "Given a list of daily temperatures T, return a list such that, for each day in the input, tells you how many days you would have to wait until a warmer temperature. If there is no future day for which this is possible, put 0 instead. \n",
    "For example, given the list of temperatures T = [73, 74, 75, 71, 69, 72, 76, 73], your output should be [1, 1, 4, 2, 1, 1, 0, 0]. \n",
    "Note: The length of temperatures will be in the range [1, 30000]. Each temperature will be an integer in the range [30, 100]. "
   ]
  },
  {
   "cell_type": "markdown",
   "metadata": {},
   "source": [
    "## Examples"
   ]
  },
  {
   "cell_type": "code",
   "execution_count": null,
   "metadata": {},
   "outputs": [],
   "source": [
    "Example1 \n",
    "T = [73, 74, 75, 71, 69, 72, 76, 73]\n",
    "output : [1, 1, 4, 2, 1, 1, 0, 0]"
   ]
  },
  {
   "cell_type": "code",
   "execution_count": null,
   "metadata": {},
   "outputs": [],
   "source": [
    "class Solution:\n",
    "    def dailyTemperatures(self, T: List[int]) -> List[int]:\n",
    "        "
   ]
  },
  {
   "cell_type": "markdown",
   "metadata": {},
   "source": [
    "## My Algoritm"
   ]
  },
  {
   "cell_type": "code",
   "execution_count": null,
   "metadata": {},
   "outputs": [],
   "source": [
    "def dailyTemperatures(T: [int]) -> [int]:\n",
    "    length = len(T)\n",
    "    result = [0]*length\n",
    "\n",
    "    for ind in range(length-1,-1,-1):\n",
    "        next = ind +1\n",
    "        while(next < length):\n",
    "            if T[ind] < T[next]:\n",
    "                result[ind]= next - ind\n",
    "                break\n",
    "            elif result[next]==0:\n",
    "                break\n",
    "            next += result[next]\n",
    "    return result\n"
   ]
  },
  {
   "cell_type": "markdown",
   "metadata": {},
   "source": [
    "# Improve (Only a little bit different. 4ms)"
   ]
  },
  {
   "cell_type": "code",
   "execution_count": null,
   "metadata": {},
   "outputs": [],
   "source": [
    "def dailyTemperatures(T: [int]) -> [int]:\n",
    "    length = len(T)\n",
    "    result = [0]*length\n",
    "\n",
    "    for ind in range(length-2,-1,-1):\n",
    "        if T[ind] < T[ind+1]:\n",
    "            result[ind]= 1\n",
    "        else:\n",
    "            next = ind + result[ind+1]\n",
    "            while(1):\n",
    "                if T[ind] < T[next]:\n",
    "                    result[ind]= next - ind\n",
    "                    break\n",
    "                elif result[next]==0:\n",
    "                    break\n",
    "                next += result[next]\n",
    "    return result\n"
   ]
  },
  {
   "cell_type": "markdown",
   "metadata": {},
   "source": [
    "## Test"
   ]
  },
  {
   "cell_type": "code",
   "execution_count": null,
   "metadata": {},
   "outputs": [],
   "source": [
    "import time\n",
    "\n",
    "\n",
    "# T = [73, 74, 75, 71, 69, 72, 76, 73]*100\n",
    "T = [73, 74, 75, 71, 69, 72, 76, 73]\n",
    "\n",
    "start = time.time()\n",
    "\n",
    "result = dailyTemperatures(T)\n",
    "\n",
    "end = time.time()\n",
    "print(end - start)"
   ]
  },
  {
   "cell_type": "code",
   "execution_count": null,
   "metadata": {},
   "outputs": [],
   "source": [
    "result"
   ]
  }
 ],
 "metadata": {
  "language_info": {
   "name": "python",
   "codemirror_mode": {
    "name": "ipython",
    "version": 3
   },
   "version": "3.7.5-final"
  },
  "orig_nbformat": 2,
  "file_extension": ".py",
  "mimetype": "text/x-python",
  "name": "python",
  "npconvert_exporter": "python",
  "pygments_lexer": "ipython3",
  "version": 3,
  "kernelspec": {
   "name": "python3",
   "display_name": "Python 3"
  }
 },
 "nbformat": 4,
 "nbformat_minor": 2
}