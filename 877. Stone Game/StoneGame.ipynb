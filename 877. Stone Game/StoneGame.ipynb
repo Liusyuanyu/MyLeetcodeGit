{
 "cells": [
  {
   "cell_type": "markdown",
   "metadata": {},
   "source": [
    "# Problem"
   ]
  },
  {
   "cell_type": "code",
   "execution_count": null,
   "metadata": {},
   "outputs": [],
   "source": [
    "Alex and Lee play a game with piles of stones.  There are an even number of piles arranged in a row, and each pile has a positive integer number of stones piles[i].\n",
    "The objective of the game is to end with the most stones.  The total number of stones is odd, so there are no ties.\n",
    "Alex and Lee take turns, with Alex starting first.  Each turn, a player takes the entire pile of stones from either the beginning or the end of the row.  This continues until there are no more piles left, at which point the person with the most stones wins.\n",
    "Assuming Alex and Lee play optimally, return True if and only if Alex wins the game."
   ]
  },
  {
   "cell_type": "code",
   "execution_count": null,
   "metadata": {},
   "outputs": [],
   "source": [
    "class Solution:\n",
    "    def stoneGame(self, piles: List[int]) -> bool:\n",
    "        "
   ]
  },
  {
   "cell_type": "markdown",
   "metadata": {},
   "source": [
    "# My Algorithm"
   ]
  },
  {
   "cell_type": "code",
   "execution_count": null,
   "metadata": {},
   "outputs": [],
   "source": [
    "def stoneGame(piles: [int]) -> bool:\n",
    "    length = len(piles)\n",
    "    dpVal = [[0 for x in range(length)] for y in range(length)] \n",
    "    for ind in range(length):\n",
    "        dpVal[ind][ind] = piles[ind]\n",
    "    for wide in range(2, length+1):\n",
    "        for offset in range(length - wide+1):\n",
    "            endInd = wide+offset-1\n",
    "            dpVal[offset][endInd] = max(piles[offset] - dpVal[offset+1][endInd], piles[endInd] - dpVal[offset][endInd-1])\n",
    "    return dpVal[0][length-1] > 0"
   ]
  },
  {
   "cell_type": "markdown",
   "metadata": {},
   "source": [
    "## Improve"
   ]
  },
  {
   "cell_type": "code",
   "execution_count": null,
   "metadata": {},
   "outputs": [],
   "source": [
    "# 解法二\n",
    "# 让我们回到问题：数组中一共有偶数个元素，Alex先选，Lee后选。那么假设数组有2n个元素，如果Alex第一次选择了元素1，则Lee可以选择2或2n，在之后Alex可以选择3、2n或者2、2n-1，以此类推。也就是说，可以保证Alex一定能够选到所有奇数位置的元素或是所有偶数位置的元素，那么只要一开始知道奇数位置元素之和与偶数位置元素之和哪个更大，就能保证Alex胜利，所以实际上这道题我们只需要：\n",
    "return true"
   ]
  },
  {
   "cell_type": "code",
   "execution_count": null,
   "metadata": {},
   "outputs": [],
   "source": [
    "def stoneGame(piles: [int]) -> bool:\n",
    "    total = sum(piles)\n",
    "    odd = 0\n",
    "    for ind in range(0,len(piles),2):\n",
    "        odd +=piles[ind]\n",
    "    even = sum(piles) - odd\n",
    "    return max(even, odd) > total//2"
   ]
  },
  {
   "cell_type": "markdown",
   "metadata": {},
   "source": [
    "## Example"
   ]
  },
  {
   "cell_type": "code",
   "execution_count": null,
   "metadata": {},
   "outputs": [],
   "source": [
    "Example 1:\n",
    "Input: [5,3,4,5]\n",
    "Output: true\n",
    "\n",
    "Explanation: \n",
    "Alex starts first, and can only take the first 5 or the last 5.\n",
    "Say he takes the first 5, so that the row becomes [3, 4, 5].\n",
    "If Lee takes 3, then the board is [4, 5], and Alex takes 5 to win with 10 points.\n",
    "If Lee takes the last 5, then the board is [3, 4], and Alex takes 4 to win with 9 points.\n",
    "This demonstrated that taking the first 5 was a winning move for Alex, so we return true."
   ]
  },
  {
   "cell_type": "markdown",
   "metadata": {},
   "source": [
    "# Sample Input and Test"
   ]
  },
  {
   "cell_type": "code",
   "execution_count": null,
   "metadata": {},
   "outputs": [],
   "source": [
    "Input = [5,3,4,5]\n",
    "stoneGame(Input)\n",
    "# Output: true\n",
    "\n",
    "# Input = [3,5,3,5,3,5,2,2]\n",
    "# stoneGame(Input)\n",
    "# # Output: true\n"
   ]
  },
  {
   "cell_type": "code",
   "execution_count": null,
   "metadata": {},
   "outputs": [],
   "source": [
    "def stoneGame(piles: [int]) -> bool:\n",
    "    #start from both ends        \n",
    "    start = 0\n",
    "    end = len(piles) - 1\n",
    "    score = 0\n",
    "\n",
    "    #keep track of player, even is Alex, odd is Lee\n",
    "    plyr = 0\n",
    "\n",
    "    while start < end:\n",
    "        score += max(piles[end],piles[start])\n",
    "\n",
    "        end -= 1\n",
    "        start += 1\n",
    "\n",
    "    return score > sum(piles)//2"
   ]
  }
 ],
 "metadata": {
  "kernelspec": {
   "display_name": "Python 3",
   "language": "python",
   "name": "python3"
  },
  "language_info": {
   "codemirror_mode": {
    "name": "ipython",
    "version": 3
   },
   "file_extension": ".py",
   "mimetype": "text/x-python",
   "name": "python",
   "nbconvert_exporter": "python",
   "pygments_lexer": "ipython3",
   "version": "3.7.5-final"
  }
 },
 "nbformat": 4,
 "nbformat_minor": 2
}