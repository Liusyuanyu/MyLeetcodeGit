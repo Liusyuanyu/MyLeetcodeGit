{
 "cells": [
  {
   "cell_type": "markdown",
   "metadata": {},
   "source": [
    "# Problem"
   ]
  },
  {
   "cell_type": "code",
   "execution_count": null,
   "metadata": {},
   "outputs": [],
   "source": [
    "The string \"PAYPALISHIRING\" is written in a zigzag pattern on a given number of rows like this: (you may want to display this pattern in a fixed font for better legibility)\n",
    "P   A   H   N\n",
    "A P L S I I G\n",
    "Y   I   R\n",
    "And then read line by line: \"PAHNAPLSIIGYIR\"\n",
    "Write the code that will take a string and make this conversion given a number of rows:\n",
    "string convert(string s, int numRows);"
   ]
  },
  {
   "cell_type": "code",
   "execution_count": null,
   "metadata": {},
   "outputs": [],
   "source": [
    "class Solution:\n",
    "    def convert(self, s: str, numRows: int) -> str:\n",
    "        "
   ]
  },
  {
   "cell_type": "markdown",
   "metadata": {},
   "source": [
    "# Examples"
   ]
  },
  {
   "cell_type": "code",
   "execution_count": null,
   "metadata": {},
   "outputs": [],
   "source": [
    "Example 1:\n",
    "Input: s = \"PAYPALISHIRING\", numRows = 3\n",
    "Output: \"PAHNAPLSIIGYIR\"\n",
    "\n",
    "\n",
    "Example 2:\n",
    "Input: s = \"PAYPALISHIRING\", numRows = 4\n",
    "Output: \"PINALSIGYAHRPI\"\n",
    "Explanation:\n",
    "\n",
    "P     I    N\n",
    "A   L S  I G\n",
    "Y A   H R\n",
    "P     I"
   ]
  },
  {
   "cell_type": "markdown",
   "metadata": {},
   "source": [
    "# My Algorithm"
   ]
  },
  {
   "cell_type": "code",
   "execution_count": 60,
   "metadata": {},
   "outputs": [],
   "source": [
    "def convert(s: str, numRows: int) -> str:\n",
    "    lenStr = len(s)\n",
    "    nextStep = 1 if numRows==1 else (2*numRows-2)\n",
    "    ans=''\n",
    "    for row in range(numRows):\n",
    "        step =row\n",
    "        while(step< lenStr):\n",
    "            ans+=s[step]\n",
    "            step+=nextStep\n",
    "            if row > 0 and step-row*2 < lenStr and row != numRows-1:\n",
    "                ans+=s[step-row*2]\n",
    "    return ans\n"
   ]
  },
  {
   "cell_type": "markdown",
   "metadata": {},
   "source": [
    "# Alternative algorithms"
   ]
  },
  {
   "cell_type": "code",
   "execution_count": 93,
   "metadata": {},
   "outputs": [],
   "source": [
    "def convert(s: str, numRows: int) -> str:\n",
    "    if numRows<2: return s\n",
    "    ans=['']*numRows\n",
    "    row = 0\n",
    "    nextStep = -1\n",
    "    for idx in range(len(s)):\n",
    "        ans[row] += s[idx]\n",
    "        if row==0 or row == numRows-1:\n",
    "            nextStep *=-1\n",
    "        row += nextStep        \n",
    "    return ''.join(ans)\n"
   ]
  },
  {
   "cell_type": "markdown",
   "metadata": {},
   "source": [
    "# Sample Input and Test"
   ]
  },
  {
   "cell_type": "code",
   "execution_count": 94,
   "metadata": {},
   "outputs": [
    {
     "output_type": "stream",
     "name": "stdout",
     "text": "' PAHNAPLSIIGYIR '\n' PAHNAPLSIIGYIR '\n' PINALSIGYAHRPI '\n' PINALSIGYAHRPI '\n"
    }
   ],
   "source": [
    "s = \"PAYPALISHIRING\"\n",
    "numRows = 3\n",
    "Output= \"PAHNAPLSIIGYIR\"\n",
    "print('\\'',Output, '\\'')\n",
    "res = convert(s, numRows)\n",
    "print('\\'',res, '\\'')\n",
    "\n",
    "\n",
    "s = \"PAYPALISHIRING\"\n",
    "numRows = 4\n",
    "Output= \"PINALSIGYAHRPI\"\n",
    "print('\\'',Output, '\\'')\n",
    "res = convert(s, numRows)\n",
    "print('\\'',res, '\\'')\n"
   ]
  },
  {
   "cell_type": "code",
   "execution_count": 95,
   "metadata": {},
   "outputs": [
    {
     "output_type": "stream",
     "name": "stdout",
     "text": "' A '\n' A '\n' AB '\n' AB '\n"
    }
   ],
   "source": [
    "s = \"A\"\n",
    "numRows = 1\n",
    "Output= \"A\"\n",
    "print('\\'',Output, '\\'')\n",
    "res = convert(s, numRows)\n",
    "print('\\'',res, '\\'')\n",
    "\n",
    "s = \"AB\"\n",
    "numRows = 1\n",
    "Output= \"AB\"\n",
    "print('\\'',Output, '\\'')\n",
    "res = convert(s, numRows)\n",
    "print('\\'',res, '\\'')\n"
   ]
  }
 ],
 "metadata": {
  "kernelspec": {
   "display_name": "Python 3",
   "language": "python",
   "name": "python3"
  },
  "language_info": {
   "codemirror_mode": {
    "name": "ipython",
    "version": 3
   },
   "file_extension": ".py",
   "mimetype": "text/x-python",
   "name": "python",
   "nbconvert_exporter": "python",
   "pygments_lexer": "ipython3",
   "version": "3.7.5-final"
  }
 },
 "nbformat": 4,
 "nbformat_minor": 2
}