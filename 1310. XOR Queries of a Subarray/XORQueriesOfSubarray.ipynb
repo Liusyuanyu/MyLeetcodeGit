{
 "cells": [
  {
   "cell_type": "markdown",
   "metadata": {},
   "source": [
    "# Problem"
   ],
   "execution_count": null,
   "outputs": []
  },
  {
   "cell_type": "code",
   "execution_count": null,
   "metadata": {},
   "outputs": [],
   "source": [
    "class Solution:\n",
    "    def xorQueries(self, arr: List[int], queries: List[List[int]]) -> List[int]:\n",
    "        "
   ]
  },
  {
   "cell_type": "code",
   "execution_count": null,
   "metadata": {},
   "outputs": [],
   "source": [
    "Given the array arr of positive integers and the array queries where queries[i] = [Li, Ri], for each query i compute the XOR of elements from Li to Ri (that is, arr[Li] xor arr[Li+1] xor ... xor arr[Ri] ). Return an array containing the result for the given queries. "
   ]
  },
  {
   "cell_type": "code",
   "execution_count": null,
   "metadata": {},
   "outputs": [],
   "source": [
    "Example 1:\n",
    "Input: arr = [1,3,4,8], queries = [[0,1],[1,2],[0,3],[3,3]]\n",
    "Output: [2,7,14,8] \n",
    "Explanation: \n",
    "The binary representation of the elements in the array are:\n",
    "1 = 0001 \n",
    "3 = 0011 \n",
    "4 = 0100 \n",
    "8 = 1000 \n",
    "The XOR values for queries are:\n",
    "[0,1] = 1 xor 3 = 2 \n",
    "[1,2] = 3 xor 4 = 7 \n",
    "[0,3] = 1 xor 3 xor 4 xor 8 = 14 \n",
    "[3,3] = 8\n",
    "\n",
    "Example 2:\n",
    "Input: arr = [4,8,2,10], queries = [[2,3],[1,3],[0,0],[0,3]]\n",
    "Output: [8,0,4,4]"
   ]
  },
  {
   "cell_type": "markdown",
   "metadata": {},
   "source": [
    "# Algorithm"
   ],
   "execution_count": null,
   "outputs": []
  },
  {
   "cell_type": "code",
   "execution_count": null,
   "metadata": {},
   "outputs": [],
   "source": [
    "def xorQueries(arr: [int], queries: [[int]]) -> [int]:\n",
    "    result =[]\n",
    "    for ran in queries:\n",
    "        first = arr[ran[0]]\n",
    "        for x in range(ran[0]+1,ran[1]+1): first^=arr[x]\n",
    "        result.append(first)\n",
    "    return result\n",
    "### Too slow"
   ]
  },
  {
   "cell_type": "markdown",
   "execution_count": null,
   "metadata": {},
   "outputs": [],
   "source": [
    "===========================================================================================\n",
    "#### Improve\n",
    "==========================================================================================="
   ]
  },
  {
   "cell_type": "code",
   "execution_count": null,
   "metadata": {},
   "outputs": [],
   "source": [
    "def xorQueries(arr: [int], queries: [[int]]) -> [int]:\n",
    "    xors = [0]*(len(arr)+1)\n",
    "    for ind in range(1,len(xors)):\n",
    "        xors[ind] = xors[ind-1]^arr[ind-1] \n",
    "    print(xors)\n",
    "    result =[]\n",
    "    for ran in queries:\n",
    "        result.append( xors[ran[0]]^xors[ran[1]+1] )\n",
    "    return result"
   ]
  },
  {
   "cell_type": "markdown",
   "metadata": {},
   "source": [
    "# Better: Reduce tirval steps"
   ],
   "execution_count": null,
   "outputs": []
  },
  {
   "cell_type": "code",
   "execution_count": null,
   "metadata": {},
   "outputs": [],
   "source": [
    "def xorQueries(arr: [int], queries: [[int]]) -> [int]:\n",
    "    xors = [0]\n",
    "    val = 0\n",
    "    for arr_val in arr:\n",
    "        val ^= arr_val\n",
    "        xors.append(val) \n",
    "\n",
    "    return [  xors[f1]^xors[s2+1] for f1, s2 in queries  ]"
   ]
  },
  {
   "cell_type": "markdown",
   "metadata": {},
   "source": [
    "# Best : Using itertool"
   ],
   "execution_count": null,
   "outputs": []
  },
  {
   "cell_type": "code",
   "execution_count": null,
   "metadata": {},
   "outputs": [],
   "source": [
    "import operator\n",
    "import itertools\n",
    "\n",
    "def xorQueries(arr: [int], queries: [[int]]) -> [int]:\n",
    "    ors= [0]\n",
    "    xors += list(itertools.accumulate(arr,func=operator.xorx ) )  \n",
    "    return [  xors[f1]^xors[s2+1] for f1, s2 in queries  ]"
   ]
  },
  {
   "cell_type": "markdown",
   "execution_count": null,
   "metadata": {},
   "outputs": [],
   "source": [
    "## Test"
   ]
  },
  {
   "cell_type": "code",
   "execution_count": null,
   "metadata": {},
   "outputs": [],
   "source": [
    "arr = [1,3,4,8]\n",
    "queries = [[0,1],[1,2],[0,3],[3,3]]\n",
    "# Output: [2,7,14,8] \n",
    "\n",
    "xorQueries(arr, queries)"
   ]
  }
 ],
 "metadata": {
  "kernelspec": {
   "display_name": "Python 3",
   "language": "python",
   "name": "python3"
  },
  "language_info": {
   "codemirror_mode": {
    "name": "ipython",
    "version": 3
   },
   "file_extension": ".py",
   "mimetype": "text/x-python",
   "name": "python",
   "nbconvert_exporter": "python",
   "pygments_lexer": "ipython3",
   "version": "3.7.5-final"
  }
 },
 "nbformat": 4,
 "nbformat_minor": 2
}