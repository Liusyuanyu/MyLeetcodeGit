{
 "cells": [
  {
   "cell_type": "code",
   "execution_count": null,
   "metadata": {},
   "outputs": [],
   "source": [
    "# Definition for a binary tree node.\n",
    "class TreeNode:\n",
    "    def __init__(self, xT):\n",
    "        self.val = x\n",
    "        self.left = None\n",
    "        self.right = None\n",
    "\n",
    "# class Solution:\n",
    "#     def allPossibleFBT(self, N: int) -> List[TreeNode]:\n",
    "        "
   ]
  },
  {
   "cell_type": "code",
   "execution_count": null,
   "metadata": {},
   "outputs": [],
   "source": [
    "Return any binary tree that matches the given preorder and postorder traversals.\n",
    "Values in the traversals pre and post are distinct positive integers."
   ]
  },
  {
   "cell_type": "code",
   "execution_count": null,
   "metadata": {},
   "outputs": [],
   "source": [
    "# def constructFromPrePost(pre: List[int], post: List[int]) -> TreeNode:\n",
    "def constructFromPrePost(pre, post):\n",
    "    if not pre:\n",
    "        return None\n",
    "    if not post:\n",
    "        return None\n",
    "    pass\n",
    "def buildTree(pre, post):\n",
    "    if not pre:\n",
    "        return None\n",
    "    root = TreeNode(pre[0])\n",
    "    if len(pre)==1:\n",
    "        return root\n",
    "    left_len = post.index(pre[1])+1\n",
    "\n",
    "    root.left  = buildTree(pre[1:1+left_len],post[:left_len])\n",
    "    root.right  = buildTree(pre[1+left_len:],post[left_len:-1])\n",
    "    return root"
   ]
  },
  {
   "cell_type": "code",
   "execution_count": null,
   "metadata": {},
   "outputs": [],
   "source": [
    "# Input: pre = [1,2,4,5,3,6,7], post = [4,5,2,6,7,3,1]\n",
    "# Output: [1,2,3,4,5,6,7]\n",
    "\n",
    "pre = [1,2,4,5,3,6,7]\n",
    "post = [4,5,2,6,7,3,1]\n",
    "\n",
    "pre = [1,2,5,3,6,7]\n",
    "post = [5,2,6,7,3,1]\n",
    "\n",
    "\n",
    "tree = buildTree(pre,post)\n",
    "printLevelOrder(tree)"
   ]
  },
  {
   "cell_type": "markdown",
   "execution_count": null,
   "metadata": {},
   "outputs": [],
   "source": [
    "# Print coding"
   ]
  },
  {
   "cell_type": "code",
   "execution_count": null,
   "metadata": {},
   "outputs": [],
   "source": [
    "# Function to print level order traversal of tree \n",
    "def printLevelOrder(root): \n",
    "    h = height(root) \n",
    "    for i in range(1, h+1): \n",
    "        printGivenLevel(root, i) \n",
    "\n",
    "\n",
    "# Print nodes at a given level \n",
    "def printGivenLevel(root , level): \n",
    "    if root is None: \n",
    "        print( \"null, \", end='')\n",
    "        return\n",
    "    if level == 1: \n",
    "        print( \"%d , \" %(root.val), end='')\n",
    "    elif level > 1 : \n",
    "        printGivenLevel(root.left , level-1) \n",
    "        printGivenLevel(root.right , level-1) \n",
    "\n",
    "\n",
    "\"\"\" Compute the height of a tree--the number of nodes \n",
    "    along the longest path from the root node down to \n",
    "    the farthest leaf node \n",
    "\"\"\"\n",
    "def height(node): \n",
    "    if node is None: \n",
    "        return 0\n",
    "    else : \n",
    "        # Compute the height of each subtree \n",
    "        lheight = height(node.left) \n",
    "        rheight = height(node.right) \n",
    "\n",
    "        #Use the larger one \n",
    "        if lheight > rheight : \n",
    "            return lheight+1\n",
    "        else: \n",
    "            return rheight+1"
   ]
  }
 ],
 "metadata": {
  "kernelspec": {
   "display_name": "Python 3",
   "language": "python",
   "name": "python3"
  },
  "language_info": {
   "codemirror_mode": {
    "name": "ipython",
    "version": 3
   },
   "file_extension": ".py",
   "mimetype": "text/x-python",
   "name": "python",
   "nbconvert_exporter": "python",
   "pygments_lexer": "ipython3",
   "version": "3.7.5-final"
  }
 },
 "nbformat": 4,
 "nbformat_minor": 2
}