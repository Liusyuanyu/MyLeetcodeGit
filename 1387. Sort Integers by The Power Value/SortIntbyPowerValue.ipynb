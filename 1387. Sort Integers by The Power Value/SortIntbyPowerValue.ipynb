{
 "nbformat": 4,
 "nbformat_minor": 2,
 "metadata": {
  "language_info": {
   "name": "python",
   "codemirror_mode": {
    "name": "ipython",
    "version": 3
   },
   "version": "3.7.5-final"
  },
  "orig_nbformat": 2,
  "file_extension": ".py",
  "mimetype": "text/x-python",
  "name": "python",
  "npconvert_exporter": "python",
  "pygments_lexer": "ipython3",
  "version": 3,
  "kernelspec": {
   "name": "python37164bitbasecondaac1a5e7daed444628f4977c32469be72",
   "display_name": "Python 3.7.1 64-bit ('base': conda)"
  }
 },
 "cells": [
  {
   "cell_type": "markdown",
   "execution_count": null,
   "metadata": {},
   "outputs": [],
   "source": [
    "## Probelm"
   ]
  },
  {
   "cell_type": "code",
   "execution_count": null,
   "metadata": {},
   "outputs": [],
   "source": [
    "The power of an integer x is defined as the number of steps needed to transform x into 1 using the following steps:\n",
    "if x is even then x = x / 2\n",
    "if x is odd then x = 3 * x + 1\n",
    "For example, the power of x = 3 is 7 because 3 needs 7 steps to become 1 (3 --> 10 --> 5 --> 16 --> 8 --> 4 --> 2 --> 1).\n",
    "Given three integers lo, hi and k. The task is to sort all integers in the interval [lo, hi] by the power value in ascending order, if two or more integers have the same power value sort them by ascending order.\n",
    "Return the k-th integer in the range [lo, hi] sorted by the power value.\n",
    "Notice that for any integer x (lo <= x <= hi) it is guaranteed that x will transform into 1 using these steps and that the power of x is will fit in 32 bit signed integer."
   ]
  },
  {
   "cell_type": "markdown",
   "metadata": {},
   "source": [
    "## Examples"
   ],
   "execution_count": null,
   "outputs": []
  },
  {
   "cell_type": "code",
   "execution_count": null,
   "metadata": {},
   "outputs": [],
   "source": [
    "Example 1:\n",
    "Input: lo = 12, hi = 15, k = 2\n",
    "Output: 13\n",
    "Explanation: The power of 12 is 9 (12 --> 6 --> 3 --> 10 --> 5 --> 16 --> 8 --> 4 --> 2 --> 1)\n",
    "The power of 13 is 9\n",
    "The power of 14 is 17\n",
    "The power of 15 is 17\n",
    "The interval sorted by the power value [12,13,14,15]. For k = 2 answer is the second element which is 13.\n",
    "Notice that 12 and 13 have the same power value and we sorted them in ascending order. Same for 14 and 15."
   ]
  },
  {
   "cell_type": "code",
   "execution_count": null,
   "metadata": {},
   "outputs": [],
   "source": [
    "class Solution:\n",
    "    def getKth(self, lo: int, hi: int, k: int) -> int:\n",
    "        "
   ]
  },
  {
   "cell_type": "markdown",
   "metadata": {},
   "source": [
    "## My Algoritm"
   ],
   "execution_count": null,
   "outputs": []
  },
  {
   "cell_type": "code",
   "execution_count": null,
   "metadata": {},
   "outputs": [],
   "source": [
    "def getKth(lo: int, hi: int, k: int) -> int:\n",
    "    result = []\n",
    "    for num in range(lo, hi+1):\n",
    "        power = 0\n",
    "        key = num\n",
    "        while(num!=1):\n",
    "            if num & 1:\n",
    "                num = num*3+1\n",
    "            else:\n",
    "                num = num//2\n",
    "            power +=1\n",
    "        result+=[(power, key)]\n",
    "    result.sort()\n",
    "    return result[k-1][1]"
   ]
  },
  {
   "cell_type": "markdown",
   "execution_count": null,
   "metadata": {},
   "outputs": [],
   "source": [
    "### Improve version"
   ]
  },
  {
   "cell_type": "code",
   "execution_count": null,
   "metadata": {},
   "outputs": [],
   "source": [
    "class Solution:\n",
    "    processed = {}\n",
    "    def getKth(self, lo: int, hi: int, k: int) -> int:\n",
    "        result = list(range(lo,hi+1))\n",
    "        result.sort(key=self.getPower)\n",
    "        print('processed: ', self.processed)\n",
    "        print(result)\n",
    "        return result[k-1]\n",
    "    def getPower(self, num):\n",
    "        key= num\n",
    "        power=0\n",
    "        step_num = []\n",
    "        while num !=1:\n",
    "            step_num +=[num]\n",
    "            if num in self.processed:\n",
    "                power +=  self.processed[num]\n",
    "                break\n",
    "                # return self.processed[num]\n",
    "            if num & 1:\n",
    "                num = num*3+1\n",
    "            else:\n",
    "                num = num//2\n",
    "            power +=1\n",
    "        step_power = power\n",
    "        for num in step_num:\n",
    "            self.processed.update({num:step_power})\n",
    "            step_power-=1\n",
    "        return power"
   ]
  },
  {
   "cell_type": "markdown",
   "metadata": {},
   "source": [
    "# Examples"
   ],
   "execution_count": null,
   "outputs": []
  },
  {
   "cell_type": "code",
   "execution_count": null,
   "metadata": {},
   "outputs": [],
   "source": [
    "Input: lo = 1, hi = 1, k = 1\n",
    "Output: 1\n",
    "\n",
    "Input: lo = 12, hi = 15, k = 2\n",
    "Output: 13\n",
    "\n",
    "Input: lo = 7, hi = 11, k = 4\n",
    "Output: 7"
   ]
  },
  {
   "cell_type": "markdown",
   "execution_count": null,
   "metadata": {},
   "outputs": [],
   "source": [
    "## Test"
   ]
  },
  {
   "cell_type": "code",
   "execution_count": null,
   "metadata": {},
   "outputs": [],
   "source": [
    "# getKth(1,1,1)\n",
    "# getKth(12,15,2)\n",
    "# getKth(7,11,4)\n",
    "\n",
    "sol = Solution()\n",
    "\n",
    "sol.getKth(1,1,1)\n",
    "# sol.getKth(12,15,2)\n",
    "# sol.getKth(7,11,4)\n",
    ""
   ]
  }
 ]
}