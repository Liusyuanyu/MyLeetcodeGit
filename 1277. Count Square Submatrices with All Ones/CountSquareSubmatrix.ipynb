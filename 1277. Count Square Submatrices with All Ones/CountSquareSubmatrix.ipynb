{
 "cells": [
  {
   "cell_type": "markdown",
   "execution_count": null,
   "metadata": {},
   "outputs": [],
   "source": [
    "Given a m * n matrix of ones and zeros, return how many square submatrices have all ones.\n",
    " \n",
    "Example 1:\n",
    "Input: matrix =\n",
    "[\n",
    "  [0,1,1,1],\n",
    "  [1,1,1,1],\n",
    "  [0,1,1,1]\n",
    "]\n",
    "Output: 15\n",
    "Explanation: \n",
    "There are 10 squares of side 1.\n",
    "There are 4 squares of side 2.\n",
    "There is  1 square of side 3.\n",
    "Total number of squares = 10 + 4 + 1 = 15."
   ]
  },
  {
   "cell_type": "code",
   "execution_count": null,
   "metadata": {},
   "outputs": [],
   "source": [
    "# class Solution:\n",
    "#     def countSquares(self, matrix: List[List[int]]) -> int:\n",
    "        "
   ]
  },
  {
   "cell_type": "markdown",
   "execution_count": null,
   "metadata": {},
   "outputs": [],
   "source": [
    "## First (According to CSDN)"
   ]
  },
  {
   "cell_type": "code",
   "execution_count": null,
   "metadata": {},
   "outputs": [],
   "source": [
    "def countSquares(matrix):\n",
    "    dp_mat = matrix.copy()\n",
    "    rows = len(dp_mat)    \n",
    "    cols = len(dp_mat[0])\n",
    "\n",
    "    for row in range(1, rows):\n",
    "        for col in range(1, cols):\n",
    "               dp_mat[row][col] *=( min(dp_mat[row-1][col-1], dp_mat[row-1][col], dp_mat[row][col-1]) + 1)\n",
    "    return sum(map(sum,matrix)) "
   ]
  },
  {
   "cell_type": "markdown",
   "execution_count": null,
   "metadata": {},
   "outputs": [],
   "source": [
    "===========================================================================================\n",
    "#### Split line\n",
    "==========================================================================================="
   ]
  },
  {
   "cell_type": "markdown",
   "execution_count": null,
   "metadata": {},
   "outputs": [],
   "source": [
    "## Improved algorithm "
   ]
  },
  {
   "cell_type": "code",
   "execution_count": null,
   "metadata": {},
   "outputs": [],
   "source": [
    "def countSquares(matrix):\n",
    "    dp_mat = matrix.copy()\n",
    "    rows = len(dp_mat)    \n",
    "    cols = len(dp_mat[0])\n",
    "\n",
    "    for row in range(1, rows):\n",
    "        for col in range(1, cols):\n",
    "            if dp_mat[row][col] and dp_mat[row-1][col-1] and dp_mat[row-1][col] and dp_mat[row][col-1]:\n",
    "                dp_mat[row][col] += min(dp_mat[row-1][col], dp_mat[row][col-1], dp_mat[row-1][col-1])\n",
    "            #    dp_mat[row][col] =( min(dp_mat[row-1][col-1], dp_mat[row-1][col], dp_mat[row][col-1]) + 1)\n",
    "            #    dp_mat[row][col] +=min(dp_mat[row-1][col-1], dp_mat[row-1][col], dp_mat[row][col-1])\n",
    "\n",
    "    return sum(map(sum,dp_mat))"
   ]
  },
  {
   "cell_type": "markdown",
   "execution_count": null,
   "metadata": {},
   "outputs": [],
   "source": [
    "## Temp code"
   ]
  },
  {
   "cell_type": "code",
   "execution_count": null,
   "metadata": {},
   "outputs": [],
   "source": [
    "# matrix =[ [0,1,1,1],[1,1,1,1],[0,1,1,1]]\n",
    "matrix =[[0,0,0],[0,1,0],[0,1,0],[1,1,1],[1,1,0]]\n",
    "\n",
    "countSquares(matrix)\n",
    "\n",
    "# sum(map(sum,matrix))\n",
    "# map(sum,matrix)."
   ]
  }
 ],
 "metadata": {
  "kernelspec": {
   "display_name": "Python 3",
   "language": "python",
   "name": "python3"
  },
  "language_info": {
   "codemirror_mode": {
    "name": "ipython",
    "version": 3
   },
   "file_extension": ".py",
   "mimetype": "text/x-python",
   "name": "python",
   "nbconvert_exporter": "python",
   "pygments_lexer": "ipython3",
   "version": "3.7.1-final"
  }
 },
 "nbformat": 4,
 "nbformat_minor": 2
}