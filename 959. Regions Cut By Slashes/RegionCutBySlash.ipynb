{
 "cells": [
  {
   "cell_type": "code",
   "execution_count": null,
   "metadata": {},
   "outputs": [],
   "source": [
    "class Solution:\n",
    "    def regionsBySlashes(self, grid: List[str]) -> int:\n",
    "        "
   ]
  },
  {
   "cell_type": "code",
   "execution_count": null,
   "metadata": {},
   "outputs": [],
   "source": [
    "In a N x N grid composed of 1 x 1 squares, each 1 x 1 square consists of a /, \\, or blank space.  These characters divide the square into contiguous regions.\n",
    "(Note that backslash characters are escaped, so a \\ is represented as \"\\\\\".)\n",
    "Return the number of regions."
   ]
  },
  {
   "cell_type": "code",
   "execution_count": null,
   "metadata": {},
   "outputs": [],
   "source": [
    "Input:\n",
    "[\n",
    "  \" /\",\n",
    "  \"/ \"\n",
    "]\n",
    "Output: 2\n",
    "Explanation: The 2x2 grid is as follows:\n"
   ]
  },
  {
   "cell_type": "markdown",
   "execution_count": null,
   "metadata": {},
   "outputs": [],
   "source": [
    "## My algorithm (According to Euler's formula)\n",
    "## V - E + F = C +1 ==> F - 1 = E-V+C\n",
    "\n",
    "Not use"
   ]
  },
  {
   "cell_type": "code",
   "execution_count": null,
   "metadata": {},
   "outputs": [],
   "source": [
    "class Solution:\n",
    "    # parent_index = [-1]\n",
    "\n",
    "    def regionsBySlashes(self, grid: [str]) -> int:\n",
    "        n = len(grid)\n",
    "        self.parent_index = list(range(4*n*n))\n",
    "        for row, slashes in enumerate(grid):\n",
    "            for col, a_slash in enumerate(slashes):\n",
    "                # print('a_slash: ', a_slash)\n",
    "                print('Before: ', self.parent_index)\n",
    "                index = (row*n+col)*4\n",
    "                if a_slash ==' ':\n",
    "                    self.mergearea(index, index+1)\n",
    "                    self.mergearea(index+1, index+2)\n",
    "                    self.mergearea(index+2, index+3)\n",
    "                elif a_slash == '/':        \n",
    "                    # print('Before: ', self.parent_index)\n",
    "                    self.mergearea(index, index+3)\n",
    "                    self.mergearea(index+1, index+2)\n",
    "                    # print('After: ', self.parent_index)\n",
    "                else: # \\\\\n",
    "                    self.mergearea(index, index+1)\n",
    "                    self.mergearea(index+2, index+3)\n",
    "\n",
    "                if col !=0:\n",
    "                    self.mergearea(index-4+2, index)\n",
    "                if row !=0:\n",
    "                    self.mergearea(index-4*n+1, index+3)\n",
    "\n",
    "                print('After: ', self.parent_index)\n",
    "        ## End of for\n",
    "\n",
    "        ans = 0\n",
    "        for ind in range(n*n*4):\n",
    "            if ind == self.findIndex(ind):\n",
    "                ans +=1\n",
    "        return ans\n",
    "\n",
    "    def mergearea(self, ind_parent, index_child):\n",
    "        self.parent_index[self.findIndex(ind_parent)] = self.findIndex(index_child)\n",
    "        # self.parent_index[self.findIndex(ind_parent)] = self.findIndex(index_child)\n",
    "\n",
    "    def findIndex(self, ind):\n",
    "        if self.parent_index[ind] != ind:\n",
    "            self.parent_index[ind] = self.findIndex(self.parent_index[ind])\n",
    "            return self.parent_index[ind]\n",
    "        return ind"
   ]
  },
  {
   "cell_type": "markdown",
   "execution_count": null,
   "metadata": {},
   "outputs": [],
   "source": [
    "## Second try"
   ]
  },
  {
   "cell_type": "code",
   "execution_count": null,
   "metadata": {},
   "outputs": [],
   "source": [
    "class Solution:\n",
    "    def regionsBySlashes(self, grid: [str]) -> int:\n",
    "        n = len(grid)\n",
    "        self.parent_index = list(range(4*n*n))\n",
    "        for row in range(n):\n",
    "            for col in range(n):\n",
    "                a_slash = grid[row][col]\n",
    "                index = (row*n+col)*4\n",
    "                if a_slash ==' ':\n",
    "                    self.mergearea(index, index+1)\n",
    "                    self.mergearea(index+1, index+2)\n",
    "                    self.mergearea(index+2, index+3)\n",
    "                elif a_slash == '/':        \n",
    "                    self.mergearea(index, index+3)\n",
    "                    self.mergearea(index+1, index+2)\n",
    "                else: # \\\\\n",
    "                    self.mergearea(index, index+1)\n",
    "                    self.mergearea(index+2, index+3)\n",
    "\n",
    "                if col !=0:\n",
    "                    self.mergearea(index-4+2, index)\n",
    "                if row !=0:\n",
    "                    self.mergearea(index-4*n+1, index+3)\n",
    "        ## End of for\n",
    "\n",
    "        ans = 0\n",
    "        for ind in range(n*n*4):\n",
    "            if ind == self.findIndex(ind):\n",
    "                ans +=1\n",
    "        return ans\n",
    "\n",
    "    def mergearea(self, ind_parent, index_child):\n",
    "        self.parent_index[self.findIndex(ind_parent)] = self.findIndex(index_child)\n",
    "\n",
    "    def findIndex(self, ind):\n",
    "        if self.parent_index[ind] != ind:\n",
    "            self.parent_index[ind] = self.findIndex(self.parent_index[ind])\n",
    "            return self.parent_index[ind]\n",
    "        return ind"
   ]
  },
  {
   "cell_type": "markdown",
   "execution_count": null,
   "metadata": {},
   "outputs": [],
   "source": [
    "# Improve"
   ]
  },
  {
   "cell_type": "markdown",
   "metadata": {},
   "source": [
    "# Test"
   ],
   "execution_count": null,
   "outputs": []
  },
  {
   "cell_type": "code",
   "execution_count": null,
   "metadata": {},
   "outputs": [],
   "source": [
    "Input = [\" /\", \"/ \" ]\n",
    "sol = Solution()\n",
    "sol.regionsBySlashes(Input)"
   ]
  }
 ],
 "metadata": {
  "kernelspec": {
   "display_name": "Python 3",
   "language": "python",
   "name": "python3"
  },
  "language_info": {
   "codemirror_mode": {
    "name": "ipython",
    "version": 3
   },
   "file_extension": ".py",
   "mimetype": "text/x-python",
   "name": "python",
   "nbconvert_exporter": "python",
   "pygments_lexer": "ipython3",
   "version": "3.7.5-final"
  }
 },
 "nbformat": 4,
 "nbformat_minor": 2
}