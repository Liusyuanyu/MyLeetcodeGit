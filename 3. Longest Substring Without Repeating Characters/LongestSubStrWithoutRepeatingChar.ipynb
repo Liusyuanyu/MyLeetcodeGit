{
 "cells": [
  {
   "cell_type": "markdown",
   "metadata": {},
   "source": [
    "# Problem"
   ]
  },
  {
   "cell_type": "code",
   "execution_count": null,
   "metadata": {},
   "outputs": [],
   "source": [
    "Given a string, find the length of the longest substring without repeating characters."
   ]
  },
  {
   "cell_type": "code",
   "execution_count": null,
   "metadata": {},
   "outputs": [],
   "source": [
    "class Solution:\n",
    "    def lengthOfLongestSubstring(self, s: str) -> int:\n",
    "        "
   ]
  },
  {
   "cell_type": "markdown",
   "metadata": {},
   "source": [
    "# Examples"
   ]
  },
  {
   "cell_type": "code",
   "execution_count": null,
   "metadata": {},
   "outputs": [],
   "source": [
    "Example 1:\n",
    "Input: \"abcabcbb\"\n",
    "Output: 3 \n",
    "Explanation: The answer is \"abc\", with the length of 3. \n",
    "\n",
    "\n",
    "Example 2:\n",
    "Input: \"bbbbb\"\n",
    "Output: 1\n",
    "Explanation: The answer is \"b\", with the length of 1.\n",
    "\n",
    "\n",
    "Example 3:\n",
    "Input: \"pwwkew\"\n",
    "Output: 3\n",
    "Explanation: The answer is \"wke\", with the length of 3. \n",
    "             Note that the answer must be a substring, \"pwke\" is a subsequence and not a substring."
   ]
  },
  {
   "cell_type": "markdown",
   "metadata": {},
   "source": [
    "# My Algorithm"
   ]
  },
  {
   "cell_type": "code",
   "execution_count": null,
   "metadata": {},
   "outputs": [],
   "source": [
    "def lengthOfLongestSubstring(s: str) -> int:\n",
    "    current_str = ''\n",
    "    ans =0\n",
    "    cur_len = 0\n",
    "    for char in s:\n",
    "        if char in current_str:\n",
    "            if ans < cur_len:\n",
    "                ans = cur_len\n",
    "            ind = current_str.index(char)\n",
    "            current_str= current_str[ind+1:]\n",
    "            cur_len = len(current_str)+1\n",
    "        else:\n",
    "            cur_len +=1\n",
    "        current_str +=char\n",
    "    return cur_len if cur_len > ans else ans\n"
   ]
  },
  {
   "cell_type": "markdown",
   "metadata": {},
   "source": [
    "# Alternative algorithms"
   ]
  },
  {
   "cell_type": "code",
   "execution_count": null,
   "metadata": {},
   "outputs": [],
   "source": [
    "def lengthOfLongestSubstring(s: str) -> int:\n",
    "    current_str = ''\n",
    "    ans =0\n",
    "    for char in s:\n",
    "        if char in current_str:\n",
    "            if ans < len(current_str):\n",
    "                ans = len(current_str)\n",
    "            ind = current_str.index(char)\n",
    "            current_str= current_str[ind+1:]\n",
    "        current_str +=char\n",
    "    return len(current_str) if len(current_str) > ans else ans\n"
   ]
  },
  {
   "cell_type": "markdown",
   "metadata": {},
   "source": [
    "# Sample Input and Test"
   ]
  },
  {
   "cell_type": "code",
   "execution_count": null,
   "metadata": {},
   "outputs": [],
   "source": [
    "Input= \"abcabcbb\"\n",
    "# Output: 3 \n",
    "lengthOfLongestSubstring(Input)\n"
   ]
  },
  {
   "cell_type": "code",
   "execution_count": null,
   "metadata": {},
   "outputs": [],
   "source": [
    "Input= \"bbbbb\"\n",
    "# Output: 1\n",
    "lengthOfLongestSubstring(Input)"
   ]
  },
  {
   "cell_type": "code",
   "execution_count": null,
   "metadata": {},
   "outputs": [],
   "source": [
    "Input= \"pwwkew\"\n",
    "# Output: 3\n",
    "lengthOfLongestSubstring(Input)\n",
    "\n",
    "Input= \"pwawckewd\"\n",
    "# Output: 5\n",
    "lengthOfLongestSubstring(Input)\n",
    "\n",
    "Input= \"pwawkexfgtwaa\"\n",
    "# Output: 8\n",
    "lengthOfLongestSubstring(Input)\n"
   ]
  }
 ],
 "metadata": {
  "kernelspec": {
   "display_name": "Python 3",
   "language": "python",
   "name": "python3"
  },
  "language_info": {
   "codemirror_mode": {
    "name": "ipython",
    "version": 3
   },
   "file_extension": ".py",
   "mimetype": "text/x-python",
   "name": "python",
   "nbconvert_exporter": "python",
   "pygments_lexer": "ipython3",
   "version": "3.7.5-final"
  }
 },
 "nbformat": 4,
 "nbformat_minor": 2
}