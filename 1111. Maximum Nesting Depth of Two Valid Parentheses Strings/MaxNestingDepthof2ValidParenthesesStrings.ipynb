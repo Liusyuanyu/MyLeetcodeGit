{
 "cells": [
  {
   "cell_type": "code",
   "execution_count": null,
   "metadata": {},
   "outputs": [],
   "source": [
    "class Solution:\n",
    "    def maxDepthAfterSplit(self, seq: str) -> List[int]:"
   ]
  },
  {
   "cell_type": "code",
   "execution_count": 41,
   "metadata": {},
   "outputs": [],
   "source": [
    "def maxDepthAfterSplit( seq: str) -> [int]:\n",
    "        res = [0] * len(seq)\n",
    "        for i, c in enumerate(seq):\n",
    "            if c == '(':\n",
    "#               print(i)\n",
    "#               print(i & 1)\n",
    "              res[i] = i & 1\n",
    "            else:\n",
    "              print(i)\n",
    "              res[i] = 1 - (i & 1)\n",
    "        return res"
   ]
  },
  {
   "cell_type": "code",
   "execution_count": 61,
   "metadata": {},
   "outputs": [],
   "source": [
    "def maxDepthAfterSplit(seq: str) -> [int]:\n",
    "    seq = list(seq)\n",
    "    for ind in range(len(seq)):\n",
    "        if seq[ind]=='(':\n",
    "            seq[ind] = 1 & ind\n",
    "        else:\n",
    "            seq[ind] = (1 & ind)^1\n",
    "    return seq\n",
    "#     return [i & 1 ^ (seq[i] == ')') for i, c in enumerate(seq)]"
   ]
  },
  {
   "cell_type": "code",
   "execution_count": 64,
   "metadata": {},
   "outputs": [
    {
     "data": {
      "text/plain": [
       "[0, 1, 1, 0, 0, 0]"
      ]
     },
     "execution_count": 64,
     "metadata": {},
     "output_type": "execute_result"
    }
   ],
   "source": [
    "# maxDepthAfterSplit(\"()\")\n",
    "maxDepthAfterSplit(\"(())()\")\n",
    "# maxDepthAfterSplit(\"()\")\n"
   ]
  }
 ],
 "metadata": {
  "kernelspec": {
   "display_name": "Python 3",
   "language": "python",
   "name": "python3"
  },
  "language_info": {
   "codemirror_mode": {
    "name": "ipython",
    "version": 3
   },
   "file_extension": ".py",
   "mimetype": "text/x-python",
   "name": "python",
   "nbconvert_exporter": "python",
   "pygments_lexer": "ipython3",
   "version": "3.7.1"
  }
 },
 "nbformat": 4,
 "nbformat_minor": 2
}
