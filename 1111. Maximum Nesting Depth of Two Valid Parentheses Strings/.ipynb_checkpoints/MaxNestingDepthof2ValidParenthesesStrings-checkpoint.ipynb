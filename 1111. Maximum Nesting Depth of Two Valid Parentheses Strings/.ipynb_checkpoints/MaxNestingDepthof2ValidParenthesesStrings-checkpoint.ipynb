{
 "cells": [
  {
   "cell_type": "code",
   "execution_count": null,
   "metadata": {},
   "outputs": [],
   "source": [
    "class Solution:\n",
    "    def maxDepthAfterSplit(self, seq: str) -> List[int]:"
   ]
  },
  {
   "cell_type": "code",
   "execution_count": 41,
   "metadata": {},
   "outputs": [],
   "source": [
    "def maxDepthAfterSplit( seq: str) -> [int]:\n",
    "        res = [0] * len(seq)\n",
    "        for i, c in enumerate(seq):\n",
    "            if c == '(':\n",
    "#               print(i)\n",
    "#               print(i & 1)\n",
    "              res[i] = i & 1\n",
    "            else:\n",
    "              print(i)\n",
    "              res[i] = 1 - (i & 1)\n",
    "        return res"
   ]
  },
  {
   "cell_type": "code",
   "execution_count": 50,
   "metadata": {},
   "outputs": [],
   "source": [
    "def maxDepthAfterSplit(seq: str) -> [int]:\n",
    "    seq = list(seq)\n",
    "    for ind in range(len(seq)):\n",
    "        if seq[ind]=='(':\n",
    "            seq[ind] = 1 & ind\n",
    "        else:\n",
    "            seq[ind] = 1- (1 & ind)\n",
    "    return seq"
   ]
  },
  {
   "cell_type": "code",
   "execution_count": 51,
   "metadata": {},
   "outputs": [
    {
     "name": "stdout",
     "output_type": "stream",
     "text": [
      "2\n",
      "0\n",
      "3\n",
      "1\n",
      "5\n",
      "1\n"
     ]
    },
    {
     "data": {
      "text/plain": [
       "[0, 1, 1, 0, 0, 0]"
      ]
     },
     "execution_count": 51,
     "metadata": {},
     "output_type": "execute_result"
    }
   ],
   "source": [
    "# maxDepthAfterSplit(\"()\")\n",
    "maxDepthAfterSplit(\"(())()\")\n",
    "# maxDepthAfterSplit(\"()\")\n"
   ]
  }
 ],
 "metadata": {
  "kernelspec": {
   "display_name": "Python 3",
   "language": "python",
   "name": "python3"
  },
  "language_info": {
   "codemirror_mode": {
    "name": "ipython",
    "version": 3
   },
   "file_extension": ".py",
   "mimetype": "text/x-python",
   "name": "python",
   "nbconvert_exporter": "python",
   "pygments_lexer": "ipython3",
   "version": "3.7.1"
  }
 },
 "nbformat": 4,
 "nbformat_minor": 2
}
