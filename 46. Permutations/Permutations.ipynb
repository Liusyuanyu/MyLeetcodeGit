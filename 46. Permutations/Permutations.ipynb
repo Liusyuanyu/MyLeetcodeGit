{
 "cells": [
  {
   "cell_type": "markdown",
   "metadata": {},
   "source": [
    "# Problem"
   ]
  },
  {
   "cell_type": "code",
   "execution_count": null,
   "metadata": {},
   "outputs": [],
   "source": [
    "Given a collection of distinct integers, return all possible permutations."
   ]
  },
  {
   "cell_type": "code",
   "execution_count": null,
   "metadata": {},
   "outputs": [],
   "source": [
    "class Solution:\n",
    "    def permute(self, nums: List[int]) -> List[List[int]]:\n",
    "        "
   ]
  },
  {
   "cell_type": "markdown",
   "metadata": {},
   "source": [
    "# Examples"
   ]
  },
  {
   "cell_type": "code",
   "execution_count": null,
   "metadata": {},
   "outputs": [],
   "source": [
    "Input: [1,2,3]\n",
    "Output:\n",
    "[\n",
    "  [1,2,3],\n",
    "  [1,3,2],\n",
    "  [2,1,3],\n",
    "  [2,3,1],\n",
    "  [3,1,2],\n",
    "  [3,2,1]\n",
    "]"
   ]
  },
  {
   "cell_type": "markdown",
   "metadata": {},
   "source": [
    "# My Algorithm"
   ]
  },
  {
   "cell_type": "code",
   "execution_count": null,
   "metadata": {},
   "outputs": [],
   "source": [
    "import itertools\n",
    "def permute(nums: [int]) -> [[int]]:\n",
    "    temp = (itertools.permutations(nums))\n",
    "    result = []\n",
    "    for res in temp:\n",
    "        result.append(list(res))\n",
    "    return result \n",
    "    # return list(itertools.permutations(nums)) "
   ]
  },
  {
   "cell_type": "markdown",
   "metadata": {},
   "source": [
    "# Alternative algorithms"
   ]
  },
  {
   "cell_type": "code",
   "execution_count": null,
   "metadata": {},
   "outputs": [],
   "source": [
    "def permute(nums: [int]) -> [[int]]:\n",
    "    if len(nums) <=1:\n",
    "        return [nums]\n",
    "    res=[]\n",
    "    for ind in range(len(nums)):\n",
    "        nonpermute = nums[:ind] + nums[ind+1:]\n",
    "        fix = nums[ind]\n",
    "        for per in permute(nonpermute):\n",
    "            res.append([fix] + per)\n",
    "    return res "
   ]
  },
  {
   "cell_type": "code",
   "execution_count": null,
   "metadata": {},
   "outputs": [],
   "source": [
    "def permute(nums: [int]) -> [[int]]:\n",
    "    def backtrack(numbers: [int]):\n",
    "        if len(numbers) <=1:\n",
    "            return [numbers]\n",
    "        res=[]\n",
    "        for ind in range(len(numbers)):\n",
    "            nonpermute = numbers[:ind] + numbers[ind+1:]\n",
    "            fix = numbers[ind]\n",
    "            for per in backtrack(nonpermute):\n",
    "                res.append([fix] + per)\n",
    "        return res\n",
    "    return backtrack(nums) "
   ]
  },
  {
   "cell_type": "markdown",
   "metadata": {},
   "source": [
    "# Sample Input and Test"
   ]
  },
  {
   "cell_type": "code",
   "execution_count": null,
   "metadata": {},
   "outputs": [],
   "source": [
    "# Input= [1,2,3]\n",
    "# # Output:\n",
    "# # [\n",
    "# #   [1,2,3],\n",
    "# #   [1,3,2],\n",
    "# #   [2,1,3],\n",
    "# #   [2,3,1],\n",
    "# #   [3,1,2],\n",
    "# #   [3,2,1]\n",
    "# # ]\n",
    "# permute(Input)\n",
    "\n",
    "\n",
    "Input= []\n",
    "permute(Input)\n",
    "\n",
    "\n",
    "# Input= [1,2,3]\n",
    "# permute(Input)\n"
   ]
  }
 ],
 "metadata": {
  "kernelspec": {
   "display_name": "Python 3",
   "language": "python",
   "name": "python3"
  },
  "language_info": {
   "codemirror_mode": {
    "name": "ipython",
    "version": 3
   },
   "file_extension": ".py",
   "mimetype": "text/x-python",
   "name": "python",
   "nbconvert_exporter": "python",
   "pygments_lexer": "ipython3",
   "version": "3.7.5-final"
  }
 },
 "nbformat": 4,
 "nbformat_minor": 2
}