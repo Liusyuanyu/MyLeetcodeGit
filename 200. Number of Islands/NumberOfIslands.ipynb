{
 "cells": [
  {
   "cell_type": "markdown",
   "metadata": {},
   "source": [
    "## Probelm"
   ]
  },
  {
   "cell_type": "code",
   "execution_count": null,
   "metadata": {},
   "outputs": [],
   "source": [
    "Given a 2d grid map of '1's (land) and '0's (water), count the number of islands. An island is surrounded by water and is formed by connecting adjacent lands horizontally or vertically. You may assume all four edges of the grid are all surrounded by water."
   ]
  },
  {
   "cell_type": "markdown",
   "metadata": {},
   "source": [
    "## Examples"
   ]
  },
  {
   "cell_type": "code",
   "execution_count": null,
   "metadata": {},
   "outputs": [],
   "source": [
    "Example 1:\n",
    "Input:\n",
    "11110\n",
    "11010\n",
    "11000\n",
    "00000\n",
    "\n",
    "Output: 1\n",
    "Example 2:\n",
    "Input:\n",
    "11000\n",
    "11000\n",
    "00100\n",
    "00011\n",
    "\n",
    "Output: 3"
   ]
  },
  {
   "cell_type": "code",
   "execution_count": null,
   "metadata": {},
   "outputs": [],
   "source": [
    "class Solution:\n",
    "    def numIslands(self, grid: List[List[str]]) -> int:\n",
    "        "
   ]
  },
  {
   "cell_type": "markdown",
   "metadata": {},
   "source": [
    "## My Algoritm"
   ]
  },
  {
   "cell_type": "code",
   "execution_count": null,
   "metadata": {},
   "outputs": [],
   "source": [
    "def numIslands(grid: [[str]]) -> int:\n",
    "    # direction=[(0,1),(0,-1),(1,0),(-1,0)]\n",
    "    rows = len(grid)\n",
    "    cols = len(grid[0])\n",
    "    count = 0\n",
    "    for row in range(rows):\n",
    "        for col in range(cols):\n",
    "            if grid[row][col]==1:\n",
    "                count +=1\n",
    "                grid = dfs(grid,row,col, rows, cols)\n",
    "    return count\n",
    "def dfs(grid,row,col, rows, cols):\n",
    "    # direction=[(0,1),(0,-1),(1,0),(-1,0)]\n",
    "    direction=[(0,1),(1,0)]\n",
    "    grid[row][col]=0\n",
    "    for dir in direction:\n",
    "        new_r = row+dir[0]\n",
    "        new_c = col+dir[1]\n",
    "        if new_r >= rows or new_c >=cols:\n",
    "            pass\n",
    "        else:\n",
    "            if grid[new_r][new_c]==1:\n",
    "                grid = dfs(grid,new_r,new_c, rows, cols)\n",
    "                # print(grid)\n",
    "    return grid"
   ]
  },
  {
   "cell_type": "code",
   "execution_count": null,
   "metadata": {},
   "outputs": [],
   "source": [
    "class Solution:\n",
    "    direction=[(0,1),(1,0),(0,-1),(-1,0)]\n",
    "    def numIslands(self, grid: [[str]]) -> int:\n",
    "    # def numIslands(self, grid: [[int]]) -> int:\n",
    "        self.grid = grid\n",
    "        self.rows = len(grid)\n",
    "        if self.rows==1:\n",
    "            self.cols = 1\n",
    "        elif self.rows == 0:\n",
    "            return 0\n",
    "        self.cols = len(grid[0])\n",
    "        count = 0\n",
    "        for row in range(self.rows):\n",
    "            for col in range(self.cols):\n",
    "                if self.grid[row][col]=='1':\n",
    "                    count +=1\n",
    "                    self.dfs(row, col)\n",
    "        return count\n",
    "    \n",
    "    def dfs(self, row, col):\n",
    "        self.grid[row][col]='0'\n",
    "        print('Row : ', row, '  Col : ', col)\n",
    "        print(self.grid)\n",
    "        for dir in self.direction:\n",
    "            new_r = row+dir[0]\n",
    "            new_c = col+dir[1]\n",
    "            if new_r >= self.rows or new_c >=self.cols or new_r < 0 or new_c < 0:\n",
    "                pass\n",
    "            else:\n",
    "                if self.grid[new_r][new_c]=='1':\n",
    "                    self.dfs(new_r, new_c)"
   ]
  },
  {
   "cell_type": "markdown",
   "metadata": {},
   "source": [
    "# Improve"
   ]
  },
  {
   "cell_type": "code",
   "execution_count": null,
   "metadata": {},
   "outputs": [],
   "source": [
    "class Solution:\n",
    "    def numIslands(self, grid: [[str]]) -> int:\n",
    "        direction=[(0,1),(1,0),(0,-1),(-1,0)]\n",
    "        def dfs(row, col):\n",
    "            grid[row][col]='0'\n",
    "            for dir in direction:\n",
    "                new_r = row+dir[0]\n",
    "                new_c = col+dir[1]\n",
    "                if new_r >= rows or new_c >=cols or new_r < 0 or new_c < 0:\n",
    "                    pass\n",
    "                else:\n",
    "                    if grid[new_r][new_c]=='1':\n",
    "                        dfs(new_r, new_c)\n",
    "\n",
    "        rows = len(grid)\n",
    "        count = 0\n",
    "        for row in range(rows):\n",
    "            cols = len(grid[0])\n",
    "            for col in range(cols):\n",
    "                if grid[row][col]=='1':\n",
    "                    count +=1\n",
    "                    dfs(row, col)\n",
    "        return count"
   ]
  },
  {
   "cell_type": "markdown",
   "metadata": {},
   "source": [
    "## Test"
   ]
  },
  {
   "cell_type": "code",
   "execution_count": null,
   "metadata": {},
   "outputs": [],
   "source": [
    "sol = Solution()\n",
    "\n",
    "input = [['1','1','1','1','0'],['1','1','0','1','0'],['1','1','0','0','0'],['0','0','0','0','0']]\n",
    "# input = []\n",
    "# input = [[\"1\"]]\n",
    "# output = 1\n",
    "sol.numIslands(input)\n",
    "\n",
    "\n",
    "# input = [[\"1\",\"1\",\"1\"],[\"0\",\"1\",\"0\"],[\"1\",\"1\",\"1\"]]\n",
    "# # output = 1\n",
    "# sol.numIslands(input)\n",
    "\n",
    "# input = [[\"1\",\"0\",\"1\",\"1\",\"0\",\"1\",\"1\"]]\n",
    "# sol.numIslands(input)\n",
    "# # output = 3\n",
    "\n",
    "\n",
    "# input = [[\"1\",\"0\",\"1\",\"1\",\"1\"],[\"1\",\"0\",\"1\",\"0\",\"1\"],[\"1\",\"1\",\"1\",\"0\",\"1\"]]\n",
    "# sol.numIslands(input)\n",
    "# # output = 1\n"
   ]
  }
 ],
 "metadata": {
  "language_info": {
   "name": "python",
   "codemirror_mode": {
    "name": "ipython",
    "version": 3
   },
   "version": "3.7.5-final"
  },
  "orig_nbformat": 2,
  "file_extension": ".py",
  "mimetype": "text/x-python",
  "name": "python",
  "npconvert_exporter": "python",
  "pygments_lexer": "ipython3",
  "version": 3,
  "kernelspec": {
   "name": "python3",
   "display_name": "Python 3"
  }
 },
 "nbformat": 4,
 "nbformat_minor": 2
}