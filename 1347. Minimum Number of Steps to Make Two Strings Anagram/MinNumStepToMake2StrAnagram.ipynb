{
 "nbformat": 4,
 "nbformat_minor": 2,
 "metadata": {
  "language_info": {
   "name": "python",
   "codemirror_mode": {
    "name": "ipython",
    "version": 3
   },
   "version": "3.7.5-final"
  },
  "orig_nbformat": 2,
  "file_extension": ".py",
  "mimetype": "text/x-python",
  "name": "python",
  "npconvert_exporter": "python",
  "pygments_lexer": "ipython3",
  "version": 3,
  "kernelspec": {
   "name": "python37164bitbasecondaac1a5e7daed444628f4977c32469be72",
   "display_name": "Python 3.7.1 64-bit ('base': conda)"
  }
 },
 "cells": [
  {
   "cell_type": "markdown",
   "execution_count": null,
   "metadata": {},
   "outputs": [],
   "source": [
    "## Probelm"
   ]
  },
  {
   "cell_type": "code",
   "execution_count": null,
   "metadata": {},
   "outputs": [],
   "source": [
    "# class Solution:\n",
    "#     def minSteps(self, s: str, t: str) -> int:\n",
    "        "
   ]
  },
  {
   "cell_type": "code",
   "execution_count": null,
   "metadata": {},
   "outputs": [],
   "source": [
    "Given two equal-size strings s and t. In one step you can choose any character of t and replace it with another character.\n",
    "Return the minimum number of steps to make t an anagram of s.\n",
    "An Anagram of a string is a string that contains the same characters with a different (or the same) ordering."
   ]
  },
  {
   "cell_type": "markdown",
   "metadata": {},
   "source": [
    "# Constraints"
   ],
   "execution_count": null,
   "outputs": []
  },
  {
   "cell_type": "code",
   "execution_count": null,
   "metadata": {},
   "outputs": [],
   "source": [
    "Example 1:\n",
    "Input: s = \"bab\", t = \"aba\"\n",
    "Output: 1\n",
    "Explanation: Replace the first 'a' in t with b, t = \"bba\" which is anagram of s.\n",
    "Example 2:\n",
    "Input: s = \"leetcode\", t = \"practice\"\n",
    "Output: 5\n",
    "Explanation: Replace 'p', 'r', 'a', 'i' and 'c' from t with proper characters to make t anagram of s.\n",
    "Example 3:\n",
    "Input: s = \"anagram\", t = \"mangaar\"\n",
    "Output: 0\n",
    "Explanation: \"anagram\" and \"mangaar\" are anagrams. \n",
    "Example 4:\n",
    "Input: s = \"xxyyzz\", t = \"xxyyzz\"\n",
    "Output: 0\n",
    "Example 5:\n",
    "Input: s = \"friend\", t = \"family\"\n",
    "Output: 4\n",
    " \n",
    "Constraints:\n",
    "1 <= s.length <= 50000\n",
    "s.length == t.length\n",
    "s and t contain lower-case English letters only."
   ]
  },
  {
   "cell_type": "markdown",
   "metadata": {},
   "source": [
    "## My algorithm"
   ],
   "execution_count": null,
   "outputs": []
  },
  {
   "cell_type": "code",
   "execution_count": null,
   "metadata": {},
   "outputs": [],
   "source": [
    "def minSteps(s: str, t: str) -> int:\n",
    "    correct = 0\n",
    "    for ch in set(s):\n",
    "        correct += min(s.count(ch), t.count(ch))\n",
    "    return len(s) - correct"
   ]
  },
  {
   "cell_type": "code",
   "execution_count": null,
   "metadata": {},
   "outputs": [],
   "source": [
    "# s = \"bab\"\n",
    "# t = \"aba\"\n",
    "# # Output: 1\n",
    "\n",
    "# s = \"leetcode\"\n",
    "# t = \"practice\"\n",
    "# # Output: 5\n",
    "\n",
    "\n",
    "s = \"anagram\"\n",
    "t = \"mangaar\"\n",
    "# Output: 0\n",
    "\n",
    "\n",
    "minSteps(s,t)"
   ]
  }
 ]
}