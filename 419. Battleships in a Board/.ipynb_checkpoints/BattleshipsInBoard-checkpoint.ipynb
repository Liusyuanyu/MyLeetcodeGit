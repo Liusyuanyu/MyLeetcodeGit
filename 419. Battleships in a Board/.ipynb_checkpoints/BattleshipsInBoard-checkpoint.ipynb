{
 "cells": [
  {
   "cell_type": "code",
   "execution_count": null,
   "metadata": {},
   "outputs": [],
   "source": [
    "class Solution:\n",
    "    def countBattleships(self, board: List[List[str]]) -> int:"
   ]
  },
  {
   "cell_type": "code",
   "execution_count": 58,
   "metadata": {},
   "outputs": [],
   "source": [
    "from typing import List\n",
    "\n",
    "def countBattleships(board: List[List[str]]) -> int:\n",
    "    ships=0\n",
    "    for y_ind in range(len(board)):\n",
    "        for x_ind in range(len(board[y_ind])):\n",
    "            if(board[y_ind][x_ind] == 'X')&(x_ind==0 or (board[y_ind][x_ind-1]=='.'))  & (y_ind==0 or  (board[y_ind-1][x_ind]=='.')):\n",
    "                ships +=1\n",
    "    return ships\n"
   ]
  },
  {
   "cell_type": "code",
   "execution_count": 66,
   "metadata": {},
   "outputs": [
    {
     "data": {
      "text/plain": [
       "5"
      ]
     },
     "execution_count": 66,
     "metadata": {},
     "output_type": "execute_result"
    }
   ],
   "source": [
    "# board = [['.','.','.','.'],['.','.','.','.'],['.','.','.','.'],['.','.','.','.']]\n",
    "# board = [['X','X','X','.'],['.','.','.','.'],['.','.','.','.'],['.','.','.','.']]\n",
    "# board =[[]]\n",
    "board = [['X','X','X','.'],['.','.','.','.'],['.','.','.','.'],['.','.','.','.'],['.','.','.','.']]\n",
    "len(board)\n",
    "# countBattleships(board)\n"
   ]
  }
 ],
 "metadata": {
  "kernelspec": {
   "display_name": "Python 3",
   "language": "python",
   "name": "python3"
  },
  "language_info": {
   "codemirror_mode": {
    "name": "ipython",
    "version": 3
   },
   "file_extension": ".py",
   "mimetype": "text/x-python",
   "name": "python",
   "nbconvert_exporter": "python",
   "pygments_lexer": "ipython3",
   "version": "3.7.1"
  }
 },
 "nbformat": 4,
 "nbformat_minor": 2
}
