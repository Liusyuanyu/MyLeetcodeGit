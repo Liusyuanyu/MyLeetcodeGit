{
 "cells": [
  {
   "cell_type": "markdown",
   "metadata": {},
   "source": [
    "## Probelm"
   ]
  },
  {
   "cell_type": "code",
   "execution_count": null,
   "metadata": {},
   "outputs": [],
   "source": [
    "Given an array nums of 0s and 1s and an integer k, return True if all 1's are at least k places away from each other, otherwise return False."
   ]
  },
  {
   "cell_type": "markdown",
   "metadata": {},
   "source": [
    "## Examples"
   ]
  },
  {
   "cell_type": "code",
   "execution_count": null,
   "metadata": {},
   "outputs": [],
   "source": [
    "class Solution:\n",
    "    def kLengthApart(self, nums: List[int], k: int) -> bool:\n",
    "        "
   ]
  },
  {
   "cell_type": "code",
   "execution_count": null,
   "metadata": {},
   "outputs": [],
   "source": [
    "Input: nums = [1,0,0,0,1,0,0,1], k = 2\n",
    "Output: true\n",
    "Explanation: Each of the 1s are at least 2 places away from each other.\n",
    "\n",
    "Input: nums = [1,0,0,1,0,1], k = 2\n",
    "Output: false\n",
    "Explanation: The second 1 and third 1 are only one apart from each other.\n",
    "\n",
    "Example 3:\n",
    "Input: nums = [1,1,1,1,1], k = 0\n",
    "Output: true\n",
    "\n",
    "Example 4:\n",
    "Input: nums = [0,1,0,1], k = 1\n",
    "Output: true"
   ]
  },
  {
   "cell_type": "markdown",
   "metadata": {},
   "source": [
    "## My Algoritm"
   ]
  },
  {
   "cell_type": "code",
   "execution_count": 44,
   "metadata": {},
   "outputs": [],
   "source": [
    "def kLengthApart(nums: [int], k: int) -> bool:\n",
    "    try:\n",
    "        first = nums.index(1)\n",
    "    except:\n",
    "        return True\n",
    "    k +=1\n",
    "    for ind in range(first+1, len(nums)):\n",
    "        if nums[ind]==1:\n",
    "            step= ind - first\n",
    "            if step < k:\n",
    "                return False\n",
    "            first = ind\n",
    "    return True"
   ]
  },
  {
   "cell_type": "markdown",
   "metadata": {},
   "source": [
    "## Test"
   ]
  },
  {
   "cell_type": "code",
   "execution_count": 45,
   "metadata": {},
   "outputs": [
    {
     "output_type": "execute_result",
     "data": {
      "text/plain": "True"
     },
     "metadata": {},
     "execution_count": 45
    }
   ],
   "source": [
    "# kLengthApart([1,0,0,1,0,1], k = 2)\n",
    "# # False\n",
    "\n",
    "# kLengthApart(nums = [1,0,0,0,1,0,0,1], k = 2)\n",
    "# # Ture\n",
    "\n",
    "# kLengthApart(nums = [1,1,1,1,1], k = 0)\n",
    "# # Ture\n",
    "\n",
    "# kLengthApart(nums = [0,1,0,1], k = 1)\n",
    "# # Ture\n",
    "\n",
    "kLengthApart(nums = [0,0,0], k = 2)\n",
    "# Ture"
   ]
  }
 ],
 "metadata": {
  "language_info": {
   "name": "python",
   "codemirror_mode": {
    "name": "ipython",
    "version": 3
   },
   "version": "3.7.5-final"
  },
  "orig_nbformat": 2,
  "file_extension": ".py",
  "mimetype": "text/x-python",
  "name": "python",
  "npconvert_exporter": "python",
  "pygments_lexer": "ipython3",
  "version": 3,
  "kernelspec": {
   "name": "python3",
   "display_name": "Python 3"
  }
 },
 "nbformat": 4,
 "nbformat_minor": 2
}