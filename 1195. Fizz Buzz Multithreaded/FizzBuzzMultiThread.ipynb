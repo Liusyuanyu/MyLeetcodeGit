{
 "nbformat": 4,
 "nbformat_minor": 2,
 "metadata": {
  "language_info": {
   "name": "python",
   "codemirror_mode": {
    "name": "ipython",
    "version": 3
   },
   "version": "3.7.5-final"
  },
  "orig_nbformat": 2,
  "file_extension": ".py",
  "mimetype": "text/x-python",
  "name": "python",
  "npconvert_exporter": "python",
  "pygments_lexer": "ipython3",
  "version": 3,
  "kernelspec": {
   "name": "python3",
   "display_name": "Python 3"
  }
 },
 "cells": [
  {
   "cell_type": "markdown",
   "execution_count": null,
   "metadata": {},
   "outputs": [],
   "source": [
    "## Probelm"
   ]
  },
  {
   "cell_type": "code",
   "execution_count": null,
   "metadata": {},
   "outputs": [],
   "source": [
    "Write a program that outputs the string representation of numbers from 1 to n, however:\n",
    "If the number is divisible by 3, output \"fizz\".\n",
    "If the number is divisible by 5, output \"buzz\".\n",
    "If the number is divisible by both 3 and 5, output \"fizzbuzz\".\n",
    "For example, for n = 15, we output: 1, 2, fizz, 4, buzz, fizz, 7, 8, fizz, buzz, 11, fizz, 13, 14, fizzbuzz."
   ]
  },
  {
   "cell_type": "code",
   "execution_count": null,
   "metadata": {},
   "outputs": [],
   "source": [
    "class FizzBuzz:\n",
    "    def __init__(self, n: int):\n",
    "        self.n = n\n",
    "\n",
    "    # printFizz() outputs \"fizz\"\n",
    "    def fizz(self, printFizz: 'Callable[[], None]') -> None:\n",
    "    \t\n",
    "\n",
    "    # printBuzz() outputs \"buzz\"\n",
    "    def buzz(self, printBuzz: 'Callable[[], None]') -> None:\n",
    "    \t\n",
    "\n",
    "    # printFizzBuzz() outputs \"fizzbuzz\"\n",
    "    def fizzbuzz(self, printFizzBuzz: 'Callable[[], None]') -> None:\n",
    "        \n",
    "\n",
    "    # printNumber(x) outputs \"x\", where x is an integer.\n",
    "    def number(self, printNumber: 'Callable[[int], None]') -> None:\n",
    "        "
   ]
  },
  {
   "cell_type": "markdown",
   "metadata": {},
   "source": [
    "## My Algoritm"
   ],
   "execution_count": null,
   "outputs": []
  },
  {
   "cell_type": "code",
   "execution_count": null,
   "metadata": {},
   "outputs": [],
   "source": [
    "import threading as th\n",
    "\n",
    "class FizzBuzz:\n",
    "    def __init__(self, n: int):\n",
    "        self.n = n\n",
    "        self.fizzlock = th.Lock()\n",
    "        self.buzzlock = th.Lock()\n",
    "        self.fizzbuzzlock = th.Lock()\n",
    "        self.numberlock = th.Lock()\n",
    "\n",
    "        self.fizzlock.acquire()\n",
    "        self.buzzlock.acquire()\n",
    "        self.fizzbuzzlock.acquire()\n",
    "        self.numberlock.acquire()\n",
    "\n",
    "    # printFizz() outputs \"fizz\"\n",
    "    def fizz(self, printFizz: 'Callable[[], None]') -> None:\n",
    "        for num in range(1,self.n+1):\n",
    "            if num %3==0 and num%5!=0:\n",
    "                self.fizzlock.acquire()\n",
    "                printFizz()\n",
    "                self.numberlock.release()\n",
    "\n",
    "    # printBuzz() outputs \"buzz\"\n",
    "    def buzz(self, printBuzz: 'Callable[[], None]') -> None:\n",
    "        for num in range(1,self.n+1):\n",
    "            if num %3!=0 and num%5==0:\n",
    "                self.buzzlock.acquire()\n",
    "                printBuzz()\n",
    "                self.numberlock.release()\n",
    "\n",
    "\n",
    "    # printFizzBuzz() outputs \"fizzbuzz\"\n",
    "    def fizzbuzz(self, printFizzBuzz: 'Callable[[], None]') -> None:\n",
    "        for num in range(1,self.n+1):\n",
    "            if num %15==0:\n",
    "                self.fizzbuzzlock.acquire()\n",
    "                printFizzBuzz()\n",
    "                self.numberlock.release()\n",
    "\n",
    "    # printNumber(x) outputs \"x\", where x is an integer.\n",
    "    def number(self, printNumber: 'Callable[[int], None]') -> None:\n",
    "        for num in range(1, self.n+1):\n",
    "            if num %3==0 and num%5!=0:\n",
    "                self.fizzlock.release()\n",
    "                self.numberlock.acquire()\n",
    "            elif num %3!=0 and num%5==0:\n",
    "                self.buzzlock.release()\n",
    "                self.numberlock.acquire()\n",
    "            elif num %15==0:\n",
    "                self.fizzbuzzlock.release()\n",
    "                self.numberlock.acquire()\n",
    "            else:\n",
    "                printNumber(num)"
   ]
  },
  {
   "cell_type": "markdown",
   "execution_count": null,
   "metadata": {},
   "outputs": [],
   "source": [
    "### Improve version"
   ]
  },
  {
   "cell_type": "code",
   "execution_count": null,
   "metadata": {},
   "outputs": [],
   "source": [
    "import threading as th\n",
    "\n",
    "class FizzBuzz:\n",
    "    def __init__(self, n: int):\n",
    "        self.n = n\n",
    "        self.fizzlock = th.Lock()\n",
    "        self.buzzlock = th.Lock()\n",
    "        self.fizzbuzzlock = th.Lock()\n",
    "        self.numberlock = th.Lock()\n",
    "\n",
    "        self.fizzlock.acquire()\n",
    "        self.buzzlock.acquire()\n",
    "        self.fizzbuzzlock.acquire()\n",
    "        self.numberlock.acquire()\n",
    "\n",
    "    # printFizz() outputs \"fizz\"\n",
    "    def fizz(self, printFizz: 'Callable[[], None]') -> None:\n",
    "        for num in range(3,self.n+1,3):\n",
    "            if num %3==0 and num%5!=0:\n",
    "                self.fizzlock.acquire()\n",
    "                printFizz()\n",
    "                self.numberlock.release()\n",
    "\n",
    "    # printBuzz() outputs \"buzz\"\n",
    "    def buzz(self, printBuzz: 'Callable[[], None]') -> None:\n",
    "        for num in range(5,self.n+1,5):\n",
    "            if num %3!=0 and num%5==0:\n",
    "                self.buzzlock.acquire()\n",
    "                printBuzz()\n",
    "                self.numberlock.release()\n",
    "\n",
    "\n",
    "    # printFizzBuzz() outputs \"fizzbuzz\"\n",
    "    def fizzbuzz(self, printFizzBuzz: 'Callable[[], None]') -> None:\n",
    "        for num in range(15,self.n+1,15):\n",
    "            if num %15==0:\n",
    "                self.fizzbuzzlock.acquire()\n",
    "                printFizzBuzz()\n",
    "                self.numberlock.release()\n",
    "\n",
    "    # printNumber(x) outputs \"x\", where x is an integer.\n",
    "    def number(self, printNumber: 'Callable[[int], None]') -> None:\n",
    "        for num in range(1, self.n+1):\n",
    "            if num %3==0 and num%5!=0:\n",
    "                self.fizzlock.release()\n",
    "                self.numberlock.acquire()\n",
    "            elif num %3!=0 and num%5==0:\n",
    "                self.buzzlock.release()\n",
    "                self.numberlock.acquire()\n",
    "            elif num %15==0:\n",
    "                self.fizzbuzzlock.release()\n",
    "                self.numberlock.acquire()\n",
    "            else:\n",
    "                printNumber(num)"
   ]
  },
  {
   "cell_type": "markdown",
   "metadata": {},
   "source": [
    "## Test"
   ],
   "execution_count": null,
   "outputs": []
  },
  {
   "cell_type": "code",
   "execution_count": null,
   "metadata": {},
   "outputs": [],
   "source": [
    "sol = FizzBuzz(20)\n",
    "\n",
    "tfizz = th.Thread(target=sol.fizz, args=(printfizz,))\n",
    "tbuzz = th.Thread(target=sol.buzz, args=(printbuzz,))\n",
    "tfb = th.Thread(target=sol.fizzbuzz, args=(printfizzbuzz,))\n",
    "tnumber = th.Thread(target=sol.number, args=(printnumber,))\n",
    "\n",
    "\n",
    "tfizz.start()\n",
    "tbuzz.start()\n",
    "tfb.start()\n",
    "tnumber.start()\n",
    "\n",
    "tfizz.join()\n",
    "tbuzz.join()\n",
    "tfb.join()\n",
    "tnumber.join()\n"
   ]
  },
  {
   "cell_type": "code",
   "execution_count": null,
   "metadata": {},
   "outputs": [],
   "source": [
    "def printfizz():\n",
    "    print('Fizz')\n",
    "def printbuzz():\n",
    "    print('Buzz')\n",
    "def printfizzbuzz():\n",
    "    print('FizzBuzz')\n",
    "def printnumber(num:int):\n",
    "    print(num)"
   ]
  }
 ]
}