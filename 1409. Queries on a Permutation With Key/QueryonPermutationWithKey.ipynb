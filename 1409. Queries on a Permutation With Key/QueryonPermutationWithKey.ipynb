{
 "nbformat": 4,
 "nbformat_minor": 2,
 "metadata": {
  "language_info": {
   "name": "python",
   "codemirror_mode": {
    "name": "ipython",
    "version": 3
   },
   "version": "3.7.5-final"
  },
  "orig_nbformat": 2,
  "file_extension": ".py",
  "mimetype": "text/x-python",
  "name": "python",
  "npconvert_exporter": "python",
  "pygments_lexer": "ipython3",
  "version": 3,
  "kernelspec": {
   "name": "python37164bitbasecondaac1a5e7daed444628f4977c32469be72",
   "display_name": "Python 3.7.1 64-bit ('base': conda)"
  }
 },
 "cells": [
  {
   "cell_type": "markdown",
   "execution_count": null,
   "metadata": {},
   "outputs": [],
   "source": [
    "## Probelm"
   ]
  },
  {
   "cell_type": "code",
   "execution_count": null,
   "metadata": {},
   "outputs": [],
   "source": [
    "Given the array queries of positive integers between 1 and m, you have to process all queries[i] (from i=0 to i=queries.length-1) according to the following rules:\n",
    "In the beginning, you have the permutation P=[1,2,3,...,m].\n",
    "For the current i, find the position of queries[i] in the permutation P (indexing from 0) and then move this at the beginning of the permutation P. Notice that the position of queries[i] in P is the result for queries[i].\n",
    "\n",
    "Return an array containing the result for the given queries."
   ]
  },
  {
   "cell_type": "markdown",
   "metadata": {},
   "source": [
    "## Examples"
   ],
   "execution_count": null,
   "outputs": []
  },
  {
   "cell_type": "code",
   "execution_count": null,
   "metadata": {},
   "outputs": [],
   "source": [
    "Example 1:\n",
    "Input: queries = [3,1,2,1], m = 5\n",
    "Output: [2,1,2,1] \n",
    "Explanation: The queries are processed as follow: \n",
    "For i=0: queries[i]=3, P=[1,2,3,4,5], position of 3 in P is 2, then we move 3 to the beginning of P resulting in P=[3,1,2,4,5]. \n",
    "For i=1: queries[i]=1, P=[3,1,2,4,5], position of 1 in P is 1, then we move 1 to the beginning of P resulting in P=[1,3,2,4,5]. \n",
    "For i=2: queries[i]=2, P=[1,3,2,4,5], position of 2 in P is 2, then we move 2 to the beginning of P resulting in P=[2,1,3,4,5]. \n",
    "For i=3: queries[i]=1, P=[2,1,3,4,5], position of 1 in P is 1, then we move 1 to the beginning of P resulting in P=[1,2,3,4,5]. \n",
    "Therefore, the array containing the result is [2,1,2,1].  "
   ]
  },
  {
   "cell_type": "code",
   "execution_count": null,
   "metadata": {},
   "outputs": [],
   "source": [
    "class Solution:\n",
    "    def processQueries(self, queries: List[int], m: int) -> List[int]:\n",
    "\n",
    "        "
   ]
  },
  {
   "cell_type": "markdown",
   "metadata": {},
   "source": [
    "## My Algoritm"
   ],
   "execution_count": null,
   "outputs": []
  },
  {
   "cell_type": "code",
   "execution_count": null,
   "metadata": {},
   "outputs": [],
   "source": [
    "def processQueries(queries: [int], m: int) -> [int]:\n",
    "    result=[]\n",
    "    plist = list(range(1,m+1))\n",
    "    for qu in queries:\n",
    "        ind = plist.index(qu)\n",
    "        result +=[ind]\n",
    "        plist.remove(qu)\n",
    "        plist.insert(0,qu)\n",
    "    return result"
   ]
  },
  {
   "cell_type": "markdown",
   "execution_count": null,
   "metadata": {},
   "outputs": [],
   "source": [
    "### Improve version"
   ]
  },
  {
   "cell_type": "code",
   "execution_count": null,
   "metadata": {},
   "outputs": [],
   "source": [
    "def processQueries(queries: [int], m: int) -> [int]:\n",
    "    result=[]\n",
    "    plist = list(range(1,m+1))\n",
    "    for qu in queries:\n",
    "        ind = plist.index(qu)\n",
    "        result +=[ind]\n",
    "        plist.pop(ind)\n",
    "        plist.insert(0,qu)\n",
    "    return result"
   ]
  },
  {
   "cell_type": "markdown",
   "metadata": {},
   "source": [
    "## Test"
   ],
   "execution_count": null,
   "outputs": []
  },
  {
   "cell_type": "code",
   "execution_count": null,
   "metadata": {},
   "outputs": [],
   "source": [
    "queries = [3,1,2,1]\n",
    "m = 5\n",
    "# Output: [2,1,2,1] \n",
    "\n",
    "# queries = [4,1,2,2]\n",
    "# m = 4\n",
    "# # Output: [3,1,2,0]\n",
    "\n",
    "# queries = [7,5,5,8,3]\n",
    "# m = 8\n",
    "# # Output: [6,5,0,7,5]\n",
    "\n",
    "processQueries(queries,m)\n",
    ""
   ]
  }
 ]
}