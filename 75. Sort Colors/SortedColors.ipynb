{
 "cells": [
  {
   "cell_type": "markdown",
   "metadata": {},
   "source": [
    "# Problem"
   ]
  },
  {
   "cell_type": "markdown",
   "metadata": {},
   "source": [
    "Given an array with n objects colored red, white or blue, sort them in-place so that objects of the same color are adjacent, with the colors in the order red, white and blue.\n",
    "Here, we will use the integers 0, 1, and 2 to represent the color red, white, and blue respectively.\n",
    "Note: You are not suppose to use the library's sort function for this problem."
   ]
  },
  {
   "cell_type": "code",
   "execution_count": null,
   "metadata": {},
   "outputs": [],
   "source": [
    "class Solution:\n",
    "    def sortColors(self, nums: List[int]) -> None:\n",
    "        \"\"\"\n",
    "        Do not return anything, modify nums in-place instead.\n",
    "        \"\"\"\n",
    "        "
   ]
  },
  {
   "cell_type": "markdown",
   "metadata": {},
   "source": [
    "# Examples"
   ]
  },
  {
   "cell_type": "markdown",
   "metadata": {},
   "source": [
    "Input: [2,0,2,1,1,0]\n",
    "Output: [0,0,1,1,2,2]"
   ]
  },
  {
   "cell_type": "markdown",
   "metadata": {},
   "source": [
    "## Follow up:"
   ]
  },
  {
   "cell_type": "markdown",
   "metadata": {},
   "source": [
    "A rather straight forward solution is a two-pass algorithm using counting sort.\n",
    "First, iterate the array counting number of 0's, 1's, and 2's, then overwrite array with total number of 0's, then 1's and followed by 2's.\n",
    "Could you come up with a one-pass algorithm using only constant space?"
   ]
  },
  {
   "cell_type": "markdown",
   "metadata": {},
   "source": [
    "# My Algorithm"
   ]
  },
  {
   "cell_type": "code",
   "execution_count": null,
   "metadata": {},
   "outputs": [],
   "source": [
    "from collections import Counter\n",
    "\n",
    "def sortColors(nums: [int]) -> None:\n",
    "    length = len(nums)\n",
    "    for idx in range(length-1):\n",
    "        pos= idx\n",
    "        for cursor in range(idx+1, length):\n",
    "            if nums[pos] > nums[cursor]:\n",
    "                pos = cursor\n",
    "        #Swap\n",
    "        nums[idx], nums[pos] = nums[pos], nums[idx]\n",
    "    return nums"
   ]
  },
  {
   "cell_type": "markdown",
   "metadata": {},
   "source": [
    "# Alternative algorithms"
   ]
  },
  {
   "cell_type": "code",
   "execution_count": null,
   "metadata": {},
   "outputs": [],
   "source": [
    "from collections import Counter\n",
    "\n",
    "def sortColors(nums: [int]) -> None:\n",
    "    length = len(nums)\n",
    "    if length <=1:\n",
    "        return\n",
    "    left, right = 0, length-1\n",
    "    cursor = 0\n",
    "    while(cursor <= right):\n",
    "        if nums[cursor]==0:\n",
    "            nums[cursor], nums[left] = nums[left], nums[cursor]\n",
    "            left+=1\n",
    "            cursor+=1            \n",
    "            pass\n",
    "        elif nums[cursor]==2:\n",
    "            nums[cursor], nums[right] = nums[right], nums[cursor]\n",
    "            right-=1\n",
    "        else:\n",
    "            cursor+=1"
   ]
  },
  {
   "cell_type": "markdown",
   "metadata": {},
   "source": [
    "# Sample Input and Test"
   ]
  },
  {
   "cell_type": "code",
   "execution_count": null,
   "metadata": {},
   "outputs": [],
   "source": [
    "Input = [2,0,2,1,1,0]\n",
    "# Output: [0,0,1,1,2,2]\n",
    "sortColors(Input)\n",
    "Input"
   ]
  },
  {
   "cell_type": "code",
   "execution_count": null,
   "metadata": {},
   "outputs": [],
   "source": [
    "Input = [2,0,1]\n",
    "# Output: [0, 1, 2]\n",
    "sortColors(Input)\n",
    "Input"
   ]
  }
 ],
 "metadata": {
  "kernelspec": {
   "display_name": "Python 3",
   "language": "python",
   "name": "python3"
  },
  "language_info": {
   "codemirror_mode": {
    "name": "ipython",
    "version": 3
   },
   "file_extension": ".py",
   "mimetype": "text/x-python",
   "name": "python",
   "nbconvert_exporter": "python",
   "pygments_lexer": "ipython3",
   "version": "3.7.1"
  }
 },
 "nbformat": 4,
 "nbformat_minor": 2
}
