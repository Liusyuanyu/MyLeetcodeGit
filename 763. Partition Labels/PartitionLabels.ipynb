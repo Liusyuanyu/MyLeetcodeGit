{
 "cells": [
  {
   "cell_type": "markdown",
   "metadata": {},
   "source": [
    "class Solution:\n",
    "    def partitionLabels(self, S: str) -> List[int]:"
   ]
  },
  {
   "cell_type": "code",
   "execution_count": 107,
   "metadata": {},
   "outputs": [],
   "source": [
    "def partitionLabels_old(S: str):\n",
    "    ans =[]\n",
    "    words =[]\n",
    "    start = 0\n",
    "    str_size =len(S)\n",
    "    end = str_size\n",
    "\n",
    "    while(start<str_size):\n",
    "        cursor = 0\n",
    "        achar = S[start+cursor]\n",
    "        words.append(achar)\n",
    "        last_same = S[start+cursor:str_size].rfind(achar)+start+cursor\n",
    "        end = last_same\n",
    "        if last_same != start:\n",
    "            cursor +=1\n",
    "            while(cursor+start < end):\n",
    "                achar = S[start+cursor]\n",
    "                if achar in words:\n",
    "                    cursor +=1\n",
    "                    continue\n",
    "                words.append(achar)\n",
    "                last_same = S[start+cursor:str_size].rfind(achar)+ start+cursor\n",
    "                if(last_same > end):\n",
    "                    end = last_same\n",
    "                cursor +=1\n",
    "        ans.append(end - start +1)\n",
    "        start = end +1\n",
    "\n",
    "    return ans"
   ]
  },
  {
   "cell_type": "code",
   "execution_count": null,
   "metadata": {},
   "outputs": [],
   "source": [
    "def partitionLabels(S: str):\n",
    "    alphet_dict ={}\n",
    "    for ind,achar in enumerate(S):\n",
    "        if achar not in alphet_dict:\n",
    "            alphet_dict[achar] = [ind,ind]\n",
    "        else:\n",
    "            alphet_dict[achar] = (alphet_dict.get(achar)[0] , ind)\n",
    "    ans =[]\n",
    "    start,end = alphet_dict.get(S[0])\n",
    "    for achar, ind_bound in alphet_dict.items():\n",
    "        if ind_bound[0] > start and ind_bound[1] < end:\n",
    "            continue\n",
    "        elif ind_bound[0] > end:\n",
    "            ans.append(end - start + 1)\n",
    "            start = ind_bound[0]\n",
    "            end = ind_bound[1]\n",
    "        elif ind_bound[0] > start and ind_bound[1] > end:\n",
    "            end = ind_bound[1]\n",
    "    ans.append(end - start + 1)\n",
    "    return ans"
   ]
  },
  {
   "cell_type": "markdown",
   "metadata": {},
   "source": [
    "A string S of lowercase letters is given. We want to partition this string into as many parts as possible so that each letter appears in at most one part, and return a list of integers representing the size of these parts. \n",
    "\n",
    "\n",
    "Input: S = \"ababcbacadefegdehijhklij\"\n",
    "Output: [9,7,8]\n",
    "Explanation:\n",
    "The partition is \"ababcbaca\", \"defegde\", \"hijhklij\".\n",
    "This is a partition so that each letter appears in at most one part.\n",
    "A partition like \"ababcbacadefegde\", \"hijhklij\" is incorrect, because it splits S into less parts."
   ]
  },
  {
   "cell_type": "code",
   "execution_count": 91,
   "metadata": {},
   "outputs": [],
   "source": [
    "def partitionLabels_2(S: str):\n",
    "    if not S:\n",
    "        return [0]\n",
    "    map_positions = {}\n",
    "    for i,c in enumerate(S):\n",
    "        if c not in map_positions:\n",
    "            map_positions[c] = (i, i)\n",
    "        else:\n",
    "            map_positions[c] = (map_positions.get(c)[0] , i)\n",
    "\n",
    "    # print(map_positions)\n",
    "    res = []\n",
    "    min_s, max_s = map_positions.get(S[0])\n",
    "    for k, v in map_positions.items():\n",
    "        if v[0] > min_s and v[1] < max_s:\n",
    "            continue\n",
    "        elif v[0] > max_s:\n",
    "            # print(max_s - min_s + 1)\n",
    "            res.append(max_s - min_s + 1)\n",
    "            min_s = v[0]\n",
    "            max_s = v[1]\n",
    "        elif v[0] > min_s and v[1] > max_s:\n",
    "            max_s = v[1]\n",
    "    res.append(max_s - min_s + 1)\n",
    "    return res\n",
    "\n"
   ]
  }
 ],
 "metadata": {
  "kernelspec": {
   "display_name": "Python 3",
   "language": "python",
   "name": "python3"
  },
  "language_info": {
   "codemirror_mode": {
    "name": "ipython",
    "version": 3
   },
   "file_extension": ".py",
   "mimetype": "text/x-python",
   "name": "python",
   "nbconvert_exporter": "python",
   "pygments_lexer": "ipython3",
   "version": "3.7.1"
  }
 },
 "nbformat": 4,
 "nbformat_minor": 2
}
