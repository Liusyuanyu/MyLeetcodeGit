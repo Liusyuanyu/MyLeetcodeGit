{
 "cells": [
  {
   "cell_type": "markdown",
   "metadata": {},
   "source": [
    "# Problem"
   ]
  },
  {
   "cell_type": "code",
   "execution_count": null,
   "metadata": {},
   "outputs": [],
   "source": [
    "You are given an n x n 2D matrix representing an image.\n",
    "Rotate the image by 90 degrees (clockwise).\n",
    "\n",
    "Note:\n",
    "You have to rotate the image in-place, which means you have to modify the input 2D matrix directly. DO NOT allocate another 2D matrix and do the rotation."
   ]
  },
  {
   "cell_type": "code",
   "execution_count": null,
   "metadata": {},
   "outputs": [],
   "source": [
    "class Solution:\n",
    "    def rotate(self, matrix: List[List[int]]) -> None:\n",
    "        \"\"\"\n",
    "        Do not return anything, modify matrix in-place instead.\n",
    "        \"\"\""
   ]
  },
  {
   "cell_type": "markdown",
   "metadata": {},
   "source": [
    "# Examples"
   ]
  },
  {
   "cell_type": "code",
   "execution_count": null,
   "metadata": {},
   "outputs": [],
   "source": [
    "# Example 1:\n",
    "Given input matrix = \n",
    "[\n",
    "  [1,2,3],\n",
    "  [4,5,6],\n",
    "  [7,8,9]\n",
    "],\n",
    "\n",
    "rotate the input matrix in-place such that it becomes:\n",
    "[\n",
    "  [7,4,1],\n",
    "  [8,5,2],\n",
    "  [9,6,3]\n",
    "]\n",
    "\n",
    "\n",
    "# Example 2:\n",
    "Given input matrix =\n",
    "[\n",
    "  [ 5, 1, 9,11],\n",
    "  [ 2, 4, 8,10],\n",
    "  [13, 3, 6, 7],\n",
    "  [15,14,12,16]\n",
    "], \n",
    "\n",
    "rotate the input matrix in-place such that it becomes:\n",
    "[\n",
    "  [15,13, 2, 5],\n",
    "  [14, 3, 4, 1],\n",
    "  [12, 6, 8, 9],\n",
    "  [16, 7,10,11]\n",
    "]"
   ]
  },
  {
   "cell_type": "markdown",
   "metadata": {},
   "source": [
    "# My Algorithm"
   ]
  },
  {
   "cell_type": "code",
   "execution_count": null,
   "metadata": {},
   "outputs": [],
   "source": [
    "def rotate(matrix: [[int]]) -> None:\n",
    "    side = len(matrix)\n",
    "    for circle in range(0, int(side / 2)): \n",
    "        for step in range(circle, side-circle-1): \n",
    "            temp = matrix[circle][step] \n",
    "  \n",
    "            matrix[circle][step]  = matrix[side-1-step][circle] \n",
    "  \n",
    "            matrix[side-1-step][circle]  = matrix[side-1-circle][side-1-step]\n",
    "\n",
    "            matrix[side-1-circle][side-1-step]  =  matrix[step][side-1-circle]\n",
    "\n",
    "            matrix[step][side-1-circle] = temp "
   ]
  },
  {
   "cell_type": "markdown",
   "metadata": {},
   "source": [
    "# Alternative algorithms"
   ]
  },
  {
   "cell_type": "code",
   "execution_count": null,
   "metadata": {},
   "outputs": [],
   "source": [
    "def rotate(matrix: [[int]]) -> None:\n",
    "    side = len(matrix)\n",
    "    # Transpose\n",
    "    for row in range(side): \n",
    "        for col in range(row, side): \n",
    "            if col != row:\n",
    "                matrix[row][col], matrix[col][row]  = matrix[col][row], matrix[row][col] \n",
    "    # Swap\n",
    "    for col in range(side//2): \n",
    "        for row in range(side): \n",
    "            matrix[row][col], matrix[row][side-col-1]  = matrix[row][side-col-1], matrix[row][col] "
   ]
  },
  {
   "cell_type": "markdown",
   "metadata": {},
   "source": [
    "# Sample Input and Test"
   ]
  },
  {
   "cell_type": "code",
   "execution_count": null,
   "metadata": {},
   "outputs": [],
   "source": [
    "matrix = [ [1,2,3], [4,5,6], [7,8,9] ]\n",
    "print('Before :')\n",
    "printMatrix(matrix)\n",
    "rotate(matrix)\n",
    "print('\\nAfter :')\n",
    "printMatrix(matrix)"
   ]
  },
  {
   "cell_type": "code",
   "execution_count": null,
   "metadata": {},
   "outputs": [],
   "source": [
    "matrix = [ [15,13, 2, 5], [14, 3, 4, 1], [12, 6, 8, 9], [16, 7,10,11] ]\n",
    "print('Before :')\n",
    "printMatrix(matrix)\n",
    "rotate(matrix)\n",
    "print('')\n",
    "print('After :')\n",
    "printMatrix(matrix)\n"
   ]
  },
  {
   "cell_type": "code",
   "execution_count": null,
   "metadata": {},
   "outputs": [],
   "source": [
    "matrix = [ [1,2], [3,4]]\n",
    "print('Before :')\n",
    "printMatrix(matrix)\n",
    "rotate(matrix)\n",
    "print('\\nAfter :')\n",
    "printMatrix(matrix)\n",
    "\n",
    "\n",
    "matrix = [ [1] ]\n",
    "print('Before :')\n",
    "printMatrix(matrix)\n",
    "rotate(matrix)\n",
    "print('\\nAfter :')\n",
    "printMatrix(matrix)"
   ]
  },
  {
   "cell_type": "markdown",
   "metadata": {},
   "source": [
    "# Print matrix"
   ]
  },
  {
   "cell_type": "code",
   "execution_count": null,
   "metadata": {},
   "outputs": [],
   "source": [
    "def printMatrix(matrix):\n",
    "    for vector in matrix:\n",
    "        print(vector)\n",
    "        # print(\"{:02d}\".format(vector))\n",
    "# print(\"{:02d}\".format(1))"
   ]
  }
 ],
 "metadata": {
  "kernelspec": {
   "display_name": "Python 3",
   "language": "python",
   "name": "python3"
  },
  "language_info": {
   "codemirror_mode": {
    "name": "ipython",
    "version": 3
   },
   "file_extension": ".py",
   "mimetype": "text/x-python",
   "name": "python",
   "nbconvert_exporter": "python",
   "pygments_lexer": "ipython3",
   "version": "3.7.5-final"
  }
 },
 "nbformat": 4,
 "nbformat_minor": 2
}