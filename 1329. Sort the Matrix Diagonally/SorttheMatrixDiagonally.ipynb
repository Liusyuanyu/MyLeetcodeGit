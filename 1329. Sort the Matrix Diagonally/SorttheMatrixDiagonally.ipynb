{
 "nbformat": 4,
 "nbformat_minor": 2,
 "metadata": {
  "language_info": {
   "name": "python",
   "codemirror_mode": {
    "name": "ipython",
    "version": 3
   },
   "version": "3.7.1-final"
  },
  "orig_nbformat": 2,
  "file_extension": ".py",
  "mimetype": "text/x-python",
  "name": "python",
  "npconvert_exporter": "python",
  "pygments_lexer": "ipython3",
  "version": 3,
  "kernelspec": {
   "name": "python37164bitbasecondaac1a5e7daed444628f4977c32469be72",
   "display_name": "Python 3.7.1 64-bit ('base': conda)"
  }
 },
 "cells": [
  {
   "cell_type": "code",
   "execution_count": 1,
   "metadata": {},
   "outputs": [
    {
     "name": "stdout",
     "output_type": "stream",
     "text": "10\n"
    }
   ],
   "source": [
    "# class Solution:\n",
    "#     def diagonalSort(self, mat: List[List[int]]) -> List[List[int]]:\n",
    "        "
   ]
  },
  {
   "cell_type": "code",
   "execution_count": 4,
   "metadata": {},
   "outputs": [],
   "source": [
    "import pandas as pd\n",
    "# import numpy as np"
   ]
  },
  {
   "cell_type": "code",
   "execution_count": 2,
   "metadata": {},
   "outputs": [],
   "source": [
    "# Input: mat = [[3,3,1,1],[2,2,1,2],[1,1,1,2]]\n",
    "# Output: [[1,1,1,1],[1,2,2,2],[1,2,3,3]]\n",
    "\n",
    "mat_ori = [[3,3,1,1],[2,2,1,2],[1,1,1,2]]\n",
    "# mat\n",
    "# mat = np.array(mat_ori)\n",
    "# # len(mat[0])\n",
    "\n",
    "# board = pd.DataFrame(mat_ori)\n",
    "# board\n"
   ]
  },
  {
   "cell_type": "code",
   "execution_count": 1,
   "metadata": {},
   "outputs": [],
   "source": [
    "def diagonalSort(mat):\n",
    "    rows = len(mat)\n",
    "    cols = len(mat[0])\n",
    "    if(rows ==1) or (cols==1):\n",
    "        return mat\n",
    "\n",
    "    \n",
    "    #Step by columns\n",
    "    for col in range(cols):\n",
    "        limit = min (rows, cols- col)\n",
    "        sorted_list = sorted([mat[ind][ind+col] for ind in range(limit)])\n",
    "        for ind in range(limit): mat[ind][ind+col] = sorted_list[ind]\n",
    "\n",
    "    #Step by rows\n",
    "    for row in range(1, rows):\n",
    "        limit = min (rows-row, cols)\n",
    "        sorted_list = sorted([mat[ind+row][ind] for ind in range(limit)])\n",
    "        for ind in range(limit): mat[ind+row][ind] = sorted_list[ind]\n",
    "    return mat"
   ]
  },
  {
   "cell_type": "code",
   "execution_count": 138,
   "metadata": {},
   "outputs": [],
   "source": [
    "## Bad Solution\n",
    "\n",
    "def diagonalSort(mat):\n",
    "    if np.array(mat).ndim==2:\n",
    "        # row, col = (np.array(mat)).shape\n",
    "        row = len(mat)\n",
    "        col = len(mat[0])\n",
    "    else:\n",
    "        return mat\n",
    "    visit_history =[]\n",
    "    for row_ind in range(row):\n",
    "        for col_ind in range(col):\n",
    "            cur_row = row_ind\n",
    "            cur_col = col_ind\n",
    "\n",
    "            if( [cur_row, cur_col] in visit_history ):\n",
    "                continue\n",
    "            temp_list=[]\n",
    "            while( (cur_row < row) & (cur_col < col)):\n",
    "                temp_list.append(mat[cur_row][cur_col])\n",
    "                visit_history.append([cur_row, cur_col])\n",
    "                cur_row, cur_col = cur_row+1, cur_col+1 \n",
    "            temp_list.sort()\n",
    "\n",
    "            list_len = len(temp_list)\n",
    "            for ind in range(list_len):\n",
    "                fix_row = (visit_history[-(list_len - ind)])[0]\n",
    "                fix_col = (visit_history[-(list_len - ind)])[1]\n",
    "                mat[fix_row][fix_col] = temp_list[ind]\n",
    "    return mat"
   ]
  },
  {
   "cell_type": "code",
   "execution_count": 7,
   "metadata": {},
   "outputs": [
    {
     "data": {
      "text/html": "<div>\n<style scoped>\n    .dataframe tbody tr th:only-of-type {\n        vertical-align: middle;\n    }\n\n    .dataframe tbody tr th {\n        vertical-align: top;\n    }\n\n    .dataframe thead th {\n        text-align: right;\n    }\n</style>\n<table border=\"1\" class=\"dataframe\">\n  <thead>\n    <tr style=\"text-align: right;\">\n      <th></th>\n      <th>0</th>\n      <th>1</th>\n      <th>2</th>\n      <th>3</th>\n      <th>4</th>\n    </tr>\n  </thead>\n  <tbody>\n    <tr>\n      <th>0</th>\n      <td>1</td>\n      <td>1</td>\n      <td>4</td>\n      <td>4</td>\n      <td>3</td>\n    </tr>\n    <tr>\n      <th>1</th>\n      <td>1</td>\n      <td>2</td>\n      <td>2</td>\n      <td>5</td>\n      <td>7</td>\n    </tr>\n  </tbody>\n</table>\n</div>",
      "text/plain": "   0  1  2  3  4\n0  1  1  4  4  3\n1  1  2  2  5  7"
     },
     "execution_count": 7,
     "metadata": {},
     "output_type": "execute_result"
    }
   ],
   "source": [
    "# mat = mat_ori.copy()\n",
    "# mat = np.array(mat_ori)\n",
    "# mat[(1,1),(2,1)]\n",
    "\n",
    "# df = diagonalSort(mat_ori)\n",
    "# df = diagonalSort([[2,1],[1,1]])\n",
    "# df = diagonalSort([0,2,8,4,6,7,3,2])\n",
    "df = diagonalSort([[2,1,5,4,3],[1,1,2,4,7]])\n",
    "# df\n",
    "\n",
    "pd.DataFrame(df)"
   ]
  }
 ]
}