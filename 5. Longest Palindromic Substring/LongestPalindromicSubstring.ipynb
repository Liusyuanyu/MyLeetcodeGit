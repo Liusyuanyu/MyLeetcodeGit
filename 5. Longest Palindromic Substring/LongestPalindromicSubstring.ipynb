{
 "cells": [
  {
   "cell_type": "markdown",
   "metadata": {},
   "source": [
    "# Problem"
   ]
  },
  {
   "cell_type": "code",
   "execution_count": null,
   "metadata": {},
   "outputs": [],
   "source": [
    "Given a string s, find the longest palindromic substring in s. You may assume that the maximum length of s is 1000."
   ]
  },
  {
   "cell_type": "code",
   "execution_count": null,
   "metadata": {},
   "outputs": [],
   "source": [
    "class Solution:\n",
    "    def longestPalindrome(self, s: str) -> str:\n",
    "        "
   ]
  },
  {
   "cell_type": "markdown",
   "metadata": {},
   "source": [
    "# Examples"
   ]
  },
  {
   "cell_type": "code",
   "execution_count": null,
   "metadata": {},
   "outputs": [],
   "source": [
    "Example 1:\n",
    "Input: \"babad\"\n",
    "Output: \"bab\"\n",
    "Note: \"aba\" is also a valid answer.\n",
    "\n",
    "\n",
    "Example 2:\n",
    "Input: \"cbbd\"\n",
    "Output: \"bb\""
   ]
  },
  {
   "cell_type": "markdown",
   "metadata": {},
   "source": [
    "# My Algorithm (Center expansion)"
   ]
  },
  {
   "cell_type": "code",
   "execution_count": null,
   "metadata": {},
   "outputs": [],
   "source": [
    "def longestPalindrome(s: str) -> str:\n",
    "    length = len(s)\n",
    "    def centerexpand(start, end):\n",
    "        long_s, long_e = 0,0\n",
    "        if start==end:\n",
    "            longest = -1\n",
    "        else:\n",
    "            longest = 0\n",
    "        while start>=0 and end < length and s[start]==s[end]:\n",
    "            longest+=2\n",
    "            start-=1\n",
    "            end+=1\n",
    "        return longest\n",
    "    max_ind=0\n",
    "    max_len =0\n",
    "    for ind in range(length):\n",
    "        len1 = centerexpand(ind,ind)    \n",
    "        len2 = centerexpand(ind,ind+1)\n",
    "        part = max(len1,len2)\n",
    "        if part > max_len:\n",
    "            max_ind = ind\n",
    "            max_len = part\n",
    "    return s[max_ind - (max_len-1)//2:max_ind+max_len//2+1]\n",
    "    # return s[max_ind - max_len//2 +1 - max_len%2:max_ind+max_len//2+1]"
   ]
  },
  {
   "cell_type": "markdown",
   "metadata": {},
   "source": [
    "# Alternative algorithms (Dynamic programming) Very slow"
   ]
  },
  {
   "cell_type": "code",
   "execution_count": null,
   "metadata": {},
   "outputs": [],
   "source": [
    "def longestPalindrome(s: str) -> str:\n",
    "    length = len(s)\n",
    "    dp = [[0]*len(s) for _ in range(length)]\n",
    "    max_len = 0\n",
    "    max_start,max_end=0,0\n",
    "    for end in range(length):\n",
    "        for start in range(end+1):\n",
    "            if s[start] == s[end]:\n",
    "                if end - start < 3 or dp[start+1][end-1]:\n",
    "                    dp[start][end]=1\n",
    "                    if end - start +1 > max_len:\n",
    "                        max_len = end -start +1\n",
    "                        max_start = start\n",
    "                        max_end = end\n",
    "    return s[max_start:max_end+1]"
   ]
  },
  {
   "cell_type": "markdown",
   "metadata": {},
   "source": [
    "# Alternative algorithms (Fast)"
   ]
  },
  {
   "cell_type": "code",
   "execution_count": null,
   "metadata": {},
   "outputs": [],
   "source": [
    "Check a substring between (a , b) whose lengthes are max_len+1 and max_len+2.  "
   ]
  },
  {
   "cell_type": "code",
   "execution_count": null,
   "metadata": {},
   "outputs": [],
   "source": [
    "def longestPalindrome(s: str) -> str:\n",
    "    length = len(s)\n",
    "    max_len = 0\n",
    "    LPS = ''\n",
    "    for cursor in range(length):\n",
    "        start = max(cursor-max_len-1,0)\n",
    "        sub_odd=s[start:cursor+1]\n",
    "        sub_even=s[start+1:cursor+1]\n",
    "        if sub_odd == sub_odd[::-1]:\n",
    "            LPS= sub_odd\n",
    "            max_len=cursor-start+1\n",
    "        elif sub_even == sub_even[::-1]:\n",
    "            LPS= sub_even\n",
    "            max_len=cursor- start\n",
    "\n",
    "    return LPS"
   ]
  },
  {
   "cell_type": "markdown",
   "metadata": {},
   "source": [
    "# Manacher’s Algorithm!!! Linear. I don't understand yet."
   ]
  },
  {
   "cell_type": "code",
   "execution_count": null,
   "metadata": {},
   "outputs": [],
   "source": [
    "# def countSubstrings(s: str) -> int:\n",
    "#     p = '@#' + '#'.join(s) + '#$'\n",
    "#     counts = [0] * len(p)\n",
    "#     center = right = 0\n",
    "#     for i in range(1, len(p) - 1):\n",
    "#         # check if it is within the R\n",
    "#         if i < right:\n",
    "#             counts[i] = min(right - i, counts[2 * center - i])\n",
    "#         while p[i - counts[i] - 1] == p[i + counts[i] + 1]:\n",
    "#             counts[i] += 1\n",
    "#         if right < i + counts[i]:\n",
    "#             right = i + counts[i]\n",
    "#             center = i\n",
    "#     return sum([(x+1) // 2 for x in counts])"
   ]
  },
  {
   "cell_type": "markdown",
   "metadata": {},
   "source": [
    "# Sample Input and Test"
   ]
  },
  {
   "cell_type": "code",
   "execution_count": null,
   "metadata": {},
   "outputs": [],
   "source": [
    "# Input= \"babad\"\n",
    "# # Output: \"bab\"\n",
    "# # Note: \"aba\" is also a valid answer.\n",
    "# longestPalindrome(Input)\n",
    "\n",
    "# Input = \"cbbd\"\n",
    "# # # Output: \"bb\"\n",
    "# longestPalindrome(Input)\n",
    "\n",
    "# Input = \"aaaa\"\n",
    "# # # Output: \"aaaa\"\n",
    "# longestPalindrome(Input)\n",
    "\n",
    "# Input = \"cbccbc\"\n",
    "# # # Output: \"cbc\"\n",
    "# longestPalindrome(Input)\n",
    "\n",
    "# Input = \"acdbcbdc\"\n",
    "# # # Output: \"cbc\"\n",
    "# longestPalindrome(Input)\n"
   ]
  }
 ],
 "metadata": {
  "kernelspec": {
   "display_name": "Python 3",
   "language": "python",
   "name": "python3"
  },
  "language_info": {
   "codemirror_mode": {
    "name": "ipython",
    "version": 3
   },
   "file_extension": ".py",
   "mimetype": "text/x-python",
   "name": "python",
   "nbconvert_exporter": "python",
   "pygments_lexer": "ipython3",
   "version": "3.7.5-final"
  }
 },
 "nbformat": 4,
 "nbformat_minor": 2
}