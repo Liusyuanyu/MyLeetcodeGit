{
 "cells": [
  {
   "cell_type": "markdown",
   "metadata": {},
   "source": [
    "# Problem"
   ]
  },
  {
   "cell_type": "code",
   "execution_count": null,
   "metadata": {},
   "outputs": [],
   "source": [
    "Given a collection of intervals, merge all overlapping intervals."
   ]
  },
  {
   "cell_type": "code",
   "execution_count": null,
   "metadata": {},
   "outputs": [],
   "source": [
    "class Solution:\n",
    "    def merge(self, intervals: List[List[int]]) -> List[List[int]]:\n",
    "        "
   ]
  },
  {
   "cell_type": "markdown",
   "metadata": {},
   "source": [
    "# Examples"
   ]
  },
  {
   "cell_type": "markdown",
   "metadata": {},
   "source": [
    "### Example 1:\n",
    "Input: [[1,3],[2,6],[8,10],[15,18]]\n",
    "Output: [[1,6],[8,10],[15,18]]\n",
    "Explanation: Since intervals [1,3] and [2,6] overlaps, merge them into [1,6].\n",
    "\n",
    "\n",
    "### Example 2:\n",
    "Input: [[1,4],[4,5]]\n",
    "Output: [[1,5]]\n",
    "Explanation: Intervals [1,4] and [4,5] are considered overlapping."
   ]
  },
  {
   "cell_type": "markdown",
   "metadata": {},
   "source": [
    "# My Algorithm"
   ]
  },
  {
   "cell_type": "code",
   "execution_count": null,
   "metadata": {},
   "outputs": [],
   "source": [
    "def merge(intervals: [[int]]) -> [[int]]:\n",
    "    intervals.sort(key=lambda x : x[0])\n",
    "    length = len(intervals) \n",
    "    if length <=1:\n",
    "        return intervals\n",
    "    cur_int=intervals[0]\n",
    "    res = []\n",
    "    for idx in range(1, length):\n",
    "        if cur_int[1] >= intervals[idx][0]:\n",
    "            cur_int[1] = max(intervals[idx][1],cur_int[1])\n",
    "        else:\n",
    "            res.append(cur_int)\n",
    "            cur_int = intervals[idx]\n",
    "    res.append(cur_int)\n",
    "    return res\n"
   ]
  },
  {
   "cell_type": "code",
   "execution_count": null,
   "metadata": {},
   "outputs": [],
   "source": [
    "def merge(intervals: [[int]]) -> [[int]]:\n",
    "    if not intervals:\n",
    "        return intervals\n",
    "    intervals.sort(key=lambda x : x[0])\n",
    "    length = len(intervals) \n",
    "    cur_int=intervals[0]\n",
    "    res = []\n",
    "    for idx in range(1, length):\n",
    "        if cur_int[1] >= intervals[idx][0]:\n",
    "            cur_int[1] = max(intervals[idx][1],cur_int[1])\n",
    "        else:\n",
    "            res.append(cur_int)\n",
    "            cur_int = intervals[idx]\n",
    "    res.append(cur_int)\n",
    "    return res\n"
   ]
  },
  {
   "cell_type": "markdown",
   "metadata": {},
   "source": [
    "# Alternative algorithms"
   ]
  },
  {
   "cell_type": "code",
   "execution_count": null,
   "metadata": {},
   "outputs": [],
   "source": []
  },
  {
   "cell_type": "markdown",
   "metadata": {},
   "source": [
    "# Sample Input and Test"
   ]
  },
  {
   "cell_type": "code",
   "execution_count": null,
   "metadata": {},
   "outputs": [],
   "source": [
    "# nums = [[1,3],[2,6],[8,10],[15,18]]\n",
    "Inputs = [[1,3],[15,18],[2,6],[8,10]]\n",
    "# Output: [[1,6],[8,10],[15,18]]\n",
    "merge(Inputs)\n"
   ]
  },
  {
   "cell_type": "code",
   "execution_count": null,
   "metadata": {},
   "outputs": [],
   "source": [
    "Inputs = [[1,4],[4,5]]\n",
    "# Output: [[1,5]]\n",
    "merge(Inputs)\n",
    "\n",
    "Inputs = [[1,4]]\n",
    "# Output: [[1,4]]\n",
    "merge(Inputs)\n",
    "\n",
    "# Inputs = [[1,4], [2,3]]\n",
    "# # Output: [[1,4]]\n",
    "# merge(Inputs)"
   ]
  },
  {
   "cell_type": "code",
   "execution_count": null,
   "metadata": {},
   "outputs": [],
   "source": [
    "Inputs = [[1,4],[0,0]]\n",
    "# Output: [[0,0],[1,4]]\n",
    "merge(Inputs)\n"
   ]
  }
 ],
 "metadata": {
  "kernelspec": {
   "display_name": "Python 3",
   "language": "python",
   "name": "python3"
  },
  "language_info": {
   "codemirror_mode": {
    "name": "ipython",
    "version": 3
   },
   "file_extension": ".py",
   "mimetype": "text/x-python",
   "name": "python",
   "nbconvert_exporter": "python",
   "pygments_lexer": "ipython3",
   "version": "3.7.1"
  }
 },
 "nbformat": 4,
 "nbformat_minor": 2
}
