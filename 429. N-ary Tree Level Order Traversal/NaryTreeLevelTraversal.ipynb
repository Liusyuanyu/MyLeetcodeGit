{
 "cells": [
  {
   "cell_type": "markdown",
   "metadata": {},
   "source": [
    "# Problem"
   ],
   "execution_count": null,
   "outputs": []
  },
  {
   "cell_type": "code",
   "execution_count": null,
   "metadata": {},
   "outputs": [],
   "source": [
    "Given an n-ary tree, return the level order traversal of its nodes' values.\n",
    "Nary-Tree input serialization is represented in their level order traversal, each group of children is separated by the null value (See examples)."
   ]
  },
  {
   "cell_type": "code",
   "execution_count": null,
   "metadata": {},
   "outputs": [],
   "source": [
    "\"\"\"\n",
    "# Definition for a Node.\n",
    "class Node:\n",
    "    def __init__(self, val=None, children=None):\n",
    "        self.val = val\n",
    "        self.children = children\n",
    "\"\"\"\n",
    "\n",
    "class Solution:\n",
    "    def levelOrder(self, root: 'Node') -> List[List[int]]:\n",
    "        "
   ]
  },
  {
   "cell_type": "markdown",
   "metadata": {},
   "source": [
    "# Examples"
   ],
   "execution_count": null,
   "outputs": []
  },
  {
   "cell_type": "code",
   "execution_count": null,
   "metadata": {},
   "outputs": [],
   "source": [
    "Input: root = [1,null,3,2,4,null,5,6]\n",
    "Output: [[1],[3,2,4],[5,6]]"
   ]
  },
  {
   "cell_type": "code",
   "execution_count": 1,
   "metadata": {},
   "outputs": [],
   "source": [
    "class Node:\n",
    "    def __init__(self, val=None, children=None):\n",
    "        self.val = val\n",
    "        self.children = []"
   ]
  },
  {
   "cell_type": "markdown",
   "execution_count": null,
   "metadata": {},
   "outputs": [],
   "source": [
    "# My Algorithm"
   ]
  },
  {
   "cell_type": "code",
   "execution_count": 47,
   "metadata": {},
   "outputs": [],
   "source": [
    "def levelOrder(root: 'Node') -> [[int]]:\n",
    "    result = []\n",
    "    traverse= []\n",
    "    if root:\n",
    "        traverse.append(root)\n",
    "    while traverse:\n",
    "        breadth = len(traverse)\n",
    "        level = []\n",
    "        for _ in range(breadth):\n",
    "            a_node = traverse.pop(0)\n",
    "            if a_node:\n",
    "                level.append(a_node.val)\n",
    "                for child in a_node.children:\n",
    "                    traverse.append(child)\n",
    "        if level:\n",
    "            result.append(level)\n",
    "    return result"
   ]
  },
  {
   "cell_type": "markdown",
   "metadata": {},
   "source": [
    "# Improve algorithms"
   ]
  },
  {
   "cell_type": "code",
   "execution_count": 55,
   "metadata": {},
   "outputs": [],
   "source": [
    "def levelOrder(root: 'Node') -> [[int]]:\n",
    "    if not root:\n",
    "        return []\n",
    "    result = []\n",
    "    traverse= [root]\n",
    "    while traverse:\n",
    "        breadth = len(traverse)\n",
    "        level = []\n",
    "        for _ in range(breadth):\n",
    "            a_node = traverse.pop(0)\n",
    "            level.append(a_node.val)\n",
    "            for child in a_node.children:\n",
    "                traverse.append(child)\n",
    "        result.append(level)\n",
    "    return result"
   ]
  },
  {
   "cell_type": "code",
   "execution_count": 7,
   "metadata": {},
   "outputs": [],
   "source": [
    "# def levelOrder(root: 'Node') -> [[int]]:\n",
    "#     if not root:\n",
    "#         return []\n",
    "#     result = []\n",
    "#     traverse= deque([root])\n",
    "#     while traverse:\n",
    "#         breadth = len(traverse)\n",
    "#         level = []\n",
    "#         for _ in range(breadth):\n",
    "#             a_node = traverse.popleft()\n",
    "#             level.append(a_node.val)\n",
    "#             for child in a_node.children:\n",
    "#                 traverse.append(child)\n",
    "#         result.append(level)\n",
    "#     return result\n",
    "def levelOrder(root: 'Node') -> [[int]]:\n",
    "    if not root: return []\n",
    "    result = []\n",
    "    traverse= [root]\n",
    "    while traverse:\n",
    "        traverse_next= []\n",
    "        level = []\n",
    "        for node in traverse:\n",
    "            traverse_next.extend(node.children)\n",
    "            level.append(node.val)\n",
    "        traverse=traverse_next\n",
    "        result.append(level)\n",
    "    return result"
   ]
  },
  {
   "cell_type": "markdown",
   "execution_count": null,
   "metadata": {},
   "outputs": [],
   "source": [
    "# Sample Input and Test"
   ]
  },
  {
   "cell_type": "code",
   "execution_count": 8,
   "metadata": {},
   "outputs": [
    {
     "output_type": "execute_result",
     "data": {
      "text/plain": "[[1], [3, 2, 4], [5, 6]]"
     },
     "metadata": {},
     "execution_count": 8
    }
   ],
   "source": [
    "root = Node(1)\n",
    "left = Node(3)\n",
    "left.children = [Node(5), Node(6)]\n",
    "root.children = [ left, Node(2), Node(4)]\n",
    "\n",
    "# output: [[1],[3,2,4],[5,6]]\n",
    "levelOrder(root)"
   ]
  }
 ],
 "metadata": {
  "kernelspec": {
   "display_name": "Python 3",
   "language": "python",
   "name": "python3"
  },
  "language_info": {
   "codemirror_mode": {
    "name": "ipython",
    "version": 3
   },
   "file_extension": ".py",
   "mimetype": "text/x-python",
   "name": "python",
   "nbconvert_exporter": "python",
   "pygments_lexer": "ipython3",
   "version": "3.7.5-final"
  }
 },
 "nbformat": 4,
 "nbformat_minor": 2
}