{
 "cells": [
  {
   "cell_type": "markdown",
   "metadata": {},
   "source": [
    "# Problem"
   ]
  },
  {
   "cell_type": "code",
   "execution_count": null,
   "metadata": {},
   "outputs": [],
   "source": [
    "Given a string containing just the characters '(', ')', '{', '}', '[' and ']', determine if the input string is valid.\n",
    "\n",
    "An input string is valid if:\n",
    "Open brackets must be closed by the same type of brackets.\n",
    "Open brackets must be closed in the correct order.\n",
    "Note that an empty string is also considered valid."
   ]
  },
  {
   "cell_type": "code",
   "execution_count": null,
   "metadata": {},
   "outputs": [],
   "source": [
    "class Solution:\n",
    "    def isValid(self, s: str) -> bool:\n",
    "        "
   ]
  },
  {
   "cell_type": "markdown",
   "metadata": {},
   "source": [
    "# Examples"
   ]
  },
  {
   "cell_type": "code",
   "execution_count": null,
   "metadata": {},
   "outputs": [],
   "source": [
    "Example 1:\n",
    "Input: \"()\"\n",
    "Output: true\n",
    "\n",
    "Example 2:\n",
    "Input: \"()[]{}\"\n",
    "Output: true\n",
    "\n",
    "Example 3:\n",
    "Input: \"(]\"\n",
    "Output: false\n",
    "\n",
    "Example 4:\n",
    "Input: \"([)]\"\n",
    "Output: false\n",
    "\n",
    "Example 5:\n",
    "Input: \"{[]}\"\n",
    "Output: true"
   ]
  },
  {
   "cell_type": "markdown",
   "metadata": {},
   "source": [
    "# My Algorithm"
   ]
  },
  {
   "cell_type": "code",
   "execution_count": null,
   "metadata": {},
   "outputs": [],
   "source": [
    "def isValid(s: str) -> bool:\n",
    "    brackets =''\n",
    "    for bck in s:\n",
    "        if bck in '([{':\n",
    "            brackets+=bck\n",
    "        elif bck ==')':\n",
    "            if brackets and brackets[-1]=='(':\n",
    "               brackets = brackets[:-1]\n",
    "            else:\n",
    "                return False\n",
    "        elif bck ==']':\n",
    "            if brackets and brackets[-1]=='[':\n",
    "               brackets = brackets[:-1]\n",
    "            else:\n",
    "                return False\n",
    "        elif bck =='}':\n",
    "            if brackets and brackets[-1]=='{':\n",
    "               brackets = brackets[:-1]\n",
    "            else:\n",
    "                return False\n",
    "    return not brackets\n"
   ]
  },
  {
   "cell_type": "code",
   "execution_count": null,
   "metadata": {},
   "outputs": [],
   "source": []
  },
  {
   "cell_type": "markdown",
   "metadata": {},
   "source": [
    "# Alternative algorithms"
   ]
  },
  {
   "cell_type": "code",
   "execution_count": null,
   "metadata": {},
   "outputs": [],
   "source": [
    "def isValid(s: str) -> bool:\n",
    "    brackets =[]\n",
    "    typeMap = {')':'(', ']':'[', '}':'{'} #Using Dictionary only requires one if_else.\n",
    "    for bck in s:\n",
    "        if bck in '([{':\n",
    "            brackets.append(bck)\n",
    "        else:\n",
    "            if brackets and brackets[-1]==typeMap[bck]:\n",
    "               brackets.pop()\n",
    "            else:\n",
    "                return False\n",
    "    return not brackets"
   ]
  },
  {
   "cell_type": "markdown",
   "metadata": {},
   "source": [
    "# Sample Input and Test"
   ]
  },
  {
   "cell_type": "code",
   "execution_count": null,
   "metadata": {},
   "outputs": [],
   "source": [
    "Input= \"()\"\n",
    "# Output: true\n",
    "isValid(Input)\n",
    "\n",
    "# Input= \"()[]{}\"\n",
    "# # Output: true\n",
    "# isValid(Input)\n",
    "\n",
    "# Input= \"(]\"\n",
    "# # Output: false\n",
    "# isValid(Input)\n",
    "\n",
    "# Input= \"([)]\"\n",
    "# # Output: false\n",
    "# isValid(Input)\n",
    "\n",
    "# Input= \"{[]}\"\n",
    "# # Output: true\n",
    "# isValid(Input)\n"
   ]
  }
 ],
 "metadata": {
  "kernelspec": {
   "display_name": "Python 3",
   "language": "python",
   "name": "python3"
  },
  "language_info": {
   "codemirror_mode": {
    "name": "ipython",
    "version": 3
   },
   "file_extension": ".py",
   "mimetype": "text/x-python",
   "name": "python",
   "nbconvert_exporter": "python",
   "pygments_lexer": "ipython3",
   "version": "3.7.5-final"
  }
 },
 "nbformat": 4,
 "nbformat_minor": 2
}