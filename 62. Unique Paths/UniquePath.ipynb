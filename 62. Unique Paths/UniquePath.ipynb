{
 "cells": [
  {
   "cell_type": "markdown",
   "metadata": {},
   "source": [
    "# Problem"
   ]
  },
  {
   "cell_type": "markdown",
   "metadata": {},
   "source": [
    "A robot is located at the top-left corner of a m x n grid (marked 'Start' in the diagram below).\n",
    "The robot can only move either down or right at any point in time. The robot is trying to reach the bottom-right corner of the grid (marked 'Finish' in the diagram below).\n",
    "How many possible unique paths are there?\n",
    "\n",
    "1 <= m, n <= 100\n",
    "It's guaranteed that the answer will be less than or equal to 2 * 10 ^ 9."
   ]
  },
  {
   "cell_type": "code",
   "execution_count": null,
   "metadata": {},
   "outputs": [],
   "source": [
    "class Solution:\n",
    "    def uniquePaths(self, m: int, n: int) -> int:\n",
    "        "
   ]
  },
  {
   "cell_type": "markdown",
   "metadata": {},
   "source": [
    "# Examples"
   ]
  },
  {
   "cell_type": "markdown",
   "metadata": {},
   "source": [
    "## Example 1:\n",
    "Input: m = 3, n = 2\n",
    "Output: 3\n",
    "Explanation:\n",
    "From the top-left corner, there are a total of 3 ways to reach the bottom-right corner:\n",
    "1. Right -> Right -> Down\n",
    "2. Right -> Down -> Right\n",
    "3. Down -> Right -> Right\n",
    "\n",
    "\n",
    "## Example 2:\n",
    "Input: m = 7, n = 3\n",
    "Output: 28"
   ]
  },
  {
   "cell_type": "markdown",
   "metadata": {},
   "source": [
    "# My Algorithm"
   ]
  },
  {
   "cell_type": "code",
   "execution_count": null,
   "metadata": {},
   "outputs": [],
   "source": [
    "def uniquePaths(m: int, n: int) -> int:\n",
    "    row_len = m\n",
    "    col_len = n\n",
    "    dp_res = [[0]*n for _ in range(m)]\n",
    "    dp_res[0][1]=1\n",
    "    dp_res[1][0]=1\n",
    "    for idx_r in range(0, row_len):\n",
    "        for idx_c in range(0, col_len):\n",
    "            if (idx_r==1 and idx_c==0) or (idx_r==0 and idx_c==1):\n",
    "                continue\n",
    "            val = dp_res[idx_r-1][idx_c] if idx_r-1 >=0 else 0 \n",
    "            val += dp_res[idx_r][idx_c-1] if idx_c-1 >=0 else 0\n",
    "            print('POS : ', idx_r, ' , ', idx_c, ' : ', val)\n",
    "            dp_res[idx_r][idx_c]= val\n",
    "    printList(dp_res)\n",
    "    return dp_res[m-1][n-1]\n"
   ]
  },
  {
   "cell_type": "code",
   "execution_count": null,
   "metadata": {},
   "outputs": [],
   "source": [
    "def uniquePaths(m: int, n: int) -> int:\n",
    "    dp_res = [[0]*n for _ in range(m)]\n",
    "    dp_res[0][0]=1\n",
    "    for idx_r in range(0, m):\n",
    "        for idx_c in range(0, n):\n",
    "            if (idx_r==0 and idx_c==0):\n",
    "                continue\n",
    "            val = dp_res[idx_r-1][idx_c] if idx_r-1 >=0 else 0 \n",
    "            val += dp_res[idx_r][idx_c-1] if idx_c-1 >=0 else 0\n",
    "            dp_res[idx_r][idx_c]= val\n",
    "    return dp_res[m-1][n-1]\n"
   ]
  },
  {
   "cell_type": "code",
   "execution_count": null,
   "metadata": {},
   "outputs": [],
   "source": [
    "def printList(dp):\n",
    "    for ele in dp:\n",
    "        print(ele)"
   ]
  },
  {
   "cell_type": "markdown",
   "metadata": {},
   "source": [
    "# Alternative algorithms"
   ]
  },
  {
   "cell_type": "code",
   "execution_count": null,
   "metadata": {},
   "outputs": [],
   "source": [
    "def uniquePaths(m: int, n: int) -> int:\n",
    "    dp_res = [[0]*n for _ in range(m)]\n",
    "    for idx_r in range(0, m):\n",
    "        for idx_c in range(0, n):\n",
    "            if (idx_r==0 or idx_c==0):\n",
    "                dp_res[idx_r][idx_c]= 1\n",
    "            else:\n",
    "                dp_res[idx_r][idx_c]= dp_res[idx_r-1][idx_c]+dp_res[idx_r][idx_c-1]\n",
    "    return dp_res[m-1][n-1]"
   ]
  },
  {
   "cell_type": "markdown",
   "metadata": {},
   "source": [
    "# Sample Input and Test"
   ]
  },
  {
   "cell_type": "code",
   "execution_count": null,
   "metadata": {},
   "outputs": [],
   "source": [
    "m, n = 3, 2\n",
    "uniquePaths(m,n)\n",
    "# 3\n",
    "\n",
    "# m, n = 7, 3\n",
    "# uniquePaths(m,n)\n",
    "# # 28\n",
    "\n",
    "# m, n = 10, 1\n",
    "# uniquePaths(m,n)\n",
    "# # 1"
   ]
  },
  {
   "cell_type": "code",
   "execution_count": null,
   "metadata": {},
   "outputs": [],
   "source": [
    "m, n = 1, 1\n",
    "uniquePaths(m,n)\n",
    "# 1"
   ]
  }
 ],
 "metadata": {
  "kernelspec": {
   "display_name": "Python 3",
   "language": "python",
   "name": "python3"
  },
  "language_info": {
   "codemirror_mode": {
    "name": "ipython",
    "version": 3
   },
   "file_extension": ".py",
   "mimetype": "text/x-python",
   "name": "python",
   "nbconvert_exporter": "python",
   "pygments_lexer": "ipython3",
   "version": "3.7.1"
  }
 },
 "nbformat": 4,
 "nbformat_minor": 2
}
