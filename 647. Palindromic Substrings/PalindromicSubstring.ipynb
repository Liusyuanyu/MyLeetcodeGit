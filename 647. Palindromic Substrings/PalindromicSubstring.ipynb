{
 "cells": [
  {
   "cell_type": "markdown",
   "metadata": {},
   "source": [
    "# Problem"
   ]
  },
  {
   "cell_type": "code",
   "execution_count": null,
   "metadata": {},
   "outputs": [],
   "source": [
    "Given a string, your task is to count how many palindromic substrings in this string.\n",
    "The substrings with different start indexes or end indexes are counted as different substrings even they consist of same characters."
   ]
  },
  {
   "cell_type": "code",
   "execution_count": null,
   "metadata": {},
   "outputs": [],
   "source": [
    "class Solution:\n",
    "    def countSubstrings(self, s: str) -> int:\n",
    "        "
   ]
  },
  {
   "cell_type": "markdown",
   "metadata": {},
   "source": [
    "# Examples"
   ]
  },
  {
   "cell_type": "code",
   "execution_count": null,
   "metadata": {},
   "outputs": [],
   "source": [
    "Example 1:\n",
    "Input: \"abc\"\n",
    "Output: 3\n",
    "Explanation: Three palindromic strings: \"a\", \"b\", \"c\".\n",
    " \n",
    "\n",
    "Example 2:\n",
    "Input: \"aaa\"\n",
    "Output: 6\n",
    "Explanation: Six palindromic strings: \"a\", \"a\", \"a\", \"aa\", \"aa\", \"aaa\"."
   ]
  },
  {
   "cell_type": "markdown",
   "metadata": {},
   "source": [
    "# My Algorithm"
   ]
  },
  {
   "cell_type": "code",
   "execution_count": null,
   "metadata": {},
   "outputs": [],
   "source": [
    "def countSubstrings(s: str) -> int:\n",
    "    ans = len(s)\n",
    "    length = ans\n",
    "    for part_len in range(2, length+1):\n",
    "        for offset in range(length-part_len+1):\n",
    "            token = s[offset:offset+part_len]\n",
    "            if token == token[::-1]:\n",
    "                ans+=1\n",
    "    return ans\n"
   ]
  },
  {
   "cell_type": "markdown",
   "metadata": {},
   "source": [
    "# Alternative algorithms"
   ]
  },
  {
   "cell_type": "code",
   "execution_count": null,
   "metadata": {},
   "outputs": [],
   "source": [
    "# dynamic programming Slower??\n",
    "def countSubstrings(s: str) -> int:\n",
    "    length = len(s)\n",
    "    ans = [[0]*len(s) for _ in range(length)]\n",
    "    count = length\n",
    "    for part_len in range(1, length+1):\n",
    "        for offset in range(part_len):\n",
    "            end = part_len\n",
    "            start = end - offset-1\n",
    "            if start == end -1:\n",
    "                ans[start][end-1]=1\n",
    "            elif (end - start)%2==0: #even\n",
    "                if s[start:end]==s[start:end][::-1]:\n",
    "                    ans[start][end-1]=1\n",
    "                    count +=1\n",
    "            else: # Odd\n",
    "                if s[start]==s[end-1] and ans[start+1][end-2]==1:\n",
    "                    ans[start][end-1]=1\n",
    "                    count +=1\n",
    "    return count\n",
    "    # return sum(sum(ans,[]))"
   ]
  },
  {
   "cell_type": "code",
   "execution_count": null,
   "metadata": {},
   "outputs": [],
   "source": [
    "# dynamic programming Slower??\n",
    "def countSubstrings(s: str) -> int:\n",
    "    length = len(s)\n",
    "    ans = [[0]*len(s) for _ in range(length)]\n",
    "    count = 0\n",
    "    for end in range(length):\n",
    "        for start in range(end+1):\n",
    "            if s[start] == s[end]:\n",
    "                if end - start < 3 or ans[start+1][end-1]:\n",
    "                    ans[start][end]=1\n",
    "                    count+=1\n",
    "    return count"
   ]
  },
  {
   "cell_type": "markdown",
   "metadata": {},
   "source": [
    "# Manacher’s Algorithm!!! Linear"
   ]
  },
  {
   "cell_type": "code",
   "execution_count": null,
   "metadata": {},
   "outputs": [],
   "source": [
    "def countSubstrings(s: str) -> int:\n",
    "    p = '@#' + '#'.join(s) + '#$'\n",
    "    counts = [0] * len(p)\n",
    "    center = right = 0\n",
    "    for i in range(1, len(p) - 1):\n",
    "        # check if it is within the R\n",
    "        if i < right:\n",
    "            counts[i] = min(right - i, counts[2 * center - i])\n",
    "        while p[i - counts[i] - 1] == p[i + counts[i] + 1]:\n",
    "            counts[i] += 1\n",
    "        if right < i + counts[i]:\n",
    "            right = i + counts[i]\n",
    "            center = i\n",
    "    return sum([(x+1) // 2 for x in counts])"
   ]
  },
  {
   "cell_type": "code",
   "execution_count": null,
   "metadata": {},
   "outputs": [],
   "source": [
    "# def countSubstrings(s: str) -> int:\n",
    "#     def manachers(S):\n",
    "#         A = '@#' + '#'.join(S) + '#$'\n",
    "#         Z = [0] * len(A)\n",
    "#         center = right = 0\n",
    "#         for i in range(1, len(A) - 1):\n",
    "#             if i < right:\n",
    "#                 Z[i] = min(right - i, Z[2 * center - i])\n",
    "#             while A[i + Z[i] + 1] == A[i - Z[i] - 1]:\n",
    "#                 Z[i] += 1\n",
    "#             if i + Z[i] > right:\n",
    "#                 center, right = i, i + Z[i]\n",
    "#         return Z\n",
    "\n",
    "#     return sum((v+1)/2 for v in manachers(s))"
   ]
  },
  {
   "cell_type": "markdown",
   "metadata": {},
   "source": [
    "## center expansion"
   ]
  },
  {
   "cell_type": "markdown",
   "metadata": {},
   "source": [
    "We perform a \"center expansion\" among all possible centers of the palindrome.\n",
    "Let N = len(S). There are 2N-1 possible centers for the palindrome: we could have a center at S[0], between S[0] and S[1], at S[1], between S[1] and S[2], at S[2], etc.\n",
    "To iterate over each of the 2N-1 centers, we will move the left pointer every 2 times, and the right pointer every 2 times starting with the second (index 1). Hence, left = center / 2, right = center / 2 + center % 2.\n",
    "From here, finding every palindrome starting with that center is straightforward: while the ends are valid and have equal characters, record the answer and expand.\n"
   ]
  },
  {
   "cell_type": "code",
   "execution_count": null,
   "metadata": {},
   "outputs": [],
   "source": [
    "def countSubstrings(s: str) -> int:\n",
    "    length = len(s)\n",
    "    ans = 0\n",
    "    for center in range(2*length - 1):\n",
    "        start = center // 2\n",
    "        end = start + center % 2\n",
    "        while start >= 0 and end < length and s[start] == s[end]:\n",
    "            ans += 1\n",
    "            start -= 1\n",
    "            end += 1\n",
    "    return ans"
   ]
  },
  {
   "cell_type": "markdown",
   "metadata": {},
   "source": [
    "# Sample Input and Test"
   ]
  },
  {
   "cell_type": "code",
   "execution_count": null,
   "metadata": {},
   "outputs": [],
   "source": [
    "# Input= \"abc\"\n",
    "# # Output: 3\n",
    "# countSubstrings(Input)\n",
    " \n",
    "\n",
    "Input= \"aaa\"\n",
    "# Output: 6\n",
    "countSubstrings(Input)\n",
    "\n",
    "# Input= \"\"\n",
    "# # Output: 0\n",
    "# countSubstrings(Input)\n",
    "\n",
    "# Input= \"dnncbwoneinoplypwgbwktmvkoimcooyiwirgbxlcttgteqthcvyoueyftiwgwwxvxvg\"\n",
    "# # Output: 77\n",
    "# countSubstrings(Input)\n"
   ]
  },
  {
   "cell_type": "code",
   "execution_count": null,
   "metadata": {},
   "outputs": [],
   "source": [
    "len(Input)"
   ]
  }
 ],
 "metadata": {
  "kernelspec": {
   "display_name": "Python 3",
   "language": "python",
   "name": "python3"
  },
  "language_info": {
   "codemirror_mode": {
    "name": "ipython",
    "version": 3
   },
   "file_extension": ".py",
   "mimetype": "text/x-python",
   "name": "python",
   "nbconvert_exporter": "python",
   "pygments_lexer": "ipython3",
   "version": "3.7.5-final"
  }
 },
 "nbformat": 4,
 "nbformat_minor": 2
}