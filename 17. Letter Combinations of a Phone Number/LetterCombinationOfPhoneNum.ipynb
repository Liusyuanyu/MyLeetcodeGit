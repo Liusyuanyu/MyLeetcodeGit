{
 "cells": [
  {
   "cell_type": "markdown",
   "metadata": {},
   "source": [
    "# Problem"
   ]
  },
  {
   "cell_type": "code",
   "execution_count": null,
   "metadata": {},
   "outputs": [],
   "source": [
    "Given a string containing digits from 2-9 inclusive, return all possible letter combinations that the number could represent.\n",
    "A mapping of digit to letters (just like on the telephone buttons) is given below. Note that 1 does not map to any letters."
   ]
  },
  {
   "cell_type": "code",
   "execution_count": null,
   "metadata": {},
   "outputs": [],
   "source": [
    "class Solution:\n",
    "    def letterCombinations(self, digits: str) -> List[str]:\n",
    "        "
   ]
  },
  {
   "cell_type": "markdown",
   "metadata": {},
   "source": [
    "# Examples"
   ]
  },
  {
   "cell_type": "code",
   "execution_count": null,
   "metadata": {},
   "outputs": [],
   "source": [
    "Input: \"23\"\n",
    "Output: [\"ad\", \"ae\", \"af\", \"bd\", \"be\", \"bf\", \"cd\", \"ce\", \"cf\"]."
   ]
  },
  {
   "cell_type": "markdown",
   "metadata": {},
   "source": [
    "# My Algorithm"
   ]
  },
  {
   "cell_type": "code",
   "execution_count": null,
   "metadata": {},
   "outputs": [],
   "source": [
    "def letterCombinations(digits: str) -> [str]:\n",
    "    keyboard = {'2':'abc', '3':'def', '4':'ghi', '5':'jkl', '6':'mno', '7':'pqrs','8':'tuv','9':'wxyz'}\n",
    "    if len(digits)==0:\n",
    "        return []\n",
    "    def backtrack(word, ind):\n",
    "        if ind >= len(word):\n",
    "            return ['']\n",
    "        res =[]\n",
    "        for nextcomb in backtrack(word, ind+1):\n",
    "            for char in keyboard[word[ind]]:\n",
    "                res.append(char+nextcomb)\n",
    "        return res\n",
    "    return backtrack(digits, 0)"
   ]
  },
  {
   "cell_type": "markdown",
   "metadata": {},
   "source": [
    "# Alternative algorithms"
   ]
  },
  {
   "cell_type": "markdown",
   "metadata": {},
   "source": [
    "### Using list to replace with dict."
   ]
  },
  {
   "cell_type": "code",
   "execution_count": null,
   "metadata": {},
   "outputs": [],
   "source": [
    "def letterCombinations(digits: str) -> [str]:\n",
    "    if not digits: return []\n",
    "    keyboard = ['', '', 'abc', 'def', 'ghi', 'jkl', 'mno', 'pqrs', 'tuv', 'wxyz']\n",
    "    dig_len = len(digits)\n",
    "    def backtrack(word, ind):\n",
    "        if ind >= dig_len:\n",
    "            return ['']\n",
    "        res =[]\n",
    "        for nextcomb in backtrack(word, ind+1):\n",
    "            for char in keyboard[int(word[ind])]:\n",
    "                res.append(char+nextcomb)\n",
    "        return res\n",
    "    return backtrack(digits, 0)"
   ]
  },
  {
   "cell_type": "markdown",
   "metadata": {},
   "source": [
    "# Sample Input and Test"
   ]
  },
  {
   "cell_type": "code",
   "execution_count": null,
   "metadata": {},
   "outputs": [],
   "source": [
    "Input= \"23\"\n",
    "# Output: [\"ad\", \"ae\", \"af\", \"bd\", \"be\", \"bf\", \"cd\", \"ce\", \"cf\"].\n",
    "letterCombinations(Input)\n",
    "\n",
    "# Input= \"234\"\n",
    "# # Output: \n",
    "# letterCombinations(Input)\n",
    "\n",
    "# Input= \"\"\n",
    "# # Output: []\n",
    "# letterCombinations(Input)"
   ]
  }
 ],
 "metadata": {
  "kernelspec": {
   "display_name": "Python 3",
   "language": "python",
   "name": "python3"
  },
  "language_info": {
   "codemirror_mode": {
    "name": "ipython",
    "version": 3
   },
   "file_extension": ".py",
   "mimetype": "text/x-python",
   "name": "python",
   "nbconvert_exporter": "python",
   "pygments_lexer": "ipython3",
   "version": "3.7.5-final"
  }
 },
 "nbformat": 4,
 "nbformat_minor": 2
}