{
 "cells": [
  {
   "cell_type": "markdown",
   "metadata": {},
   "source": [
    "# Problem"
   ],
   "execution_count": null,
   "outputs": []
  },
  {
   "cell_type": "code",
   "execution_count": null,
   "metadata": {},
   "outputs": [],
   "source": [
    "Given an integer array A, you partition the array into (contiguous) subarrays of length at most K.  After partitioning, each subarray has their values changed to become the maximum value of that subarray.\n",
    "Return the largest sum of the given array after partitioning."
   ]
  },
  {
   "cell_type": "code",
   "execution_count": null,
   "metadata": {},
   "outputs": [],
   "source": [
    "class Solution:\n",
    "    def maxSumAfterPartitioning(self, A: List[int], K: int) -> int:\n",
    "        "
   ]
  },
  {
   "cell_type": "markdown",
   "metadata": {},
   "source": [
    "# Examples"
   ],
   "execution_count": null,
   "outputs": []
  },
  {
   "cell_type": "code",
   "execution_count": null,
   "metadata": {},
   "outputs": [],
   "source": [
    "Example 1:\n",
    "Input: A = [1,15,7,9,2,5,10], K = 3\n",
    "Output: 84\n",
    "Explanation: A becomes [15,15,15,9,10,10,10]"
   ]
  },
  {
   "cell_type": "markdown",
   "execution_count": null,
   "metadata": {},
   "outputs": [],
   "source": [
    "# Algorithm(Using Dynamic programming)"
   ]
  },
  {
   "cell_type": "code",
   "execution_count": null,
   "metadata": {},
   "outputs": [],
   "source": [
    "def maxSumAfterPartitioning(A: [int], K: int) -> int:\n",
    "    arr_len = len(A)\n",
    "    dp = [0]*(arr_len+1)\n",
    "\n",
    "    for ind in range(1, arr_len+1):\n",
    "        max_val = -1\n",
    "        for step in range(1,min(ind,K)+1):\n",
    "            max_val = max(max_val, A[ind - step])\n",
    "            dp[ind] = max(dp[ind], dp[ind - step]+max_val*step)\n",
    "    return dp[arr_len]\n"
   ]
  },
  {
   "cell_type": "markdown",
   "execution_count": null,
   "metadata": {},
   "outputs": [],
   "source": [
    "# Sample Input and Test"
   ]
  },
  {
   "cell_type": "code",
   "execution_count": null,
   "metadata": {},
   "outputs": [],
   "source": [
    "A, K = [1,15,7,9,2,5,10], 3\n",
    "# Output: 84\n",
    "\n",
    "# A, K = [2,1,4,3], 3\n",
    "# # Output: 84\n",
    "\n",
    "\n",
    "\n",
    "maxSumAfterPartitioning(A,K)\n",
    ""
   ]
  }
 ],
 "metadata": {
  "kernelspec": {
   "display_name": "Python 3",
   "language": "python",
   "name": "python3"
  },
  "language_info": {
   "codemirror_mode": {
    "name": "ipython",
    "version": 3
   },
   "file_extension": ".py",
   "mimetype": "text/x-python",
   "name": "python",
   "nbconvert_exporter": "python",
   "pygments_lexer": "ipython3",
   "version": "3.7.5-final"
  }
 },
 "nbformat": 4,
 "nbformat_minor": 2
}