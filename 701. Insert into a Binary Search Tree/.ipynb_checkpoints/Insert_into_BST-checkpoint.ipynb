{
 "cells": [
  {
   "cell_type": "code",
   "execution_count": 1,
   "metadata": {},
   "outputs": [],
   "source": [
    "# Definition for a binary tree node.\n",
    "class TreeNode:\n",
    "    def __init__(self, x):\n",
    "        self.val = x\n",
    "        self.left = None\n",
    "        self.right = None\n",
    "\n",
    "# class Solution:\n",
    "#     def insertIntoBST(self, root: TreeNode, val: int) -> TreeNode:\n",
    "#         pass"
   ]
  },
  {
   "cell_type": "code",
   "execution_count": 12,
   "metadata": {},
   "outputs": [],
   "source": [
    "# class Solution:\n",
    "def insertIntoBST_flag(root: TreeNode, val: int) -> TreeNode:\n",
    "    new_node = TreeNode(val)\n",
    "    insert_place = root\n",
    "    insert_node = None\n",
    "    isleft_node = False\n",
    "    while(insert_place):\n",
    "        if insert_place.val > val:\n",
    "            insert_node = insert_place\n",
    "            insert_place = insert_place.left\n",
    "            isleft_node = True\n",
    "        else:\n",
    "            insert_node = insert_place\n",
    "            insert_place = insert_place.right\n",
    "            isleft_node = False\n",
    "\n",
    "    if not insert_node:\n",
    "        root = new_node\n",
    "    else:\n",
    "        if isleft_node:\n",
    "            insert_node.left = new_node\n",
    "        else:\n",
    "            insert_node.right = new_node\n",
    "    return root"
   ]
  },
  {
   "cell_type": "code",
   "execution_count": null,
   "metadata": {},
   "outputs": [],
   "source": [
    "# class Solution:\n",
    "def insertIntoBST(root: TreeNode, val: int) -> TreeNode:\n",
    "    new_node = TreeNode(val)\n",
    "    insert_place = root\n",
    "    insert_node = None\n",
    "    isleft_node = False\n",
    "    while(insert_place):\n",
    "        insert_node = insert_place\n",
    "        if insert_place.val > val:\n",
    "            insert_place = insert_place.left\n",
    "        else:\n",
    "            insert_place = insert_place.right\n",
    "\n",
    "    if not insert_node:\n",
    "        root = new_node\n",
    "    else:\n",
    "        if isleft_node:\n",
    "            insert_node.left = new_node\n",
    "        else:\n",
    "            insert_node.right = new_node\n",
    "    return root"
   ]
  },
  {
   "cell_type": "code",
   "execution_count": 10,
   "metadata": {},
   "outputs": [],
   "source": [
    "# Function to  print level order traversal of tree \n",
    "def printLevelOrder(root): \n",
    "    h = height(root) \n",
    "    for i in range(1, h+1): \n",
    "        printGivenLevel(root, i) \n",
    "  \n",
    "  \n",
    "# Print nodes at a given level \n",
    "def printGivenLevel(root , level): \n",
    "    if root is None: \n",
    "        return\n",
    "    if level == 1: \n",
    "        print (\"%d\" %(root.val)) \n",
    "    elif level > 1 : \n",
    "        printGivenLevel(root.left , level-1) \n",
    "        printGivenLevel(root.right , level-1) \n",
    "  \n",
    "  \n",
    "\"\"\" Compute the height of a tree--the number of nodes \n",
    "    along the longest path from the root node down to \n",
    "    the farthest leaf node \n",
    "\"\"\"\n",
    "def height(node): \n",
    "    if node is None: \n",
    "        return 0 \n",
    "    else : \n",
    "        # Compute the height of each subtree  \n",
    "        lheight = height(node.left) \n",
    "        rheight = height(node.right) \n",
    "  \n",
    "        #Use the larger one \n",
    "        if lheight > rheight : \n",
    "            return lheight+1\n",
    "        else: \n",
    "            return rheight+1"
   ]
  },
  {
   "cell_type": "code",
   "execution_count": 13,
   "metadata": {},
   "outputs": [
    {
     "name": "stdout",
     "output_type": "stream",
     "text": [
      "4\n",
      "2\n",
      "7\n",
      "1\n",
      "3\n"
     ]
    }
   ],
   "source": [
    "root = insertIntoBST(None, 4)\n",
    "root = insertIntoBST(root, 2)\n",
    "root = insertIntoBST(root, 7)\n",
    "root = insertIntoBST(root, 1)\n",
    "root = insertIntoBST(root, 3)\n",
    "\n",
    "printLevelOrder(root)"
   ]
  }
 ],
 "metadata": {
  "kernelspec": {
   "display_name": "Python 3",
   "language": "python",
   "name": "python3"
  },
  "language_info": {
   "codemirror_mode": {
    "name": "ipython",
    "version": 3
   },
   "file_extension": ".py",
   "mimetype": "text/x-python",
   "name": "python",
   "nbconvert_exporter": "python",
   "pygments_lexer": "ipython3",
   "version": "3.7.1"
  }
 },
 "nbformat": 4,
 "nbformat_minor": 2
}
