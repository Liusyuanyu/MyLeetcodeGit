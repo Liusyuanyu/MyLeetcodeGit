{
 "cells": [
  {
   "cell_type": "code",
   "execution_count": 5,
   "metadata": {},
   "outputs": [],
   "source": [
    "def numTilePossibilities_check(tiles: str) -> int:\n",
    "    sum = 0\n",
    "    str_set = set(tiles)\n",
    "    freq_char = {}\n",
    "    for char in str_set:\n",
    "        freq_char[char] = tiles.count(char)\n",
    "    \n",
    "    \n",
    "    print(freq_char)\n",
    "    return 0\n"
   ]
  },
  {
   "cell_type": "code",
   "execution_count": 22,
   "metadata": {},
   "outputs": [],
   "source": [
    "def numTilePossibilities(tiles: str) -> int:\n",
    "    sum = 0\n",
    "    str_set = set(tiles)\n",
    "    freq_char = {}\n",
    "    for char in str_set:\n",
    "        freq_char[char] = tiles.count(char)\n",
    "        \n",
    "    return prosibilityPermutation(freq_char)\n",
    "\n",
    "#     for char in freq_char:\n",
    "#         if freq_char[char] != 0: \n",
    "#             sum += 1\n",
    "#             freq_char[char] -=1\n",
    "#             sum += numTilePossibilities()\n",
    "#             pass\n",
    "     \n",
    "#     print(freq_char)\n",
    "\n",
    "def prosibilityPermutation(freq_char: {}):\n",
    "    sum = 0\n",
    "    for char in freq_char:\n",
    "        if freq_char[char] != 0: \n",
    "            sum += 1\n",
    "            freq_char[char] -=1\n",
    "            sum += prosibilityPermutation(freq_char)\n",
    "            freq_char[char] +=1\n",
    "    return sum\n"
   ]
  },
  {
   "cell_type": "code",
   "execution_count": 23,
   "metadata": {},
   "outputs": [
    {
     "data": {
      "text/plain": [
       "188"
      ]
     },
     "execution_count": 23,
     "metadata": {},
     "output_type": "execute_result"
    }
   ],
   "source": [
    "# set_str = 'aaabb' \n",
    "# set(set_str)\n",
    "\n",
    "# numTilePossibilities('aaabb')\n",
    "# numTilePossibilities('aaaannnnvvvvadvdvdjjjk')\n",
    "# numTilePossibilities('AAB')\n",
    "numTilePossibilities('AAABBC')\n",
    "\n",
    "\n"
   ]
  },
  {
   "cell_type": "code",
   "execution_count": 25,
   "metadata": {},
   "outputs": [],
   "source": [
    "from itertools import permutations\n",
    "def numTilePossibilities_new(tiles: str) -> int:\n",
    "    res = set()\n",
    "    for i in range(1,len(tiles)+1):\n",
    "        res.update(tuple(permutations(tiles,i)))\n",
    "    return len(res)"
   ]
  },
  {
   "cell_type": "code",
   "execution_count": 27,
   "metadata": {},
   "outputs": [
    {
     "data": {
      "text/plain": [
       "8"
      ]
     },
     "execution_count": 27,
     "metadata": {},
     "output_type": "execute_result"
    }
   ],
   "source": [
    "# numTilePossibilities_new('AAABBC')\n",
    "numTilePossibilities_new('AAB')"
   ]
  }
 ],
 "metadata": {
  "kernelspec": {
   "display_name": "Python 3",
   "language": "python",
   "name": "python3"
  },
  "language_info": {
   "codemirror_mode": {
    "name": "ipython",
    "version": 3
   },
   "file_extension": ".py",
   "mimetype": "text/x-python",
   "name": "python",
   "nbconvert_exporter": "python",
   "pygments_lexer": "ipython3",
   "version": "3.7.1"
  }
 },
 "nbformat": 4,
 "nbformat_minor": 2
}
