{
 "nbformat": 4,
 "nbformat_minor": 2,
 "metadata": {
  "language_info": {
   "name": "python",
   "codemirror_mode": {
    "name": "ipython",
    "version": 3
   },
   "version": "3.7.1-final"
  },
  "orig_nbformat": 2,
  "file_extension": ".py",
  "mimetype": "text/x-python",
  "name": "python",
  "npconvert_exporter": "python",
  "pygments_lexer": "ipython3",
  "version": 3,
  "kernelspec": {
   "name": "python37164bitbasecondaac1a5e7daed444628f4977c32469be72",
   "display_name": "Python 3.7.1 64-bit ('base': conda)"
  }
 },
 "cells": [
  {
   "cell_type": "markdown",
   "execution_count": null,
   "metadata": {},
   "outputs": [],
   "source": [
    "## Probelm"
   ]
  },
  {
   "cell_type": "markdown",
   "execution_count": null,
   "metadata": {},
   "outputs": [],
   "source": [
    "Given an array arr.  You can choose a set of integers and remove all the occurrences of these integers in the array.\n",
    "Return the minimum size of the set so that at least half of the integers of the array are removed."
   ]
  },
  {
   "cell_type": "markdown",
   "execution_count": null,
   "metadata": {},
   "outputs": [],
   "source": [
    "Input: arr = [3,3,3,3,5,5,5,2,2,7]\n",
    "Output: 2\n",
    "Explanation: Choosing {3,7} will make the new array [5,5,5,2,2] which has size 5 (i.e equal to half of the size of the old array).\n",
    "Possible sets of size 2 are {3,5},{3,2},{5,2}.\n",
    "Choosing set {2,7} is not possible as it will make the new array [3,3,3,3,5,5,5] which has size greater than half of the size of the old array.\n",
    "\n",
    "Input: arr = [1,9]\n",
    "Output: 1"
   ]
  },
  {
   "cell_type": "code",
   "execution_count": null,
   "metadata": {},
   "outputs": [],
   "source": [
    "class Solution:\n",
    "    # def minSetSize(self, arr: List[int]) -> int:\n",
    "    def minSetSize(self, arr) -> int:\n",
    "        "
   ]
  },
  {
   "cell_type": "code",
   "execution_count": null,
   "metadata": {},
   "outputs": [],
   "source": [
    "# import pandas as pd\n",
    "from collections import Counter "
   ]
  },
  {
   "cell_type": "markdown",
   "execution_count": null,
   "metadata": {},
   "outputs": [],
   "source": [
    "#### First try"
   ]
  },
  {
   "cell_type": "code",
   "execution_count": null,
   "metadata": {},
   "outputs": [],
   "source": [
    "def minSetSize(arr) -> int:\n",
    "    total = len(arr)\n",
    "    half = total/2\n",
    "    frequency = dict(Counter(arr))\n",
    "    ordered = sorted(frequency,key= lambda x :frequency[x] ,reverse=True)\n",
    "    num = 0\n",
    "    while(total > half):\n",
    "        total -= frequency[ordered[num]]\n",
    "        num += 1\n",
    "    return num\n"
   ]
  },
  {
   "cell_type": "markdown",
   "execution_count": null,
   "metadata": {},
   "outputs": [],
   "source": [
    "#### Seond version"
   ]
  },
  {
   "cell_type": "code",
   "execution_count": null,
   "metadata": {},
   "outputs": [],
   "source": [
    "def minSetSize(arr) -> int:\n",
    "    half = len(arr)/2\n",
    "    frequency = dict(Counter(arr))\n",
    "    ordered = sorted(frequency,key= lambda x :frequency[x] ,reverse=True)\n",
    "    num = 0\n",
    "    total=0\n",
    "    while(total < half):\n",
    "        total += frequency[ordered[num]]\n",
    "        num += 1\n",
    "    return num\n"
   ]
  },
  {
   "cell_type": "markdown",
   "execution_count": null,
   "metadata": {},
   "outputs": [],
   "source": [
    "### Improve version"
   ]
  },
  {
   "cell_type": "code",
   "execution_count": null,
   "metadata": {},
   "outputs": [],
   "source": [
    "def minSetSize(arr) -> int:\n",
    "    half = len(arr)/2\n",
    "    ordered = sorted(dict(Counter(arr)).items(),key= lambda x :x[1] ,reverse=True)\n",
    "    num = 0\n",
    "    total=0\n",
    "\n",
    "    for item in ordered:\n",
    "        num += 1\n",
    "        total += item[1]\n",
    "        if(total >= half):\n",
    "            return num\n",
    "    return num\n",
    "    "
   ]
  },
  {
   "cell_type": "code",
   "execution_count": null,
   "metadata": {},
   "outputs": [],
   "source": [
    "# list = [3,3,3,3,5,5,5,2,2,7]\n",
    "list  =[1,9]\n",
    "minSetSize(list)"
   ]
  }
 ]
}