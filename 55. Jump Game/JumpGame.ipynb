{
 "cells": [
  {
   "cell_type": "markdown",
   "metadata": {},
   "source": [
    "# Problem"
   ]
  },
  {
   "cell_type": "code",
   "execution_count": null,
   "metadata": {},
   "outputs": [],
   "source": [
    "Given an array of non-negative integers, you are initially positioned at the first index of the array.\n",
    "Each element in the array represents your maximum jump length at that position.\n",
    "Determine if you are able to reach the last index."
   ]
  },
  {
   "cell_type": "code",
   "execution_count": null,
   "metadata": {},
   "outputs": [],
   "source": [
    "class Solution:\n",
    "    def canJump(self, nums: List[int]) -> bool:\n",
    "        "
   ]
  },
  {
   "cell_type": "markdown",
   "metadata": {},
   "source": [
    "# Examples"
   ]
  },
  {
   "cell_type": "markdown",
   "metadata": {},
   "source": [
    "Example 1:\n",
    "Input: nums = [2,3,1,1,4]\n",
    "Output: true\n",
    "Explanation: Jump 1 step from index 0 to 1, then 3 steps to the last index.\n",
    "    \n",
    "\n",
    "Example 2:\n",
    "Input: nums = [3,2,1,0,4]\n",
    "Output: false\n",
    "Explanation: You will always arrive at index 3 no matter what. Its maximum jump length is 0, which makes it impossible to reach the last index."
   ]
  },
  {
   "cell_type": "markdown",
   "metadata": {},
   "source": [
    "# My Algorithm"
   ]
  },
  {
   "cell_type": "code",
   "execution_count": 29,
   "metadata": {},
   "outputs": [],
   "source": [
    "def canJump(nums: [int]) -> bool:\n",
    "    length = len(nums)\n",
    "    if 0 not in nums or length ==1:\n",
    "        return True\n",
    "    revNums = nums[::-1]\n",
    "    idx = revNums.index(0)+1\n",
    "    interval = 1\n",
    "    result = False\n",
    "    while(idx<length):\n",
    "        if revNums[idx] > 0 and revNums[idx] > interval:\n",
    "            result=True\n",
    "            interval = 0\n",
    "        else:\n",
    "            result = False\n",
    "            interval += 1\n",
    "        idx+=1\n",
    "    return result\n",
    "        "
   ]
  },
  {
   "cell_type": "code",
   "execution_count": 88,
   "metadata": {},
   "outputs": [],
   "source": [
    "def canJump(nums: [int]) -> bool:\n",
    "    length = len(nums)\n",
    "    if 0 not in set(nums) or length ==1:\n",
    "        return True\n",
    "    idx = length-1\n",
    "    interval = 0\n",
    "    result = True\n",
    "    while(idx>=0):\n",
    "        if nums[idx] > 0 and ( nums[idx] > interval or nums[idx]+idx==length-1):\n",
    "            result=True\n",
    "            interval = 0\n",
    "        else:\n",
    "            result = False\n",
    "            interval += 1\n",
    "        idx-=1\n",
    "    return result\n"
   ]
  },
  {
   "cell_type": "markdown",
   "metadata": {},
   "source": [
    "# Alternative algorithms"
   ]
  },
  {
   "cell_type": "code",
   "execution_count": 152,
   "metadata": {},
   "outputs": [],
   "source": [
    "#         print('IDX: ', idx ,'  nums[idx] : ', nums[idx], ' Interval :', interval)\n",
    "def canJump(nums: [int]) -> bool:\n",
    "    length = len(nums)\n",
    "    next_max=0\n",
    "    for idx in range(length):\n",
    "        if idx <= next_max:\n",
    "            next_max = max(nums[idx]+idx, next_max)\n",
    "        if next_max>=length-1:\n",
    "            return True\n",
    "    return False"
   ]
  },
  {
   "cell_type": "code",
   "execution_count": 160,
   "metadata": {},
   "outputs": [],
   "source": [
    "def canJump(nums: [int]) -> bool:\n",
    "    length = len(nums)\n",
    "    if length <=1:\n",
    "        return True\n",
    "    next_max=0\n",
    "    for idx,num in enumerate(nums):\n",
    "        if idx <= next_max:\n",
    "            next_max = max(num+idx, next_max)\n",
    "        if next_max>=length-1:\n",
    "            return True\n",
    "    return False\n"
   ]
  },
  {
   "cell_type": "markdown",
   "metadata": {},
   "source": [
    "# Sample Input and Test"
   ]
  },
  {
   "cell_type": "code",
   "execution_count": 163,
   "metadata": {},
   "outputs": [
    {
     "data": {
      "text/plain": [
       "True"
      ]
     },
     "execution_count": 163,
     "metadata": {},
     "output_type": "execute_result"
    }
   ],
   "source": [
    "nums = [2,3,1,1,4]\n",
    "canJump(nums)\n",
    "# True\n",
    "\n",
    "# nums = [3,2,1,0,4]\n",
    "# canJump(nums)\n",
    "# # False"
   ]
  },
  {
   "cell_type": "code",
   "execution_count": 162,
   "metadata": {},
   "outputs": [
    {
     "data": {
      "text/plain": [
       "False"
      ]
     },
     "execution_count": 162,
     "metadata": {},
     "output_type": "execute_result"
    }
   ],
   "source": [
    "nums = [0]\n",
    "canJump(nums)\n",
    "# True\n",
    "\n",
    "# nums = [5, 0, 0, 0, 0, 1, 5]\n",
    "# canJump(nums)\n",
    "# # True\n",
    "\n",
    "# nums = [2, 0, 0]\n",
    "# canJump(nums)\n",
    "# # True\n",
    "\n",
    "# nums = [2, 1 , 0, 0]\n",
    "# canJump(nums)\n",
    "# # False\n",
    "\n",
    "# nums = [0, 2, 3]\n",
    "# canJump(nums)\n",
    "# # False\n"
   ]
  }
 ],
 "metadata": {
  "kernelspec": {
   "display_name": "Python 3",
   "language": "python",
   "name": "python3"
  },
  "language_info": {
   "codemirror_mode": {
    "name": "ipython",
    "version": 3
   },
   "file_extension": ".py",
   "mimetype": "text/x-python",
   "name": "python",
   "nbconvert_exporter": "python",
   "pygments_lexer": "ipython3",
   "version": "3.7.1"
  }
 },
 "nbformat": 4,
 "nbformat_minor": 2
}
