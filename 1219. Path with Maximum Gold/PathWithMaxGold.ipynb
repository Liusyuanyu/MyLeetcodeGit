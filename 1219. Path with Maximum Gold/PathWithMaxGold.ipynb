{
 "cells": [
  {
   "cell_type": "markdown",
   "metadata": {},
   "source": [
    "# Problem"
   ],
   "execution_count": null,
   "outputs": []
  },
  {
   "cell_type": "code",
   "execution_count": null,
   "metadata": {},
   "outputs": [],
   "source": [
    "In a gold mine grid of size m * n, each cell in this mine has an integer representing the amount of gold in that cell, 0 if it is empty.\n",
    "Return the maximum amount of gold you can collect under the conditions:\n",
    "Every time you are located in a cell you will collect all the gold in that cell.\n",
    "From your position you can walk one step to the left, right, up or down.\n",
    "You can't visit the same cell more than once.\n",
    "Never visit a cell with 0 gold.\n",
    "You can start and stop collecting gold from any position in the grid that has some gold."
   ]
  },
  {
   "cell_type": "code",
   "execution_count": null,
   "metadata": {},
   "outputs": [],
   "source": [
    "class Solution:\n",
    "    def getMaximumGold(self, grid: List[List[int]]) -> int:\n",
    "        "
   ]
  },
  {
   "cell_type": "markdown",
   "metadata": {},
   "source": [
    "# Examples"
   ],
   "execution_count": null,
   "outputs": []
  },
  {
   "cell_type": "code",
   "execution_count": null,
   "metadata": {},
   "outputs": [],
   "source": [
    "Example 1:\n",
    "Input: grid = [[0,6,0],[5,8,7],[0,9,0]]\n",
    "Output: 24\n",
    "Explanation:\n",
    "[[0,6,0],\n",
    " [5,8,7],\n",
    " [0,9,0]]\n",
    "Path to get the maximum gold, 9 -> 8 -> 7.\n",
    "\n",
    "Example 2:\n",
    "Input: grid = [[1,0,7],[2,0,6],[3,4,5],[0,3,0],[9,0,20]]\n",
    "Output: 28\n",
    "Explanation:\n",
    "[[1,0,7],\n",
    " [2,0,6],\n",
    " [3,4,5],\n",
    " [0,3,0],\n",
    " [9,0,20]]\n",
    "Path to get the maximum gold, 1 -> 2 -> 3 -> 4 -> 5 -> 6 -> 7."
   ]
  },
  {
   "cell_type": "markdown",
   "execution_count": null,
   "metadata": {},
   "outputs": [],
   "source": [
    "# My Algorithm"
   ]
  },
  {
   "cell_type": "code",
   "execution_count": null,
   "metadata": {},
   "outputs": [],
   "source": [
    "class Solution:\n",
    "    four_dir=[[1,0],[0,1],[-1,0],[0,-1]]\n",
    "    \n",
    "    def getMaximumGold(self, grid: [[int]]) -> int:\n",
    "        self.rows = len(grid)\n",
    "        self.cols = len(grid[0])\n",
    "        max_mine = 0\n",
    "        for row in range(self.rows):\n",
    "            for col in range(self.cols):\n",
    "                local_max = self.dfs(grid, row,col)\n",
    "                if local_max > max_mine:\n",
    "                    max_mine=local_max\n",
    "        return max_mine\n",
    "\n",
    "    def dfs(self, grid, row, col):\n",
    "        if grid[row][col]==0:\n",
    "            return 0\n",
    "        \n",
    "        next_max = 0\n",
    "        step_max=0\n",
    "        local_val = grid[row][col]\n",
    "        grid[row][col] = 0\n",
    "        for dir in self.four_dir:\n",
    "            if row+dir[0] >= self.rows or row+dir[0] <0:\n",
    "                continue\n",
    "            if col+dir[1] >= self.cols or col+dir[1] <0:\n",
    "                continue\n",
    "            next_max = self.dfs(grid,row+dir[0],col+dir[1])\n",
    "            if next_max > step_max:\n",
    "                step_max = next_max\n",
    "\n",
    "        grid[row][col] = local_val\n",
    "        return step_max+local_val"
   ]
  },
  {
   "cell_type": "code",
   "execution_count": null,
   "metadata": {},
   "outputs": [],
   "source": [
    "def getMaximumGold(grid: [[int]]) -> int:\n",
    "    rows = len(grid)\n",
    "    cols = len(grid[0])\n",
    "    max_mine = 0\n",
    "    for row in range(rows):\n",
    "        for col in range(cols):\n",
    "            # local_max=0\n",
    "            # local_max = dfs(grid, row,col, local_max)\n",
    "            local_max = dfs(grid, row,col)\n",
    "            if local_max > max_mine:\n",
    "                max_mine=local_max\n",
    "    return max_mine\n",
    "\n",
    "four_dir=[[1,0],[0,1],[-1,0],[0,-1]]\n",
    "\n",
    "def dfs(grid, row, col):\n",
    "    if grid[row][col]==0:\n",
    "        return 0\n",
    "    next_max = 0\n",
    "    step_max=0\n",
    "    local_val = grid[row][col]\n",
    "    grid[row][col] = 0\n",
    "    for dir in four_dir:\n",
    "        if row+dir[0] >= len(grid) or row+dir[0] <0:\n",
    "            continue\n",
    "        if col+dir[1] >= len(grid[0]) or col+dir[1] <0:\n",
    "            continue\n",
    "        next_max = dfs(grid,row+dir[0],col+dir[1])\n",
    "        if next_max > step_max:\n",
    "            step_max = next_max\n",
    "\n",
    "    grid[row][col] = local_val\n",
    "    return step_max+local_val"
   ]
  },
  {
   "cell_type": "markdown",
   "execution_count": null,
   "metadata": {},
   "outputs": [],
   "source": [
    "## Improve"
   ]
  },
  {
   "cell_type": "code",
   "execution_count": null,
   "metadata": {},
   "outputs": [],
   "source": [
    "class Solution:\n",
    "    four_dir=[[1,0],[0,1],[-1,0],[0,-1]]\n",
    "    def getMaximumGold(self, grid: [[int]]) -> int:\n",
    "        self.path = set()\n",
    "        self.rows = len(grid)\n",
    "        self.cols = len(grid[0])\n",
    "        self.grid=grid\n",
    "        max_mine = 0\n",
    "        for row in range(self.rows):\n",
    "            for col in range(self.cols):\n",
    "                if (row,col) not in self.path:\n",
    "                    local_max = self.dfs(row,col)\n",
    "                    if local_max > max_mine:\n",
    "                        max_mine=local_max\n",
    "        return max_mine\n",
    "\n",
    "    def dfs(self, row, col):\n",
    "        next_max = 0\n",
    "        step_max=0\n",
    "        self.path.add((row,col))\n",
    "        self.grid[row][col] *= -1\n",
    "        for dir in self.four_dir:\n",
    "            new_row = row+dir[0]\n",
    "            new_col = col+dir[1]\n",
    "            if new_row >=0 and new_row<self.rows:\n",
    "                if new_col >=0 and new_col<self.cols:\n",
    "                    if self.grid[new_row][new_col]>0:\n",
    "                        next_max = self.dfs(new_row,new_col)\n",
    "                        if next_max > step_max:\n",
    "                            step_max = next_max\n",
    "        \n",
    "        self.grid[row][col] *= -1\n",
    "        return step_max+self.grid[row][col]"
   ]
  },
  {
   "cell_type": "markdown",
   "execution_count": null,
   "metadata": {},
   "outputs": [],
   "source": [
    "# Sample Input and Test"
   ]
  },
  {
   "cell_type": "code",
   "execution_count": null,
   "metadata": {},
   "outputs": [],
   "source": [
    "# Input: \n",
    "grid = [[0,6,0],[5,8,7],[0,9,0]]\n",
    "# Output: 24\n",
    "\n",
    "# # Input: \n",
    "# grid = [[1,0,7],[2,0,6],[3,4,5],[0,3,0],[9,0,20]]\n",
    "# # Output: 28\n",
    "\n",
    "getMaximumGold(grid)"
   ]
  },
  {
   "cell_type": "code",
   "execution_count": null,
   "metadata": {},
   "outputs": [],
   "source": [
    "sol = Solution()\n",
    "sol.getMaximumGold(grid)"
   ]
  }
 ],
 "metadata": {
  "kernelspec": {
   "display_name": "Python 3",
   "language": "python",
   "name": "python3"
  },
  "language_info": {
   "codemirror_mode": {
    "name": "ipython",
    "version": 3
   },
   "file_extension": ".py",
   "mimetype": "text/x-python",
   "name": "python",
   "nbconvert_exporter": "python",
   "pygments_lexer": "ipython3",
   "version": "3.7.5-final"
  }
 },
 "nbformat": 4,
 "nbformat_minor": 2
}