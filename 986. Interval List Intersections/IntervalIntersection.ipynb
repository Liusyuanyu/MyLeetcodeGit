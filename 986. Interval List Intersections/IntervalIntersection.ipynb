{
 "cells": [
  {
   "cell_type": "code",
   "execution_count": null,
   "metadata": {},
   "outputs": [],
   "source": [
    "# class Solution:\n",
    "#     def intervalIntersection(self, A: List[List[int]], B: List[List[int]]) -> List[List[int]]:"
   ]
  },
  {
   "cell_type": "markdown",
   "execution_count": null,
   "metadata": {},
   "outputs": [],
   "source": [
    "Given two lists of closed intervals, each list of intervals is pairwise disjoint and in sorted order.\n",
    "Return the intersection of these two interval lists.\n",
    "(Formally, a closed interval [a, b] (with a <= b) denotes the set of real numbers x with a <= x <= b.  The intersection of two closed intervals is a set of real numbers that is either empty, or can be represented as a closed interval.  For example, the intersection of [1, 3] and [2, 4] is [2, 3].)\n",
    "\n",
    "\n",
    "Input: A = [[0,2],[5,10],[13,23],[24,25]], B = [[1,5],[8,12],[15,24],[25,26]]\n",
    "Output: [[1,2],[5,5],[8,10],[15,23],[24,24],[25,25]]\n",
    "Reminder: The inputs and the desired output are lists of Interval objects, and not arrays or lists."
   ]
  },
  {
   "cell_type": "code",
   "execution_count": null,
   "metadata": {},
   "outputs": [],
   "source": [
    "A = [[0,2],[5,10],[13,23],[24,25]]\n",
    "B = [[1,5],[8,12],[15,24],[25,26]]\n",
    "# Output: [[1,2],[5,5],[8,10],[15,23],[24,24],[25,25]]\n",
    "\n",
    "\n",
    "# A=[[2,7],[16,17],[27,33],[61,67],[70,71],[78,86]]\n",
    "# B=[[1,8],[39,45],[47,52],[55,64],[68,69],[73,97]]"
   ]
  },
  {
   "cell_type": "markdown",
   "execution_count": null,
   "metadata": {},
   "outputs": [],
   "source": [
    "## Correct solution"
   ]
  },
  {
   "cell_type": "code",
   "execution_count": null,
   "metadata": {},
   "outputs": [],
   "source": [
    "A_ind = 0\n",
    "B_ind = 0\n",
    "result = []\n",
    "while A_ind < len(A) and B_ind < len(B):\n",
    "    if A[A_ind][1] < B[B_ind][0]:\n",
    "        A_ind+=1\n",
    "    elif B[B_ind][1] < A[A_ind][0]:\n",
    "        B_ind+=1\n",
    "    else:\n",
    "        result.append( [max(A[A_ind][0],B[B_ind][0]), min(A[A_ind][1],B[B_ind][1])] )\n",
    "\n",
    "        if A[A_ind][1] <= B[B_ind][1]:\n",
    "            A_ind +=1\n",
    "        elif B[B_ind][1] <= A[A_ind][1]:\n",
    "            B_ind +=1\n",
    "\n",
    "result"
   ]
  },
  {
   "cell_type": "markdown",
   "execution_count": null,
   "metadata": {},
   "outputs": [],
   "source": [
    "## Correct but cannot handle too long list(<10**9) Exceed memory limit"
   ]
  },
  {
   "cell_type": "code",
   "execution_count": null,
   "metadata": {},
   "outputs": [],
   "source": [
    "length = (max(A[-1][1],B[-1][1]))+1\n",
    "\n",
    "A_clock=[-1]*length\n",
    "B_clock=[-1]*length\n",
    "\n",
    "for interval in A:\n",
    "    start = interval[0]\n",
    "    end = interval[1]\n",
    "    mid_len = end - start -1\n",
    "    A_clock[start] = 0\n",
    "    A_clock[end] = 2\n",
    "    A_clock[start+1:end] = [1]*mid_len\n",
    "\n",
    "for interval in B:\n",
    "    start = interval[0]\n",
    "    end = interval[1]\n",
    "    mid_len = end - start -1\n",
    "    B_clock[start] = 0\n",
    "    B_clock[end] = 2\n",
    "    B_clock[start+1:end] = [1]*mid_len"
   ]
  },
  {
   "cell_type": "code",
   "execution_count": null,
   "metadata": {},
   "outputs": [],
   "source": [
    "result =[]\n",
    "start = -1\n",
    "for sec in range(length):\n",
    "    # print(sec)\n",
    "    if(A_clock[sec] != -1) and (B_clock[sec] != -1):\n",
    "        if (A_clock[sec] ==0 and B_clock[sec]==2) or (A_clock[sec] ==2 and B_clock[sec]==0):\n",
    "            result.append([sec,sec])\n",
    "        elif (A_clock[sec] == 2) or (B_clock[sec] == 2):\n",
    "            if start != -1:\n",
    "                # print(start,' , ', sec -1)\n",
    "                result.append([start,sec])\n",
    "                start = -1\n",
    "        elif start == -1:\n",
    "            start = sec\n",
    "result\n",
    "# Output: [[1,2],[5,5],[8,10],[15,23],[24,24],[25,25]]"
   ]
  }
 ],
 "metadata": {
  "kernelspec": {
   "display_name": "Python 3",
   "language": "python",
   "name": "python3"
  },
  "language_info": {
   "codemirror_mode": {
    "name": "ipython",
    "version": 3
   },
   "file_extension": ".py",
   "mimetype": "text/x-python",
   "name": "python",
   "nbconvert_exporter": "python",
   "pygments_lexer": "ipython3",
   "version": "3.7.1-final"
  }
 },
 "nbformat": 4,
 "nbformat_minor": 2
}