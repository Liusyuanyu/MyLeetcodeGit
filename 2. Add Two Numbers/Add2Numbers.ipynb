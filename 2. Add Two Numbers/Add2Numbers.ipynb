{
 "cells": [
  {
   "cell_type": "markdown",
   "metadata": {},
   "source": [
    "# Problem"
   ]
  },
  {
   "cell_type": "code",
   "execution_count": null,
   "metadata": {},
   "outputs": [],
   "source": [
    "You are given two non-empty linked lists representing two non-negative integers. The digits are stored in reverse order and each of their nodes contain a single digit. Add the two numbers and return it as a linked list.\n",
    "You may assume the two numbers do not contain any leading zero, except the number 0 itself."
   ]
  },
  {
   "cell_type": "code",
   "execution_count": null,
   "metadata": {},
   "outputs": [],
   "source": [
    "# Definition for singly-linked list.\n",
    "# class ListNode:\n",
    "#     def __init__(self, val=0, next=None):\n",
    "#         self.val = val\n",
    "#         self.next = next\n",
    "class Solution:\n",
    "    def addTwoNumbers(self, l1: ListNode, l2: ListNode) -> ListNode:\n",
    "        "
   ]
  },
  {
   "cell_type": "markdown",
   "metadata": {},
   "source": [
    "# Examples"
   ]
  },
  {
   "cell_type": "code",
   "execution_count": null,
   "metadata": {},
   "outputs": [],
   "source": [
    "Input: (2 -> 4 -> 3) + (5 -> 6 -> 4)\n",
    "Output: 7 -> 0 -> 8\n",
    "Explanation: 342 + 465 = 807."
   ]
  },
  {
   "cell_type": "code",
   "execution_count": null,
   "metadata": {},
   "outputs": [],
   "source": [
    "class ListNode:\n",
    "    def __init__(self, val=0, next=None):\n",
    "        self.val = val\n",
    "        self.next = next"
   ]
  },
  {
   "cell_type": "markdown",
   "metadata": {},
   "source": [
    "# My Algorithm"
   ]
  },
  {
   "cell_type": "code",
   "execution_count": null,
   "metadata": {},
   "outputs": [],
   "source": [
    "def addTwoNumbers(l1: ListNode, l2: ListNode) -> ListNode:\n",
    "    carry = 0\n",
    "    res=None\n",
    "    nextNode = None\n",
    "    while(l1 or l2):\n",
    "        if l1 is None:\n",
    "            nums = l2.val + carry\n",
    "            l2 = l2.next\n",
    "        elif l2 is None:\n",
    "            nums = l1.val + carry\n",
    "            l1 = l1.next\n",
    "        else:\n",
    "            nums = l1.val + l2.val + carry\n",
    "            l1 = l1.next\n",
    "            l2 = l2.next\n",
    "\n",
    "        if nums > 9:\n",
    "            carry=1\n",
    "            nums -=10\n",
    "        else:\n",
    "            carry=0\n",
    "\n",
    "        node = ListNode(val=nums)\n",
    "        if res is None:\n",
    "            res = node\n",
    "            nextNode = node\n",
    "        else:\n",
    "            nextNode.next = node\n",
    "            nextNode = node\n",
    "    if carry:\n",
    "        nextNode.next= ListNode(val=1)\n",
    "    return res"
   ]
  },
  {
   "cell_type": "code",
   "execution_count": null,
   "metadata": {},
   "outputs": [],
   "source": [
    "def addTwoNumbers(l1: ListNode, l2: ListNode) -> ListNode:\n",
    "    carry = 0\n",
    "    res=ListNode()\n",
    "    nextNode = res\n",
    "    while(l1 or l2):\n",
    "        if l1 is None: \n",
    "            val1 = 0 \n",
    "        else: \n",
    "            val1=l1.val\n",
    "            l1 = l1.next\n",
    "        if l2 is None:\n",
    "            val2 = 0 \n",
    "        else:\n",
    "            val2=l2.val\n",
    "            l2 = l2.next\n",
    "        nums = val1+val2+carry\n",
    "        val = nums%10\n",
    "        carry = nums//10\n",
    "        nextNode.next = ListNode(val=val)\n",
    "        nextNode = nextNode.next\n",
    "    if carry:\n",
    "        nextNode.next= ListNode(val=1)\n",
    "    return res.next"
   ]
  },
  {
   "cell_type": "markdown",
   "metadata": {},
   "source": [
    "# Alternative algorithms"
   ]
  },
  {
   "cell_type": "code",
   "execution_count": null,
   "metadata": {},
   "outputs": [],
   "source": [
    "def addTwoNumbers(l1: ListNode, l2: ListNode) -> ListNode:\n",
    "    def translate(root):\n",
    "        digit = 1\n",
    "        res = 0\n",
    "        while(root):\n",
    "            res += digit*root.val\n",
    "            digit *=10\n",
    "            root = root.next\n",
    "        return res\n",
    "    result = translate(l1)\n",
    "    result += translate(l2)\n",
    "    result =str(result)\n",
    "    reList = None\n",
    "    while(result):\n",
    "        mod = result[0]\n",
    "        result = result[1:]\n",
    "        reList = ListNode(int(mod), reList)\n",
    "    return reList"
   ]
  },
  {
   "cell_type": "code",
   "execution_count": null,
   "metadata": {},
   "outputs": [],
   "source": [
    "def addTwoNumbers(l1: ListNode, l2: ListNode) -> ListNode:\n",
    "    carry = 0\n",
    "    res=ListNode()\n",
    "    nextNode = res\n",
    "    while(l1 or l2 or carry):\n",
    "        val1 = l1.val if l1 else 0\n",
    "        val2 = l2.val if l2 else 0\n",
    "\n",
    "        val = (val1+val2+carry)%10\n",
    "        carry = (val1+val2+carry)//10\n",
    "        nextNode.next = ListNode(val=val)\n",
    "        nextNode = nextNode.next\n",
    "\n",
    "        l1 = l1.next if l1 else None\n",
    "        l2 = l2.next if l2 else None\n",
    "\n",
    "    if carry:\n",
    "        nextNode.next= ListNode(val=1)\n",
    "    return res.next"
   ]
  },
  {
   "cell_type": "markdown",
   "metadata": {},
   "source": [
    "# Sample Input and Test"
   ]
  },
  {
   "cell_type": "code",
   "execution_count": null,
   "metadata": {},
   "outputs": [],
   "source": [
    "l1 = ListNode(8)\n",
    "l1 = ListNode(1, l1)\n",
    "prinlist(l1)\n",
    "\n",
    "l2 = ListNode(0)\n",
    "prinlist(l2)\n",
    "\n",
    "res = addTwoNumbers(l1, l2)\n",
    "prinlist(res)"
   ]
  },
  {
   "cell_type": "code",
   "execution_count": null,
   "metadata": {},
   "outputs": [],
   "source": [
    "# Input: (5) + (5)\n",
    "# Output: 0 -> 1\n",
    "\n",
    "l1 = ListNode(5)\n",
    "prinlist(l1)\n",
    "\n",
    "l2 = ListNode(5)\n",
    "prinlist(l2)\n",
    "\n",
    "res = addTwoNumbers(l1, l2)\n",
    "prinlist(res)"
   ]
  },
  {
   "cell_type": "code",
   "execution_count": null,
   "metadata": {},
   "outputs": [],
   "source": [
    "# Input: (2 -> 4 -> 3) + (5 -> 6)\n",
    "# Output: 7 -> 0 -> 4\n",
    "# Explanation: 342 + 465 = 807.\n",
    "\n",
    "l1 = ListNode(3)\n",
    "l1 = ListNode(4, l1)\n",
    "l1 = ListNode(2, l1)\n",
    "prinlist(l1)\n",
    "\n",
    "l2 = ListNode(4)\n",
    "l2 = ListNode(6, l2)\n",
    "l2 = ListNode(5, l2)\n",
    "prinlist(l2)\n",
    "\n",
    "res = addTwoNumbers(l1, l2)\n",
    "prinlist(res)"
   ]
  },
  {
   "cell_type": "code",
   "execution_count": null,
   "metadata": {},
   "outputs": [],
   "source": [
    "l1 = ListNode(1)\n",
    "prinlist(l1)\n",
    "\n",
    "l2 = ListNode(9)\n",
    "l2 = ListNode(9, l2)\n",
    "prinlist(l2)\n",
    "\n",
    "res = addTwoNumbers(l1, l2)\n",
    "prinlist(res)"
   ]
  },
  {
   "cell_type": "markdown",
   "metadata": {},
   "source": [
    "# Print list"
   ]
  },
  {
   "cell_type": "code",
   "execution_count": null,
   "metadata": {},
   "outputs": [],
   "source": [
    "def prinlist(root):\n",
    "    while(root):\n",
    "        print(root.val, end='')\n",
    "        root = root.next\n",
    "        if root:\n",
    "            print(' -> ', end='')\n",
    "    print()"
   ]
  }
 ],
 "metadata": {
  "kernelspec": {
   "display_name": "Python 3",
   "language": "python",
   "name": "python3"
  },
  "language_info": {
   "codemirror_mode": {
    "name": "ipython",
    "version": 3
   },
   "file_extension": ".py",
   "mimetype": "text/x-python",
   "name": "python",
   "nbconvert_exporter": "python",
   "pygments_lexer": "ipython3",
   "version": "3.7.5-final"
  }
 },
 "nbformat": 4,
 "nbformat_minor": 2
}