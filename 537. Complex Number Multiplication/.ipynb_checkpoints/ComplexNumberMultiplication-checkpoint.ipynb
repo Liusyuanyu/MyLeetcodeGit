{
 "cells": [
  {
   "cell_type": "code",
   "execution_count": null,
   "metadata": {},
   "outputs": [],
   "source": [
    "class Solution:\n",
    "    def complexNumberMultiply(self, a: str, b: str) -> str:\n",
    "        return \"\""
   ]
  },
  {
   "cell_type": "code",
   "execution_count": 146,
   "metadata": {},
   "outputs": [],
   "source": [
    "def complexNumberMultiply( a: str, b: str) -> str:\n",
    "    nums = a.split(\"+\")\n",
    "    nums[1] = nums[1][:-1]\n",
    "    num_com_1 = complex(int(nums[0]),int(nums[1]))\n",
    "\n",
    "    nums = b.split(\"+\")\n",
    "    nums[1] = nums[1][:-1]\n",
    "    num_com_2 = complex(int(nums[0]),int(nums[1]))\n",
    "    \n",
    "    result = num_com_1 * num_com_2\n",
    "    result=str(int(result.real))+\"+\"+str(int(result.imag))+\"i\"\n",
    "    return result"
   ]
  },
  {
   "cell_type": "code",
   "execution_count": null,
   "metadata": {},
   "outputs": [],
   "source": [
    "def complexNumberMultiply( a: str, b: str) -> str:\n",
    "    nums = a.split(\"+\")\n",
    "    nums[0] = (int)nums[0]\n",
    "    nums[1] = (int)nums[1][:-1]\n",
    "    num_com_1 = nums\n",
    "\n",
    "    nums = b.split(\"+\")\n",
    "    nums[0] = (int)nums[0]\n",
    "    nums[1] = (int)nums[1][:-1]\n",
    "    num_com_2 = nums\n",
    "    \n",
    "    real = (num_com_1[0]*num_com_2[0] - (num_com_1[1]*num_com_1[1]))\n",
    "    imaginary = (num_com_1[0]*num_com_2[1] + num_com_1[1]*num_com_2[0])\n",
    "    result='%s+%si'%(real, imaginary)\n",
    "    return result\n",
    "\n",
    "\n",
    "'%s+%si'%(real, image)"
   ]
  },
  {
   "cell_type": "code",
   "execution_count": 149,
   "metadata": {},
   "outputs": [
    {
     "data": {
      "text/plain": [
       "'3+1i'"
      ]
     },
     "execution_count": 149,
     "metadata": {},
     "output_type": "execute_result"
    }
   ],
   "source": [
    "first_str = '1+2i'\n",
    "sec_str = '1+-1i'\n",
    "# \"1+1i\", \"1+1i\"\n",
    "\n",
    "nums = first_str.split(\"+\")\n",
    "# nums = sec_str.split(\"+\")\n",
    "# nums[1] = nums[1].replace('i','')\n",
    "# num_com = complex(int(nums[0]),int(nums[1]))\n",
    "\n",
    "# str(int(num_com.real))+\"+\"+str(int(num_com.imag))+\"i\"\n",
    "\n",
    "complexNumberMultiply(first_str,sec_str)\n",
    "\n",
    "# nums[1][:-1]"
   ]
  },
  {
   "cell_type": "code",
   "execution_count": 145,
   "metadata": {},
   "outputs": [
    {
     "data": {
      "text/plain": [
       "0.008004903793334961"
      ]
     },
     "execution_count": 145,
     "metadata": {},
     "output_type": "execute_result"
    }
   ],
   "source": [
    "import time\n",
    "\n",
    "start_time = time.time()\n",
    "\n",
    "for i in range(10000):\n",
    "    nums = first_str.split(\"+\")\n",
    "    nums[1] = nums[1][:-1]\n",
    "\n",
    "\n",
    "elapsed_time = time.time() - start_time\n",
    "elapsed_time"
   ]
  },
  {
   "cell_type": "code",
   "execution_count": 129,
   "metadata": {},
   "outputs": [
    {
     "data": {
      "text/plain": [
       "0.01096963882446289"
      ]
     },
     "execution_count": 129,
     "metadata": {},
     "output_type": "execute_result"
    }
   ],
   "source": [
    "import time\n",
    "\n",
    "start_time = time.time()\n",
    "\n",
    "for i in range(10000):\n",
    "    nums = first_str.split(\"+\")\n",
    "    nums[1] = nums[1].replace('i','')\n",
    "\n",
    "elapsed_time = time.time() - start_time\n",
    "elapsed_time"
   ]
  }
 ],
 "metadata": {
  "kernelspec": {
   "display_name": "Python 3",
   "language": "python",
   "name": "python3"
  },
  "language_info": {
   "codemirror_mode": {
    "name": "ipython",
    "version": 3
   },
   "file_extension": ".py",
   "mimetype": "text/x-python",
   "name": "python",
   "nbconvert_exporter": "python",
   "pygments_lexer": "ipython3",
   "version": "3.7.1"
  }
 },
 "nbformat": 4,
 "nbformat_minor": 2
}
