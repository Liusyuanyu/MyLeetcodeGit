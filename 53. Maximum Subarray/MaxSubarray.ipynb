{
 "cells": [
  {
   "cell_type": "markdown",
   "metadata": {},
   "source": [
    "# Problem"
   ]
  },
  {
   "cell_type": "code",
   "execution_count": null,
   "metadata": {},
   "outputs": [],
   "source": [
    "Given an integer array nums, find the contiguous subarray (containing at least one number) which has the largest sum and return its sum."
   ]
  },
  {
   "cell_type": "code",
   "execution_count": null,
   "metadata": {},
   "outputs": [],
   "source": [
    "class Solution:\n",
    "    def maxSubArray(self, nums: List[int]) -> int:\n",
    "        "
   ]
  },
  {
   "cell_type": "markdown",
   "metadata": {},
   "source": [
    "# Examples"
   ]
  },
  {
   "cell_type": "code",
   "execution_count": null,
   "metadata": {},
   "outputs": [],
   "source": [
    "Input: [-2,1,-3,4,-1,2,1,-5,4],\n",
    "Output: 6\n",
    "Explanation: [4,-1,2,1] has the largest sum = 6.\n",
    "\n",
    "Input: [-1, -2],\n",
    "Output: -1\n",
    "\n",
    "Input: [-2, 1],\n",
    "Output: 1"
   ]
  },
  {
   "cell_type": "markdown",
   "metadata": {},
   "source": [
    "# My Algorithm"
   ]
  },
  {
   "cell_type": "code",
   "execution_count": null,
   "metadata": {},
   "outputs": [],
   "source": [
    "## Wrong Answer\n",
    "\n",
    "# def maxSubArray(nums: [int]) -> int:\n",
    "#     maxVal = -float('inf')\n",
    "#     # maxVal = None\n",
    "#     def findSubMax(start, end):\n",
    "#         if start > end:\n",
    "#             return\n",
    "#         total = sum(nums[start:end+1])\n",
    "#         if not maxVal or maxVal < total:\n",
    "#             maxVal = total\n",
    "\n",
    "#         if nums[start] > nums[end]:\n",
    "#             findSubMax(start, end-1)\n",
    "#         elif nums[start] < nums[end]:\n",
    "#             findSubMax(start+1, end)\n",
    "#         else:\n",
    "#             findSubMax(start, end-1)\n",
    "#             findSubMax(start-1, end)\n",
    "#     findSubMax(0, len(nums)-1)\n",
    "#     return maxVal"
   ]
  },
  {
   "cell_type": "code",
   "execution_count": null,
   "metadata": {},
   "outputs": [],
   "source": [
    "def maxSubArray(nums: [int]) -> int:\n",
    "    if len(nums)==1:\n",
    "        return nums[0]\n",
    "    for idx in range(1, len(nums)):\n",
    "        if nums[idx-1] > 0:\n",
    "            nums[idx] = nums[idx-1]+nums[idx]\n",
    "    return max(nums)"
   ]
  },
  {
   "cell_type": "markdown",
   "metadata": {},
   "source": [
    "# Alternative algorithms"
   ]
  },
  {
   "cell_type": "code",
   "execution_count": null,
   "metadata": {},
   "outputs": [],
   "source": [
    "def maxSubArray(nums: [int]) -> int:\n",
    "    maxVal= -float('inf')\n",
    "    cur_sum = 0\n",
    "    for num in nums:\n",
    "        cur_sum += num\n",
    "        maxVal = max(cur_sum, maxVal)\n",
    "        if cur_sum < 0:\n",
    "            cur_sum=0\n",
    "    return maxVal\n"
   ]
  },
  {
   "cell_type": "markdown",
   "metadata": {},
   "source": [
    "# Sample Input and Test"
   ]
  },
  {
   "cell_type": "code",
   "execution_count": null,
   "metadata": {},
   "outputs": [],
   "source": [
    "Input= [-2,1,-3,4,-1,2,1,-5,4]\n",
    "# Output: 6\n",
    "# Explanation: [4,-1,2,1] has the largest sum = 6.\n",
    "maxSubArray(Input)"
   ]
  },
  {
   "cell_type": "code",
   "execution_count": null,
   "metadata": {},
   "outputs": [],
   "source": [
    "# Input= [-5]\n",
    "# # Output: -5\n",
    "# maxSubArray(Input)\n",
    "\n",
    "Input= [-2, 1]\n",
    "# Output: 1\n",
    "maxSubArray(Input)"
   ]
  },
  {
   "cell_type": "code",
   "execution_count": null,
   "metadata": {},
   "outputs": [],
   "source": [
    "Input= [-1, -2]\n",
    "# Output: -1\n",
    "maxSubArray(Input)"
   ]
  },
  {
   "cell_type": "code",
   "execution_count": null,
   "metadata": {},
   "outputs": [],
   "source": [
    "Input= [1,2,3, -4, 3, 1, 2]\n",
    "# Output: 8\n",
    "# Input= [1,-2,3, -4, 3, -1, 2]\n",
    "# # Output: 6\n",
    "maxSubArray(Input)"
   ]
  }
 ],
 "metadata": {
  "kernelspec": {
   "display_name": "Python 3",
   "language": "python",
   "name": "python3"
  },
  "language_info": {
   "codemirror_mode": {
    "name": "ipython",
    "version": 3
   },
   "file_extension": ".py",
   "mimetype": "text/x-python",
   "name": "python",
   "nbconvert_exporter": "python",
   "pygments_lexer": "ipython3",
   "version": "3.7.5-final"
  }
 },
 "nbformat": 4,
 "nbformat_minor": 2
}