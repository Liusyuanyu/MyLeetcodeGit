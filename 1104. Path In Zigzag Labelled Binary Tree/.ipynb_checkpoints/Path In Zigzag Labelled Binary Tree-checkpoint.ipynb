{
 "cells": [
  {
   "cell_type": "code",
   "execution_count": 100,
   "metadata": {},
   "outputs": [
    {
     "data": {
      "text/plain": [
       "[1, 2, 6, 10, 26]"
      ]
     },
     "execution_count": 100,
     "metadata": {},
     "output_type": "execute_result"
    }
   ],
   "source": [
    "# import List\n",
    "import math\n",
    "\n",
    "class Solution:\n",
    "#     def pathInZigZagTree(self, label: int) -> list[int]:\n",
    "    def pathInZigZagTree(self, label: int) -> list:\n",
    "        label_level = math.log2(label)\n",
    "        label_level = math.floor(label_level)+1\n",
    "        \n",
    "        result = [label]\n",
    "        pre_label = label\n",
    "        for level in range(label_level,1,-1):\n",
    "            last_val = 2**(level-1)-1\n",
    "            label_position = pre_label - last_val\n",
    "            label_position = math.ceil(label_position/2)\n",
    "            if level%2 ==0:\n",
    "                #Even\n",
    "                label_position=2**(level-2) - label_position  + 1\n",
    "                pre_label = label_position+ 2**(level-2) -1\n",
    "            else:#Obb\n",
    "                label_position= label_position\n",
    "                pre_label =2**(level-1) -  label_position\n",
    "            result.append(pre_label)\n",
    "        \n",
    "        return result[::-1]\n",
    "        \n",
    "\n",
    "solution = Solution()\n",
    "# solution.pathInZigZagTree(15)\n",
    "# solution.pathInZigZagTree(12)\n",
    "solution.pathInZigZagTree(26)\n",
    "# solution.pathInZigZagTree(14)\n",
    "# solution.pathInZigZagTree(1)\n",
    "\n",
    "# solution.sumOfPowers(2,2)\n",
    "# solution.sumOfTwoPowers(2)\n",
    "\n",
    "\n",
    "# for level in range(4,0,-1):\n",
    "#     print(level)\n",
    "#     pass\n",
    "\n"
   ]
  }
 ],
 "metadata": {
  "kernelspec": {
   "display_name": "Python 3",
   "language": "python",
   "name": "python3"
  },
  "language_info": {
   "codemirror_mode": {
    "name": "ipython",
    "version": 3
   },
   "file_extension": ".py",
   "mimetype": "text/x-python",
   "name": "python",
   "nbconvert_exporter": "python",
   "pygments_lexer": "ipython3",
   "version": "3.7.1"
  }
 },
 "nbformat": 4,
 "nbformat_minor": 2
}
