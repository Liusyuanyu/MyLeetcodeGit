{
 "cells": [
  {
   "cell_type": "markdown",
   "metadata": {},
   "source": [
    "class Solution:\n",
    "    def countBits(self, num: int) -> List[int]:"
   ]
  },
  {
   "cell_type": "code",
   "execution_count": null,
   "metadata": {},
   "outputs": [],
   "source": [
    "def countBits(num: int):\n",
    "    result =[0]\n",
    "    for ii in range(1,num+1): \n",
    "        result +=[result[ ii& (ii-1) ] +1]\n",
    "    return result"
   ]
  },
  {
   "cell_type": "code",
   "execution_count": null,
   "metadata": {},
   "outputs": [],
   "source": [
    "# res = [int(i) for i in list('{0:0b}'.format(test_num))]\n",
    "[int(i) for i in list('{0:0b}'.format(10))]\n",
    "\n",
    "\n",
    "sum([int(i) for i in list('{0:0b}'.format(10))])"
   ]
  },
  {
   "cell_type": "code",
   "execution_count": null,
   "metadata": {},
   "outputs": [],
   "source": [
    "countBits(1)\n",
    "countBits(5)\n",
    "countBits(8)\n",
    "# [0,1,1,2,1,2,2,3,1]"
   ]
  }
 ],
 "metadata": {
  "kernelspec": {
   "display_name": "Python 3",
   "language": "python",
   "name": "python3"
  },
  "language_info": {
   "codemirror_mode": {
    "name": "ipython",
    "version": 3
   },
   "file_extension": ".py",
   "mimetype": "text/x-python",
   "name": "python",
   "nbconvert_exporter": "python",
   "pygments_lexer": "ipython3",
   "version": "3.7.1"
  }
 },
 "nbformat": 4,
 "nbformat_minor": 2
}
