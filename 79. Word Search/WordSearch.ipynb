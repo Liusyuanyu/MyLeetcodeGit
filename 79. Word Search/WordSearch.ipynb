{
 "cells": [
  {
   "cell_type": "markdown",
   "metadata": {},
   "source": [
    "# Problem"
   ]
  },
  {
   "cell_type": "markdown",
   "metadata": {},
   "source": [
    "Given a 2D board and a word, find if the word exists in the grid.\n",
    "The word can be constructed from letters of sequentially adjacent cell, where \"adjacent\" cells are those horizontally or vertically neighboring. The same letter cell may not be used more than once."
   ]
  },
  {
   "cell_type": "code",
   "execution_count": null,
   "metadata": {},
   "outputs": [],
   "source": [
    "Constraints:\n",
    "\n",
    "board and word consists only of lowercase and uppercase English letters.\n",
    "1 <= board.length <= 200\n",
    "1 <= board[i].length <= 200\n",
    "1 <= word.length <= 10^3"
   ]
  },
  {
   "cell_type": "code",
   "execution_count": null,
   "metadata": {},
   "outputs": [],
   "source": [
    "class Solution:\n",
    "    def exist(self, board: List[List[str]], word: str) -> bool:\n",
    "        "
   ]
  },
  {
   "cell_type": "markdown",
   "metadata": {},
   "source": [
    "# Examples"
   ]
  },
  {
   "cell_type": "markdown",
   "metadata": {},
   "source": [
    "board =\n",
    "[\n",
    "  ['A','B','C','E'],\n",
    "  ['S','F','C','S'],\n",
    "  ['A','D','E','E']\n",
    "]\n",
    "\n",
    "Given word = \"ABCCED\", return true.\n",
    "Given word = \"SEE\", return true.\n",
    "Given word = \"ABCB\", return false."
   ]
  },
  {
   "cell_type": "markdown",
   "metadata": {},
   "source": [
    "# My Algorithm"
   ]
  },
  {
   "cell_type": "code",
   "execution_count": null,
   "metadata": {},
   "outputs": [],
   "source": [
    "def exist(board: [[str]], word: str) -> bool:\n",
    "    if not board:\n",
    "        return False\n",
    "    maxRow = len(board)\n",
    "    wordLen = len(word)\n",
    "    maxCol = len(board[0])\n",
    "    def findHelper(row, col, idx_word):\n",
    "        if idx_word >= wordLen:\n",
    "            return True\n",
    "        if row < 0 or row >= maxRow:\n",
    "            return False\n",
    "        if col < 0 or col >= maxCol:\n",
    "            return False\n",
    "        if board[row][col] != word[idx_word]:\n",
    "            return False\n",
    "        \n",
    "        cur_char = word[idx_word]\n",
    "        board[row][col] = ''\n",
    "        res = findHelper(row, col+1, idx_word+1) or findHelper(row, col-1, idx_word+1) or findHelper(row+1, col, idx_word+1) or findHelper(row-1, col, idx_word+1)\n",
    "        board[row][col] = cur_char\n",
    "        return res\n",
    "        \n",
    "    for row_idx in range(maxRow):\n",
    "        for col_idx in range(maxCol):\n",
    "            if board[row_idx][col_idx]==word[0]:\n",
    "                res = findHelper(row_idx, col_idx, 0)\n",
    "                if res:\n",
    "                    return res\n",
    "    return False\n"
   ]
  },
  {
   "cell_type": "code",
   "execution_count": null,
   "metadata": {},
   "outputs": [],
   "source": []
  },
  {
   "cell_type": "markdown",
   "metadata": {},
   "source": [
    "# Alternative algorithms"
   ]
  },
  {
   "cell_type": "markdown",
   "metadata": {},
   "source": [
    "## Slower"
   ]
  },
  {
   "cell_type": "code",
   "execution_count": null,
   "metadata": {},
   "outputs": [],
   "source": [
    "def exist(board: [[str]], word: str) -> bool:\n",
    "    if not board:\n",
    "        return False\n",
    "    maxRow = len(board)\n",
    "    wordLen = len(word)\n",
    "    maxCol = len(board[0])\n",
    "    fourDir = [(0,1), (0,-1), (1,0), (-1,0)]\n",
    "    def findHelper(row, col, idx_word, path):\n",
    "        if idx_word >= wordLen:\n",
    "            return True\n",
    "        if row < 0 or row >= maxRow:\n",
    "            return False\n",
    "        if col < 0 or col >= maxCol:\n",
    "            return False\n",
    "\n",
    "        if board[row][col] != word[idx_word]:\n",
    "            return False\n",
    "        elif (row, col) in path:\n",
    "            return False\n",
    "        \n",
    "        path.add((row, col))\n",
    "        res = any(findHelper(row+adir[0], col+adir[1], idx_word+1, path) for adir in fourDir )\n",
    "        path.remove((row, col))\n",
    "        return res\n",
    "        \n",
    "    res = any( findHelper(row_idx, col_idx, 0, set()) for row_idx in range(maxRow) for col_idx in range(maxCol) if board[row_idx][col_idx]==word[0])\n",
    "    return res\n"
   ]
  },
  {
   "cell_type": "markdown",
   "metadata": {},
   "source": [
    "# Sample Input and Test"
   ]
  },
  {
   "cell_type": "code",
   "execution_count": null,
   "metadata": {},
   "outputs": [],
   "source": [
    "board =[ ['A','B','C','E'], ['S','F','C','S'], ['A','D','E','E'] ]\n",
    "word = \"ABCCED\"\n",
    "# return true.\n",
    "exist(board, word)\n",
    "\n",
    "word = \"SEE\"\n",
    "# return true.\n",
    "exist(board, word)\n",
    "\n",
    "word = \"ABCB\"\n",
    "# return false.\n",
    "exist(board, word)"
   ]
  },
  {
   "cell_type": "code",
   "execution_count": null,
   "metadata": {},
   "outputs": [],
   "source": [
    "board =[ [\"A\",\"B\",\"C\",\"E\"], [\"S\",\"F\",\"E\",\"S\"], [\"A\",\"D\",\"E\",\"E\"]]\n",
    "word = \"ABCESEEEFS\"\n",
    "# return True.\n",
    "exist(board, word)\n",
    "\n",
    "\n",
    "# board =[ \n",
    "# [\"A\",\"B\",\"C\",\"E\"]\n",
    "# [\"S\",\"F\",\"E\",\"S\"]\n",
    "# [\"A\",\"D\",\"E\",\"E\"]]\n"
   ]
  },
  {
   "cell_type": "code",
   "execution_count": null,
   "metadata": {},
   "outputs": [],
   "source": [
    "board =[ [\"A\",\"B\",\"C\",\"E\"], [\"S\",\"F\",\"E\",\"S\"], [\"G\",\"D\",\"E\",\"E\"]]\n",
    "word = \"ABFSA\"\n",
    "# return False.\n",
    "exist(board, word)\n",
    "\n",
    "\n",
    "# board =[ \n",
    "# [\"A\",\"B\",\"C\",\"E\"]\n",
    "# [\"S\",\"F\",\"E\",\"S\"]\n",
    "# [\"A\",\"D\",\"E\",\"E\"]]\n"
   ]
  }
 ],
 "metadata": {
  "kernelspec": {
   "display_name": "Python 3",
   "language": "python",
   "name": "python3"
  },
  "language_info": {
   "codemirror_mode": {
    "name": "ipython",
    "version": 3
   },
   "file_extension": ".py",
   "mimetype": "text/x-python",
   "name": "python",
   "nbconvert_exporter": "python",
   "pygments_lexer": "ipython3",
   "version": "3.7.5-final"
  }
 },
 "nbformat": 4,
 "nbformat_minor": 2
}