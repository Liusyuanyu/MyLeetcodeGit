{
 "cells": [
  {
   "cell_type": "markdown",
   "metadata": {},
   "source": [
    "class Solution:\n",
    "    def queensAttacktheKing(self, queens: List[List[int]], king: List[int]) -> List[List[int]]:\n",
    "        "
   ]
  },
  {
   "cell_type": "code",
   "execution_count": 18,
   "metadata": {},
   "outputs": [],
   "source": [
    "def queensAttacktheKing(queens: [[int]], king: [int]):\n",
    "    dirt = [[0,-1], [-1,-1], [-1,0], [-1,1], [0,1], [1,1], [1,0], [1,-1]]\n",
    "    ans=[]\n",
    "    for a_dirt in dirt:\n",
    "        pos = [king[0] + a_dirt[0], king[1]+ a_dirt[1]]\n",
    "        while(pos[0] >= 0 and pos[0] <8 and pos[1] >= 0 and pos[1] <8):\n",
    "            if(pos in queens):\n",
    "                ans.append(pos)\n",
    "#                 ans += [pos]\n",
    "                break\n",
    "            pos[0] += a_dirt[0]\n",
    "            pos[1] += a_dirt[1]\n",
    "    return ans"
   ]
  },
  {
   "cell_type": "code",
   "execution_count": 21,
   "metadata": {},
   "outputs": [
    {
     "data": {
      "text/plain": [
       "[[2, 3], [1, 4], [1, 6], [3, 7], [4, 5], [5, 4], [4, 3]]"
      ]
     },
     "execution_count": 21,
     "metadata": {},
     "output_type": "execute_result"
    }
   ],
   "source": [
    "# king = [0,0]\n",
    "# queens = [[0,1],[1,0],[4,0],[0,4],[3,3],[2,4]]\n",
    "\n",
    "# king = [3, 3]\n",
    "# queens =[[0,0],[1,1],[2,2],[3,4],[3,5],[4,4],[4,5]]\n",
    "\n",
    "king = [3, 4]\n",
    "queens =[[5,6],[7,7],[2,1],[0,7],[1,6],[5,1],[3,7],[0,3],[4,0],[1,2],[6,3],[5,0],[0,4],[2,2],[1,1],[6,4],[5,4],[0,0],[2,6],[4,5],[5,2],[1,4],[7,5],[2,3],[0,5],[4,2],[1,0],[2,7],[0,1],[4,6],[6,1],[0,6],[4,3],[1,7]]\n",
    "\n",
    "queensAttacktheKing(queens,king)\n"
   ]
  },
  {
   "cell_type": "markdown",
   "metadata": {},
   "source": [
    "Input: queens = [[0,1],[1,0],[4,0],[0,4],[3,3],[2,4]], king = [0,0]\n",
    "Output: [[0,1],[1,0],[3,3]]\n",
    "\n",
    "Input: queens = [[0,0],[1,1],[2,2],[3,4],[3,5],[4,4],[4,5]], king = [3,3]\n",
    "Output: [[2,2],[3,4],[4,4]]\n",
    "\n",
    "Input: queens = [[5,6],[7,7],[2,1],[0,7],[1,6],[5,1],[3,7],[0,3],[4,0],[1,2],[6,3],[5,0],[0,4],[2,2],[1,1],[6,4],[5,4],[0,0],[2,6],[4,5],[5,2],[1,4],[7,5],[2,3],[0,5],[4,2],[1,0],[2,7],[0,1],[4,6],[6,1],[0,6],[4,3],[1,7]], king = [3,4]\n",
    "Output: [[2,3],[1,4],[1,6],[3,7],[4,3],[5,4],[4,5]]"
   ]
  },
  {
   "cell_type": "markdown",
   "metadata": {},
   "source": [
    "On an 8x8 chessboard, there can be multiple Black Queens and one White King.\n",
    "\n",
    "Given an array of integer coordinates queens that represents the positions of the Black Queens,\n",
    "and a pair of coordinates king that represent the position of the White King, return the coordinates\n",
    "of all the queens (in any order) that can attack the King."
   ]
  }
 ],
 "metadata": {
  "kernelspec": {
   "display_name": "Python 3",
   "language": "python",
   "name": "python3"
  },
  "language_info": {
   "codemirror_mode": {
    "name": "ipython",
    "version": 3
   },
   "file_extension": ".py",
   "mimetype": "text/x-python",
   "name": "python",
   "nbconvert_exporter": "python",
   "pygments_lexer": "ipython3",
   "version": "3.7.1"
  }
 },
 "nbformat": 4,
 "nbformat_minor": 2
}
