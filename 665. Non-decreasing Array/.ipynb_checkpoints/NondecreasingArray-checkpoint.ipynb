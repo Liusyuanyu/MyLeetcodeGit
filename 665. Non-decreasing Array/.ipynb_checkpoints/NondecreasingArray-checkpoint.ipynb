{
 "cells": [
  {
   "cell_type": "markdown",
   "metadata": {},
   "source": [
    "class Solution:\n",
    "    def checkPossibility(self, nums: List[int]) -> bool:\n",
    "        "
   ]
  },
  {
   "cell_type": "markdown",
   "metadata": {},
   "source": [
    "Input: [4,2,1]\n",
    "Output: False\n",
    "Explanation: You can't get a non-de`creasing array by modify at most one element."
   ]
  },
  {
   "cell_type": "markdown",
   "metadata": {},
   "source": [
    "Input: [4,2,3]\n",
    "Output: True\n",
    "Explanation: You could modify the first 4 to 1 to get a non-decreasing array."
   ]
  },
  {
   "cell_type": "code",
   "execution_count": null,
   "metadata": {},
   "outputs": [],
   "source": [
    "def checkPossibility(nums: [int]) -> bool:\n",
    "    count =0\n",
    "    for index in range(1,len(nums)):\n",
    "        if ( nums[index] < nums[index-1]):\n",
    "            count +=1\n",
    "            if(count >1):\n",
    "                return False\n",
    "\n",
    "            if((index -2 <0) or ( nums[index -2] <= nums[index] )):\n",
    "                nums[index -1] = nums[index]\n",
    "            else:\n",
    "                nums[index] = nums[index - 1]\n",
    "    return True"
   ]
  },
  {
   "cell_type": "code",
   "execution_count": null,
   "metadata": {},
   "outputs": [],
   "source": [
    "# input = [1,4,2]\n",
    "# input = [4,2,3]\n",
    "# input = [4,2,1]\n",
    "\n",
    "# input = [2, 4, 2, 6]\n",
    "# input = [8, 4, 2, 6]\n",
    "\n",
    "input = [-1,4,2,3]\n",
    "checkPossibility(input)\n"
   ]
  }
 ],
 "metadata": {
  "kernelspec": {
   "display_name": "Python 3",
   "language": "python",
   "name": "python3"
  },
  "language_info": {
   "codemirror_mode": {
    "name": "ipython",
    "version": 3
   },
   "file_extension": ".py",
   "mimetype": "text/x-python",
   "name": "python",
   "nbconvert_exporter": "python",
   "pygments_lexer": "ipython3",
   "version": "3.7.1"
  }
 },
 "nbformat": 4,
 "nbformat_minor": 2
}
