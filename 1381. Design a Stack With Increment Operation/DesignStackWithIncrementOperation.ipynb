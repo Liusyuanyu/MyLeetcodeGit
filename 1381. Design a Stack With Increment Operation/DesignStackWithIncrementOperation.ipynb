{
 "nbformat": 4,
 "nbformat_minor": 2,
 "metadata": {
  "language_info": {
   "name": "python",
   "codemirror_mode": {
    "name": "ipython",
    "version": 3
   },
   "version": "3.7.5-final"
  },
  "orig_nbformat": 2,
  "file_extension": ".py",
  "mimetype": "text/x-python",
  "name": "python",
  "npconvert_exporter": "python",
  "pygments_lexer": "ipython3",
  "version": 3,
  "kernelspec": {
   "name": "python37164bitbasecondaac1a5e7daed444628f4977c32469be72",
   "display_name": "Python 3.7.1 64-bit ('base': conda)"
  }
 },
 "cells": [
  {
   "cell_type": "markdown",
   "execution_count": null,
   "metadata": {},
   "outputs": [],
   "source": [
    "## Probelm"
   ]
  },
  {
   "cell_type": "code",
   "execution_count": null,
   "metadata": {},
   "outputs": [],
   "source": [
    "Design a stack which supports the following operations.\n",
    "Implement the CustomStack \n",
    "class:\n",
    "CustomStack(int maxSize): Initializes the object with maxSize which is the maximum number of elements in the stack or do nothing if the stack reached the maxSize.\n",
    "\n",
    "void push(int x) Adds x to the top of the stack if the stack hasn't reached the maxSize.\n",
    "\n",
    "int pop() Pops and returns the top of stack or -1 if the stack is empty.\n",
    "\n",
    "void inc(int k, int val) Increments the bottom k elements of the stack by val. If there are less than k elements in the stack, just increment all the elements in the stack."
   ]
  },
  {
   "cell_type": "code",
   "execution_count": null,
   "metadata": {},
   "outputs": [],
   "source": [
    "class CustomStack:\n",
    "    def __init__(self, maxSize: int):\n",
    "\n",
    "    def push(self, x: int) -> None:\n",
    "\n",
    "    def pop(self) -> int:\n",
    "\n",
    "    def increment(self, k: int, val: int) -> None:\n",
    "\n",
    "# Your CustomStack object will be instantiated and called as such:\n",
    "# obj = CustomStack(maxSize)\n",
    "# obj.push(x)\n",
    "# param_2 = obj.pop()\n",
    "# obj.increment(k,val)"
   ]
  },
  {
   "cell_type": "code",
   "execution_count": null,
   "metadata": {},
   "outputs": [],
   "source": [
    "class CustomStack:\n",
    "    def __init__(self, maxSize: int):\n",
    "        self.stack = [-1]*maxSize\n",
    "        self.index = 0\n",
    "        self.maxSize = maxSize\n",
    "\n",
    "    def push(self, x: int) -> None:\n",
    "        if self.maxSize ==self.index:\n",
    "            return\n",
    "        self.stack[self.index] = x\n",
    "        self.index +=1\n",
    "        return\n",
    "\n",
    "    def pop(self) -> int:\n",
    "        if self.index ==0:\n",
    "            return -1\n",
    "        self.index -=1\n",
    "        val = self.stack[self.index] \n",
    "        self.stack[self.index] = -1\n",
    "        return val\n",
    "\n",
    "    def increment(self, k: int, val: int) -> None:\n",
    "        if k > self.index:\n",
    "            k=self.index\n",
    "        for ind in range(k):\n",
    "            self.stack[ind] +=val\n",
    "        return"
   ]
  },
  {
   "cell_type": "markdown",
   "execution_count": null,
   "metadata": {},
   "outputs": [],
   "source": [
    "### Improve version"
   ]
  },
  {
   "cell_type": "code",
   "execution_count": null,
   "metadata": {},
   "outputs": [],
   "source": [
    "# [1,2,3] + [10,10,10]\n",
    "\n",
    "class CustomStack:\n",
    "    def __init__(self, maxSize: int):\n",
    "        self.stack = [-1]*maxSize\n",
    "        self.index = 0\n",
    "        self.maxSize = maxSize\n",
    "        self.inc = [0]*maxSize\n",
    "\n",
    "    def push(self, x: int) -> None:\n",
    "        if self.maxSize >self.index:\n",
    "            self.stack[self.index] = x\n",
    "            self.index +=1\n",
    "        return\n",
    "\n",
    "    def pop(self) -> int:\n",
    "        if not self.index:\n",
    "            return -1\n",
    "        self.index -=1\n",
    "        val = self.stack[self.index] + self.inc[self.index]\n",
    "        self.stack[self.index] = -1\n",
    "        if self.index !=0:\n",
    "            self.inc[self.index-1] += self.inc[self.index]\n",
    "        self.inc[self.index] = 0\n",
    "        return val\n",
    "\n",
    "    def increment(self, k: int, val: int) -> None:\n",
    "        k = min(k, self.index)\n",
    "        if k !=0:\n",
    "            self.inc[k-1] += val"
   ]
  },
  {
   "cell_type": "markdown",
   "execution_count": null,
   "metadata": {},
   "outputs": [],
   "source": [
    "## Test"
   ]
  },
  {
   "cell_type": "code",
   "execution_count": null,
   "metadata": {},
   "outputs": [],
   "source": [
    "# [\"CustomStack\",\"push\",\"push\",\"pop\",\"push\",\"push\",\"push\",\"increment\",\"increment\",\"pop\",\"pop\",\"pop\",\"pop\"]\n",
    "# [[3],[1],[2],[],[2],[3],[4],[5,100],[2,100],[],[],[],[]]"
   ]
  },
  {
   "cell_type": "code",
   "execution_count": null,
   "metadata": {},
   "outputs": [],
   "source": [
    "stack = CustomStack(3)\n",
    "stack.stack\n",
    "\n",
    "stack.push(1)\n",
    "stack.push(2)\n",
    "# stack.pop()\n",
    "# stack.push(2)\n",
    "stack.push(3)\n",
    "stack.push(4)\n",
    "\n",
    "stack.increment(5,100)\n",
    "\n",
    "stack.increment(2,100)\n",
    "\n",
    "# stack.stack\n",
    "\n",
    "stack.pop()\n",
    "# stack.stack\n",
    "# stack.pop()\n",
    "# stack.stack\n",
    "# stack.pop()\n",
    "# stack.stack"
   ]
  }
 ]
}