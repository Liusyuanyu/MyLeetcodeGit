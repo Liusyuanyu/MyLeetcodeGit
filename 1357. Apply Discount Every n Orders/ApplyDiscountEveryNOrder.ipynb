{
 "cells": [
  {
   "cell_type": "markdown",
   "metadata": {},
   "source": [
    "## Probelm"
   ]
  },
  {
   "cell_type": "code",
   "execution_count": null,
   "metadata": {},
   "outputs": [],
   "source": [
    "There is a sale in a supermarket, there will be a discount every n customer.\n",
    "There are some products in the supermarket where the id of the i-th product is products[i] and the price per unit of this product is prices[i].\n",
    "The system will count the number of customers and when the n-th customer arrive he/she will have a discount on the bill. (i.e if the cost is x the new cost is x - (discount * x) / 100). Then the system will start counting customers again.\n",
    "The customer orders a certain amount of each product where product[i] is the id of the i-th product the customer ordered and amount[i] is the number of units the customer ordered of that product."
   ]
  },
  {
   "cell_type": "markdown",
   "metadata": {},
   "source": [
    "## Examples"
   ]
  },
  {
   "cell_type": "code",
   "execution_count": null,
   "metadata": {},
   "outputs": [],
   "source": [
    "class Cashier:\n",
    "\n",
    "    def __init__(self, n: int, discount: int, products: List[int], prices: List[int]):\n",
    "\n",
    "    def getBill(self, product: List[int], amount: List[int]) -> float:\n",
    "# Your Cashier object will be instantiated and called as such:\n",
    "# obj = Cashier(n, discount, products, prices)\n",
    "# param_1 = obj.getBill(product,amount)"
   ]
  },
  {
   "cell_type": "code",
   "execution_count": null,
   "metadata": {},
   "outputs": [],
   "source": [
    "Example 1:\n",
    "Input\n",
    "[\"Cashier\",\"getBill\",\"getBill\",\"getBill\",\"getBill\",\"getBill\",\"getBill\",\"getBill\"]\n",
    "[[3,50,[1,2,3,4,5,6,7],[100,200,300,400,300,200,100]],[[1,2],[1,2]],[[3,7],[10,10]],[[1,2,3,4,5,6,7],[1,1,1,1,1,1,1]],[[4],[10]],[[7,3],[10,10]],[[7,5,3,1,6,4,2],[10,10,10,9,9,9,7]],[[2,3,5],[5,3,2]]]\n",
    "Output\n",
    "[null,500.0,4000.0,800.0,4000.0,4000.0,7350.0,2500.0]\n",
    "Explanation\n",
    "Cashier cashier = new Cashier(3,50,[1,2,3,4,5,6,7],[100,200,300,400,300,200,100]);\n",
    "cashier.getBill([1,2],[1,2]);                        // return 500.0, bill = 1 * 100 + 2 * 200 = 500.\n",
    "cashier.getBill([3,7],[10,10]);                      // return 4000.0\n",
    "cashier.getBill([1,2,3,4,5,6,7],[1,1,1,1,1,1,1]);    // return 800.0, The bill was 1600.0 but as this is the third customer, he has a discount of 50% which means his bill is only 1600 - 1600 * (50 / 100) = 800.\n",
    "cashier.getBill([4],[10]);                           // return 4000.0\n",
    "cashier.getBill([7,3],[10,10]);                      // return 4000.0\n",
    "cashier.getBill([7,5,3,1,6,4,2],[10,10,10,9,9,9,7]); // return 7350.0, Bill was 14700.0 but as the system counted three more customers, he will have a 50% discount and the bill becomes 7350.0\n",
    "cashier.getBill([2,3,5],[5,3,2]);                    // return 2500.0"
   ]
  },
  {
   "cell_type": "markdown",
   "metadata": {},
   "source": [
    "## My Algoritm"
   ]
  },
  {
   "cell_type": "code",
   "execution_count": null,
   "metadata": {},
   "outputs": [],
   "source": [
    "class Cashier:\n",
    "\n",
    "    def __init__(self, n: int, discount: int, products: [int], prices: [int]):\n",
    "        self.disount_n = n\n",
    "        self.counter = n\n",
    "        self.discount = (100-discount)/100\n",
    "        self.products = products\n",
    "        self.prices = prices\n",
    "\n",
    "    def getBill(self, product: [int], amount: [int]) -> float:\n",
    "        ind =0\n",
    "        total = 0\n",
    "        for num in product:\n",
    "            p_ind = self.products.index(num)\n",
    "            total += (self.prices[p_ind] * amount[ind] )\n",
    "            ind+=1\n",
    "        \n",
    "        self.counter -=1\n",
    "        if self.counter ==0:\n",
    "            total = total*self.discount\n",
    "            self.counter = self.disount_n\n",
    "        return total\n",
    "\n",
    "\n",
    "# Your Cashier object will be instantiated and called as such:\n",
    "# obj = Cashier(n, discount, products, prices)\n",
    "# param_1 = obj.getBill(product,amount)"
   ]
  },
  {
   "cell_type": "markdown",
   "metadata": {},
   "source": [
    "### Improve version"
   ]
  },
  {
   "cell_type": "code",
   "execution_count": null,
   "metadata": {},
   "outputs": [],
   "source": [
    "class Cashier:\n",
    "\n",
    "    def __init__(self, n: int, discount: int, products: [int], prices: [int]):\n",
    "        self.disount_n = n\n",
    "        self.counter = n\n",
    "        self.discount = (100-discount)/100\n",
    "        self.products = dict(zip(products,prices))\n",
    "\n",
    "    def getBill(self, product: [int], amount: [int]) -> float:\n",
    "        total = 0\n",
    "        for ind in range(len(product)):\n",
    "            total += (self.products[product[ind]] * amount[ind] )\n",
    "        self.counter -=1\n",
    "        if self.counter ==0:\n",
    "            total = total*self.discount\n",
    "            self.counter = self.disount_n\n",
    "        return total"
   ]
  },
  {
   "cell_type": "markdown",
   "metadata": {},
   "source": [
    "## Test"
   ]
  },
  {
   "cell_type": "code",
   "execution_count": null,
   "metadata": {},
   "outputs": [],
   "source": [
    "cashier = Cashier(3,50,[1,2,3,4,5,6,7],[100,200,300,400,300,200,100]);\n",
    "cashier.getBill([1,2],[1,2])                        # return 500.0, bill = 1 * 100 + 2 * 200 = 500.\n",
    "cashier.getBill([3,7],[10,10])                      # return 4000.0\n",
    "cashier.getBill([1,2,3,4,5,6,7],[1,1,1,1,1,1,1])    # return 800.0, The bill was 1600.0 but as this is the third customer, he has a discount of "
   ]
  }
 ],
 "metadata": {
  "language_info": {
   "name": "python",
   "codemirror_mode": {
    "name": "ipython",
    "version": 3
   },
   "version": "3.7.5-final"
  },
  "orig_nbformat": 2,
  "file_extension": ".py",
  "mimetype": "text/x-python",
  "name": "python",
  "npconvert_exporter": "python",
  "pygments_lexer": "ipython3",
  "version": 3,
  "kernelspec": {
   "name": "python3",
   "display_name": "Python 3"
  }
 },
 "nbformat": 4,
 "nbformat_minor": 2
}