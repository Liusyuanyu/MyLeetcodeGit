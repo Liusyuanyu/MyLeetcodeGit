{
 "cells": [
  {
   "cell_type": "code",
   "execution_count": 1,
   "metadata": {},
   "outputs": [],
   "source": [
    "class TreeNode:\n",
    "    def __init__(self, x):\n",
    "        self.val = x\n",
    "        self.left = None\n",
    "        self.right = None"
   ]
  },
  {
   "cell_type": "code",
   "execution_count": null,
   "metadata": {},
   "outputs": [],
   "source": [
    "# class Solution:\n",
    "#     def goodNodes(self, root: TreeNode) -> int:\n",
    "        "
   ]
  },
  {
   "cell_type": "markdown",
   "metadata": {},
   "source": [
    "## Problem"
   ]
  },
  {
   "cell_type": "code",
   "execution_count": null,
   "metadata": {},
   "outputs": [],
   "source": [
    "Given a binary tree root, a node X in the tree is named good if in the path from root to X there are no nodes with a value greater than X.\n",
    "Return the number of good nodes in the binary tree."
   ]
  },
  {
   "cell_type": "code",
   "execution_count": null,
   "metadata": {},
   "outputs": [],
   "source": [
    "Example 1:\n",
    "Input: root = [3,1,4,3,null,1,5]\n",
    "Output: 4\n",
    "Explanation: Nodes in blue are good.\n",
    "Root Node (3) is always a good node.\n",
    "Node 4 -> (3,4) is the maximum value in the path starting from the root.\n",
    "Node 5 -> (3,4,5) is the maximum value in the path\n",
    "Node 3 -> (3,1,3) is the maximum value in the path.\n",
    "\n",
    "\n",
    "Example 2:\n",
    "Input: root = [3,3,null,4,2]\n",
    "Output: 3\n",
    "Explanation: Node 2 -> (3, 3, 2) is not good, because \"3\" is higher than it.\n",
    "\n",
    "\n",
    "Example 3:\n",
    "Input: root = [1]\n",
    "Output: 1\n",
    "Explanation: Root is considered as good."
   ]
  },
  {
   "cell_type": "markdown",
   "metadata": {},
   "source": [
    "## My Algorithm"
   ]
  },
  {
   "cell_type": "code",
   "execution_count": 45,
   "metadata": {},
   "outputs": [],
   "source": [
    "class Solution:\n",
    "    def goodNodes(self, root: TreeNode) -> int:\n",
    "        self.good = 0\n",
    "        self.dfs(root,-10**5)\n",
    "        return self.good\n",
    "    def dfs(self, root, c_max):\n",
    "        if not root:\n",
    "            return\n",
    "        if root.val >= c_max:\n",
    "            self.good +=1\n",
    "            c_max = root.val\n",
    "        self.dfs(root.left, c_max)\n",
    "        self.dfs(root.right, c_max)"
   ]
  },
  {
   "cell_type": "code",
   "execution_count": 17,
   "metadata": {},
   "outputs": [],
   "source": [
    "class Solution:\n",
    "    def goodNodes(self, root: TreeNode) -> int:\n",
    "        def dfs(self, root, c_max):\n",
    "            if not root:\n",
    "                return\n",
    "            if root.val >= c_max:\n",
    "                self.good +=1\n",
    "                c_max = root.val\n",
    "            dfs(root.left, c_max)\n",
    "            dfs(root.right, c_max)\n",
    "        good = 0\n",
    "        if root:\n",
    "            c_max =root.val \n",
    "        dfs(root,c_max)\n",
    "        return good\n",
    "        "
   ]
  },
  {
   "cell_type": "markdown",
   "metadata": {},
   "source": [
    "# Imporve my algorithm"
   ]
  },
  {
   "cell_type": "markdown",
   "metadata": {},
   "source": [
    "#### Test"
   ]
  },
  {
   "cell_type": "code",
   "execution_count": 33,
   "metadata": {},
   "outputs": [],
   "source": []
  },
  {
   "cell_type": "code",
   "execution_count": 46,
   "metadata": {},
   "outputs": [
    {
     "output_type": "stream",
     "name": "stdout",
     "text": "-553 -334 4 3 Null 1 5 \nVal :  -553   C_MAX :  -100000\nVal :  -334   C_MAX :  -553\nVal :  3   C_MAX :  -334\nVal :  4   C_MAX :  -553\nVal :  1   C_MAX :  4\nVal :  5   C_MAX :  4\n"
    },
    {
     "output_type": "execute_result",
     "data": {
      "text/plain": "5"
     },
     "metadata": {},
     "execution_count": 46
    }
   ],
   "source": [
    "sol = Solution()\n",
    "\n",
    "# # Input: root = [3,1,4,3,null,1,5]\n",
    "# # Output: 4\n",
    "\n",
    "# root1 = TreeNode(3)\n",
    "# root1.left = TreeNode(1)\n",
    "# root1.right = TreeNode(4)\n",
    "\n",
    "# root1.left.left = TreeNode(3)\n",
    "\n",
    "# root1.right.left = TreeNode(1)\n",
    "# root1.right.right = TreeNode(5)\n",
    "\n",
    "# printLevelOrder(root1)\n",
    "# sol.goodNodes(root1)\n",
    "\n",
    "# Input: root = [3,1,4,3,null,1,5]\n",
    "# Output: 4\n",
    "\n",
    "root1 = TreeNode(-553)\n",
    "root1.left = TreeNode(-334)\n",
    "root1.right = TreeNode(4)\n",
    "\n",
    "root1.left.left = TreeNode(3)\n",
    "\n",
    "root1.right.left = TreeNode(1)\n",
    "root1.right.right = TreeNode(5)\n",
    "\n",
    "printLevelOrder(root1)\n",
    "print()\n",
    "sol.goodNodes(root1)\n",
    "\n",
    "\n",
    "# -334 > -553"
   ]
  },
  {
   "cell_type": "code",
   "execution_count": 16,
   "metadata": {},
   "outputs": [
    {
     "output_type": "stream",
     "name": "stdout",
     "text": "3 3 Null 4 2 Null"
    },
    {
     "output_type": "execute_result",
     "data": {
      "text/plain": "3"
     },
     "metadata": {},
     "execution_count": 16
    }
   ],
   "source": [
    "# Input: root = [3,3,null,4,2]\n",
    "# Output: 3\n",
    "\n",
    "root1 = TreeNode(3)\n",
    "root1.left = TreeNode(3)\n",
    "\n",
    "root1.left.left = TreeNode(4)\n",
    "root1.left.right = TreeNode(2)\n",
    "\n",
    "printLevelOrder(root1)\n",
    "sol.goodNodes(root1)"
   ]
  },
  {
   "cell_type": "code",
   "execution_count": 19,
   "metadata": {},
   "outputs": [
    {
     "output_type": "stream",
     "name": "stdout",
     "text": "10"
    },
    {
     "output_type": "execute_result",
     "data": {
      "text/plain": "1"
     },
     "metadata": {},
     "execution_count": 19
    }
   ],
   "source": [
    "# Input: root = [1]\n",
    "# Output: 1\n",
    "\n",
    "# root1 = TreeNode(3)\n",
    "root1 = TreeNode(10)\n",
    "\n",
    "printLevelOrder(root1)\n",
    "sol.goodNodes(root1)"
   ]
  },
  {
   "cell_type": "markdown",
   "metadata": {},
   "source": [
    "# Print function"
   ]
  },
  {
   "cell_type": "code",
   "execution_count": 4,
   "metadata": {},
   "outputs": [],
   "source": [
    "# Function to  print level order traversal of tree \n",
    "def printLevelOrder(root): \n",
    "    h = height(root) \n",
    "    for i in range(1, h+1): \n",
    "        printGivenLevel(root, i) \n",
    "  \n",
    "# Print nodes at a given level \n",
    "def printGivenLevel(root , level): \n",
    "    if root is None:\n",
    "        print('Null', end=\" \")\n",
    "        return\n",
    "    if level == 1: \n",
    "        print (\"%d\" %(root.val), end=\" \") \n",
    "    elif level > 1 : \n",
    "        printGivenLevel(root.left , level-1) \n",
    "        printGivenLevel(root.right , level-1) \n",
    "\n",
    "def height(node): \n",
    "    if node is None: \n",
    "        return 0 \n",
    "    else : \n",
    "        # Compute the height of each subtree  \n",
    "        lheight = height(node.left) \n",
    "        rheight = height(node.right) \n",
    "  \n",
    "        #Use the larger one \n",
    "        if lheight > rheight : \n",
    "            return lheight+1\n",
    "        else: \n",
    "            return rheight+1"
   ]
  }
 ],
 "metadata": {
  "kernelspec": {
   "display_name": "Python 3",
   "language": "python",
   "name": "python3"
  },
  "language_info": {
   "codemirror_mode": {
    "name": "ipython",
    "version": 3
   },
   "file_extension": ".py",
   "mimetype": "text/x-python",
   "name": "python",
   "nbconvert_exporter": "python",
   "pygments_lexer": "ipython3",
   "version": "3.7.5-final"
  }
 },
 "nbformat": 4,
 "nbformat_minor": 2
}