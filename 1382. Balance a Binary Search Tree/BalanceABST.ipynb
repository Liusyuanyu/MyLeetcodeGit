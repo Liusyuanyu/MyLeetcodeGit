{
 "cells": [
  {
   "cell_type": "code",
   "execution_count": null,
   "metadata": {},
   "outputs": [],
   "source": [
    "class TreeNode:\n",
    "    def __init__(self, x):\n",
    "        self.val = x\n",
    "        self.left = None\n",
    "        self.right = None"
   ]
  },
  {
   "cell_type": "markdown",
   "execution_count": null,
   "metadata": {},
   "outputs": [],
   "source": [
    "## Problem"
   ]
  },
  {
   "cell_type": "code",
   "execution_count": null,
   "metadata": {},
   "outputs": [],
   "source": [
    "Given a binary search tree, return a balanced binary search tree with the same node values.\n",
    "A binary search tree is balanced if and only if the depth of the two subtrees of every node never differ by more than 1.\n",
    "If there is more than one answer, return any of them.\n",
    "\n",
    "Input: root = [1,null,2,null,3,null,4,null,null]\n",
    "Output: [2,1,3,null,null,null,4]\n",
    "Explanation: This is not the only correct answer, [3,1,4,null,2,null,null] is also correct."
   ]
  },
  {
   "cell_type": "markdown",
   "execution_count": null,
   "metadata": {},
   "outputs": [],
   "source": [
    "## My Algorithm"
   ]
  },
  {
   "cell_type": "code",
   "execution_count": null,
   "metadata": {},
   "outputs": [],
   "source": [
    "# class Solution:\n",
    "#     def balanceBST(self, root: TreeNode) -> TreeNode:"
   ]
  },
  {
   "cell_type": "code",
   "execution_count": null,
   "metadata": {},
   "outputs": [],
   "source": [
    "def inorderTraveral(root:TreeNode):\n",
    "    if not root:\n",
    "        return None\n",
    "    left = inorderTraveral(root.left)\n",
    "    if left:\n",
    "        orderlist = left +[root.val]\n",
    "    else:\n",
    "        orderlist = [root.val]\n",
    "    right = inorderTraveral(root.right)\n",
    "    if right:\n",
    "        orderlist += right\n",
    "    return orderlist"
   ]
  },
  {
   "cell_type": "code",
   "execution_count": null,
   "metadata": {},
   "outputs": [],
   "source": [
    "def buildBalanceTree(order):\n",
    "    if not order:\n",
    "        return None\n",
    "    if len(order)==1:\n",
    "        root = TreeNode(order[0])\n",
    "    else:\n",
    "        midd = len(order)//2\n",
    "        root = TreeNode(order[midd])\n",
    "        root.left = buildBalanceTree(order[:midd])\n",
    "        root.right = buildBalanceTree(order[midd+1:])\n",
    "    return root"
   ]
  },
  {
   "cell_type": "markdown",
   "execution_count": null,
   "metadata": {},
   "outputs": [],
   "source": [
    "# Imporve my algorithm"
   ]
  },
  {
   "cell_type": "code",
   "execution_count": null,
   "metadata": {},
   "outputs": [],
   "source": [
    "def inorderTraveral(root:TreeNode, order):\n",
    "    if not root:\n",
    "        return\n",
    "    inorderTraveral(root.left,order) \n",
    "    order.append(root) \n",
    "    inorderTraveral(root.right,order) "
   ]
  },
  {
   "cell_type": "code",
   "execution_count": null,
   "metadata": {},
   "outputs": [],
   "source": [
    "def buildBalanceTree(order):\n",
    "    if not order:\n",
    "        return None\n",
    "    midd = len(order)//2\n",
    "    root = order[midd]\n",
    "    root.left = buildBalanceTree(order[:midd])\n",
    "    root.right = buildBalanceTree(order[midd+1:])\n",
    "    return root"
   ]
  },
  {
   "cell_type": "markdown",
   "execution_count": null,
   "metadata": {},
   "outputs": [],
   "source": [
    "#### Test"
   ]
  },
  {
   "cell_type": "code",
   "execution_count": null,
   "metadata": {},
   "outputs": [],
   "source": [
    "test = []\n",
    "inorderTraveral(root, test)\n",
    "test"
   ]
  },
  {
   "cell_type": "code",
   "execution_count": null,
   "metadata": {},
   "outputs": [],
   "source": [
    "root = TreeNode(1)\n",
    "root.right = TreeNode(2)\n",
    "root.right.right = TreeNode(3)\n",
    "root.right.right.right = TreeNode(4)\n",
    "root.right.right.right.right = TreeNode(5)\n",
    "root.right.right.right.right.right = TreeNode(6)\n",
    "root.right.right.right.right.right.right = TreeNode(7)\n",
    "# printLevelOrder(root)\n",
    "order =[]\n",
    "inorderTraveral(root,order)\n",
    "tree = buildBalanceTree(order)\n",
    "printLevelOrder(tree)"
   ]
  },
  {
   "cell_type": "markdown",
   "execution_count": null,
   "metadata": {},
   "outputs": [],
   "source": [
    "# Print codes"
   ]
  },
  {
   "cell_type": "code",
   "execution_count": null,
   "metadata": {},
   "outputs": [],
   "source": [
    "# Function to  print level order traversal of tree \n",
    "def printLevelOrder(root): \n",
    "    h = height(root) \n",
    "    for i in range(1, h+1): \n",
    "        printGivenLevel(root, i) \n",
    "  \n",
    "# Print nodes at a given level \n",
    "def printGivenLevel(root , level): \n",
    "    if root is None:\n",
    "        print('Null', end=\" \")\n",
    "        return\n",
    "    if level == 1: \n",
    "        print (\"%d\" %(root.val), end=\" \") \n",
    "    elif level > 1 : \n",
    "        printGivenLevel(root.left , level-1) \n",
    "        printGivenLevel(root.right , level-1) \n",
    "\n",
    "def height(node): \n",
    "    if node is None: \n",
    "        return 0 \n",
    "    else : \n",
    "        # Compute the height of each subtree  \n",
    "        lheight = height(node.left) \n",
    "        rheight = height(node.right) \n",
    "  \n",
    "        #Use the larger one \n",
    "        if lheight > rheight : \n",
    "            return lheight+1\n",
    "        else: \n",
    "            return rheight+1"
   ]
  }
 ],
 "metadata": {
  "kernelspec": {
   "display_name": "Python 3",
   "language": "python",
   "name": "python3"
  },
  "language_info": {
   "codemirror_mode": {
    "name": "ipython",
    "version": 3
   },
   "file_extension": ".py",
   "mimetype": "text/x-python",
   "name": "python",
   "nbconvert_exporter": "python",
   "pygments_lexer": "ipython3",
   "version": "3.7.5-final"
  }
 },
 "nbformat": 4,
 "nbformat_minor": 2
}