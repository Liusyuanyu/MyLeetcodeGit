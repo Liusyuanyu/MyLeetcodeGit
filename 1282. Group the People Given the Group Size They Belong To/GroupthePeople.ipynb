{
 "cells": [
  {
   "cell_type": "markdown",
   "metadata": {},
   "source": [
    "## Description"
   ]
  },
  {
   "cell_type": "markdown",
   "metadata": {},
   "source": [
    "There are n people whose IDs go from 0 to n - 1 and each person belongs exactly to one group. Given the array groupSizes of length n telling the group size each person belongs to, return the groups there are and the people's IDs each group includes.\n",
    "You can return any solution in any order and the same applies for IDs. Also, it is guaranteed that there exists at least one solution. \n",
    "\n",
    "\n",
    "Example 1:\n",
    "Input: groupSizes = [3,3,3,3,3,1,3]\n",
    "Output: [[5],[0,1,2],[3,4,6]]\n",
    "Explanation: \n",
    "Other possible solutions are [[2,1,6],[5],[0,4,3]] and [[5],[0,6,2],[4,3,1]].\n",
    "\n",
    "Example 2:\n",
    "Input: groupSizes = [2,1,3,3,3,2]\n",
    "Output: [[1],[0,5],[2,3,4]]\n",
    "\n"
   ]
  },
  {
   "cell_type": "code",
   "execution_count": null,
   "metadata": {},
   "outputs": [],
   "source": [
    "# class Solution:\n",
    "#     def groupThePeople(self, groupSizes: List[int]) -> List[List[int]]:\n",
    "        "
   ]
  },
  {
   "cell_type": "code",
   "execution_count": 18,
   "metadata": {},
   "outputs": [],
   "source": [
    "def groupThePeople(groupSizes: [int]) -> [[int]]:\n",
    "    id_list = len(groupSizes)\n",
    "    group_dict = dict()\n",
    "    for id in range(id_list):\n",
    "        g_size = groupSizes[id]\n",
    "        if str(g_size) in group_dict.keys():\n",
    "            groups = group_dict[str(g_size)]\n",
    "            if len(groups[-1]) >= g_size:\n",
    "                group_dict[str(g_size)].append([id])\n",
    "            else:\n",
    "                groups[-1].append(id)\n",
    "        else:\n",
    "            group_dict.update({str(g_size):[[id]]})\n",
    "\n",
    "    return [item for group in group_dict for item in group_dict[group]]"
   ]
  },
  {
   "cell_type": "code",
   "execution_count": 25,
   "metadata": {},
   "outputs": [],
   "source": [
    "def groupThePeople(groupSizes: [int]) -> [[int]]:\n",
    "    id_list = len(groupSizes)\n",
    "    group_dict = dict()\n",
    "    ans_list = []\n",
    "    for id in range(id_list):\n",
    "        g_size = groupSizes[id]\n",
    "        if g_size not in group_dict:\n",
    "            group_dict[g_size]=[]\n",
    "        group_dict[g_size].append(id)\n",
    "        if(len(group_dict[g_size])==g_size):\n",
    "            ans_list.append(group_dict[g_size])\n",
    "            group_dict[g_size] =[]\n",
    "    return ans_list"
   ]
  },
  {
   "cell_type": "code",
   "execution_count": 26,
   "metadata": {},
   "outputs": [
    {
     "data": {
      "text/plain": "[[0, 1, 2], [5], [3, 4, 6]]"
     },
     "execution_count": 26,
     "metadata": {},
     "output_type": "execute_result"
    }
   ],
   "source": [
    "groupSizes = [3,3,3,3,3,1,3]\n",
    "# groupSizes = [2,1,3,3,3,2]\n",
    "\n",
    "\n",
    "groupThePeople(groupSizes)"
   ]
  },
  {
   "cell_type": "code",
   "execution_count": 17,
   "metadata": {},
   "outputs": [
    {
     "data": {
      "text/plain": "[[0, 1, 2], [3, 4, 6], [5]]"
     },
     "execution_count": 17,
     "metadata": {},
     "output_type": "execute_result"
    }
   ],
   "source": [
    "groupSizes = [3,3,3,3,3,1,3]\n",
    "# groupSizes = [2,1,3,3,3,2]\n",
    "\n",
    "id_list = len(groupSizes)\n",
    "\n",
    "group_dict = dict()\n",
    "\n",
    "for id in range(id_list):\n",
    "    g_size = groupSizes[id]\n",
    "    if str(g_size) in group_dict.keys():\n",
    "        groups = group_dict[str(g_size)]\n",
    "        if len(groups[-1]) >= g_size:\n",
    "            group_dict[str(g_size)].append([id])\n",
    "        else:\n",
    "            groups[-1].append(id)\n",
    "    else:\n",
    "        group_dict.update({str(g_size):[[id]]})\n",
    "\n",
    "\n",
    "# print(group_dict)\n",
    "# [group_dict[ans] for ans in group_dict ]\n",
    "\n",
    "# [(item for item in group_dict[ans]) for ans in group_dict ]\n",
    "#  [item for sublist in l for item in sublist]\n",
    "\n",
    "[item for group in group_dict for item in group_dict[group]]\n",
    "\n",
    "\n",
    "\n",
    "\n"
   ]
  }
 ],
 "metadata": {
  "kernelspec": {
   "display_name": "Python 3",
   "language": "python",
   "name": "python3"
  },
  "language_info": {
   "codemirror_mode": {
    "name": "ipython",
    "version": 3
   },
   "file_extension": ".py",
   "mimetype": "text/x-python",
   "name": "python",
   "nbconvert_exporter": "python",
   "pygments_lexer": "ipython3",
   "version": "3.7.1-final"
  }
 },
 "nbformat": 4,
 "nbformat_minor": 2
}