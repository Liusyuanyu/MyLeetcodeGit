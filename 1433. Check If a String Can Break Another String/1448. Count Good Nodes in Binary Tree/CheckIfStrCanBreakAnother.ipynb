{
 "cells": [
  {
   "cell_type": "code",
   "execution_count": null,
   "metadata": {},
   "outputs": [],
   "source": [
    "# class Solution:\n",
    "#     def checkIfCanBreak(self, s1: str, s2: str) -> bool:\n",
    "        "
   ]
  },
  {
   "cell_type": "markdown",
   "metadata": {},
   "source": [
    "## Problem"
   ]
  },
  {
   "cell_type": "code",
   "execution_count": null,
   "metadata": {},
   "outputs": [],
   "source": [
    "Given two strings: s1 and s2 with the same size, check if some permutation of string s1 can break some permutation of string s2 or vice-versa (in other words s2 can break s1).\n",
    "A string x can break string y (both of size n) if x[i] >= y[i] (in alphabetical order) for all i between 0 and n-1."
   ]
  },
  {
   "cell_type": "code",
   "execution_count": null,
   "metadata": {},
   "outputs": [],
   "source": [
    "Example 1:\n",
    "Input: s1 = \"abc\", s2 = \"xya\"\n",
    "Output: true\n",
    "Explanation: \"ayx\" is a permutation of s2=\"xya\" which can break to string \"abc\" which is a permutation of s1=\"abc\".\n",
    "\n",
    "Example 2:\n",
    "Input: s1 = \"abe\", s2 = \"acd\"\n",
    "Output: false \n",
    "Explanation: All permutations for s1=\"abe\" are: \"abe\", \"aeb\", \"bae\", \"bea\", \"eab\" and \"eba\" and all permutation for s2=\"acd\" are: \"acd\", \"adc\", \"cad\", \"cda\", \"dac\" and \"dca\". However, there is not any permutation from s1 which can break some permutation from s2 and vice-versa.\n",
    "\n",
    "Example 3:\n",
    "Input: s1 = \"leetcodee\", s2 = \"interview\"\n",
    "Output: true"
   ]
  },
  {
   "cell_type": "markdown",
   "metadata": {},
   "source": [
    "## My Algorithm"
   ]
  },
  {
   "cell_type": "code",
   "execution_count": null,
   "metadata": {},
   "outputs": [],
   "source": [
    "def checkIfCanBreak(s1: str, s2: str) -> bool:\n",
    "    s1_sorted  = sorted(s1)\n",
    "    s2_sorted  = sorted(s2)\n",
    "    breakFlag = None\n",
    "    for ele in zip(s1_sorted,s2_sorted):\n",
    "        if ele[0] > ele[1]:\n",
    "            if breakFlag is False:\n",
    "                return False\n",
    "            else: \n",
    "                breakFlag = True\n",
    "        elif ele[0] < ele[1]:\n",
    "            if breakFlag is True:\n",
    "                return False\n",
    "            else: \n",
    "                breakFlag = False\n",
    "    return True"
   ]
  },
  {
   "cell_type": "markdown",
   "metadata": {},
   "source": [
    "# Imporve my algorithm"
   ]
  },
  {
   "cell_type": "code",
   "execution_count": null,
   "metadata": {},
   "outputs": [],
   "source": [
    "import collections\n",
    "def checkIfCanBreak(s1: str, s2: str) -> bool:\n",
    "    col1 = collections.Counter(s1)\n",
    "    col2 = collections.Counter(s2)\n",
    "\n",
    "    alphabets =  'abcdefghijklmnopqrstuvwxyz'\n",
    "    breakFlag = True\n",
    "    summ = 0\n",
    "    for ch in alphabets:\n",
    "        summ += col1[ch] - col2[ch]\n",
    "        if summ < 0:\n",
    "            breakFlag = False\n",
    "            break\n",
    "    summ = 0\n",
    "    breakFlag2 = True\n",
    "    for ch in alphabets:\n",
    "        summ += col2[ch] - col1[ch]\n",
    "        if summ < 0:\n",
    "            breakFlag2 = False \n",
    "            break\n",
    "    return breakFlag | breakFlag2"
   ]
  },
  {
   "cell_type": "markdown",
   "metadata": {},
   "source": [
    "## Test"
   ]
  },
  {
   "cell_type": "code",
   "execution_count": null,
   "metadata": {},
   "outputs": [],
   "source": [
    "# s1 = \"abc\"\n",
    "# s2 = \"xya\"\n",
    "# checkIfCanBreak(s1, s2)\n",
    "# # Output: True \n",
    "\n",
    "# s1 = \"abe\"\n",
    "# s2 = \"acd\"\n",
    "# checkIfCanBreak(s1, s2)\n",
    "# # Output: false \n",
    "\n",
    "# # Example 3:\n",
    "# s1 = \"leetcodee\"\n",
    "# s2 = \"interview\"\n",
    "# checkIfCanBreak(s1, s2)\n",
    "# # Output: true\n",
    "\n",
    "s1 = \"szy\"\n",
    "s2 = \"cid\"\n",
    "checkIfCanBreak(s1, s2)\n",
    "# Output: true "
   ]
  }
 ],
 "metadata": {
  "kernelspec": {
   "display_name": "Python 3",
   "language": "python",
   "name": "python3"
  },
  "language_info": {
   "codemirror_mode": {
    "name": "ipython",
    "version": 3
   },
   "file_extension": ".py",
   "mimetype": "text/x-python",
   "name": "python",
   "nbconvert_exporter": "python",
   "pygments_lexer": "ipython3",
   "version": "3.7.5-final"
  }
 },
 "nbformat": 4,
 "nbformat_minor": 2
}