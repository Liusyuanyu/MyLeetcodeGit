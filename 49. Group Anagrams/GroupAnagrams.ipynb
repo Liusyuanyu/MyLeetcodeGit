{
 "cells": [
  {
   "cell_type": "markdown",
   "metadata": {},
   "source": [
    "# Problem"
   ]
  },
  {
   "cell_type": "code",
   "execution_count": null,
   "metadata": {},
   "outputs": [],
   "source": [
    "Given an array of strings, group anagrams together."
   ]
  },
  {
   "cell_type": "code",
   "execution_count": null,
   "metadata": {},
   "outputs": [],
   "source": [
    "class Solution:\n",
    "    def groupAnagrams(self, strs: List[str]) -> List[List[str]]:\n",
    "        "
   ]
  },
  {
   "cell_type": "markdown",
   "metadata": {},
   "source": [
    "# Examples"
   ]
  },
  {
   "cell_type": "markdown",
   "metadata": {},
   "source": [
    "# My Algorithm"
   ]
  },
  {
   "cell_type": "code",
   "execution_count": null,
   "metadata": {},
   "outputs": [],
   "source": [
    "def groupAnagrams(strs: [str]) -> [[str]]:\n",
    "    word_dict ={}\n",
    "    word_key =set()\n",
    "    res = []\n",
    "    count=0\n",
    "    for word in strs:\n",
    "        sortedStr = ''.join(sorted(word))\n",
    "        if sortedStr in word_key:\n",
    "            res[word_dict[sortedStr]].append(word)\n",
    "        else:\n",
    "            word_dict[sortedStr] =count\n",
    "            word_key.add(sortedStr)\n",
    "            count+=1 \n",
    "            res.append([word])\n",
    "    return res\n"
   ]
  },
  {
   "cell_type": "code",
   "execution_count": null,
   "metadata": {},
   "outputs": [],
   "source": [
    "def groupAnagrams(strs: [str]) -> [[str]]:\n",
    "    if not strs:\n",
    "        return None\n",
    "    word_dict ={}\n",
    "    for word in strs:\n",
    "        sortedStr = ''.join(sorted(word))\n",
    "        if sortedStr in word_dict:\n",
    "            word_dict[sortedStr].append(word)\n",
    "        else:\n",
    "            word_dict[sortedStr] =[word]\n",
    "    return [word_dict[key] for key in word_dict]\n"
   ]
  },
  {
   "cell_type": "markdown",
   "metadata": {},
   "source": [
    "# Alternative algorithms"
   ]
  },
  {
   "cell_type": "code",
   "execution_count": null,
   "metadata": {},
   "outputs": [],
   "source": [
    "def groupAnagrams(strs: [str]) -> [[str]]:\n",
    "    word_dict ={}\n",
    "    word_key =set()\n",
    "    for word in strs:\n",
    "        sortedStr = ''.join(sorted(word))\n",
    "        if sortedStr in word_key:\n",
    "            word_dict[sortedStr].append(word)\n",
    "        else:\n",
    "            word_dict[sortedStr] =[word]\n",
    "            word_key.add(sortedStr)\n",
    "    return [words for words in word_dict.values()]\n"
   ]
  },
  {
   "cell_type": "markdown",
   "metadata": {},
   "source": [
    "# Sample Input and Test"
   ]
  },
  {
   "cell_type": "code",
   "execution_count": null,
   "metadata": {},
   "outputs": [],
   "source": [
    "Input =  [\"eat\", \"tea\", \"tan\", \"ate\", \"nat\", \"bat\"]\n",
    "# Output:\n",
    "# [\n",
    "#   [\"ate\",\"eat\",\"tea\"],\n",
    "#   [\"nat\",\"tan\"],\n",
    "#   [\"bat\"]\n",
    "# ]\n",
    "groupAnagrams(Input)\n"
   ]
  }
 ],
 "metadata": {
  "kernelspec": {
   "display_name": "Python 3",
   "language": "python",
   "name": "python3"
  },
  "language_info": {
   "codemirror_mode": {
    "name": "ipython",
    "version": 3
   },
   "file_extension": ".py",
   "mimetype": "text/x-python",
   "name": "python",
   "nbconvert_exporter": "python",
   "pygments_lexer": "ipython3",
   "version": "3.7.5-final"
  }
 },
 "nbformat": 4,
 "nbformat_minor": 2
}