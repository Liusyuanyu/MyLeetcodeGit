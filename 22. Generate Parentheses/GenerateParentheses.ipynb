{
 "cells": [
  {
   "cell_type": "markdown",
   "metadata": {},
   "source": [
    "# Problem"
   ]
  },
  {
   "cell_type": "code",
   "execution_count": null,
   "metadata": {},
   "outputs": [],
   "source": [
    "Given n pairs of parentheses, write a function to generate all combinations of well-formed parentheses. "
   ]
  },
  {
   "cell_type": "code",
   "execution_count": null,
   "metadata": {},
   "outputs": [],
   "source": [
    "class Solution:\n",
    "    def generateParenthesis(self, n: int) -> List[str]:\n",
    "        "
   ]
  },
  {
   "cell_type": "markdown",
   "metadata": {},
   "source": [
    "# Examples"
   ]
  },
  {
   "cell_type": "code",
   "execution_count": null,
   "metadata": {},
   "outputs": [],
   "source": [
    "For example, given n = 3, a solution set is: \n",
    "[\n",
    "  \"((()))\",\n",
    "  \"(()())\",\n",
    "  \"(())()\",\n",
    "  \"()(())\",\n",
    "  \"()()()\"\n",
    "]"
   ]
  },
  {
   "cell_type": "markdown",
   "metadata": {},
   "source": [
    "# My Algorithm"
   ]
  },
  {
   "cell_type": "code",
   "execution_count": null,
   "metadata": {},
   "outputs": [],
   "source": [
    "def generateParenthesis(n: int) -> [str]:\n",
    "    def backtrack(openP, close):\n",
    "        if close < openP:\n",
    "            return []\n",
    "        if openP==0 and close >0:\n",
    "            return [')'*close]\n",
    "        if close ==0 and openP==0:\n",
    "            return []\n",
    "        res = []\n",
    "        for right in backtrack(openP-1, close):\n",
    "            res.append('('+right)\n",
    "        for right in backtrack(openP, close-1):\n",
    "            res.append(')'+right)\n",
    "        return res\n",
    "    return backtrack(n,n)"
   ]
  },
  {
   "cell_type": "markdown",
   "metadata": {},
   "source": [
    "# Alternative algorithms"
   ]
  },
  {
   "cell_type": "code",
   "execution_count": null,
   "metadata": {},
   "outputs": [],
   "source": [
    "def generateParenthesis(n: int) -> [str]:\n",
    "    def backtrack(cur, openP, close):\n",
    "        if close ==0 and openP==0:\n",
    "            ans.append(cur)\n",
    "        if openP > 0:\n",
    "            backtrack(cur+'(', openP-1,close)        \n",
    "        if close > openP:\n",
    "            backtrack(cur+')', openP,close-1)        \n",
    "    ans = []\n",
    "    backtrack('',n,n)\n",
    "    return ans"
   ]
  },
  {
   "cell_type": "code",
   "execution_count": null,
   "metadata": {},
   "outputs": [],
   "source": [
    "def generateParenthesis(n: int) -> [str]:\n",
    "    if n==0: return ['']\n",
    "    ans = []\n",
    "    for pair in range(n):\n",
    "        for left in generateParenthesis(pair):\n",
    "            for right in generateParenthesis(n-pair-1):\n",
    "                ans.append('({}){}'.format(left, right))\n",
    "    return ans"
   ]
  },
  {
   "cell_type": "code",
   "execution_count": null,
   "metadata": {},
   "outputs": [],
   "source": [
    "def generateParenthesis(n: int) -> [str]:\n",
    "    def genFun(num):\n",
    "        if num==0: return ['']\n",
    "        ans = []\n",
    "        for pair in range(num):\n",
    "            for left in genFun(pair):\n",
    "                for right in genFun(num-pair-1):\n",
    "                    ans.append('({}){}'.format(left, right))\n",
    "        return ans\n",
    "    return genFun(n)"
   ]
  },
  {
   "cell_type": "markdown",
   "metadata": {},
   "source": [
    "# Sample Input and Test"
   ]
  },
  {
   "cell_type": "code",
   "execution_count": null,
   "metadata": {},
   "outputs": [],
   "source": [
    "# For example, given n = 3, a solution set is: \n",
    "# [\n",
    "#   \"((()))\",\n",
    "#   \"(()())\",\n",
    "#   \"(())()\",\n",
    "#   \"()(())\",\n",
    "#   \"()()()\"\n",
    "# ]\n",
    "generateParenthesis(3)\n",
    "\n",
    "# generateParenthesis(2)\n",
    "\n",
    "# generateParenthesis(0)\n"
   ]
  }
 ],
 "metadata": {
  "kernelspec": {
   "display_name": "Python 3",
   "language": "python",
   "name": "python3"
  },
  "language_info": {
   "codemirror_mode": {
    "name": "ipython",
    "version": 3
   },
   "file_extension": ".py",
   "mimetype": "text/x-python",
   "name": "python",
   "nbconvert_exporter": "python",
   "pygments_lexer": "ipython3",
   "version": "3.7.5-final"
  }
 },
 "nbformat": 4,
 "nbformat_minor": 2
}