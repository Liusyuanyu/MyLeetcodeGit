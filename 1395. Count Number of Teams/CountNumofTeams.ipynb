{
 "nbformat": 4,
 "nbformat_minor": 2,
 "metadata": {
  "language_info": {
   "name": "python",
   "codemirror_mode": {
    "name": "ipython",
    "version": 3
   },
   "version": "3.7.5-final"
  },
  "orig_nbformat": 2,
  "file_extension": ".py",
  "mimetype": "text/x-python",
  "name": "python",
  "npconvert_exporter": "python",
  "pygments_lexer": "ipython3",
  "version": 3,
  "kernelspec": {
   "name": "python37164bitbasecondaac1a5e7daed444628f4977c32469be72",
   "display_name": "Python 3.7.1 64-bit ('base': conda)"
  }
 },
 "cells": [
  {
   "cell_type": "markdown",
   "execution_count": null,
   "metadata": {},
   "outputs": [],
   "source": [
    "## Probelm"
   ]
  },
  {
   "cell_type": "code",
   "execution_count": null,
   "metadata": {},
   "outputs": [],
   "source": [
    "There are n soldiers standing in a line. Each soldier is assigned a unique rating value.\n",
    "You have to form a team of 3 soldiers amongst them under the following rules:\n",
    "Choose 3 soldiers with index (i, j, k) with rating (rating[i], rating[j], rating[k]).\n",
    "A team is valid if:  (rating[i] < rating[j] < rating[k]) or (rating[i] > rating[j] > rating[k]) where (0 <= i < j < k < n).\n",
    "Return the number of teams you can form given the conditions. (soldiers can be part of multiple teams)."
   ]
  },
  {
   "cell_type": "markdown",
   "metadata": {},
   "source": [
    "## Examples"
   ],
   "execution_count": null,
   "outputs": []
  },
  {
   "cell_type": "code",
   "execution_count": null,
   "metadata": {},
   "outputs": [],
   "source": [
    "Example 1:\n",
    "Input: rating = [2,5,3,4,1]\n",
    "Output: 3\n",
    "Explanation: We can form three teams given the conditions. (2,3,4), (5,4,1), (5,3,1). \n",
    "\n",
    "Example 2:\n",
    "Input: rating = [2,1,3]\n",
    "Output: 0\n",
    "Explanation: We can't form any team given the conditions.\n",
    "\n",
    "Example 3:\n",
    "Input: rating = [1,2,3,4]\n",
    "Output: 4"
   ]
  },
  {
   "cell_type": "code",
   "execution_count": null,
   "metadata": {},
   "outputs": [],
   "source": [
    "class Solution:\n",
    "    def numTeams(self, rating: List[int]) -> int:\n",
    "        "
   ]
  },
  {
   "cell_type": "markdown",
   "metadata": {},
   "source": [
    "## My Algoritm"
   ],
   "execution_count": null,
   "outputs": []
  },
  {
   "cell_type": "code",
   "execution_count": null,
   "metadata": {},
   "outputs": [],
   "source": [
    "def numTeams(rating: [int]) -> int:\n",
    "    result =0\n",
    "    for mid in rating:\n",
    "        less = sum([ rate < mid for rate in rating[:rating.index(mid)] ])\n",
    "        greater = sum([ rate > mid for rate in rating[rating.index(mid)+1:]])\n",
    "        result +=(less*greater)\n",
    "\n",
    "        less -= len(rating[:rating.index(mid)])\n",
    "        greater -= len(rating[rating.index(mid)+1:])\n",
    "\n",
    "        result +=(greater*less)\n",
    "    return result"
   ]
  },
  {
   "cell_type": "markdown",
   "execution_count": null,
   "metadata": {},
   "outputs": [],
   "source": [
    "### Improve version"
   ]
  },
  {
   "cell_type": "code",
   "execution_count": null,
   "metadata": {},
   "outputs": [],
   "source": [
    "def numTeams(rating: [int]) -> int:\n",
    "    result =0\n",
    "    for mid in rating:\n",
    "        left_list = rating[:rating.index(mid)]\n",
    "        right_list = rating[rating.index(mid)+1:]\n",
    "\n",
    "        less = sum([ rate < mid for rate in left_list])\n",
    "        greater = sum([ rate > mid for rate in right_list])\n",
    "        result +=(less*greater)\n",
    "\n",
    "        less -= len(left_list)\n",
    "        greater -= len(right_list)\n",
    "\n",
    "        result +=(greater*less)\n",
    "    return result"
   ]
  },
  {
   "cell_type": "markdown",
   "metadata": {},
   "source": [
    "## Test"
   ],
   "execution_count": null,
   "outputs": []
  },
  {
   "cell_type": "code",
   "execution_count": null,
   "metadata": {},
   "outputs": [],
   "source": [
    "# test = [1,2,3, 4, 5, 6]\n",
    "# sum([rate < 4 for rate in test])\n",
    "\n",
    "# rating = [2,5,3,4,1]\n",
    "# # Output: 3\n",
    "\n",
    "# rating = [2,1,3]\n",
    "# # Output: 0\n",
    "\n",
    "# rating = [1,2,3,4]\n",
    "# # Output: 4\n",
    "\n",
    "numTeams(rating)"
   ]
  }
 ]
}