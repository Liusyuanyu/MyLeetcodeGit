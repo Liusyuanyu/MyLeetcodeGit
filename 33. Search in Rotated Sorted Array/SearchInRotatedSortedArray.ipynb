{
 "cells": [
  {
   "cell_type": "markdown",
   "metadata": {},
   "source": [
    "# Problem"
   ]
  },
  {
   "cell_type": "code",
   "execution_count": null,
   "metadata": {},
   "outputs": [],
   "source": [
    "Suppose an array sorted in ascending order is rotated at some pivot unknown to you beforehand.\n",
    "(i.e., [0,1,2,4,5,6,7] might become [4,5,6,7,0,1,2]).\n",
    "You are given a target value to search. If found in the array return its index, otherwise return -1.\n",
    "You may assume no duplicate exists in the array.\n",
    "Your algorithm's runtime complexity must be in the order of O(log n)."
   ]
  },
  {
   "cell_type": "code",
   "execution_count": null,
   "metadata": {},
   "outputs": [],
   "source": [
    "class Solution:\n",
    "    def search(self, nums: List[int], target: int) -> int:\n",
    "        "
   ]
  },
  {
   "cell_type": "markdown",
   "metadata": {},
   "source": [
    "# Examples"
   ]
  },
  {
   "cell_type": "code",
   "execution_count": null,
   "metadata": {},
   "outputs": [],
   "source": [
    "Example 1:\n",
    "Input: nums = [4,5,6,7,0,1,2], target = 0\n",
    "Output: 4\n",
    "\n",
    "\n",
    "Example 2:\n",
    "Input: nums = [4,5,6,7,0,1,2], target = 3\n",
    "Output: -1\n",
    "\n",
    "\n",
    "Example 3:\n",
    "Input: nums = [1, 3], target = 3\n",
    "Output: 1\n"
   ]
  },
  {
   "cell_type": "markdown",
   "metadata": {},
   "source": [
    "# My Algorithm"
   ]
  },
  {
   "cell_type": "code",
   "execution_count": null,
   "metadata": {},
   "outputs": [],
   "source": [
    "def search(nums: [int], target: int) -> int:\n",
    "    try:\n",
    "        return nums.index(target)\n",
    "    except ValueError:\n",
    "        return -1"
   ]
  },
  {
   "cell_type": "code",
   "execution_count": null,
   "metadata": {},
   "outputs": [],
   "source": [
    "def search(nums: [int], target: int) -> int:\n",
    "    if target in set(nums):\n",
    "        return nums.index(target)\n",
    "    return -1"
   ]
  },
  {
   "cell_type": "markdown",
   "metadata": {},
   "source": [
    "# Alternative algorithms"
   ]
  },
  {
   "cell_type": "code",
   "execution_count": null,
   "metadata": {},
   "outputs": [],
   "source": [
    "def search(nums: [int], target: int) -> int:\n",
    "    if target in set(nums):\n",
    "        start = 0\n",
    "        end = len(nums) -1 \n",
    "        while start <= end:\n",
    "            mid = (start + end)//2\n",
    "            if nums[mid] == target:\n",
    "                return mid\n",
    "            if nums[start] <= nums[mid]:\n",
    "                if nums[mid] > target and nums[start] <= target:\n",
    "                    end =mid-1\n",
    "                else:\n",
    "                    start =mid+1\n",
    "            else:\n",
    "                if nums[mid] < target and nums[end] >= target:\n",
    "                    start =mid+1\n",
    "                else:\n",
    "                    end =mid-1\n",
    "    return -1"
   ]
  },
  {
   "cell_type": "markdown",
   "metadata": {},
   "source": [
    "# Sample Input and Test"
   ]
  },
  {
   "cell_type": "code",
   "execution_count": null,
   "metadata": {},
   "outputs": [],
   "source": [
    "nums = [4,5,6,7,0,1,2]\n",
    "target = 0\n",
    "# Output: 4\n",
    "search(nums, target)\n",
    "\n",
    "\n",
    "# nums = [4,5,6,7,0,1,2]\n",
    "# target = 3\n",
    "# # Output: -1\n",
    "# search(nums, target)\n",
    "\n",
    "\n",
    "# nums = [1, 3]\n",
    "# target = 3\n",
    "# # Output: 1\n",
    "# search(nums, target)\n"
   ]
  }
 ],
 "metadata": {
  "kernelspec": {
   "display_name": "Python 3",
   "language": "python",
   "name": "python3"
  },
  "language_info": {
   "codemirror_mode": {
    "name": "ipython",
    "version": 3
   },
   "file_extension": ".py",
   "mimetype": "text/x-python",
   "name": "python",
   "nbconvert_exporter": "python",
   "pygments_lexer": "ipython3",
   "version": "3.7.5-final"
  }
 },
 "nbformat": 4,
 "nbformat_minor": 2
}