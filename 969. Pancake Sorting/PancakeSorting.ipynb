{
 "cells": [
  {
   "cell_type": "code",
   "execution_count": null,
   "metadata": {},
   "outputs": [],
   "source": [
    "class Solution:\n",
    "    def pancakeSort(self, A: List[int]) -> List[int]:\n",
    "        "
   ]
  },
  {
   "cell_type": "markdown",
   "execution_count": null,
   "metadata": {},
   "outputs": [],
   "source": [
    "Given an array A, we can perform a pancake flip: We choose some positive integer k <= A.length, then reverse the order of the first k elements of A.  We want to perform zero or more pancake flips (doing them one after another in succession) to sort the array A.\n",
    "Return the k-values corresponding to a sequence of pancake flips that sort A.  Any valid answer that sorts the array within 10 * A.length flips will be judged as correct."
   ]
  },
  {
   "cell_type": "code",
   "execution_count": null,
   "metadata": {},
   "outputs": [],
   "source": [
    "Input: [3,2,4,1]\n",
    "Output: [4,2,4,3]\n",
    "Explanation: \n",
    "We perform 4 pancake flips, with k values 4, 2, 4, and 3.\n",
    "Starting state: A = [3, 2, 4, 1]\n",
    "After 1st flip (k=4): A = [1, 4, 2, 3]\n",
    "After 2nd flip (k=2): A = [4, 1, 2, 3]\n",
    "After 3rd flip (k=4): A = [3, 2, 1, 4]\n",
    "After 4th flip (k=3): A = [1, 2, 3, 4], which is sorted. "
   ]
  },
  {
   "cell_type": "code",
   "execution_count": null,
   "metadata": {},
   "outputs": [],
   "source": [
    "Input: [1,2,3]\n",
    "Output: []\n",
    "Explanation: The input is already sorted, so there is no need to flip anything.\n",
    "Note that other answers, such as [3, 3], would also be accepted."
   ]
  },
  {
   "cell_type": "markdown",
   "execution_count": null,
   "metadata": {},
   "outputs": [],
   "source": [
    "## My algorithm"
   ]
  },
  {
   "cell_type": "code",
   "execution_count": null,
   "metadata": {},
   "outputs": [],
   "source": [
    "def pancakeSort(A):\n",
    "    flip_k = []\n",
    "    sorted_A = sorted(A)\n",
    "    end = len(A)\n",
    "    while(sorted_A!=A):\n",
    "        max_ix = A.index(max(A[:end])) +1\n",
    "        flip_k += [max_ix]\n",
    "        A = flip(A, max_ix)    \n",
    "        flip_k += [end]\n",
    "        A = flip(A, end)\n",
    "        end -=1\n",
    "    return flip_k\n",
    "\n",
    "def flip(A, k):\n",
    "    # A[:k] = (A[:k])[::-1]\n",
    "    A[:k] = A[k-1::-1]\n",
    "    # print('K: ', k, '  A: ', A)\n",
    "    return A"
   ]
  },
  {
   "cell_type": "markdown",
   "execution_count": null,
   "metadata": {},
   "outputs": [],
   "source": [
    "## Second try"
   ]
  },
  {
   "cell_type": "code",
   "execution_count": null,
   "metadata": {},
   "outputs": [],
   "source": [
    "def pancakeSort(A):\n",
    "    flip_k = []\n",
    "    end = len(A)\n",
    "    for val in range(end,1,-1):\n",
    "        max_ix = A.index(val)\n",
    "        flip_k += [max_ix+1, val]\n",
    "        # flip_k.extend((max_ix+1,val))\n",
    "        A = A[:max_ix:-1] + A[:max_ix]   \n",
    "    return flip_k"
   ]
  },
  {
   "cell_type": "code",
   "execution_count": null,
   "metadata": {},
   "outputs": [],
   "source": [
    "# A= [1,2,3,4,5,6,7,8]\n",
    "A= [3,2,4,1]\n",
    "# A= [3, 1, 5, 2, 4]\n",
    "\n",
    "# (A[:5])[::-1]\n",
    "# A[:-1]\n",
    "pancakeSort(A)"
   ]
  },
  {
   "cell_type": "markdown",
   "execution_count": null,
   "metadata": {},
   "outputs": [],
   "source": [
    "# Improve"
   ]
  },
  {
   "cell_type": "code",
   "execution_count": null,
   "metadata": {},
   "outputs": [],
   "source": [
    "def pancakeSort( A):\n",
    "    res = []\n",
    "    for x in range(len(A), 1, -1):\n",
    "        i = A.index(x)\n",
    "        res.extend([i + 1, x])\n",
    "        A = A[:i:-1] + A[:i]\n",
    "        print('{:10}'.format('i: '), i, '  A: ', A)\n",
    "    return res"
   ]
  },
  {
   "cell_type": "code",
   "execution_count": null,
   "metadata": {},
   "outputs": [],
   "source": [
    "A= [3,2,4,1]\n",
    "# A= [3, 1, 5, 2, 4]\n",
    "\n",
    "pancakeSort(A)"
   ]
  },
  {
   "cell_type": "markdown",
   "execution_count": null,
   "metadata": {},
   "outputs": [],
   "source": [
    "## Geeks for geeks"
   ]
  },
  {
   "cell_type": "code",
   "execution_count": null,
   "metadata": {},
   "outputs": [],
   "source": [
    "def pancakeSort(arr, n): \n",
    "    curr_size = n \n",
    "    while curr_size > 1: \n",
    "        mi = findMax(arr, curr_size) \n",
    "        # mi = arr.index(max(arr[:curr_size]))\n",
    "        if mi != curr_size-1: \n",
    "            flip(arr, mi) \n",
    "            print('K: ', mi, '  A: ', arr)\n",
    "            flip(arr, curr_size-1) \n",
    "            print('K: ', curr_size-1, '  A: ', arr)\n",
    "\n",
    "        curr_size -= 1\n",
    "\n",
    "    return arr\n",
    "\n",
    "def findMax(arr, n): \n",
    "    mi = 0\n",
    "    for i in range(0,n): \n",
    "        if arr[i] > arr[mi]: \n",
    "            mi = i \n",
    "    return mi\n",
    "def flip(arr, i): \n",
    "    start = 0\n",
    "    while start < i: \n",
    "        temp = arr[start] \n",
    "        arr[start] = arr[i] \n",
    "        arr[i] = temp \n",
    "        start += 1\n",
    "        i -= 1"
   ]
  }
 ],
 "metadata": {
  "kernelspec": {
   "display_name": "Python 3",
   "language": "python",
   "name": "python3"
  },
  "language_info": {
   "codemirror_mode": {
    "name": "ipython",
    "version": 3
   },
   "file_extension": ".py",
   "mimetype": "text/x-python",
   "name": "python",
   "nbconvert_exporter": "python",
   "pygments_lexer": "ipython3",
   "version": "3.7.5-final"
  }
 },
 "nbformat": 4,
 "nbformat_minor": 2
}