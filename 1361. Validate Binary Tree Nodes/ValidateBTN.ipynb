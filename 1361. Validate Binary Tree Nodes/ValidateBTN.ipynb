{
 "cells": [
  {
   "cell_type": "code",
   "execution_count": 1,
   "metadata": {},
   "outputs": [],
   "source": [
    "# class Solution:\n",
    "#     def validateBinaryTreeNodes(self, n: int, leftChild: List[int], rightChild: List[int]) -> bool:"
   ]
  },
  {
   "cell_type": "markdown",
   "metadata": {},
   "source": [
    "You have n binary tree nodes numbered from 0 to n - 1 where node i has two children leftChild[i] and rightChild[i], return true if and only if all the given nodes form exactly one valid binary tree.\n",
    "If node i has no left child then leftChild[i] will equal -1, similarly for the right child.\n",
    "Note that the nodes have no values and that we only use the node numbers in this problem."
   ]
  },
  {
   "cell_type": "markdown",
   "metadata": {},
   "source": [
    "Input: n = 4, leftChild = [1,-1,3,-1], rightChild = [2,-1,-1,-1]\n",
    "Output: true\n",
    "\n",
    "\n",
    "Input: n = 4, leftChild = [1,-1,3,-1], rightChild = [2,3,-1,-1]\n",
    "Output: false\n",
    "\n",
    "\n",
    "Input: n = 2, leftChild = [1,0], rightChild = [-1,-1]\n",
    "Output: false\n",
    "\n",
    "\n",
    "Input: n = 6, leftChild = [1,-1,-1,4,-1,-1], rightChild = [2,-1,-1,5,-1,-1]\n",
    "Output: false"
   ]
  },
  {
   "cell_type": "code",
   "execution_count": 21,
   "metadata": {},
   "outputs": [],
   "source": [
    "def validateBinaryTreeNodes(n: int, leftChild: List[int], rightChild: List[int]) -> bool:\n",
    "        "
   ]
  },
  {
   "cell_type": "code",
   "execution_count": 3,
   "metadata": {},
   "outputs": [],
   "source": [
    "class sol:\n",
    "    def __init__(self):\n",
    "        self.visit=[]\n",
    "\n",
    "    def vbt(self,n: int, leftChild, rightChild):\n",
    "        self.visit = [False]*n\n",
    "        valid = self.dfs(0, leftChild, rightChild)\n",
    "\n",
    "        if valid:\n",
    "            if sum(self.visit)==n:\n",
    "                return True\n",
    "            else:\n",
    "                return False\n",
    "        print(self.visit)\n",
    "        return valid\n",
    "\n",
    "    def dfs(self,ind, leftChild, rightChild):\n",
    "        if ind==-1:\n",
    "            return True\n",
    "        if self.visit[ind]:\n",
    "            return False\n",
    "        self.visit[ind] = True\n",
    "        valid = self.dfs(leftChild[ind], leftChild, rightChild)\n",
    "        valid =valid & self.dfs(rightChild[ind], leftChild, rightChild) \n",
    "        return valid"
   ]
  },
  {
   "cell_type": "code",
   "execution_count": 9,
   "metadata": {},
   "outputs": [],
   "source": [
    "def vbtn(n: int, leftChild, rightChild) -> bool:\n",
    "    visit = [False]*n\n",
    "    for i,(l,r) in enumerate(zip(leftChild,rightChild)):\n",
    "        if l>=0:\n",
    "            if l==r:\n",
    "                return False\n",
    "            if visit[l]:\n",
    "                return False\n",
    "            else:\n",
    "                visit[l] = True\n",
    "        if r>=0:\n",
    "            if visit[r]:\n",
    "                return False\n",
    "            else:\n",
    "                visit[r] = True\n",
    "\n",
    "    return sum(visit) == n-1"
   ]
  },
  {
   "cell_type": "code",
   "execution_count": 13,
   "metadata": {},
   "outputs": [
    {
     "data": {
      "text/plain": "False"
     },
     "execution_count": 13,
     "metadata": {},
     "output_type": "execute_result"
    }
   ],
   "source": [
    "# n = 4\n",
    "# leftChild = [1,-1,3,-1]\n",
    "# rightChild = [2,-1,-1,-1]\n",
    "# # True\n",
    "\n",
    "# n = 4\n",
    "# leftChild = [1,-1,3,-1]\n",
    "# rightChild = [2,3,-1,-1]\n",
    "# # False\n",
    "\n",
    "# n = 2\n",
    "# leftChild = [1,0]\n",
    "# rightChild = [-1,-1]\n",
    "# # False\n",
    "\n",
    "n= 6\n",
    "leftChild = [1,-1,-1,4,-1,-1]\n",
    "rightChild = [2,-1,-1,5,-1,-1]\n",
    "# False\n",
    "\n",
    "# solClass = sol()\n",
    "# solClass.vbt(n,leftChild,rightChild )\n",
    "\n",
    "\n",
    "vbtn(n,leftChild,rightChild )"
   ]
  }
 ],
 "metadata": {
  "kernelspec": {
   "display_name": "Python 3",
   "language": "python",
   "name": "python3"
  },
  "language_info": {
   "codemirror_mode": {
    "name": "ipython",
    "version": 3
   },
   "file_extension": ".py",
   "mimetype": "text/x-python",
   "name": "python",
   "nbconvert_exporter": "python",
   "pygments_lexer": "ipython3",
   "version": "3.7.1-final"
  }
 },
 "nbformat": 4,
 "nbformat_minor": 2
}